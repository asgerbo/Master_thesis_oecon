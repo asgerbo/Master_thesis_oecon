{
  "cells": [
    {
      "cell_type": "markdown",
      "metadata": {
        "id": "gp4neeTt5-P6"
      },
      "source": [
        "#### Importing neccessary libraries\n",
        "\n",
        "1. **Numpy** for *linear algebra*\n",
        "2. **Pandas** for reading csv files and DataFrame handling\n",
        "3. **Tensorflow** for *machine learning*\n",
        "4. **Keras** for defining the *LSTM model architecture* and regularization\n",
        "5. Functions such as **train_test_split** for dividing the dataset into training and test set and **GridSearchCV** to tune hyperparameters across a grid of values.\n",
        "6. **MinMaxScaler** to scale the variable values to a range of $[0,1]$.  \n",
        "7. **matplotlib** for plotting results\n",
        "8. **logging** for errors."
      ]
    },
    {
      "cell_type": "code",
      "source": [
        "pip install scikeras"
      ],
      "metadata": {
        "colab": {
          "base_uri": "https://localhost:8080/"
        },
        "id": "pyoCk02Dtj04",
        "outputId": "759591ba-0617-44d3-c5cf-3ad6e30f2b60"
      },
      "execution_count": 1,
      "outputs": [
        {
          "output_type": "stream",
          "name": "stdout",
          "text": [
            "Requirement already satisfied: scikeras in /usr/local/lib/python3.10/dist-packages (0.13.0)\n",
            "Requirement already satisfied: keras>=3.2.0 in /usr/local/lib/python3.10/dist-packages (from scikeras) (3.3.3)\n",
            "Requirement already satisfied: scikit-learn>=1.4.2 in /usr/local/lib/python3.10/dist-packages (from scikeras) (1.5.0)\n",
            "Requirement already satisfied: absl-py in /usr/local/lib/python3.10/dist-packages (from keras>=3.2.0->scikeras) (1.4.0)\n",
            "Requirement already satisfied: numpy in /usr/local/lib/python3.10/dist-packages (from keras>=3.2.0->scikeras) (1.25.2)\n",
            "Requirement already satisfied: rich in /usr/local/lib/python3.10/dist-packages (from keras>=3.2.0->scikeras) (13.7.1)\n",
            "Requirement already satisfied: namex in /usr/local/lib/python3.10/dist-packages (from keras>=3.2.0->scikeras) (0.0.8)\n",
            "Requirement already satisfied: h5py in /usr/local/lib/python3.10/dist-packages (from keras>=3.2.0->scikeras) (3.9.0)\n",
            "Requirement already satisfied: optree in /usr/local/lib/python3.10/dist-packages (from keras>=3.2.0->scikeras) (0.11.0)\n",
            "Requirement already satisfied: ml-dtypes in /usr/local/lib/python3.10/dist-packages (from keras>=3.2.0->scikeras) (0.2.0)\n",
            "Requirement already satisfied: scipy>=1.6.0 in /usr/local/lib/python3.10/dist-packages (from scikit-learn>=1.4.2->scikeras) (1.11.4)\n",
            "Requirement already satisfied: joblib>=1.2.0 in /usr/local/lib/python3.10/dist-packages (from scikit-learn>=1.4.2->scikeras) (1.4.2)\n",
            "Requirement already satisfied: threadpoolctl>=3.1.0 in /usr/local/lib/python3.10/dist-packages (from scikit-learn>=1.4.2->scikeras) (3.5.0)\n",
            "Requirement already satisfied: typing-extensions>=4.0.0 in /usr/local/lib/python3.10/dist-packages (from optree->keras>=3.2.0->scikeras) (4.11.0)\n",
            "Requirement already satisfied: markdown-it-py>=2.2.0 in /usr/local/lib/python3.10/dist-packages (from rich->keras>=3.2.0->scikeras) (3.0.0)\n",
            "Requirement already satisfied: pygments<3.0.0,>=2.13.0 in /usr/local/lib/python3.10/dist-packages (from rich->keras>=3.2.0->scikeras) (2.16.1)\n",
            "Requirement already satisfied: mdurl~=0.1 in /usr/local/lib/python3.10/dist-packages (from markdown-it-py>=2.2.0->rich->keras>=3.2.0->scikeras) (0.1.2)\n"
          ]
        }
      ]
    },
    {
      "cell_type": "code",
      "execution_count": 152,
      "metadata": {
        "id": "qq2CjEwn5-P8"
      },
      "outputs": [],
      "source": [
        "import numpy as np\n",
        "import pandas as pd\n",
        "import tensorflow as tf\n",
        "from keras.models import Sequential\n",
        "from keras.layers import Dense, LSTM, Dropout, Input\n",
        "from sklearn.model_selection import train_test_split, GridSearchCV\n",
        "from keras.callbacks import EarlyStopping\n",
        "from keras.utils import to_categorical\n",
        "from sklearn.preprocessing import MinMaxScaler\n",
        "from scikeras.wrappers import KerasClassifier\n",
        "from itertools import product\n",
        "import matplotlib.pyplot as plt\n",
        "import logging\n",
        "from keras.regularizers import l2\n",
        "from sklearn.metrics import confusion_matrix, ConfusionMatrixDisplay"
      ]
    },
    {
      "cell_type": "markdown",
      "source": [
        "# 6 iterations:\n",
        "1. -> 1 lstm layers gridsearch  \n",
        "2. -> 2 lstm layer gridsearch  \n",
        "3. -> 1 lstm layer med l1 eller l2 gridsearch  \n",
        "4. -> 1 lstm layer for kun makro gridsearch  \n",
        "5. -> 1 lstm layer for kun technical gridsearch  \n",
        "6. -> 1 lstm layer med inflation og unemployment + tekniske (Momentum, RSI, MACD, MA) gridsearch\n"
      ],
      "metadata": {
        "id": "b2m5RoXL1JWB"
      }
    },
    {
      "cell_type": "markdown",
      "metadata": {
        "id": "HggDq8WI5-P9"
      },
      "source": [
        "## Configuration of logging:"
      ]
    },
    {
      "cell_type": "code",
      "execution_count": 153,
      "metadata": {
        "id": "SKo-PtY55-P-"
      },
      "outputs": [],
      "source": [
        "logging.basicConfig(level = logging.INFO, format = '%(asctime)s - %(levelname)s - %(message)s')"
      ]
    },
    {
      "cell_type": "markdown",
      "metadata": {
        "id": "k97gcKMu5-P-"
      },
      "source": [
        "## Setting Device to GPU\n",
        "\n",
        "Since the model is run in Google Colab with an external GPU for increased computational ability the device which is used needs to be defined:"
      ]
    },
    {
      "cell_type": "code",
      "execution_count": 154,
      "metadata": {
        "id": "hSYWdY965-P-"
      },
      "outputs": [],
      "source": [
        "device_name = tf.test.gpu_device_name()\n",
        "if device_name != '/device:GPU:0':\n",
        "    logging.warning('GPU device not found. Use CPU instead')\n",
        "else:\n",
        "    logging.info(f'Found GPU at: {device_name}')"
      ]
    },
    {
      "cell_type": "markdown",
      "source": [
        "# Data Loading"
      ],
      "metadata": {
        "id": "_ZX_qFIOaPuJ"
      }
    },
    {
      "cell_type": "code",
      "execution_count": 219,
      "metadata": {
        "id": "zKNgMIkN5-QA"
      },
      "outputs": [],
      "source": [
        "logging.info('Loading dataset...')\n",
        "\n",
        "file_path = '/content/final_dataset.csv'\n",
        "df = pd.read_csv(file_path)\n",
        "dataset = df.values[:, 0:].astype('float64') # Later this can be changed to float64 for further precision.\n",
        "\n",
        "diff = dataset[:,0:1]"
      ]
    },
    {
      "cell_type": "code",
      "source": [
        "np.random.seed(42)\n",
        "tf.random.set_seed(42)"
      ],
      "metadata": {
        "id": "Qwo5C8SfIqg4"
      },
      "execution_count": 220,
      "outputs": []
    },
    {
      "cell_type": "markdown",
      "source": [
        "# Output Variable Transformation and Data Scaling"
      ],
      "metadata": {
        "id": "sU9xMXKOaRAh"
      }
    },
    {
      "cell_type": "code",
      "execution_count": 221,
      "metadata": {
        "id": "Z2CIAv8F5-QA"
      },
      "outputs": [],
      "source": [
        "# Define a function to categorize the percent change\n",
        "# Values for (25,75) and (40,60) percentiles are listed below. Both will be tested.\n",
        "# 34.1 quantile: -0.0021999999999999\n",
        "# 65 quantile:  0.002\n",
        "\n",
        "def categorize_diff(diff):\n",
        "    if diff < -0.0021999999999999:\n",
        "        return 0  # Price falls\n",
        "    elif diff > 0.0021999999999999:\n",
        "        return 2  # Price rises\n",
        "    else:\n",
        "        return 1  # Price stays the same\n",
        "\n",
        "# Apply the function to y_diff to get the categories\n",
        "logging.info('Categorizing percent change...')\n",
        "y_categories = np.array([categorize_diff(pc) for pc in diff])"
      ]
    },
    {
      "cell_type": "code",
      "source": [
        "y_categories = to_categorical(y_categories)\n",
        "\n",
        "# Normalizing dataset\n",
        "logging.info('Normalizing dataset...')\n",
        "scaler = MinMaxScaler(feature_range=(0, 1))\n",
        "dataset = scaler.fit_transform(dataset[:, 1:])"
      ],
      "metadata": {
        "id": "wnYnmlpLqFnr"
      },
      "execution_count": 222,
      "outputs": []
    },
    {
      "cell_type": "markdown",
      "source": [
        "# Conversion to Tensor"
      ],
      "metadata": {
        "id": "zyO0h9CpaX5r"
      }
    },
    {
      "cell_type": "code",
      "execution_count": 223,
      "metadata": {
        "id": "3J7TVzS35-QA"
      },
      "outputs": [],
      "source": [
        "def create_dataset(dataset, time_steps = 1):\n",
        "    dataX = []\n",
        "    for i in range(len(dataset) - time_steps):\n",
        "        a = dataset[i:(i + time_steps), :]\n",
        "        dataX.append(a)\n",
        "    return np.array(dataX)"
      ]
    },
    {
      "cell_type": "markdown",
      "source": [
        "# 1st Iteration\n",
        "\n",
        "* time steps = 10,\n",
        "* epochs = 100,\n",
        "* 1 hidden layer,\n",
        "* 0.3 dropout rate,\n",
        "* 32 batch size,"
      ],
      "metadata": {
        "id": "rG3VRwIPaDDk"
      }
    },
    {
      "cell_type": "code",
      "source": [
        "time_steps = 15\n",
        "\n",
        "dataX = create_dataset(dataset, time_steps)\n",
        "\n",
        "dataX = np.reshape(dataX, (dataX.shape[0], time_steps, dataset.shape[1]))\n",
        "\n",
        "X = dataX\n",
        "y = y_categories[time_steps:]\n",
        "X_train, X_test, y_train, y_test = train_test_split(X, y, test_size=0.2, shuffle=False, random_state = 42)"
      ],
      "metadata": {
        "id": "wzrdYO_n0YjQ"
      },
      "execution_count": 160,
      "outputs": []
    },
    {
      "cell_type": "code",
      "source": [
        "def create_model(units1=128, dropout_rate1 = 0.1, batch_size = 32):\n",
        "    model = Sequential([\n",
        "        Input(shape=(X_train.shape[1], X_train.shape[2])),\n",
        "        LSTM(units1, return_sequences = False),\n",
        "        Dropout(dropout_rate1),\n",
        "        Dense(3, activation='softmax')\n",
        "    ])\n",
        "    model.compile(optimizer='adam', loss='categorical_crossentropy', metrics=['accuracy'])\n",
        "    return model"
      ],
      "metadata": {
        "id": "gA_PSUOYs18D"
      },
      "execution_count": 166,
      "outputs": []
    },
    {
      "cell_type": "code",
      "source": [
        "model = KerasClassifier(model = create_model, epochs = 75, verbose = 0, shuffle = False, random_state = 42)"
      ],
      "metadata": {
        "id": "mws6g62Os8pR"
      },
      "execution_count": 167,
      "outputs": []
    },
    {
      "cell_type": "code",
      "execution_count": 171,
      "metadata": {
        "id": "6EXO2oQQ5-QB"
      },
      "outputs": [],
      "source": [
        "param_grid = {\n",
        "    'model__units1': [32],\n",
        "    'model__dropout_rate1': [0.1],\n",
        "    'batch_size': [128]\n",
        "}"
      ]
    },
    {
      "cell_type": "code",
      "source": [
        "# Perform Grid Search with 5-fold cross-validation\n",
        "logging.info('Starting grid search...')\n",
        "grid = GridSearchCV(estimator=model, param_grid=param_grid, cv = 5, n_jobs = -1)"
      ],
      "metadata": {
        "id": "bv51fJ4NsHBD"
      },
      "execution_count": 172,
      "outputs": []
    },
    {
      "cell_type": "code",
      "source": [
        "from keras.callbacks import EarlyStopping\n",
        "\n",
        "early_stopping = EarlyStopping(monitor = 'val_loss', patience = 10, restore_best_weights = True)\n",
        "\n",
        "# Fit the grid search\n",
        "grid_result = grid.fit(X_train, y_train, callbacks = [early_stopping], validation_split = 0.2)"
      ],
      "metadata": {
        "colab": {
          "base_uri": "https://localhost:8080/"
        },
        "id": "79SOlqI4tEJY",
        "outputId": "fa7b52fa-8130-48df-a625-0908f7e32edc"
      },
      "execution_count": 174,
      "outputs": [
        {
          "output_type": "stream",
          "name": "stderr",
          "text": [
            "/usr/local/lib/python3.10/dist-packages/joblib/externals/loky/backend/fork_exec.py:38: RuntimeWarning: os.fork() was called. os.fork() is incompatible with multithreaded code, and JAX is multithreaded, so this will likely lead to a deadlock.\n",
            "  pid = os.fork()\n",
            "/usr/local/lib/python3.10/dist-packages/joblib/externals/loky/backend/fork_exec.py:38: RuntimeWarning: os.fork() was called. os.fork() is incompatible with multithreaded code, and JAX is multithreaded, so this will likely lead to a deadlock.\n",
            "  pid = os.fork()\n"
          ]
        }
      ]
    },
    {
      "cell_type": "code",
      "source": [
        "best_params = grid_result.best_params_\n",
        "logging.info(f\"Best Parameters: {best_params}\")\n",
        "print(best_params)"
      ],
      "metadata": {
        "colab": {
          "base_uri": "https://localhost:8080/"
        },
        "id": "mlTH9vno3dwA",
        "outputId": "0d717111-d750-4323-86dc-832d20ad1c2f"
      },
      "execution_count": 175,
      "outputs": [
        {
          "output_type": "stream",
          "name": "stdout",
          "text": [
            "{'batch_size': 128, 'model__dropout_rate1': 0.1, 'model__units1': 32}\n"
          ]
        }
      ]
    },
    {
      "cell_type": "markdown",
      "source": [
        "{'batch_size': 128, 'model__dropout_rate1': 0.1, 'model__units1': 32}"
      ],
      "metadata": {
        "id": "GC0gYS3XbJug"
      }
    },
    {
      "cell_type": "code",
      "source": [
        "best_model = create_model(batch_size = 128,\n",
        "                          dropout_rate1 = 0.2,\n",
        "                          units1 = 32,\n",
        "                          )"
      ],
      "metadata": {
        "id": "ZxkIZAwVhI2_"
      },
      "execution_count": 176,
      "outputs": []
    },
    {
      "cell_type": "code",
      "source": [
        "early_stopping_manual = EarlyStopping(monitor='val_loss', patience=10, restore_best_weights=True)\n",
        "history = best_model.fit(X_train, y_train,\n",
        "                         epochs = 75,\n",
        "                         batch_size = 128,\n",
        "                         validation_data = (X_test, y_test),\n",
        "                         shuffle = False,\n",
        "                         callbacks = [early_stopping_manual],\n",
        "                         verbose = 0\n",
        "                         )"
      ],
      "metadata": {
        "id": "NWDb9ut9-cyw"
      },
      "execution_count": 177,
      "outputs": []
    },
    {
      "cell_type": "code",
      "source": [
        "# Plot training & validation loss values\n",
        "plt.plot(history.history['loss'])\n",
        "plt.plot(history.history['val_loss'])\n",
        "plt.title('Model loss')\n",
        "plt.ylabel('Loss')\n",
        "plt.xlabel('Epoch')\n",
        "plt.legend(['Train', 'Test'], loc='upper left')\n",
        "plt.show()"
      ],
      "metadata": {
        "colab": {
          "base_uri": "https://localhost:8080/",
          "height": 472
        },
        "id": "U9_SRpS3bOAq",
        "outputId": "6f410a6e-2f74-498c-fc23-a43d10859a44"
      },
      "execution_count": 178,
      "outputs": [
        {
          "output_type": "display_data",
          "data": {
            "text/plain": [
              "<Figure size 640x480 with 1 Axes>"
            ],
            "image/png": "[encoded data removed]"
          },
          "metadata": {}
        }
      ]
    },
    {
      "cell_type": "code",
      "source": [
        "# Assuming `grid_result` is the result from GridSearchCV and contains the best model\n",
        "\n",
        "# Predict on the test set\n",
        "y_pred = best_model.predict(X_test)\n",
        "\n",
        "# Convert the one-hot encoded actual labels back to integer format\n",
        "actual_categories = np.argmax(y_test, axis=1)\n",
        "\n",
        "# Get the predicted categories\n",
        "predicted_categories = np.argmax(y_pred, axis=1)\n",
        "\n",
        "# Compute the confusion matrix\n",
        "cm = confusion_matrix(actual_categories, predicted_categories)\n",
        "disp = ConfusionMatrixDisplay(confusion_matrix=cm, display_labels=[0, 1, 2])\n",
        "\n",
        "# Plot the confusion matrix\n",
        "plt.figure(figsize=(10, 7))\n",
        "disp.plot(cmap=plt.cm.Blues)\n",
        "plt.title('Confusion Matrix')\n",
        "plt.show()"
      ],
      "metadata": {
        "id": "EeDubU5kreqk",
        "outputId": "fcc840b6-2d1e-4ba8-ee64-692ddc3d6181",
        "colab": {
          "base_uri": "https://localhost:8080/",
          "height": 506
        }
      },
      "execution_count": 179,
      "outputs": [
        {
          "output_type": "stream",
          "name": "stdout",
          "text": [
            "\u001b[1m30/30\u001b[0m \u001b[32m━━━━━━━━━━━━━━━━━━━━\u001b[0m\u001b[37m\u001b[0m \u001b[1m2s\u001b[0m 49ms/step\n"
          ]
        },
        {
          "output_type": "display_data",
          "data": {
            "text/plain": [
              "<Figure size 1000x700 with 0 Axes>"
            ]
          },
          "metadata": {}
        },
        {
          "output_type": "display_data",
          "data": {
            "text/plain": [
              "<Figure size 640x480 with 2 Axes>"
            ],
            "image/png": "[encoded data removed]"
          },
          "metadata": {}
        }
      ]
    },
    {
      "cell_type": "code",
      "source": [
        "file_path = '/content/usd_eur_raw.csv'\n",
        "df_raw_exchange = pd.read_csv(file_path)\n",
        "\n",
        "df_raw_exchange = df_raw_exchange['usd_eur_exchange'].pct_change()\n",
        "\n",
        "df_raw_exchange = df_raw_exchange.iloc[3:-1]"
      ],
      "metadata": {
        "id": "BvY2i5B3rH7g"
      },
      "execution_count": 254,
      "outputs": []
    },
    {
      "cell_type": "code",
      "source": [
        "import numpy as np\n",
        "import pandas as pd\n",
        "import matplotlib.pyplot as plt\n",
        "from tensorflow.keras.callbacks import EarlyStopping\n",
        "from sklearn.metrics import accuracy_score\n",
        "\n",
        "# Assuming the functions to create and compile your model are defined as `create_model`\n",
        "\n",
        "def compute_hit_rate(signals, percent_changes):\n",
        "    correct_signals = 0\n",
        "    total_signals = len(signals)\n",
        "\n",
        "    for signal, percent_change in zip(signals, percent_changes):\n",
        "        if (signal == 0 and percent_change < 0) or (signal == 2 and percent_change > 0):\n",
        "            correct_signals += 1\n",
        "        elif signal == 1:\n",
        "            total_signals -= 1\n",
        "\n",
        "    return correct_signals / total_signals if total_signals > 0 else 0\n",
        "\n",
        "def backtest(actions, percent_changes):\n",
        "    cash = 100  # Initial cash\n",
        "    position = 0  # Current position: 0 for flat, -1 for short, 1 for long\n",
        "    portfolio_value = []  # Portfolio value over time\n",
        "\n",
        "    for action, percent_change in zip(actions, percent_changes):\n",
        "        if action == 0:  # Sell\n",
        "            position = -100  # Set position to short\n",
        "            cash += position * percent_change  # Sell shares\n",
        "        elif action == 1:  # Flat\n",
        "            position = 0  # Set position to flat\n",
        "            cash += 0  # No action\n",
        "        elif action == 2:  # Buy\n",
        "            position = 100  # Set position to long\n",
        "            cash += position * percent_change  # Buy shares\n",
        "\n",
        "        portfolio_value.append(cash)  # Calculate portfolio value\n",
        "\n",
        "    return portfolio_value\n",
        "\n",
        "def run_single_iteration(X_train, y_train, X_test, y_test, best_params):\n",
        "    # Create the model with the best parameters\n",
        "    best_model = create_model(batch_size = 128,\n",
        "                              dropout_rate1 = 0.1,\n",
        "                              units1 = 32\n",
        "    )\n",
        "\n",
        "    early_stopping_manual = EarlyStopping(monitor='val_loss', patience=10, restore_best_weights=True)\n",
        "    history = best_model.fit(X_train, y_train,\n",
        "                             epochs=75,\n",
        "                             validation_data=(X_test, y_test),\n",
        "                             batch_size = 128,\n",
        "                             shuffle=False,\n",
        "                             callbacks=[early_stopping_manual],\n",
        "                             verbose=0)\n",
        "\n",
        "    # Predict on the test set\n",
        "    predictions = best_model.predict(X_test)\n",
        "    predicted_categories = np.argmax(predictions, axis=1)\n",
        "\n",
        "    # Convert y_test from one-hot encoding to label format\n",
        "    y_test_labels = np.argmax(y_test, axis=1)\n",
        "\n",
        "    # Calculate accuracy\n",
        "    accuracy = accuracy_score(y_test_labels, predicted_categories)\n",
        "\n",
        "    # Generate signals based on predicted categories\n",
        "    signals = predicted_categories\n",
        "    percent_changes = np.array(df_raw_exchange.iloc[-len(y_test):])\n",
        "\n",
        "    # Run the backtest\n",
        "    portfolio_value = backtest(signals, percent_changes)\n",
        "    hit_rate = compute_hit_rate(signals, percent_changes)\n",
        "    num_trades = np.sum((signals == 0) | (signals == 2))\n",
        "\n",
        "\n",
        "    return portfolio_value, accuracy, hit_rate, num_trades\n",
        "\n",
        "# Number of iterations for averaging\n",
        "iterations = 50\n",
        "\n",
        "# Lists to store the results of each iteration\n",
        "final_portfolio_values = []\n",
        "accuracies = []\n",
        "hit_rates = []\n",
        "trade_counts = []\n",
        "\n",
        "for i in range(iterations):\n",
        "    print(f\"Running iteration {i+1}/{iterations}\")\n",
        "    portfolio_value, accuracy, hit_rate, num_trades = run_single_iteration(X_train, y_train, X_test, y_test, best_params)\n",
        "    final_portfolio_values.append(portfolio_value[-1])\n",
        "    accuracies.append(accuracy)\n",
        "    hit_rates.append(hit_rate)\n",
        "    trade_counts.append(num_trades)\n",
        "    print(f\"Iteration {i+1} - Final Portfolio Value: {portfolio_value[-1]}, Accuracy: {accuracy}, Hit Rate: {hit_rate}, Trades: {num_trades}\")\n",
        "\n",
        "# Calculate the average and standard deviation of the final portfolio values\n",
        "average_final_value = np.mean(final_portfolio_values)\n",
        "std_final_value = np.std(final_portfolio_values)\n",
        "\n",
        "# Calculate the average accuracy and hit rate\n",
        "average_accuracy = np.mean(accuracies)\n",
        "average_hit_rate = np.mean(hit_rates)\n",
        "average_num_trades = np.mean(trade_counts)\n",
        "\n",
        "# Print results\n",
        "print(\"Average Final Portfolio Value:\")\n",
        "print(average_final_value)\n",
        "print('Standard Deviation of Final Values:')\n",
        "print(std_final_value)\n",
        "print('Average Accuracy:')\n",
        "print(average_accuracy)\n",
        "print('Average Hit Rate:')\n",
        "print(average_hit_rate)\n",
        "print('Average No. of Trades:')\n",
        "print(average_num_trades)"
      ],
      "metadata": {
        "colab": {
          "base_uri": "https://localhost:8080/"
        },
        "id": "rjtXIxcuOGoL",
        "outputId": "a1416807-9e6a-4d2f-c41e-5cfe8f33c4a4"
      },
      "execution_count": 195,
      "outputs": [
        {
          "output_type": "stream",
          "name": "stdout",
          "text": [
            "Running iteration 1/50\n",
            "\u001b[1m30/30\u001b[0m \u001b[32m━━━━━━━━━━━━━━━━━━━━\u001b[0m\u001b[37m\u001b[0m \u001b[1m1s\u001b[0m 16ms/step\n",
            "Iteration 1 - Final Portfolio Value: 99.0169484989736, Accuracy: 0.3076923076923077, Hit Rate: 0.5015806111696522, Trades: 949\n",
            "Running iteration 2/50\n",
            "\u001b[1m30/30\u001b[0m \u001b[32m━━━━━━━━━━━━━━━━━━━━\u001b[0m\u001b[37m\u001b[0m \u001b[1m0s\u001b[0m 5ms/step\n",
            "Iteration 2 - Final Portfolio Value: 113.28427503307672, Accuracy: 0.3266596417281349, Hit Rate: 0.514721919302072, Trades: 917\n",
            "Running iteration 3/50\n",
            "\u001b[1m30/30\u001b[0m \u001b[32m━━━━━━━━━━━━━━━━━━━━\u001b[0m\u001b[37m\u001b[0m \u001b[1m1s\u001b[0m 39ms/step\n",
            "Iteration 3 - Final Portfolio Value: 104.4487128720442, Accuracy: 0.31401475237091675, Hit Rate: 0.5142255005268704, Trades: 949\n",
            "Running iteration 4/50\n",
            "\u001b[1m30/30\u001b[0m \u001b[32m━━━━━━━━━━━━━━━━━━━━\u001b[0m\u001b[37m\u001b[0m \u001b[1m0s\u001b[0m 5ms/step\n",
            "Iteration 4 - Final Portfolio Value: 94.04975646742147, Accuracy: 0.3856691253951528, Hit Rate: 0.47335423197492166, Trades: 319\n",
            "Running iteration 5/50\n",
            "\u001b[1m30/30\u001b[0m \u001b[32m━━━━━━━━━━━━━━━━━━━━\u001b[0m\u001b[37m\u001b[0m \u001b[1m1s\u001b[0m 35ms/step\n",
            "Iteration 5 - Final Portfolio Value: 99.63238345549118, Accuracy: 0.3835616438356164, Hit Rate: 0.5555555555555556, Trades: 9\n",
            "Running iteration 6/50\n",
            "\u001b[1m30/30\u001b[0m \u001b[32m━━━━━━━━━━━━━━━━━━━━\u001b[0m\u001b[37m\u001b[0m \u001b[1m0s\u001b[0m 5ms/step\n",
            "Iteration 6 - Final Portfolio Value: 117.55191727020105, Accuracy: 0.37091675447839834, Hit Rate: 0.5288461538461539, Trades: 520\n",
            "Running iteration 7/50\n",
            "\u001b[1m30/30\u001b[0m \u001b[32m━━━━━━━━━━━━━━━━━━━━\u001b[0m\u001b[37m\u001b[0m \u001b[1m1s\u001b[0m 22ms/step\n",
            "Iteration 7 - Final Portfolio Value: 99.0169484989736, Accuracy: 0.3076923076923077, Hit Rate: 0.5015806111696522, Trades: 949\n",
            "Running iteration 8/50\n",
            "\u001b[1m30/30\u001b[0m \u001b[32m━━━━━━━━━━━━━━━━━━━━\u001b[0m\u001b[37m\u001b[0m \u001b[1m1s\u001b[0m 14ms/step\n",
            "Iteration 8 - Final Portfolio Value: 114.62104109406202, Accuracy: 0.38672286617492097, Hit Rate: 0.5289256198347108, Trades: 363\n",
            "Running iteration 9/50\n",
            "\u001b[1m30/30\u001b[0m \u001b[32m━━━━━━━━━━━━━━━━━━━━\u001b[0m\u001b[37m\u001b[0m \u001b[1m1s\u001b[0m 34ms/step\n",
            "Iteration 9 - Final Portfolio Value: 99.86816542554872, Accuracy: 0.37829293993677554, Hit Rate: 0.5161290322580645, Trades: 31\n",
            "Running iteration 10/50\n",
            "\u001b[1m30/30\u001b[0m \u001b[32m━━━━━━━━━━━━━━━━━━━━\u001b[0m\u001b[37m\u001b[0m \u001b[1m1s\u001b[0m 26ms/step\n",
            "Iteration 10 - Final Portfolio Value: 101.61643438481687, Accuracy: 0.3266596417281349, Hit Rate: 0.5, Trades: 808\n",
            "Running iteration 11/50\n",
            "\u001b[1m30/30\u001b[0m \u001b[32m━━━━━━━━━━━━━━━━━━━━\u001b[0m\u001b[37m\u001b[0m \u001b[1m1s\u001b[0m 15ms/step\n",
            "Iteration 11 - Final Portfolio Value: 101.81779731853092, Accuracy: 0.3772391991570074, Hit Rate: 0.5588235294117647, Trades: 34\n",
            "Running iteration 12/50\n",
            "\u001b[1m30/30\u001b[0m \u001b[32m━━━━━━━━━━━━━━━━━━━━\u001b[0m\u001b[37m\u001b[0m \u001b[1m1s\u001b[0m 14ms/step\n",
            "Iteration 12 - Final Portfolio Value: 126.75594587586343, Accuracy: 0.3224446786090622, Hit Rate: 0.5303514376996805, Trades: 939\n",
            "Running iteration 13/50\n",
            "\u001b[1m30/30\u001b[0m \u001b[32m━━━━━━━━━━━━━━━━━━━━\u001b[0m\u001b[37m\u001b[0m \u001b[1m1s\u001b[0m 29ms/step\n",
            "Iteration 13 - Final Portfolio Value: 115.81812691496997, Accuracy: 0.3424657534246575, Hit Rate: 0.5183946488294314, Trades: 897\n",
            "Running iteration 14/50\n",
            "\u001b[1m30/30\u001b[0m \u001b[32m━━━━━━━━━━━━━━━━━━━━\u001b[0m\u001b[37m\u001b[0m \u001b[1m0s\u001b[0m 5ms/step\n",
            "Iteration 14 - Final Portfolio Value: 72.430802813057, Accuracy: 0.34141201264488935, Hit Rate: 0.4589041095890411, Trades: 584\n",
            "Running iteration 15/50\n",
            "\u001b[1m30/30\u001b[0m \u001b[32m━━━━━━━━━━━━━━━━━━━━\u001b[0m\u001b[37m\u001b[0m \u001b[1m0s\u001b[0m 5ms/step\n",
            "Iteration 15 - Final Portfolio Value: 101.33621773358273, Accuracy: 0.37513171759747105, Hit Rate: 0.5227272727272727, Trades: 44\n",
            "Running iteration 16/50\n",
            "\u001b[1m30/30\u001b[0m \u001b[32m━━━━━━━━━━━━━━━━━━━━\u001b[0m\u001b[37m\u001b[0m \u001b[1m1s\u001b[0m 31ms/step\n",
            "Iteration 16 - Final Portfolio Value: 100, Accuracy: 0.3804004214963119, Hit Rate: 0, Trades: 0\n",
            "Running iteration 17/50\n",
            "\u001b[1m30/30\u001b[0m \u001b[32m━━━━━━━━━━━━━━━━━━━━\u001b[0m\u001b[37m\u001b[0m \u001b[1m0s\u001b[0m 5ms/step\n",
            "Iteration 17 - Final Portfolio Value: 111.52799558573676, Accuracy: 0.3487881981032666, Hit Rate: 0.5238095238095238, Trades: 672\n",
            "Running iteration 18/50\n",
            "\u001b[1m30/30\u001b[0m \u001b[32m━━━━━━━━━━━━━━━━━━━━\u001b[0m\u001b[37m\u001b[0m \u001b[1m2s\u001b[0m 56ms/step\n",
            "Iteration 18 - Final Portfolio Value: 106.69018044889611, Accuracy: 0.38672286617492097, Hit Rate: 0.5647058823529412, Trades: 85\n",
            "Running iteration 19/50\n",
            "\u001b[1m30/30\u001b[0m \u001b[32m━━━━━━━━━━━━━━━━━━━━\u001b[0m\u001b[37m\u001b[0m \u001b[1m1s\u001b[0m 42ms/step\n",
            "Iteration 19 - Final Portfolio Value: 97.93920275119898, Accuracy: 0.37829293993677554, Hit Rate: 0.5454545454545454, Trades: 77\n",
            "Running iteration 20/50\n",
            "\u001b[1m30/30\u001b[0m \u001b[32m━━━━━━━━━━━━━━━━━━━━\u001b[0m\u001b[37m\u001b[0m \u001b[1m1s\u001b[0m 20ms/step\n",
            "Iteration 20 - Final Portfolio Value: 104.01057158236675, Accuracy: 0.321390937829294, Hit Rate: 0.5096153846153846, Trades: 832\n",
            "Running iteration 21/50\n",
            "\u001b[1m30/30\u001b[0m \u001b[32m━━━━━━━━━━━━━━━━━━━━\u001b[0m\u001b[37m\u001b[0m \u001b[1m1s\u001b[0m 28ms/step\n",
            "Iteration 21 - Final Portfolio Value: 108.94373008676065, Accuracy: 0.3667017913593256, Hit Rate: 0.5078534031413613, Trades: 382\n",
            "Running iteration 22/50\n",
            "\u001b[1m30/30\u001b[0m \u001b[32m━━━━━━━━━━━━━━━━━━━━\u001b[0m\u001b[37m\u001b[0m \u001b[1m1s\u001b[0m 21ms/step\n",
            "Iteration 22 - Final Portfolio Value: 98.63785126739093, Accuracy: 0.3171759747102213, Hit Rate: 0.4912075029308324, Trades: 853\n",
            "Running iteration 23/50\n",
            "\u001b[1m30/30\u001b[0m \u001b[32m━━━━━━━━━━━━━━━━━━━━\u001b[0m\u001b[37m\u001b[0m \u001b[1m1s\u001b[0m 14ms/step\n",
            "Iteration 23 - Final Portfolio Value: 114.29311369983155, Accuracy: 0.31612223393045313, Hit Rate: 0.5126582278481012, Trades: 948\n",
            "Running iteration 24/50\n",
            "\u001b[1m30/30\u001b[0m \u001b[32m━━━━━━━━━━━━━━━━━━━━\u001b[0m\u001b[37m\u001b[0m \u001b[1m2s\u001b[0m 60ms/step\n",
            "Iteration 24 - Final Portfolio Value: 102.4292606731645, Accuracy: 0.32349841938883034, Hit Rate: 0.49889135254988914, Trades: 902\n",
            "Running iteration 25/50\n",
            "\u001b[1m30/30\u001b[0m \u001b[32m━━━━━━━━━━━━━━━━━━━━\u001b[0m\u001b[37m\u001b[0m \u001b[1m0s\u001b[0m 5ms/step\n",
            "Iteration 25 - Final Portfolio Value: 99.21121306881632, Accuracy: 0.3087460484720759, Hit Rate: 0.5021097046413502, Trades: 948\n",
            "Running iteration 26/50\n",
            "\u001b[1m30/30\u001b[0m \u001b[32m━━━━━━━━━━━━━━━━━━━━\u001b[0m\u001b[37m\u001b[0m \u001b[1m1s\u001b[0m 22ms/step\n",
            "Iteration 26 - Final Portfolio Value: 104.06699954122399, Accuracy: 0.3361433087460485, Hit Rate: 0.5123456790123457, Trades: 648\n",
            "Running iteration 27/50\n",
            "\u001b[1m30/30\u001b[0m \u001b[32m━━━━━━━━━━━━━━━━━━━━\u001b[0m\u001b[37m\u001b[0m \u001b[1m2s\u001b[0m 61ms/step\n",
            "Iteration 27 - Final Portfolio Value: 67.90152437444668, Accuracy: 0.2876712328767123, Hit Rate: 0.46259220231822973, Trades: 949\n",
            "Running iteration 28/50\n",
            "\u001b[1m30/30\u001b[0m \u001b[32m━━━━━━━━━━━━━━━━━━━━\u001b[0m\u001b[37m\u001b[0m \u001b[1m1s\u001b[0m 42ms/step\n",
            "Iteration 28 - Final Portfolio Value: 104.08506512830898, Accuracy: 0.31401475237091675, Hit Rate: 0.5110642781875658, Trades: 949\n",
            "Running iteration 29/50\n",
            "\u001b[1m30/30\u001b[0m \u001b[32m━━━━━━━━━━━━━━━━━━━━\u001b[0m\u001b[37m\u001b[0m \u001b[1m0s\u001b[0m 5ms/step\n",
            "Iteration 29 - Final Portfolio Value: 93.87444596822203, Accuracy: 0.34351949420442573, Hit Rate: 0.4990512333965844, Trades: 527\n",
            "Running iteration 30/50\n",
            "\u001b[1m30/30\u001b[0m \u001b[32m━━━━━━━━━━━━━━━━━━━━\u001b[0m\u001b[37m\u001b[0m \u001b[1m0s\u001b[0m 5ms/step\n",
            "Iteration 30 - Final Portfolio Value: 106.43221029580845, Accuracy: 0.3498419388830348, Hit Rate: 0.5233333333333333, Trades: 600\n",
            "Running iteration 31/50\n",
            "\u001b[1m30/30\u001b[0m \u001b[32m━━━━━━━━━━━━━━━━━━━━\u001b[0m\u001b[37m\u001b[0m \u001b[1m1s\u001b[0m 37ms/step\n",
            "Iteration 31 - Final Portfolio Value: 100.00593895068279, Accuracy: 0.37407797681770283, Hit Rate: 0.5, Trades: 18\n",
            "Running iteration 32/50\n",
            "\u001b[1m30/30\u001b[0m \u001b[32m━━━━━━━━━━━━━━━━━━━━\u001b[0m\u001b[37m\u001b[0m \u001b[1m1s\u001b[0m 47ms/step\n",
            "Iteration 32 - Final Portfolio Value: 110.289245051506, Accuracy: 0.321390937829294, Hit Rate: 0.5152792413066386, Trades: 949\n",
            "Running iteration 33/50\n",
            "\u001b[1m30/30\u001b[0m \u001b[32m━━━━━━━━━━━━━━━━━━━━\u001b[0m\u001b[37m\u001b[0m \u001b[1m0s\u001b[0m 5ms/step\n",
            "Iteration 33 - Final Portfolio Value: 99.51218571807827, Accuracy: 0.3087460484720759, Hit Rate: 0.5026399155227033, Trades: 947\n",
            "Running iteration 34/50\n",
            "\u001b[1m30/30\u001b[0m \u001b[32m━━━━━━━━━━━━━━━━━━━━\u001b[0m\u001b[37m\u001b[0m \u001b[1m0s\u001b[0m 5ms/step\n",
            "Iteration 34 - Final Portfolio Value: 90.74592765794615, Accuracy: 0.30453108535300316, Hit Rate: 0.4952581664910432, Trades: 949\n",
            "Running iteration 35/50\n",
            "\u001b[1m30/30\u001b[0m \u001b[32m━━━━━━━━━━━━━━━━━━━━\u001b[0m\u001b[37m\u001b[0m \u001b[1m2s\u001b[0m 57ms/step\n",
            "Iteration 35 - Final Portfolio Value: 104.03780391589784, Accuracy: 0.34773445732349845, Hit Rate: 0.4991624790619765, Trades: 597\n",
            "Running iteration 36/50\n",
            "\u001b[1m30/30\u001b[0m \u001b[32m━━━━━━━━━━━━━━━━━━━━\u001b[0m\u001b[37m\u001b[0m \u001b[1m0s\u001b[0m 5ms/step\n",
            "Iteration 36 - Final Portfolio Value: 81.14099809083301, Accuracy: 0.2971548998946259, Hit Rate: 0.483695652173913, Trades: 920\n",
            "Running iteration 37/50\n",
            "\u001b[1m30/30\u001b[0m \u001b[32m━━━━━━━━━━━━━━━━━━━━\u001b[0m\u001b[37m\u001b[0m \u001b[1m1s\u001b[0m 30ms/step\n",
            "Iteration 37 - Final Portfolio Value: 102.8479403513261, Accuracy: 0.3856691253951528, Hit Rate: 0.6, Trades: 20\n",
            "Running iteration 38/50\n",
            "\u001b[1m30/30\u001b[0m \u001b[32m━━━━━━━━━━━━━━━━━━━━\u001b[0m\u001b[37m\u001b[0m \u001b[1m1s\u001b[0m 38ms/step\n",
            "Iteration 38 - Final Portfolio Value: 106.80292750838255, Accuracy: 0.3909378292939937, Hit Rate: 0.5607476635514018, Trades: 107\n",
            "Running iteration 39/50\n",
            "\u001b[1m30/30\u001b[0m \u001b[32m━━━━━━━━━━━━━━━━━━━━\u001b[0m\u001b[37m\u001b[0m \u001b[1m2s\u001b[0m 52ms/step\n",
            "Iteration 39 - Final Portfolio Value: 98.49958921404048, Accuracy: 0.34141201264488935, Hit Rate: 0.5007153075822603, Trades: 699\n",
            "Running iteration 40/50\n",
            "\u001b[1m30/30\u001b[0m \u001b[32m━━━━━━━━━━━━━━━━━━━━\u001b[0m\u001b[37m\u001b[0m \u001b[1m0s\u001b[0m 5ms/step\n",
            "Iteration 40 - Final Portfolio Value: 95.85725580281074, Accuracy: 0.3055848261327713, Hit Rate: 0.49723145071982283, Trades: 903\n",
            "Running iteration 41/50\n",
            "\u001b[1m30/30\u001b[0m \u001b[32m━━━━━━━━━━━━━━━━━━━━\u001b[0m\u001b[37m\u001b[0m \u001b[1m0s\u001b[0m 5ms/step\n",
            "Iteration 41 - Final Portfolio Value: 125.44332309716133, Accuracy: 0.3361433087460485, Hit Rate: 0.5363540569020021, Trades: 949\n",
            "Running iteration 42/50\n",
            "\u001b[1m30/30\u001b[0m \u001b[32m━━━━━━━━━━━━━━━━━━━━\u001b[0m\u001b[37m\u001b[0m \u001b[1m0s\u001b[0m 5ms/step\n",
            "Iteration 42 - Final Portfolio Value: 105.15244862287935, Accuracy: 0.38883034773445735, Hit Rate: 0.5686274509803921, Trades: 102\n",
            "Running iteration 43/50\n",
            "\u001b[1m30/30\u001b[0m \u001b[32m━━━━━━━━━━━━━━━━━━━━\u001b[0m\u001b[37m\u001b[0m \u001b[1m1s\u001b[0m 21ms/step\n",
            "Iteration 43 - Final Portfolio Value: 107.24061405811932, Accuracy: 0.36037934668071653, Hit Rate: 0.5196629213483146, Trades: 356\n",
            "Running iteration 44/50\n",
            "\u001b[1m30/30\u001b[0m \u001b[32m━━━━━━━━━━━━━━━━━━━━\u001b[0m\u001b[37m\u001b[0m \u001b[1m2s\u001b[0m 54ms/step\n",
            "Iteration 44 - Final Portfolio Value: 102.03982882162198, Accuracy: 0.30979978925184404, Hit Rate: 0.5015806111696522, Trades: 949\n",
            "Running iteration 45/50\n",
            "\u001b[1m30/30\u001b[0m \u001b[32m━━━━━━━━━━━━━━━━━━━━\u001b[0m\u001b[37m\u001b[0m \u001b[1m0s\u001b[0m 5ms/step\n",
            "Iteration 45 - Final Portfolio Value: 84.41381711694565, Accuracy: 0.3119072708113804, Hit Rate: 0.4776725304465494, Trades: 739\n",
            "Running iteration 46/50\n",
            "\u001b[1m30/30\u001b[0m \u001b[32m━━━━━━━━━━━━━━━━━━━━\u001b[0m\u001b[37m\u001b[0m \u001b[1m0s\u001b[0m 5ms/step\n",
            "Iteration 46 - Final Portfolio Value: 94.16644084210206, Accuracy: 0.3055848261327713, Hit Rate: 0.4978401727861771, Trades: 926\n",
            "Running iteration 47/50\n",
            "\u001b[1m30/30\u001b[0m \u001b[32m━━━━━━━━━━━━━━━━━━━━\u001b[0m\u001b[37m\u001b[0m \u001b[1m0s\u001b[0m 8ms/step\n",
            "Iteration 47 - Final Portfolio Value: 93.83642276930239, Accuracy: 0.3013698630136986, Hit Rate: 0.49770114942528737, Trades: 870\n",
            "Running iteration 48/50\n",
            "\u001b[1m30/30\u001b[0m \u001b[32m━━━━━━━━━━━━━━━━━━━━\u001b[0m\u001b[37m\u001b[0m \u001b[1m1s\u001b[0m 35ms/step\n",
            "Iteration 48 - Final Portfolio Value: 94.10736098121912, Accuracy: 0.3087460484720759, Hit Rate: 0.4967391304347826, Trades: 920\n",
            "Running iteration 49/50\n",
            "\u001b[1m30/30\u001b[0m \u001b[32m━━━━━━━━━━━━━━━━━━━━\u001b[0m\u001b[37m\u001b[0m \u001b[1m1s\u001b[0m 21ms/step\n",
            "Iteration 49 - Final Portfolio Value: 99.75829180133837, Accuracy: 0.38777660695468913, Hit Rate: 0.5091463414634146, Trades: 328\n",
            "Running iteration 50/50\n",
            "\u001b[1m30/30\u001b[0m \u001b[32m━━━━━━━━━━━━━━━━━━━━\u001b[0m\u001b[37m\u001b[0m \u001b[1m1s\u001b[0m 37ms/step\n",
            "Iteration 50 - Final Portfolio Value: 92.3155711344841, Accuracy: 0.3540569020021075, Hit Rate: 0.45614035087719296, Trades: 285\n",
            "Average Final Portfolio Value:\n",
            "101.39045539270928\n",
            "Standard Deviation of Final Values:\n",
            "10.772802666150342\n",
            "Average Accuracy:\n",
            "0.34134878819810327\n",
            "Average Hit Rate:\n",
            "0.5021001415946071\n",
            "Average No. of Trades:\n",
            "604.34\n"
          ]
        }
      ]
    },
    {
      "cell_type": "markdown",
      "source": [
        "Model results from Grid search:\n",
        "\n",
        "{'batch_size': 128, 'model__dropout_rate1': 0.2, 'model__units1': 64}"
      ],
      "metadata": {
        "id": "2qXTEcJQfZC3"
      }
    },
    {
      "cell_type": "markdown",
      "source": [
        "# 2nd Iteration\n",
        "\n",
        "2 lstm layer gridsearch"
      ],
      "metadata": {
        "id": "fEYc8OpQC348"
      }
    },
    {
      "cell_type": "code",
      "source": [
        "time_steps = 15\n",
        "\n",
        "dataX = create_dataset(dataset, time_steps)\n",
        "\n",
        "dataX = np.reshape(dataX, (dataX.shape[0], time_steps, dataset.shape[1]))\n",
        "\n",
        "X = dataX\n",
        "y = y_categories[time_steps:]\n",
        "X_train, X_test, y_train, y_test = train_test_split(X, y, test_size=0.2, shuffle=False, random_state = 42)"
      ],
      "metadata": {
        "id": "Z-JhlHRCCj6Z"
      },
      "execution_count": 224,
      "outputs": []
    },
    {
      "cell_type": "code",
      "source": [
        "def create_model_2(units1=128, units2 = 64, dropout_rate1 = 0.3, dropout_rate2 = 0.2, batch_size = 32):\n",
        "    model = Sequential([\n",
        "        Input(shape=(X_train.shape[1], X_train.shape[2])),\n",
        "        LSTM(units1, return_sequences = True),\n",
        "        Dropout(dropout_rate1),\n",
        "        LSTM(units2, return_sequences = False),\n",
        "        Dropout(dropout_rate2),\n",
        "        Dense(3, activation='softmax')\n",
        "    ])\n",
        "    model.compile(optimizer='adam', loss='categorical_crossentropy', metrics=['accuracy'])\n",
        "    return model"
      ],
      "metadata": {
        "id": "_X5ob8l-7cRV"
      },
      "execution_count": 225,
      "outputs": []
    },
    {
      "cell_type": "code",
      "source": [
        "model_2 = KerasClassifier(model=create_model_2, epochs = 75, verbose=0, shuffle = False, random_state = 42)"
      ],
      "metadata": {
        "id": "YKRE-2xAC41B"
      },
      "execution_count": 202,
      "outputs": []
    },
    {
      "cell_type": "code",
      "source": [
        "param_grid_model2 = {\n",
        "    'model__units1': [64],\n",
        "    'model__units2': [32],\n",
        "    'model__dropout_rate1': [0.4],\n",
        "    'model__dropout_rate2': [0.3],\n",
        "    'batch_size': [32]\n",
        "}"
      ],
      "metadata": {
        "id": "pj41ZEt97yi2"
      },
      "execution_count": 203,
      "outputs": []
    },
    {
      "cell_type": "code",
      "source": [
        "# Perform Grid Search with 5-fold cross-validation\n",
        "logging.info('Starting grid search...')\n",
        "grid_model_2 = GridSearchCV(estimator=model_2, param_grid=param_grid_model2, cv=5, n_jobs = -1)"
      ],
      "metadata": {
        "id": "-F_QYJC0C41B"
      },
      "execution_count": 204,
      "outputs": []
    },
    {
      "cell_type": "code",
      "source": [
        "from keras.callbacks import EarlyStopping\n",
        "\n",
        "early_stopping = EarlyStopping(monitor = 'val_loss', patience = 10, restore_best_weights = True)\n",
        "\n",
        "# Fit the grid search\n",
        "grid_result_model_2 = grid_model_2.fit(X_train, y_train, callbacks = [early_stopping], validation_split = 0.2)"
      ],
      "metadata": {
        "id": "i0PKzTHrC41D"
      },
      "execution_count": 206,
      "outputs": []
    },
    {
      "cell_type": "code",
      "source": [
        "best_params_model_2 = grid_result_model_2.best_params_\n",
        "logging.info(f\"Best Parameters: {best_params_model_2}\")\n",
        "print(best_params_model_2)"
      ],
      "metadata": {
        "colab": {
          "base_uri": "https://localhost:8080/"
        },
        "outputId": "fd28850b-d2aa-4e6d-e18c-4b7910ed9526",
        "id": "cVEiiezQXNBh"
      },
      "execution_count": 207,
      "outputs": [
        {
          "output_type": "stream",
          "name": "stdout",
          "text": [
            "{'batch_size': 32, 'model__dropout_rate1': 0.4, 'model__dropout_rate2': 0.3, 'model__units1': 64, 'model__units2': 32}\n"
          ]
        }
      ]
    },
    {
      "cell_type": "code",
      "source": [
        "best_model_2 = create_model_2(units1=best_params_model_2['model__units1'],\n",
        "                            units2 = best_params_model_2['model__units2'],\n",
        "                          dropout_rate1 = best_params_model_2['model__dropout_rate1'],\n",
        "                            dropout_rate2 = best_params_model_2['model__dropout_rate2'],\n",
        "                          batch_size = best_params_model_2['batch_size']\n",
        "                          )"
      ],
      "metadata": {
        "id": "Lg--hDJGXNBi"
      },
      "execution_count": 226,
      "outputs": []
    },
    {
      "cell_type": "code",
      "source": [
        "early_stopping_manual = EarlyStopping(monitor='val_loss', patience=10, restore_best_weights=True)\n",
        "\n",
        "history_model_2 = best_model_2.fit(X_train, y_train,\n",
        "                         epochs=75,\n",
        "                        batch_size = 32,\n",
        "                         validation_data=(X_test, y_test),\n",
        "                        callbacks = [early_stopping_manual],\n",
        "                         verbose=0)"
      ],
      "metadata": {
        "id": "AhNKFJMGXNBi"
      },
      "execution_count": 227,
      "outputs": []
    },
    {
      "cell_type": "code",
      "source": [
        "# Plot training & validation loss values\n",
        "plt.plot(history_model_2.history['loss'])\n",
        "plt.plot(history_model_2.history['val_loss'])\n",
        "plt.title('Model loss')\n",
        "plt.ylabel('Loss')\n",
        "plt.xlabel('Epoch')\n",
        "plt.legend(['Train', 'Test'], loc='upper left')\n",
        "plt.show()"
      ],
      "metadata": {
        "id": "Uu7fhqcNXdBM",
        "outputId": "c41f3fd6-1c37-4919-e1ef-814b7ec92ab5",
        "colab": {
          "base_uri": "https://localhost:8080/",
          "height": 472
        }
      },
      "execution_count": 228,
      "outputs": [
        {
          "output_type": "display_data",
          "data": {
            "text/plain": [
              "<Figure size 640x480 with 1 Axes>"
            ],
            "image/png": "[encoded data removed]"
          },
          "metadata": {}
        }
      ]
    },
    {
      "cell_type": "code",
      "source": [
        "# Assuming `grid_result` is the result from GridSearchCV and contains the best model\n",
        "\n",
        "# Predict on the test set\n",
        "y_pred = best_model_2.predict(X_test)\n",
        "\n",
        "# Convert the one-hot encoded actual labels back to integer format\n",
        "actual_categories = np.argmax(y_test, axis=1)\n",
        "\n",
        "# Get the predicted categories\n",
        "predicted_categories = np.argmax(y_pred, axis=1)\n",
        "\n",
        "# Compute the confusion matrix\n",
        "cm = confusion_matrix(actual_categories, predicted_categories)\n",
        "disp = ConfusionMatrixDisplay(confusion_matrix=cm, display_labels=[0, 1, 2])\n",
        "\n",
        "# Plot the confusion matrix\n",
        "plt.figure(figsize=(10, 7))\n",
        "disp.plot(cmap=plt.cm.Blues)\n",
        "plt.title('Confusion Matrix')\n",
        "plt.show()"
      ],
      "metadata": {
        "id": "WVh2nlR58YM_",
        "outputId": "b0e9fc98-9778-47cc-b135-b92276bac50c",
        "colab": {
          "base_uri": "https://localhost:8080/",
          "height": 506
        }
      },
      "execution_count": 229,
      "outputs": [
        {
          "output_type": "stream",
          "name": "stdout",
          "text": [
            "\u001b[1m30/30\u001b[0m \u001b[32m━━━━━━━━━━━━━━━━━━━━\u001b[0m\u001b[37m\u001b[0m \u001b[1m1s\u001b[0m 16ms/step\n"
          ]
        },
        {
          "output_type": "display_data",
          "data": {
            "text/plain": [
              "<Figure size 1000x700 with 0 Axes>"
            ]
          },
          "metadata": {}
        },
        {
          "output_type": "display_data",
          "data": {
            "text/plain": [
              "<Figure size 640x480 with 2 Axes>"
            ],
            "image/png": "[encoded data removed]"
          },
          "metadata": {}
        }
      ]
    },
    {
      "cell_type": "code",
      "source": [
        "import numpy as np\n",
        "import pandas as pd\n",
        "import matplotlib.pyplot as plt\n",
        "from tensorflow.keras.callbacks import EarlyStopping\n",
        "from sklearn.metrics import accuracy_score\n",
        "\n",
        "# Assuming the functions to create and compile your model are defined as `create_model`\n",
        "\n",
        "def compute_hit_rate(signals, percent_changes):\n",
        "    correct_signals = 0\n",
        "    total_signals = len(signals)\n",
        "\n",
        "    for signal, percent_change in zip(signals, percent_changes):\n",
        "        if (signal == 0 and percent_change < 0) or (signal == 2 and percent_change > 0):\n",
        "            correct_signals += 1\n",
        "        elif signal == 1:\n",
        "            total_signals -= 1\n",
        "\n",
        "    return correct_signals / total_signals if total_signals > 0 else 0\n",
        "\n",
        "def backtest(actions, percent_changes):\n",
        "    cash = 100  # Initial cash\n",
        "    position = 0  # Current position: 0 for flat, -1 for short, 1 for long\n",
        "    portfolio_value = []  # Portfolio value over time\n",
        "\n",
        "    for action, percent_change in zip(actions, percent_changes):\n",
        "        if action == 0:  # Sell\n",
        "            position = -100  # Set position to short\n",
        "            cash += position * percent_change  # Sell shares\n",
        "        elif action == 1:  # Flat\n",
        "            position = 0  # Set position to flat\n",
        "            cash += 0  # No action\n",
        "        elif action == 2:  # Buy\n",
        "            position = 100  # Set position to long\n",
        "            cash += position * percent_change  # Buy shares\n",
        "\n",
        "        portfolio_value.append(cash)  # Calculate portfolio value\n",
        "\n",
        "    return portfolio_value\n",
        "\n",
        "def run_single_iteration(X_train, y_train, X_test, y_test, best_params):\n",
        "    # Create the model with the best parameters\n",
        "    best_model_2 = create_model_2(batch_size=best_params_model_2['batch_size'],\n",
        "                                  dropout_rate1=best_params_model_2['model__dropout_rate1'],\n",
        "                                  units1=best_params_model_2['model__units1'],\n",
        "                                  units2=best_params_model_2['model__units2'],\n",
        "                                  dropout_rate2=best_params_model_2['model__dropout_rate2']\n",
        "                                  )\n",
        "\n",
        "    early_stopping_manual = EarlyStopping(monitor='val_loss', patience=10, restore_best_weights=True)\n",
        "    history = best_model_2.fit(X_train, y_train,\n",
        "                               epochs=75,\n",
        "                               batch_size = 32,\n",
        "                               validation_data=(X_test, y_test),\n",
        "                               shuffle=False,\n",
        "                               callbacks=[early_stopping_manual],\n",
        "                               verbose=0)\n",
        "\n",
        "    # Predict on the test set\n",
        "    predictions = best_model_2.predict(X_test)\n",
        "    predicted_categories = np.argmax(predictions, axis=1)\n",
        "\n",
        "    # Convert y_test from one-hot encoding to label format\n",
        "    y_test_labels = np.argmax(y_test, axis=1)\n",
        "\n",
        "    # Calculate accuracy\n",
        "    accuracy = accuracy_score(y_test_labels, predicted_categories)\n",
        "\n",
        "    # Generate signals based on predicted categories\n",
        "    signals = predicted_categories\n",
        "    percent_changes = np.array(df_raw_exchange.iloc[-len(y_test):])\n",
        "\n",
        "    # Run the backtest\n",
        "    portfolio_value = backtest(signals, percent_changes)\n",
        "    hit_rate = compute_hit_rate(signals, percent_changes)\n",
        "\n",
        "    # Count the number of trades\n",
        "    num_trades = np.sum((signals == 0) | (signals == 2))\n",
        "\n",
        "    return portfolio_value, accuracy, hit_rate, num_trades\n",
        "\n",
        "# Number of iterations for averaging\n",
        "iterations = 50\n",
        "\n",
        "# Lists to store the results of each iteration\n",
        "final_portfolio_values = []\n",
        "accuracies = []\n",
        "hit_rates = []\n",
        "trade_counts = []\n",
        "\n",
        "for i in range(iterations):\n",
        "    print(f\"Running iteration {i+1}/{iterations}\")\n",
        "    portfolio_value, accuracy, hit_rate, num_trades = run_single_iteration(X_train, y_train, X_test, y_test, best_params)\n",
        "    final_portfolio_values.append(portfolio_value[-1])\n",
        "    accuracies.append(accuracy)\n",
        "    hit_rates.append(hit_rate)\n",
        "    trade_counts.append(num_trades)\n",
        "    print(f\"Iteration {i+1} - Final Portfolio Value: {portfolio_value[-1]}, Accuracy: {accuracy}, Hit Rate: {hit_rate}, Trades: {num_trades}\")\n",
        "\n",
        "# Calculate the average and standard deviation of the final portfolio values\n",
        "average_final_value = np.mean(final_portfolio_values)\n",
        "std_final_value = np.std(final_portfolio_values)\n",
        "\n",
        "# Calculate the average accuracy, hit rate, and number of trades\n",
        "average_accuracy = np.mean(accuracies)\n",
        "average_hit_rate = np.mean(hit_rates)\n",
        "average_trades = np.mean(trade_counts)\n",
        "\n",
        "# Print results\n",
        "print(\"Average Final Portfolio Value:\")\n",
        "print(average_final_value)\n",
        "print(\"Standard Deviation of Final Values:\")\n",
        "print(std_final_value)\n",
        "print(\"Average Accuracy:\")\n",
        "print(average_accuracy)\n",
        "print(\"Average Hit Rate:\")\n",
        "print(average_hit_rate)\n",
        "print(\"Average Number of Trades:\")\n",
        "print(average_trades)\n"
      ],
      "metadata": {
        "colab": {
          "base_uri": "https://localhost:8080/",
          "height": 360
        },
        "id": "x8RXfbSFzzF2",
        "outputId": "0d5fab44-fdbb-40bd-df20-6e9b9b4825d8"
      },
      "execution_count": 235,
      "outputs": [
        {
          "output_type": "stream",
          "name": "stdout",
          "text": [
            "Running iteration 1/50\n",
            "\u001b[1m30/30\u001b[0m \u001b[32m━━━━━━━━━━━━━━━━━━━━\u001b[0m\u001b[37m\u001b[0m \u001b[1m2s\u001b[0m 54ms/step\n"
          ]
        },
        {
          "output_type": "error",
          "ename": "AttributeError",
          "evalue": "'numpy.ndarray' object has no attribute 'iloc'",
          "traceback": [
            "\u001b[0;31m---------------------------------------------------------------------------\u001b[0m",
            "\u001b[0;31mAttributeError\u001b[0m                            Traceback (most recent call last)",
            "\u001b[0;32m<ipython-input-235-8e8958e5d5c7>\u001b[0m in \u001b[0;36m<cell line: 91>\u001b[0;34m()\u001b[0m\n\u001b[1;32m     91\u001b[0m \u001b[0;32mfor\u001b[0m \u001b[0mi\u001b[0m \u001b[0;32min\u001b[0m \u001b[0mrange\u001b[0m\u001b[0;34m(\u001b[0m\u001b[0miterations\u001b[0m\u001b[0;34m)\u001b[0m\u001b[0;34m:\u001b[0m\u001b[0;34m\u001b[0m\u001b[0;34m\u001b[0m\u001b[0m\n\u001b[1;32m     92\u001b[0m     \u001b[0mprint\u001b[0m\u001b[0;34m(\u001b[0m\u001b[0;34mf\"Running iteration {i+1}/{iterations}\"\u001b[0m\u001b[0;34m)\u001b[0m\u001b[0;34m\u001b[0m\u001b[0;34m\u001b[0m\u001b[0m\n\u001b[0;32m---> 93\u001b[0;31m     \u001b[0mportfolio_value\u001b[0m\u001b[0;34m,\u001b[0m \u001b[0maccuracy\u001b[0m\u001b[0;34m,\u001b[0m \u001b[0mhit_rate\u001b[0m\u001b[0;34m,\u001b[0m \u001b[0mnum_trades\u001b[0m \u001b[0;34m=\u001b[0m \u001b[0mrun_single_iteration\u001b[0m\u001b[0;34m(\u001b[0m\u001b[0mX_train\u001b[0m\u001b[0;34m,\u001b[0m \u001b[0my_train\u001b[0m\u001b[0;34m,\u001b[0m \u001b[0mX_test\u001b[0m\u001b[0;34m,\u001b[0m \u001b[0my_test\u001b[0m\u001b[0;34m,\u001b[0m \u001b[0mbest_params\u001b[0m\u001b[0;34m)\u001b[0m\u001b[0;34m\u001b[0m\u001b[0;34m\u001b[0m\u001b[0m\n\u001b[0m\u001b[1;32m     94\u001b[0m     \u001b[0mfinal_portfolio_values\u001b[0m\u001b[0;34m.\u001b[0m\u001b[0mappend\u001b[0m\u001b[0;34m(\u001b[0m\u001b[0mportfolio_value\u001b[0m\u001b[0;34m[\u001b[0m\u001b[0;34m-\u001b[0m\u001b[0;36m1\u001b[0m\u001b[0;34m]\u001b[0m\u001b[0;34m)\u001b[0m\u001b[0;34m\u001b[0m\u001b[0;34m\u001b[0m\u001b[0m\n\u001b[1;32m     95\u001b[0m     \u001b[0maccuracies\u001b[0m\u001b[0;34m.\u001b[0m\u001b[0mappend\u001b[0m\u001b[0;34m(\u001b[0m\u001b[0maccuracy\u001b[0m\u001b[0;34m)\u001b[0m\u001b[0;34m\u001b[0m\u001b[0;34m\u001b[0m\u001b[0m\n",
            "\u001b[0;32m<ipython-input-235-8e8958e5d5c7>\u001b[0m in \u001b[0;36mrun_single_iteration\u001b[0;34m(X_train, y_train, X_test, y_test, best_params)\u001b[0m\n\u001b[1;32m     69\u001b[0m     \u001b[0;31m# Generate signals based on predicted categories\u001b[0m\u001b[0;34m\u001b[0m\u001b[0;34m\u001b[0m\u001b[0m\n\u001b[1;32m     70\u001b[0m     \u001b[0msignals\u001b[0m \u001b[0;34m=\u001b[0m \u001b[0mpredicted_categories\u001b[0m\u001b[0;34m\u001b[0m\u001b[0;34m\u001b[0m\u001b[0m\n\u001b[0;32m---> 71\u001b[0;31m     \u001b[0mpercent_changes\u001b[0m \u001b[0;34m=\u001b[0m \u001b[0mnp\u001b[0m\u001b[0;34m.\u001b[0m\u001b[0marray\u001b[0m\u001b[0;34m(\u001b[0m\u001b[0mdf_raw_exchange\u001b[0m\u001b[0;34m.\u001b[0m\u001b[0miloc\u001b[0m\u001b[0;34m[\u001b[0m\u001b[0;34m-\u001b[0m\u001b[0mlen\u001b[0m\u001b[0;34m(\u001b[0m\u001b[0my_test\u001b[0m\u001b[0;34m)\u001b[0m\u001b[0;34m:\u001b[0m\u001b[0;34m]\u001b[0m\u001b[0;34m)\u001b[0m\u001b[0;34m\u001b[0m\u001b[0;34m\u001b[0m\u001b[0m\n\u001b[0m\u001b[1;32m     72\u001b[0m \u001b[0;34m\u001b[0m\u001b[0m\n\u001b[1;32m     73\u001b[0m     \u001b[0;31m# Run the backtest\u001b[0m\u001b[0;34m\u001b[0m\u001b[0;34m\u001b[0m\u001b[0m\n",
            "\u001b[0;31mAttributeError\u001b[0m: 'numpy.ndarray' object has no attribute 'iloc'"
          ]
        }
      ]
    },
    {
      "cell_type": "markdown",
      "source": [
        "{'batch_size': 32, 'model__dropout_rate1': 0.4, 'model__dropout_rate2': 0.3, 'model__units1': 64, 'model__units2': 32}"
      ],
      "metadata": {
        "id": "lmduBG5F9rjv"
      }
    },
    {
      "cell_type": "code",
      "source": [
        "best_model_2.summary()"
      ],
      "metadata": {
        "id": "51fx59nK8cNU",
        "outputId": "cb48c6a1-402a-4733-f3f9-6deed798231f",
        "colab": {
          "base_uri": "https://localhost:8080/",
          "height": 305
        }
      },
      "execution_count": null,
      "outputs": [
        {
          "output_type": "display_data",
          "data": {
            "text/plain": [
              "\u001b[1mModel: \"sequential_4\"\u001b[0m\n"
            ],
            "text/html": [
              "<pre style=\"white-space:pre;overflow-x:auto;line-height:normal;font-family:Menlo,'DejaVu Sans Mono',consolas,'Courier New',monospace\"><span style=\"font-weight: bold\">Model: \"sequential_4\"</span>\n",
              "</pre>\n"
            ]
          },
          "metadata": {}
        },
        {
          "output_type": "display_data",
          "data": {
            "text/plain": [
              "┏━━━━━━━━━━━━━━━━━━━━━━━━━━━━━━━━━━━━━━┳━━━━━━━━━━━━━━━━━━━━━━━━━━━━━┳━━━━━━━━━━━━━━━━━┓\n",
              "┃\u001b[1m \u001b[0m\u001b[1mLayer (type)                        \u001b[0m\u001b[1m \u001b[0m┃\u001b[1m \u001b[0m\u001b[1mOutput Shape               \u001b[0m\u001b[1m \u001b[0m┃\u001b[1m \u001b[0m\u001b[1m        Param #\u001b[0m\u001b[1m \u001b[0m┃\n",
              "┡━━━━━━━━━━━━━━━━━━━━━━━━━━━━━━━━━━━━━━╇━━━━━━━━━━━━━━━━━━━━━━━━━━━━━╇━━━━━━━━━━━━━━━━━┩\n",
              "│ lstm_6 (\u001b[38;5;33mLSTM\u001b[0m)                        │ (\u001b[38;5;45mNone\u001b[0m, \u001b[38;5;34m15\u001b[0m, \u001b[38;5;34m128\u001b[0m)             │          \u001b[38;5;34m79,872\u001b[0m │\n",
              "├──────────────────────────────────────┼─────────────────────────────┼─────────────────┤\n",
              "│ dropout_6 (\u001b[38;5;33mDropout\u001b[0m)                  │ (\u001b[38;5;45mNone\u001b[0m, \u001b[38;5;34m15\u001b[0m, \u001b[38;5;34m128\u001b[0m)             │               \u001b[38;5;34m0\u001b[0m │\n",
              "├──────────────────────────────────────┼─────────────────────────────┼─────────────────┤\n",
              "│ lstm_7 (\u001b[38;5;33mLSTM\u001b[0m)                        │ (\u001b[38;5;45mNone\u001b[0m, \u001b[38;5;34m128\u001b[0m)                 │         \u001b[38;5;34m131,584\u001b[0m │\n",
              "├──────────────────────────────────────┼─────────────────────────────┼─────────────────┤\n",
              "│ dropout_7 (\u001b[38;5;33mDropout\u001b[0m)                  │ (\u001b[38;5;45mNone\u001b[0m, \u001b[38;5;34m128\u001b[0m)                 │               \u001b[38;5;34m0\u001b[0m │\n",
              "├──────────────────────────────────────┼─────────────────────────────┼─────────────────┤\n",
              "│ dense_4 (\u001b[38;5;33mDense\u001b[0m)                      │ (\u001b[38;5;45mNone\u001b[0m, \u001b[38;5;34m3\u001b[0m)                   │             \u001b[38;5;34m387\u001b[0m │\n",
              "└──────────────────────────────────────┴─────────────────────────────┴─────────────────┘\n"
            ],
            "text/html": [
              "<pre style=\"white-space:pre;overflow-x:auto;line-height:normal;font-family:Menlo,'DejaVu Sans Mono',consolas,'Courier New',monospace\">┏━━━━━━━━━━━━━━━━━━━━━━━━━━━━━━━━━━━━━━┳━━━━━━━━━━━━━━━━━━━━━━━━━━━━━┳━━━━━━━━━━━━━━━━━┓\n",
              "┃<span style=\"font-weight: bold\"> Layer (type)                         </span>┃<span style=\"font-weight: bold\"> Output Shape                </span>┃<span style=\"font-weight: bold\">         Param # </span>┃\n",
              "┡━━━━━━━━━━━━━━━━━━━━━━━━━━━━━━━━━━━━━━╇━━━━━━━━━━━━━━━━━━━━━━━━━━━━━╇━━━━━━━━━━━━━━━━━┩\n",
              "│ lstm_6 (<span style=\"color: #0087ff; text-decoration-color: #0087ff\">LSTM</span>)                        │ (<span style=\"color: #00d7ff; text-decoration-color: #00d7ff\">None</span>, <span style=\"color: #00af00; text-decoration-color: #00af00\">15</span>, <span style=\"color: #00af00; text-decoration-color: #00af00\">128</span>)             │          <span style=\"color: #00af00; text-decoration-color: #00af00\">79,872</span> │\n",
              "├──────────────────────────────────────┼─────────────────────────────┼─────────────────┤\n",
              "│ dropout_6 (<span style=\"color: #0087ff; text-decoration-color: #0087ff\">Dropout</span>)                  │ (<span style=\"color: #00d7ff; text-decoration-color: #00d7ff\">None</span>, <span style=\"color: #00af00; text-decoration-color: #00af00\">15</span>, <span style=\"color: #00af00; text-decoration-color: #00af00\">128</span>)             │               <span style=\"color: #00af00; text-decoration-color: #00af00\">0</span> │\n",
              "├──────────────────────────────────────┼─────────────────────────────┼─────────────────┤\n",
              "│ lstm_7 (<span style=\"color: #0087ff; text-decoration-color: #0087ff\">LSTM</span>)                        │ (<span style=\"color: #00d7ff; text-decoration-color: #00d7ff\">None</span>, <span style=\"color: #00af00; text-decoration-color: #00af00\">128</span>)                 │         <span style=\"color: #00af00; text-decoration-color: #00af00\">131,584</span> │\n",
              "├──────────────────────────────────────┼─────────────────────────────┼─────────────────┤\n",
              "│ dropout_7 (<span style=\"color: #0087ff; text-decoration-color: #0087ff\">Dropout</span>)                  │ (<span style=\"color: #00d7ff; text-decoration-color: #00d7ff\">None</span>, <span style=\"color: #00af00; text-decoration-color: #00af00\">128</span>)                 │               <span style=\"color: #00af00; text-decoration-color: #00af00\">0</span> │\n",
              "├──────────────────────────────────────┼─────────────────────────────┼─────────────────┤\n",
              "│ dense_4 (<span style=\"color: #0087ff; text-decoration-color: #0087ff\">Dense</span>)                      │ (<span style=\"color: #00d7ff; text-decoration-color: #00d7ff\">None</span>, <span style=\"color: #00af00; text-decoration-color: #00af00\">3</span>)                   │             <span style=\"color: #00af00; text-decoration-color: #00af00\">387</span> │\n",
              "└──────────────────────────────────────┴─────────────────────────────┴─────────────────┘\n",
              "</pre>\n"
            ]
          },
          "metadata": {}
        },
        {
          "output_type": "display_data",
          "data": {
            "text/plain": [
              "\u001b[1m Total params: \u001b[0m\u001b[38;5;34m635,531\u001b[0m (2.42 MB)\n"
            ],
            "text/html": [
              "<pre style=\"white-space:pre;overflow-x:auto;line-height:normal;font-family:Menlo,'DejaVu Sans Mono',consolas,'Courier New',monospace\"><span style=\"font-weight: bold\"> Total params: </span><span style=\"color: #00af00; text-decoration-color: #00af00\">635,531</span> (2.42 MB)\n",
              "</pre>\n"
            ]
          },
          "metadata": {}
        },
        {
          "output_type": "display_data",
          "data": {
            "text/plain": [
              "\u001b[1m Trainable params: \u001b[0m\u001b[38;5;34m211,843\u001b[0m (827.51 KB)\n"
            ],
            "text/html": [
              "<pre style=\"white-space:pre;overflow-x:auto;line-height:normal;font-family:Menlo,'DejaVu Sans Mono',consolas,'Courier New',monospace\"><span style=\"font-weight: bold\"> Trainable params: </span><span style=\"color: #00af00; text-decoration-color: #00af00\">211,843</span> (827.51 KB)\n",
              "</pre>\n"
            ]
          },
          "metadata": {}
        },
        {
          "output_type": "display_data",
          "data": {
            "text/plain": [
              "\u001b[1m Non-trainable params: \u001b[0m\u001b[38;5;34m0\u001b[0m (0.00 B)\n"
            ],
            "text/html": [
              "<pre style=\"white-space:pre;overflow-x:auto;line-height:normal;font-family:Menlo,'DejaVu Sans Mono',consolas,'Courier New',monospace\"><span style=\"font-weight: bold\"> Non-trainable params: </span><span style=\"color: #00af00; text-decoration-color: #00af00\">0</span> (0.00 B)\n",
              "</pre>\n"
            ]
          },
          "metadata": {}
        },
        {
          "output_type": "display_data",
          "data": {
            "text/plain": [
              "\u001b[1m Optimizer params: \u001b[0m\u001b[38;5;34m423,688\u001b[0m (1.62 MB)\n"
            ],
            "text/html": [
              "<pre style=\"white-space:pre;overflow-x:auto;line-height:normal;font-family:Menlo,'DejaVu Sans Mono',consolas,'Courier New',monospace\"><span style=\"font-weight: bold\"> Optimizer params: </span><span style=\"color: #00af00; text-decoration-color: #00af00\">423,688</span> (1.62 MB)\n",
              "</pre>\n"
            ]
          },
          "metadata": {}
        }
      ]
    },
    {
      "cell_type": "code",
      "source": [
        "model_2_save_path = 'second_iteration_lstm.keras'\n",
        "best_model_2.save(model_2_save_path)\n",
        "logging.info(f\"Model saved to {model_2_save_path}\")\n"
      ],
      "metadata": {
        "id": "GD_SVIMcXz5O"
      },
      "execution_count": null,
      "outputs": []
    },
    {
      "cell_type": "markdown",
      "source": [
        "# 3rd Iteration\n",
        "\n",
        "1 lstm layer med l1 eller l2 gridsearch  \n"
      ],
      "metadata": {
        "id": "raDxrz0OXdn-"
      }
    },
    {
      "cell_type": "code",
      "source": [
        "from tensorflow.keras.regularizers import l1_l2"
      ],
      "metadata": {
        "id": "t1hhA3C6hbqv"
      },
      "execution_count": null,
      "outputs": []
    },
    {
      "cell_type": "code",
      "source": [
        "time_steps = 15\n",
        "\n",
        "dataX = create_dataset(dataset, time_steps)\n",
        "\n",
        "dataX = np.reshape(dataX, (dataX.shape[0], time_steps, dataset.shape[1]))\n",
        "\n",
        "X = dataX\n",
        "y = y_categories[time_steps:]\n",
        "X_train, X_test, y_train, y_test = train_test_split(X, y, test_size=0.2, shuffle=False)"
      ],
      "metadata": {
        "id": "hgm2rVqiHEll"
      },
      "execution_count": null,
      "outputs": []
    },
    {
      "cell_type": "code",
      "source": [
        "def create_model_3(units1=128, dropout_rate1 = 0.3, batch_size = 32, l1 = 0.01, l2 = 0.01):\n",
        "    model = Sequential([\n",
        "        Input(shape=(X_train.shape[1], X_train.shape[2])),\n",
        "        LSTM(units1, return_sequences = False),\n",
        "        Dropout(dropout_rate1),\n",
        "        Dense(3, activation='softmax', kernel_regularizer = l1_l2(l1=l1, l2=l2))\n",
        "    ])\n",
        "    model.compile(optimizer='adam', loss='sparse_categorical_crossentropy', metrics=['accuracy'])\n",
        "    return model"
      ],
      "metadata": {
        "id": "aG0H2wuogQMm"
      },
      "execution_count": null,
      "outputs": []
    },
    {
      "cell_type": "code",
      "source": [
        "model_3 = KerasClassifier(model=create_model_3, epochs = 100, verbose=0, random_state = 42)"
      ],
      "metadata": {
        "id": "SU70hUdGHEln"
      },
      "execution_count": null,
      "outputs": []
    },
    {
      "cell_type": "code",
      "source": [
        "param_grid_model3 = {\n",
        "    'model__units1': [32, 64, 128],\n",
        "    'model__dropout_rate1': [0.4, 0.3, 0.2],\n",
        "    'batch_size': [32, 64, 128],\n",
        "    'model__l1': [0.01, 0.001],\n",
        "    'model__l2': [0.01, 0.001]\n",
        "}"
      ],
      "metadata": {
        "id": "F6a5QdTBgkRB"
      },
      "execution_count": null,
      "outputs": []
    },
    {
      "cell_type": "code",
      "source": [
        "# Perform Grid Search with 5-fold cross-validation\n",
        "logging.info('Starting grid search...')\n",
        "grid_model_3 = GridSearchCV(estimator=model_3, param_grid=param_grid_model3, cv=5, n_jobs = -1)"
      ],
      "metadata": {
        "id": "2mCcvVuwHEln"
      },
      "execution_count": null,
      "outputs": []
    },
    {
      "cell_type": "code",
      "source": [
        "# Fit the grid search\n",
        "grid_result_model_3 = grid_model_3.fit(X_train, y_train)"
      ],
      "metadata": {
        "colab": {
          "base_uri": "https://localhost:8080/"
        },
        "id": "Jkhx4HFoHElo",
        "outputId": "c4fd0e91-61f4-4488-e52f-e6fdbbc1e2d1"
      },
      "execution_count": null,
      "outputs": [
        {
          "output_type": "stream",
          "name": "stderr",
          "text": [
            "/usr/local/lib/python3.10/dist-packages/joblib/externals/loky/process_executor.py:752: UserWarning: A worker stopped while some jobs were given to the executor. This can be caused by a too short worker timeout or by a memory leak.\n",
            "  warnings.warn(\n",
            "/usr/local/lib/python3.10/dist-packages/joblib/externals/loky/backend/fork_exec.py:38: RuntimeWarning: os.fork() was called. os.fork() is incompatible with multithreaded code, and JAX is multithreaded, so this will likely lead to a deadlock.\n",
            "  pid = os.fork()\n"
          ]
        }
      ]
    },
    {
      "cell_type": "code",
      "source": [
        "best_params_model_3 = grid_result_model_3.best_params_\n",
        "logging.info(f\"Best Parameters: {best_params_model_3}\")\n",
        "print(best_params_model_3)"
      ],
      "metadata": {
        "colab": {
          "base_uri": "https://localhost:8080/"
        },
        "outputId": "239522b6-d05a-4923-a739-1ca9a6a705f5",
        "id": "aw0cDP5MYq_m"
      },
      "execution_count": null,
      "outputs": [
        {
          "output_type": "stream",
          "name": "stdout",
          "text": [
            "{'batch_size': 32, 'model__dropout_rate1': 0.4, 'model__l1': 0.01, 'model__l2': 0.01, 'model__units1': 128}\n"
          ]
        }
      ]
    },
    {
      "cell_type": "code",
      "source": [
        "best_model_3 = create_model_3(units1 = best_params_model_3['model__units1'],\n",
        "                          dropout_rate1 = best_params_model_3['model__dropout_rate1'],\n",
        "                          batch_size = best_params_model_3['batch_size'],\n",
        "                          l1 = best_params_model_3['model__l1'],\n",
        "                          l2 = best_params_model_3['model__l2']\n",
        "                          )"
      ],
      "metadata": {
        "id": "E3y-RYy1Yq_n"
      },
      "execution_count": null,
      "outputs": []
    },
    {
      "cell_type": "code",
      "source": [
        "history_model_3 = best_model_3.fit(X_train, y_train,\n",
        "                         epochs=100,\n",
        "                         validation_data=(X_test, y_test),\n",
        "                         verbose=0)"
      ],
      "metadata": {
        "id": "l7bVpi3aYq_n"
      },
      "execution_count": null,
      "outputs": []
    },
    {
      "cell_type": "code",
      "source": [
        "# Plot training & validation loss values\n",
        "plt.plot(history_model_3.history['loss'])\n",
        "plt.plot(history_model_3.history['val_loss'])\n",
        "plt.title('Model loss')\n",
        "plt.ylabel('Loss')\n",
        "plt.xlabel('Epoch')\n",
        "plt.legend(['Train', 'Test'], loc='upper left')\n",
        "plt.show()"
      ],
      "metadata": {
        "id": "tYZ7qgwJeDTl",
        "outputId": "cd20c11d-eac7-408f-ea06-2be4248d0c54",
        "colab": {
          "base_uri": "https://localhost:8080/",
          "height": 472
        }
      },
      "execution_count": null,
      "outputs": [
        {
          "output_type": "display_data",
          "data": {
            "text/plain": [
              "<Figure size 640x480 with 1 Axes>"
            ],
            "image/png": "[encoded data removed]"
          },
          "metadata": {}
        }
      ]
    },
    {
      "cell_type": "code",
      "source": [
        "y_pred = best_model_3.predict(X_test)\n",
        "\n",
        "actual_categories = y_test\n",
        "predicted_categories = np.argmax(y_pred, axis=1)\n",
        "\n",
        "cm = confusion_matrix(actual_categories, predicted_categories)\n",
        "disp = ConfusionMatrixDisplay(confusion_matrix=cm, display_labels=[0, 1, 2])\n",
        "\n",
        "plt.figure(figsize=(10, 7))\n",
        "disp.plot(cmap=plt.cm.Blues)\n",
        "plt.title('Confusion Matrix')\n",
        "plt.show()"
      ],
      "metadata": {
        "id": "QvMeilgThxOK",
        "outputId": "18b17079-407c-4f5d-c717-d979ad1561f8",
        "colab": {
          "base_uri": "https://localhost:8080/",
          "height": 506
        }
      },
      "execution_count": null,
      "outputs": [
        {
          "output_type": "stream",
          "name": "stdout",
          "text": [
            "\u001b[1m30/30\u001b[0m \u001b[32m━━━━━━━━━━━━━━━━━━━━\u001b[0m\u001b[37m\u001b[0m \u001b[1m0s\u001b[0m 5ms/step\n"
          ]
        },
        {
          "output_type": "display_data",
          "data": {
            "text/plain": [
              "<Figure size 1000x700 with 0 Axes>"
            ]
          },
          "metadata": {}
        },
        {
          "output_type": "display_data",
          "data": {
            "text/plain": [
              "<Figure size 640x480 with 2 Axes>"
            ],
            "image/png": "[encoded data removed]"
          },
          "metadata": {}
        }
      ]
    },
    {
      "cell_type": "code",
      "source": [
        "best_model_3.summary()"
      ],
      "metadata": {
        "id": "99daDu59iHyQ",
        "outputId": "9b9d8632-a2d2-4626-b2fe-072f8b552485",
        "colab": {
          "base_uri": "https://localhost:8080/",
          "height": 241
        }
      },
      "execution_count": null,
      "outputs": [
        {
          "output_type": "display_data",
          "data": {
            "text/plain": [
              "\u001b[1mModel: \"sequential_6\"\u001b[0m\n"
            ],
            "text/html": [
              "<pre style=\"white-space:pre;overflow-x:auto;line-height:normal;font-family:Menlo,'DejaVu Sans Mono',consolas,'Courier New',monospace\"><span style=\"font-weight: bold\">Model: \"sequential_6\"</span>\n",
              "</pre>\n"
            ]
          },
          "metadata": {}
        },
        {
          "output_type": "display_data",
          "data": {
            "text/plain": [
              "┏━━━━━━━━━━━━━━━━━━━━━━━━━━━━━━━━━━━━━━┳━━━━━━━━━━━━━━━━━━━━━━━━━━━━━┳━━━━━━━━━━━━━━━━━┓\n",
              "┃\u001b[1m \u001b[0m\u001b[1mLayer (type)                        \u001b[0m\u001b[1m \u001b[0m┃\u001b[1m \u001b[0m\u001b[1mOutput Shape               \u001b[0m\u001b[1m \u001b[0m┃\u001b[1m \u001b[0m\u001b[1m        Param #\u001b[0m\u001b[1m \u001b[0m┃\n",
              "┡━━━━━━━━━━━━━━━━━━━━━━━━━━━━━━━━━━━━━━╇━━━━━━━━━━━━━━━━━━━━━━━━━━━━━╇━━━━━━━━━━━━━━━━━┩\n",
              "│ lstm_9 (\u001b[38;5;33mLSTM\u001b[0m)                        │ (\u001b[38;5;45mNone\u001b[0m, \u001b[38;5;34m128\u001b[0m)                 │          \u001b[38;5;34m79,872\u001b[0m │\n",
              "├──────────────────────────────────────┼─────────────────────────────┼─────────────────┤\n",
              "│ dropout_9 (\u001b[38;5;33mDropout\u001b[0m)                  │ (\u001b[38;5;45mNone\u001b[0m, \u001b[38;5;34m128\u001b[0m)                 │               \u001b[38;5;34m0\u001b[0m │\n",
              "├──────────────────────────────────────┼─────────────────────────────┼─────────────────┤\n",
              "│ dense_6 (\u001b[38;5;33mDense\u001b[0m)                      │ (\u001b[38;5;45mNone\u001b[0m, \u001b[38;5;34m3\u001b[0m)                   │             \u001b[38;5;34m387\u001b[0m │\n",
              "└──────────────────────────────────────┴─────────────────────────────┴─────────────────┘\n"
            ],
            "text/html": [
              "<pre style=\"white-space:pre;overflow-x:auto;line-height:normal;font-family:Menlo,'DejaVu Sans Mono',consolas,'Courier New',monospace\">┏━━━━━━━━━━━━━━━━━━━━━━━━━━━━━━━━━━━━━━┳━━━━━━━━━━━━━━━━━━━━━━━━━━━━━┳━━━━━━━━━━━━━━━━━┓\n",
              "┃<span style=\"font-weight: bold\"> Layer (type)                         </span>┃<span style=\"font-weight: bold\"> Output Shape                </span>┃<span style=\"font-weight: bold\">         Param # </span>┃\n",
              "┡━━━━━━━━━━━━━━━━━━━━━━━━━━━━━━━━━━━━━━╇━━━━━━━━━━━━━━━━━━━━━━━━━━━━━╇━━━━━━━━━━━━━━━━━┩\n",
              "│ lstm_9 (<span style=\"color: #0087ff; text-decoration-color: #0087ff\">LSTM</span>)                        │ (<span style=\"color: #00d7ff; text-decoration-color: #00d7ff\">None</span>, <span style=\"color: #00af00; text-decoration-color: #00af00\">128</span>)                 │          <span style=\"color: #00af00; text-decoration-color: #00af00\">79,872</span> │\n",
              "├──────────────────────────────────────┼─────────────────────────────┼─────────────────┤\n",
              "│ dropout_9 (<span style=\"color: #0087ff; text-decoration-color: #0087ff\">Dropout</span>)                  │ (<span style=\"color: #00d7ff; text-decoration-color: #00d7ff\">None</span>, <span style=\"color: #00af00; text-decoration-color: #00af00\">128</span>)                 │               <span style=\"color: #00af00; text-decoration-color: #00af00\">0</span> │\n",
              "├──────────────────────────────────────┼─────────────────────────────┼─────────────────┤\n",
              "│ dense_6 (<span style=\"color: #0087ff; text-decoration-color: #0087ff\">Dense</span>)                      │ (<span style=\"color: #00d7ff; text-decoration-color: #00d7ff\">None</span>, <span style=\"color: #00af00; text-decoration-color: #00af00\">3</span>)                   │             <span style=\"color: #00af00; text-decoration-color: #00af00\">387</span> │\n",
              "└──────────────────────────────────────┴─────────────────────────────┴─────────────────┘\n",
              "</pre>\n"
            ]
          },
          "metadata": {}
        },
        {
          "output_type": "display_data",
          "data": {
            "text/plain": [
              "\u001b[1m Total params: \u001b[0m\u001b[38;5;34m240,779\u001b[0m (940.55 KB)\n"
            ],
            "text/html": [
              "<pre style=\"white-space:pre;overflow-x:auto;line-height:normal;font-family:Menlo,'DejaVu Sans Mono',consolas,'Courier New',monospace\"><span style=\"font-weight: bold\"> Total params: </span><span style=\"color: #00af00; text-decoration-color: #00af00\">240,779</span> (940.55 KB)\n",
              "</pre>\n"
            ]
          },
          "metadata": {}
        },
        {
          "output_type": "display_data",
          "data": {
            "text/plain": [
              "\u001b[1m Trainable params: \u001b[0m\u001b[38;5;34m80,259\u001b[0m (313.51 KB)\n"
            ],
            "text/html": [
              "<pre style=\"white-space:pre;overflow-x:auto;line-height:normal;font-family:Menlo,'DejaVu Sans Mono',consolas,'Courier New',monospace\"><span style=\"font-weight: bold\"> Trainable params: </span><span style=\"color: #00af00; text-decoration-color: #00af00\">80,259</span> (313.51 KB)\n",
              "</pre>\n"
            ]
          },
          "metadata": {}
        },
        {
          "output_type": "display_data",
          "data": {
            "text/plain": [
              "\u001b[1m Non-trainable params: \u001b[0m\u001b[38;5;34m0\u001b[0m (0.00 B)\n"
            ],
            "text/html": [
              "<pre style=\"white-space:pre;overflow-x:auto;line-height:normal;font-family:Menlo,'DejaVu Sans Mono',consolas,'Courier New',monospace\"><span style=\"font-weight: bold\"> Non-trainable params: </span><span style=\"color: #00af00; text-decoration-color: #00af00\">0</span> (0.00 B)\n",
              "</pre>\n"
            ]
          },
          "metadata": {}
        },
        {
          "output_type": "display_data",
          "data": {
            "text/plain": [
              "\u001b[1m Optimizer params: \u001b[0m\u001b[38;5;34m160,520\u001b[0m (627.04 KB)\n"
            ],
            "text/html": [
              "<pre style=\"white-space:pre;overflow-x:auto;line-height:normal;font-family:Menlo,'DejaVu Sans Mono',consolas,'Courier New',monospace\"><span style=\"font-weight: bold\"> Optimizer params: </span><span style=\"color: #00af00; text-decoration-color: #00af00\">160,520</span> (627.04 KB)\n",
              "</pre>\n"
            ]
          },
          "metadata": {}
        }
      ]
    },
    {
      "cell_type": "code",
      "source": [
        "model_3_save_path = 'third_iteration_lstm.keras'\n",
        "best_model_3.save(model_3_save_path)\n",
        "logging.info(f\"Model saved to {model_3_save_path}\")\n"
      ],
      "metadata": {
        "id": "Jku4ycaRY2Wy"
      },
      "execution_count": null,
      "outputs": []
    },
    {
      "cell_type": "markdown",
      "source": [
        "# 4th Iteration\n",
        "\n",
        "SLSTM with only technical variables\n"
      ],
      "metadata": {
        "id": "HjNl3WoQZGV_"
      }
    },
    {
      "cell_type": "code",
      "source": [
        "logging.info('Loading dataset...')\n",
        "\n",
        "file_path = '/content/technical_indicators_stationary.csv'\n",
        "df = pd.read_csv(file_path)\n",
        "df = df.drop(columns = ['date'])\n",
        "dataset = df.values[:, 0:].astype('float64') # Later this can be changed to float64 for further precision.\n",
        "\n",
        "diff = dataset[:,1:2]"
      ],
      "metadata": {
        "id": "mBg5CNUM60UI"
      },
      "execution_count": null,
      "outputs": []
    },
    {
      "cell_type": "code",
      "source": [
        "print(diff)"
      ],
      "metadata": {
        "colab": {
          "base_uri": "https://localhost:8080/"
        },
        "id": "hoqPE9px9cDE",
        "outputId": "ff0a25e7-d000-444b-ca0e-b4e91f7b30a8"
      },
      "execution_count": null,
      "outputs": [
        {
          "output_type": "stream",
          "name": "stdout",
          "text": [
            "[[-0.0003]\n",
            " [-0.0105]\n",
            " [-0.0125]\n",
            " ...\n",
            " [ 0.0079]\n",
            " [-0.0041]\n",
            " [-0.0011]]\n"
          ]
        }
      ]
    },
    {
      "cell_type": "code",
      "source": [
        "time_steps = 15\n",
        "\n",
        "dataX = create_dataset(dataset, time_steps)\n",
        "\n",
        "dataX = np.reshape(dataX, (dataX.shape[0], time_steps, dataset.shape[1]))\n",
        "\n",
        "X = dataX\n",
        "y = y_categories[time_steps:]\n",
        "X_train, X_test, y_train, y_test = train_test_split(X, y, test_size=0.2, shuffle=False, random_state = 42)"
      ],
      "metadata": {
        "id": "K_5al4hayBE-"
      },
      "execution_count": null,
      "outputs": []
    },
    {
      "cell_type": "code",
      "source": [
        "def create_model_4(units1 = 128, dropout_rate1 = 0.2, batch_size = 32):\n",
        "    model = Sequential([\n",
        "        Input(shape=(X_train.shape[1], X_train.shape[2])),\n",
        "        LSTM(units1, return_sequences = False),\n",
        "        Dropout(dropout_rate1),\n",
        "        Dense(3, activation = 'softmax')\n",
        "    ])\n",
        "    model.compile(optimizer='adam', loss='sparse_categorical_crossentropy', metrics=['accuracy'])\n",
        "    return model"
      ],
      "metadata": {
        "id": "Xd7xw4w5ZGHf"
      },
      "execution_count": null,
      "outputs": []
    },
    {
      "cell_type": "code",
      "source": [
        "param_grid_model_4 = {\n",
        "    'model__units1': [32, 64, 128],\n",
        "    'model__dropout_rate1': [0.1, 0.2, 0.3],\n",
        "    'batch_size': [32, 64, 128]\n",
        "}"
      ],
      "metadata": {
        "id": "Zd0By1dv3oHq"
      },
      "execution_count": null,
      "outputs": []
    },
    {
      "cell_type": "code",
      "source": [
        "model_4 = KerasClassifier(model=create_model_4, epochs = 75, verbose=0, random_state = 42)"
      ],
      "metadata": {
        "id": "4jJ1f7aXZHqs"
      },
      "execution_count": null,
      "outputs": []
    },
    {
      "cell_type": "code",
      "source": [
        "# Perform Grid Search with 5-fold cross-validation\n",
        "logging.info('Starting grid search...')\n",
        "grid_model_4 = GridSearchCV(estimator=model_4, param_grid=param_grid_model_4, cv=5, scoring = 'accuracy', n_jobs = -1)"
      ],
      "metadata": {
        "id": "7saLAKHjZHqs"
      },
      "execution_count": null,
      "outputs": []
    },
    {
      "cell_type": "code",
      "source": [
        "# Fit the grid search\n",
        "grid_result_model_4 = grid_model_4.fit(X_train, y_train)"
      ],
      "metadata": {
        "colab": {
          "base_uri": "https://localhost:8080/"
        },
        "outputId": "4350ddf7-99c0-4108-b336-df870b531319",
        "id": "XkD3EzbiZHqs"
      },
      "execution_count": null,
      "outputs": [
        {
          "metadata": {
            "tags": null
          },
          "name": "stderr",
          "output_type": "stream",
          "text": [
            "/usr/local/lib/python3.10/dist-packages/joblib/externals/loky/backend/fork_exec.py:38: RuntimeWarning: os.fork() was called. os.fork() is incompatible with multithreaded code, and JAX is multithreaded, so this will likely lead to a deadlock.\n",
            "  pid = os.fork()\n"
          ]
        }
      ]
    },
    {
      "cell_type": "code",
      "source": [
        "best_params_model_4 = grid_result_model_4.best_params_\n",
        "logging.info(f\"Best Parameters: {best_params_model_4}\")\n",
        "print(best_params_model_4)"
      ],
      "metadata": {
        "colab": {
          "base_uri": "https://localhost:8080/"
        },
        "id": "EcRpxq1R_pS2",
        "outputId": "8df9af98-a01e-4b35-db95-b9e1b5448dee"
      },
      "execution_count": null,
      "outputs": [
        {
          "output_type": "stream",
          "name": "stdout",
          "text": [
            "{'batch_size': 64, 'model__dropout_rate1': 0.3, 'model__units1': 32}\n"
          ]
        }
      ]
    },
    {
      "cell_type": "code",
      "source": [
        "best_model_4 = create_model_4(units1 = best_params_model_4['model__units1'],\n",
        "                          dropout_rate1 = best_params_model_4['model__dropout_rate1'],\n",
        "                          batch_size = best_params_model_4['batch_size']\n",
        "                          )"
      ],
      "metadata": {
        "id": "E7w3jJeO_tOo"
      },
      "execution_count": null,
      "outputs": []
    },
    {
      "cell_type": "code",
      "source": [
        "history_model_4 = best_model_4.fit(X_train, y_train,\n",
        "                         epochs=30,\n",
        "                         validation_data=(X_test, y_test),\n",
        "                         verbose=0)"
      ],
      "metadata": {
        "id": "w3G1BQlz_134"
      },
      "execution_count": null,
      "outputs": []
    },
    {
      "cell_type": "code",
      "source": [
        "# Plot training & validation loss values\n",
        "plt.plot(history_model_4.history['loss'])\n",
        "plt.plot(history_model_4.history['val_loss'])\n",
        "plt.title('Model loss')\n",
        "plt.ylabel('Loss')\n",
        "plt.xlabel('Epoch')\n",
        "plt.legend(['Train', 'Test'], loc='upper left')\n",
        "plt.show()"
      ],
      "metadata": {
        "colab": {
          "base_uri": "https://localhost:8080/",
          "height": 472
        },
        "id": "5FSNJKXU_4qH",
        "outputId": "1f46119a-610b-4bb1-b0f9-de159fee27b3"
      },
      "execution_count": null,
      "outputs": [
        {
          "output_type": "display_data",
          "data": {
            "text/plain": [
              "<Figure size 640x480 with 1 Axes>"
            ],
            "image/png": "[encoded data removed]"
          },
          "metadata": {}
        }
      ]
    },
    {
      "cell_type": "code",
      "source": [
        "from sklearn.metrics import confusion_matrix, ConfusionMatrixDisplay\n",
        "\n",
        "y_pred = best_model_4.predict(X_test)\n",
        "\n",
        "actual_categories = y_test\n",
        "predicted_categories = np.argmax(y_pred, axis=1)\n",
        "\n",
        "cm = confusion_matrix(actual_categories, predicted_categories)\n",
        "disp = ConfusionMatrixDisplay(confusion_matrix=cm, display_labels=[0, 1, 2])\n",
        "\n",
        "plt.figure(figsize=(10, 7))\n",
        "disp.plot(cmap=plt.cm.Blues)\n",
        "plt.title('Confusion Matrix')\n",
        "plt.show()"
      ],
      "metadata": {
        "colab": {
          "base_uri": "https://localhost:8080/",
          "height": 506
        },
        "id": "DIUMJ8Eo_7DO",
        "outputId": "a87e3944-beb4-43be-b01c-568917314922"
      },
      "execution_count": null,
      "outputs": [
        {
          "output_type": "stream",
          "name": "stdout",
          "text": [
            "\u001b[1m30/30\u001b[0m \u001b[32m━━━━━━━━━━━━━━━━━━━━\u001b[0m\u001b[37m\u001b[0m \u001b[1m0s\u001b[0m 1ms/step \n"
          ]
        },
        {
          "output_type": "display_data",
          "data": {
            "text/plain": [
              "<Figure size 1000x700 with 0 Axes>"
            ]
          },
          "metadata": {}
        },
        {
          "output_type": "display_data",
          "data": {
            "text/plain": [
              "<Figure size 640x480 with 2 Axes>"
            ],
            "image/png": "[encoded data removed]"
          },
          "metadata": {}
        }
      ]
    },
    {
      "cell_type": "code",
      "source": [
        "best_model_4.summary()"
      ],
      "metadata": {
        "colab": {
          "base_uri": "https://localhost:8080/",
          "height": 241
        },
        "id": "ozPLSCFr_-lX",
        "outputId": "b033b301-35c7-4ab9-e840-ce7c7b9f6ef5"
      },
      "execution_count": null,
      "outputs": [
        {
          "output_type": "display_data",
          "data": {
            "text/plain": [
              "\u001b[1mModel: \"sequential_1\"\u001b[0m\n"
            ],
            "text/html": [
              "<pre style=\"white-space:pre;overflow-x:auto;line-height:normal;font-family:Menlo,'DejaVu Sans Mono',consolas,'Courier New',monospace\"><span style=\"font-weight: bold\">Model: \"sequential_1\"</span>\n",
              "</pre>\n"
            ]
          },
          "metadata": {}
        },
        {
          "output_type": "display_data",
          "data": {
            "text/plain": [
              "┏━━━━━━━━━━━━━━━━━━━━━━━━━━━━━━━━━━━━━━┳━━━━━━━━━━━━━━━━━━━━━━━━━━━━━┳━━━━━━━━━━━━━━━━━┓\n",
              "┃\u001b[1m \u001b[0m\u001b[1mLayer (type)                        \u001b[0m\u001b[1m \u001b[0m┃\u001b[1m \u001b[0m\u001b[1mOutput Shape               \u001b[0m\u001b[1m \u001b[0m┃\u001b[1m \u001b[0m\u001b[1m        Param #\u001b[0m\u001b[1m \u001b[0m┃\n",
              "┡━━━━━━━━━━━━━━━━━━━━━━━━━━━━━━━━━━━━━━╇━━━━━━━━━━━━━━━━━━━━━━━━━━━━━╇━━━━━━━━━━━━━━━━━┩\n",
              "│ lstm_1 (\u001b[38;5;33mLSTM\u001b[0m)                        │ (\u001b[38;5;45mNone\u001b[0m, \u001b[38;5;34m32\u001b[0m)                  │           \u001b[38;5;34m5,632\u001b[0m │\n",
              "├──────────────────────────────────────┼─────────────────────────────┼─────────────────┤\n",
              "│ dropout_1 (\u001b[38;5;33mDropout\u001b[0m)                  │ (\u001b[38;5;45mNone\u001b[0m, \u001b[38;5;34m32\u001b[0m)                  │               \u001b[38;5;34m0\u001b[0m │\n",
              "├──────────────────────────────────────┼─────────────────────────────┼─────────────────┤\n",
              "│ dense_1 (\u001b[38;5;33mDense\u001b[0m)                      │ (\u001b[38;5;45mNone\u001b[0m, \u001b[38;5;34m3\u001b[0m)                   │              \u001b[38;5;34m99\u001b[0m │\n",
              "└──────────────────────────────────────┴─────────────────────────────┴─────────────────┘\n"
            ],
            "text/html": [
              "<pre style=\"white-space:pre;overflow-x:auto;line-height:normal;font-family:Menlo,'DejaVu Sans Mono',consolas,'Courier New',monospace\">┏━━━━━━━━━━━━━━━━━━━━━━━━━━━━━━━━━━━━━━┳━━━━━━━━━━━━━━━━━━━━━━━━━━━━━┳━━━━━━━━━━━━━━━━━┓\n",
              "┃<span style=\"font-weight: bold\"> Layer (type)                         </span>┃<span style=\"font-weight: bold\"> Output Shape                </span>┃<span style=\"font-weight: bold\">         Param # </span>┃\n",
              "┡━━━━━━━━━━━━━━━━━━━━━━━━━━━━━━━━━━━━━━╇━━━━━━━━━━━━━━━━━━━━━━━━━━━━━╇━━━━━━━━━━━━━━━━━┩\n",
              "│ lstm_1 (<span style=\"color: #0087ff; text-decoration-color: #0087ff\">LSTM</span>)                        │ (<span style=\"color: #00d7ff; text-decoration-color: #00d7ff\">None</span>, <span style=\"color: #00af00; text-decoration-color: #00af00\">32</span>)                  │           <span style=\"color: #00af00; text-decoration-color: #00af00\">5,632</span> │\n",
              "├──────────────────────────────────────┼─────────────────────────────┼─────────────────┤\n",
              "│ dropout_1 (<span style=\"color: #0087ff; text-decoration-color: #0087ff\">Dropout</span>)                  │ (<span style=\"color: #00d7ff; text-decoration-color: #00d7ff\">None</span>, <span style=\"color: #00af00; text-decoration-color: #00af00\">32</span>)                  │               <span style=\"color: #00af00; text-decoration-color: #00af00\">0</span> │\n",
              "├──────────────────────────────────────┼─────────────────────────────┼─────────────────┤\n",
              "│ dense_1 (<span style=\"color: #0087ff; text-decoration-color: #0087ff\">Dense</span>)                      │ (<span style=\"color: #00d7ff; text-decoration-color: #00d7ff\">None</span>, <span style=\"color: #00af00; text-decoration-color: #00af00\">3</span>)                   │              <span style=\"color: #00af00; text-decoration-color: #00af00\">99</span> │\n",
              "└──────────────────────────────────────┴─────────────────────────────┴─────────────────┘\n",
              "</pre>\n"
            ]
          },
          "metadata": {}
        },
        {
          "output_type": "display_data",
          "data": {
            "text/plain": [
              "\u001b[1m Total params: \u001b[0m\u001b[38;5;34m17,195\u001b[0m (67.17 KB)\n"
            ],
            "text/html": [
              "<pre style=\"white-space:pre;overflow-x:auto;line-height:normal;font-family:Menlo,'DejaVu Sans Mono',consolas,'Courier New',monospace\"><span style=\"font-weight: bold\"> Total params: </span><span style=\"color: #00af00; text-decoration-color: #00af00\">17,195</span> (67.17 KB)\n",
              "</pre>\n"
            ]
          },
          "metadata": {}
        },
        {
          "output_type": "display_data",
          "data": {
            "text/plain": [
              "\u001b[1m Trainable params: \u001b[0m\u001b[38;5;34m5,731\u001b[0m (22.39 KB)\n"
            ],
            "text/html": [
              "<pre style=\"white-space:pre;overflow-x:auto;line-height:normal;font-family:Menlo,'DejaVu Sans Mono',consolas,'Courier New',monospace\"><span style=\"font-weight: bold\"> Trainable params: </span><span style=\"color: #00af00; text-decoration-color: #00af00\">5,731</span> (22.39 KB)\n",
              "</pre>\n"
            ]
          },
          "metadata": {}
        },
        {
          "output_type": "display_data",
          "data": {
            "text/plain": [
              "\u001b[1m Non-trainable params: \u001b[0m\u001b[38;5;34m0\u001b[0m (0.00 B)\n"
            ],
            "text/html": [
              "<pre style=\"white-space:pre;overflow-x:auto;line-height:normal;font-family:Menlo,'DejaVu Sans Mono',consolas,'Courier New',monospace\"><span style=\"font-weight: bold\"> Non-trainable params: </span><span style=\"color: #00af00; text-decoration-color: #00af00\">0</span> (0.00 B)\n",
              "</pre>\n"
            ]
          },
          "metadata": {}
        },
        {
          "output_type": "display_data",
          "data": {
            "text/plain": [
              "\u001b[1m Optimizer params: \u001b[0m\u001b[38;5;34m11,464\u001b[0m (44.79 KB)\n"
            ],
            "text/html": [
              "<pre style=\"white-space:pre;overflow-x:auto;line-height:normal;font-family:Menlo,'DejaVu Sans Mono',consolas,'Courier New',monospace\"><span style=\"font-weight: bold\"> Optimizer params: </span><span style=\"color: #00af00; text-decoration-color: #00af00\">11,464</span> (44.79 KB)\n",
              "</pre>\n"
            ]
          },
          "metadata": {}
        }
      ]
    },
    {
      "cell_type": "code",
      "source": [
        "model_4_save_path = 'fourth_iteration_lstm.keras'\n",
        "best_model_4.save(model_4_save_path)\n",
        "logging.info(f\"Model saved to {model_4_save_path}\")"
      ],
      "metadata": {
        "id": "AHZWT-61AAUW"
      },
      "execution_count": null,
      "outputs": []
    },
    {
      "cell_type": "markdown",
      "source": [
        "# 5th Model (Not run yet)"
      ],
      "metadata": {
        "id": "mVfcOKmobaTI"
      }
    },
    {
      "cell_type": "code",
      "source": [
        "logging.info('Loading dataset...')\n",
        "\n",
        "file_path = '/content/usd_eur_raw.csv'\n",
        "df = pd.read_csv(file_path)\n",
        "df = df.drop(columns=['date'])\n",
        "dataset = df.values.astype('float64')"
      ],
      "metadata": {
        "id": "iirEFakLVrig"
      },
      "execution_count": null,
      "outputs": []
    },
    {
      "cell_type": "code",
      "source": [
        "# Extract the target variable (e.g., the second column which is the raw usd/eur exchange rate)\n",
        "target = dataset[:, 1]\n",
        "\n",
        "# Initialize the scaler\n",
        "scaler = MinMaxScaler(feature_range=(0, 1))\n",
        "\n",
        "# Scale the entire dataset including the input and target\n",
        "scaled_dataset = scaler.fit_transform(dataset)\n"
      ],
      "metadata": {
        "id": "2R9lbTdmb6AA"
      },
      "execution_count": null,
      "outputs": []
    },
    {
      "cell_type": "code",
      "source": [
        "time_steps = 15\n",
        "\n",
        "def create_dataset(data, time_steps):\n",
        "    X, y = [], []\n",
        "    for i in range(len(data) - time_steps):\n",
        "        X.append(data[i:(i + time_steps), :-1])  # Use all columns except the last one for input\n",
        "        y.append(data[i + time_steps, -1])       # Use the last column for target\n",
        "    return np.array(X), np.array(y)\n",
        "\n",
        "# Create the lagged dataset\n",
        "X, y = create_dataset(scaled_dataset, time_steps)\n",
        "\n",
        "# Reshape X for LSTM input\n",
        "X = X.reshape((X.shape[0], 1, X.shape[1]))  # Reshape to 3D array for LSTM: [samples, time steps, features]\n",
        "\n",
        "# Split into train and test sets\n",
        "from sklearn.model_selection import train_test_split\n",
        "\n",
        "X_train, X_test, y_train, y_test = train_test_split(X, y, test_size=0.2, shuffle=False, random_state=42)"
      ],
      "metadata": {
        "id": "9P1vNs2flVMY"
      },
      "execution_count": null,
      "outputs": []
    },
    {
      "cell_type": "code",
      "source": [
        "from tensorflow.keras.models import Sequential\n",
        "from tensorflow.keras.layers import LSTM, GRU, Dropout, Dense, Input\n",
        "from tensorflow.keras.losses import Huber\n",
        "\n",
        "def create_model_5(units1=128, dropout_rate1=0.3, batch_size=32):\n",
        "    model = Sequential([\n",
        "        Input(shape=(X_train.shape[1], X_train.shape[2])),\n",
        "        LSTM(units1, return_sequences = False),\n",
        "        Dropout(dropout_rate1),\n",
        "        Dense(1, activation = 'sigmoid')\n",
        "    ])\n",
        "\n",
        "    model.compile(optimizer='adam', loss = 'mean_squared_error', metrics=['mae'])\n",
        "    return model"
      ],
      "metadata": {
        "id": "GfRHA76NeGLH"
      },
      "execution_count": null,
      "outputs": []
    },
    {
      "cell_type": "code",
      "source": [
        "from scikeras.wrappers import KerasRegressor\n",
        "\n",
        "model_5 = KerasRegressor(build_fn=create_model_5, epochs = 75, verbose=0, random_state = 42)"
      ],
      "metadata": {
        "id": "WkCvOPTsbfDU"
      },
      "execution_count": null,
      "outputs": []
    },
    {
      "cell_type": "code",
      "source": [
        "param_grid_model_5 = {\n",
        "    'model__units1': [32, 64, 128, 256],\n",
        "    'model__dropout_rate1': [0.4, 0.3, 0.2],\n",
        "    'batch_size': [32, 64, 128]\n",
        "}"
      ],
      "metadata": {
        "id": "zbty9jUKect_"
      },
      "execution_count": null,
      "outputs": []
    },
    {
      "cell_type": "code",
      "source": [
        "# Perform Grid Search with 5-fold cross-validation\n",
        "logging.info('Starting grid search...')\n",
        "grid_model_5 = GridSearchCV(estimator=model_5, param_grid=param_grid_model_5, cv=5, n_jobs = -1)"
      ],
      "metadata": {
        "id": "Jlw8pncBbfDU"
      },
      "execution_count": null,
      "outputs": []
    },
    {
      "cell_type": "code",
      "source": [
        "# Fit the grid search\n",
        "grid_result_model_5 = grid_model_5.fit(X_train, y_train)"
      ],
      "metadata": {
        "colab": {
          "base_uri": "https://localhost:8080/",
          "height": 299
        },
        "outputId": "5ffd187e-3134-4a97-b553-2398122087e2",
        "id": "UzGI1vrVbfDU"
      },
      "execution_count": null,
      "outputs": [
        {
          "output_type": "error",
          "ename": "KeyboardInterrupt",
          "evalue": "",
          "traceback": [
            "\u001b[0;31m---------------------------------------------------------------------------\u001b[0m",
            "\u001b[0;31mKeyboardInterrupt\u001b[0m                         Traceback (most recent call last)",
            "\u001b[0;32m<ipython-input-488-76427082935c>\u001b[0m in \u001b[0;36m<cell line: 2>\u001b[0;34m()\u001b[0m\n\u001b[1;32m      1\u001b[0m \u001b[0;31m# Fit the grid search\u001b[0m\u001b[0;34m\u001b[0m\u001b[0;34m\u001b[0m\u001b[0m\n\u001b[0;32m----> 2\u001b[0;31m \u001b[0mgrid_result_model_5\u001b[0m \u001b[0;34m=\u001b[0m \u001b[0mgrid_model_5\u001b[0m\u001b[0;34m.\u001b[0m\u001b[0mfit\u001b[0m\u001b[0;34m(\u001b[0m\u001b[0mX_train\u001b[0m\u001b[0;34m,\u001b[0m \u001b[0my_train\u001b[0m\u001b[0;34m)\u001b[0m\u001b[0;34m\u001b[0m\u001b[0;34m\u001b[0m\u001b[0m\n\u001b[0m",
            "\u001b[0;32m/usr/local/lib/python3.10/dist-packages/sklearn/base.py\u001b[0m in \u001b[0;36mwrapper\u001b[0;34m(estimator, *args, **kwargs)\u001b[0m\n\u001b[1;32m   1471\u001b[0m                 )\n\u001b[1;32m   1472\u001b[0m             ):\n\u001b[0;32m-> 1473\u001b[0;31m                 \u001b[0;32mreturn\u001b[0m \u001b[0mfit_method\u001b[0m\u001b[0;34m(\u001b[0m\u001b[0mestimator\u001b[0m\u001b[0;34m,\u001b[0m \u001b[0;34m*\u001b[0m\u001b[0margs\u001b[0m\u001b[0;34m,\u001b[0m \u001b[0;34m**\u001b[0m\u001b[0mkwargs\u001b[0m\u001b[0;34m)\u001b[0m\u001b[0;34m\u001b[0m\u001b[0;34m\u001b[0m\u001b[0m\n\u001b[0m\u001b[1;32m   1474\u001b[0m \u001b[0;34m\u001b[0m\u001b[0m\n\u001b[1;32m   1475\u001b[0m         \u001b[0;32mreturn\u001b[0m \u001b[0mwrapper\u001b[0m\u001b[0;34m\u001b[0m\u001b[0;34m\u001b[0m\u001b[0m\n",
            "\u001b[0;32m/usr/local/lib/python3.10/dist-packages/sklearn/model_selection/_search.py\u001b[0m in \u001b[0;36mfit\u001b[0;34m(self, X, y, **params)\u001b[0m\n\u001b[1;32m    966\u001b[0m                 \u001b[0;32mreturn\u001b[0m \u001b[0mresults\u001b[0m\u001b[0;34m\u001b[0m\u001b[0;34m\u001b[0m\u001b[0m\n\u001b[1;32m    967\u001b[0m \u001b[0;34m\u001b[0m\u001b[0m\n\u001b[0;32m--> 968\u001b[0;31m             \u001b[0mself\u001b[0m\u001b[0;34m.\u001b[0m\u001b[0m_run_search\u001b[0m\u001b[0;34m(\u001b[0m\u001b[0mevaluate_candidates\u001b[0m\u001b[0;34m)\u001b[0m\u001b[0;34m\u001b[0m\u001b[0;34m\u001b[0m\u001b[0m\n\u001b[0m\u001b[1;32m    969\u001b[0m \u001b[0;34m\u001b[0m\u001b[0m\n\u001b[1;32m    970\u001b[0m             \u001b[0;31m# multimetric is determined here because in the case of a callable\u001b[0m\u001b[0;34m\u001b[0m\u001b[0;34m\u001b[0m\u001b[0m\n",
            "\u001b[0;32m/usr/local/lib/python3.10/dist-packages/sklearn/model_selection/_search.py\u001b[0m in \u001b[0;36m_run_search\u001b[0;34m(self, evaluate_candidates)\u001b[0m\n\u001b[1;32m   1541\u001b[0m     \u001b[0;32mdef\u001b[0m \u001b[0m_run_search\u001b[0m\u001b[0;34m(\u001b[0m\u001b[0mself\u001b[0m\u001b[0;34m,\u001b[0m \u001b[0mevaluate_candidates\u001b[0m\u001b[0;34m)\u001b[0m\u001b[0;34m:\u001b[0m\u001b[0;34m\u001b[0m\u001b[0;34m\u001b[0m\u001b[0m\n\u001b[1;32m   1542\u001b[0m         \u001b[0;34m\"\"\"Search all candidates in param_grid\"\"\"\u001b[0m\u001b[0;34m\u001b[0m\u001b[0;34m\u001b[0m\u001b[0m\n\u001b[0;32m-> 1543\u001b[0;31m         \u001b[0mevaluate_candidates\u001b[0m\u001b[0;34m(\u001b[0m\u001b[0mParameterGrid\u001b[0m\u001b[0;34m(\u001b[0m\u001b[0mself\u001b[0m\u001b[0;34m.\u001b[0m\u001b[0mparam_grid\u001b[0m\u001b[0;34m)\u001b[0m\u001b[0;34m)\u001b[0m\u001b[0;34m\u001b[0m\u001b[0;34m\u001b[0m\u001b[0m\n\u001b[0m\u001b[1;32m   1544\u001b[0m \u001b[0;34m\u001b[0m\u001b[0m\n\u001b[1;32m   1545\u001b[0m \u001b[0;34m\u001b[0m\u001b[0m\n",
            "\u001b[0;32m/usr/local/lib/python3.10/dist-packages/sklearn/model_selection/_search.py\u001b[0m in \u001b[0;36mevaluate_candidates\u001b[0;34m(candidate_params, cv, more_results)\u001b[0m\n\u001b[1;32m    912\u001b[0m                     )\n\u001b[1;32m    913\u001b[0m \u001b[0;34m\u001b[0m\u001b[0m\n\u001b[0;32m--> 914\u001b[0;31m                 out = parallel(\n\u001b[0m\u001b[1;32m    915\u001b[0m                     delayed(_fit_and_score)(\n\u001b[1;32m    916\u001b[0m                         \u001b[0mclone\u001b[0m\u001b[0;34m(\u001b[0m\u001b[0mbase_estimator\u001b[0m\u001b[0;34m)\u001b[0m\u001b[0;34m,\u001b[0m\u001b[0;34m\u001b[0m\u001b[0;34m\u001b[0m\u001b[0m\n",
            "\u001b[0;32m/usr/local/lib/python3.10/dist-packages/sklearn/utils/parallel.py\u001b[0m in \u001b[0;36m__call__\u001b[0;34m(self, iterable)\u001b[0m\n\u001b[1;32m     65\u001b[0m             \u001b[0;32mfor\u001b[0m \u001b[0mdelayed_func\u001b[0m\u001b[0;34m,\u001b[0m \u001b[0margs\u001b[0m\u001b[0;34m,\u001b[0m \u001b[0mkwargs\u001b[0m \u001b[0;32min\u001b[0m \u001b[0miterable\u001b[0m\u001b[0;34m\u001b[0m\u001b[0;34m\u001b[0m\u001b[0m\n\u001b[1;32m     66\u001b[0m         )\n\u001b[0;32m---> 67\u001b[0;31m         \u001b[0;32mreturn\u001b[0m \u001b[0msuper\u001b[0m\u001b[0;34m(\u001b[0m\u001b[0;34m)\u001b[0m\u001b[0;34m.\u001b[0m\u001b[0m__call__\u001b[0m\u001b[0;34m(\u001b[0m\u001b[0miterable_with_config\u001b[0m\u001b[0;34m)\u001b[0m\u001b[0;34m\u001b[0m\u001b[0;34m\u001b[0m\u001b[0m\n\u001b[0m\u001b[1;32m     68\u001b[0m \u001b[0;34m\u001b[0m\u001b[0m\n\u001b[1;32m     69\u001b[0m \u001b[0;34m\u001b[0m\u001b[0m\n",
            "\u001b[0;32m/usr/local/lib/python3.10/dist-packages/joblib/parallel.py\u001b[0m in \u001b[0;36m__call__\u001b[0;34m(self, iterable)\u001b[0m\n\u001b[1;32m   2005\u001b[0m         \u001b[0mnext\u001b[0m\u001b[0;34m(\u001b[0m\u001b[0moutput\u001b[0m\u001b[0;34m)\u001b[0m\u001b[0;34m\u001b[0m\u001b[0;34m\u001b[0m\u001b[0m\n\u001b[1;32m   2006\u001b[0m \u001b[0;34m\u001b[0m\u001b[0m\n\u001b[0;32m-> 2007\u001b[0;31m         \u001b[0;32mreturn\u001b[0m \u001b[0moutput\u001b[0m \u001b[0;32mif\u001b[0m \u001b[0mself\u001b[0m\u001b[0;34m.\u001b[0m\u001b[0mreturn_generator\u001b[0m \u001b[0;32melse\u001b[0m \u001b[0mlist\u001b[0m\u001b[0;34m(\u001b[0m\u001b[0moutput\u001b[0m\u001b[0;34m)\u001b[0m\u001b[0;34m\u001b[0m\u001b[0;34m\u001b[0m\u001b[0m\n\u001b[0m\u001b[1;32m   2008\u001b[0m \u001b[0;34m\u001b[0m\u001b[0m\n\u001b[1;32m   2009\u001b[0m     \u001b[0;32mdef\u001b[0m \u001b[0m__repr__\u001b[0m\u001b[0;34m(\u001b[0m\u001b[0mself\u001b[0m\u001b[0;34m)\u001b[0m\u001b[0;34m:\u001b[0m\u001b[0;34m\u001b[0m\u001b[0;34m\u001b[0m\u001b[0m\n",
            "\u001b[0;32m/usr/local/lib/python3.10/dist-packages/joblib/parallel.py\u001b[0m in \u001b[0;36m_get_outputs\u001b[0;34m(self, iterator, pre_dispatch)\u001b[0m\n\u001b[1;32m   1648\u001b[0m \u001b[0;34m\u001b[0m\u001b[0m\n\u001b[1;32m   1649\u001b[0m             \u001b[0;32mwith\u001b[0m \u001b[0mself\u001b[0m\u001b[0;34m.\u001b[0m\u001b[0m_backend\u001b[0m\u001b[0;34m.\u001b[0m\u001b[0mretrieval_context\u001b[0m\u001b[0;34m(\u001b[0m\u001b[0;34m)\u001b[0m\u001b[0;34m:\u001b[0m\u001b[0;34m\u001b[0m\u001b[0;34m\u001b[0m\u001b[0m\n\u001b[0;32m-> 1650\u001b[0;31m                 \u001b[0;32myield\u001b[0m \u001b[0;32mfrom\u001b[0m \u001b[0mself\u001b[0m\u001b[0;34m.\u001b[0m\u001b[0m_retrieve\u001b[0m\u001b[0;34m(\u001b[0m\u001b[0;34m)\u001b[0m\u001b[0;34m\u001b[0m\u001b[0;34m\u001b[0m\u001b[0m\n\u001b[0m\u001b[1;32m   1651\u001b[0m \u001b[0;34m\u001b[0m\u001b[0m\n\u001b[1;32m   1652\u001b[0m         \u001b[0;32mexcept\u001b[0m \u001b[0mGeneratorExit\u001b[0m\u001b[0;34m:\u001b[0m\u001b[0;34m\u001b[0m\u001b[0;34m\u001b[0m\u001b[0m\n",
            "\u001b[0;32m/usr/local/lib/python3.10/dist-packages/joblib/parallel.py\u001b[0m in \u001b[0;36m_retrieve\u001b[0;34m(self)\u001b[0m\n\u001b[1;32m   1760\u001b[0m                 (self._jobs[0].get_status(\n\u001b[1;32m   1761\u001b[0m                     timeout=self.timeout) == TASK_PENDING)):\n\u001b[0;32m-> 1762\u001b[0;31m                 \u001b[0mtime\u001b[0m\u001b[0;34m.\u001b[0m\u001b[0msleep\u001b[0m\u001b[0;34m(\u001b[0m\u001b[0;36m0.01\u001b[0m\u001b[0;34m)\u001b[0m\u001b[0;34m\u001b[0m\u001b[0;34m\u001b[0m\u001b[0m\n\u001b[0m\u001b[1;32m   1763\u001b[0m                 \u001b[0;32mcontinue\u001b[0m\u001b[0;34m\u001b[0m\u001b[0;34m\u001b[0m\u001b[0m\n\u001b[1;32m   1764\u001b[0m \u001b[0;34m\u001b[0m\u001b[0m\n",
            "\u001b[0;31mKeyboardInterrupt\u001b[0m: "
          ]
        }
      ]
    },
    {
      "cell_type": "code",
      "source": [
        "best_params_model_5 = grid_result_model_5.best_params_\n",
        "logging.info(f\"Best Parameters: {best_params_model_5}\")\n",
        "print(best_params_model_5)"
      ],
      "metadata": {
        "colab": {
          "base_uri": "https://localhost:8080/"
        },
        "outputId": "79f73898-341d-4027-e122-d359c7abeb5c",
        "id": "zesU1un2eo7V"
      },
      "execution_count": null,
      "outputs": [
        {
          "output_type": "stream",
          "name": "stdout",
          "text": [
            "{'batch_size': 128, 'model__dropout_rate1': 0.2, 'model__units1': 32}\n"
          ]
        }
      ]
    },
    {
      "cell_type": "code",
      "source": [
        "best_model_5 = create_model_5(batch_size = best_params_model_5['batch_size'],\n",
        "                          dropout_rate1 = best_params_model_5['model__dropout_rate1'],\n",
        "                          units1 = best_params_model_5['model__units1'],\n",
        "                          )"
      ],
      "metadata": {
        "id": "TNbNHc5seo7W"
      },
      "execution_count": null,
      "outputs": []
    },
    {
      "cell_type": "code",
      "source": [
        "history_model_5 = best_model_5.fit(X_train, y_train,\n",
        "                         epochs = 200,\n",
        "                         validation_data = (X_test, y_test),\n",
        "                         verbose=1,\n",
        "                          shuffle = False\n",
        "                         )"
      ],
      "metadata": {
        "colab": {
          "base_uri": "https://localhost:8080/"
        },
        "id": "MGJUtTtUeo7W",
        "outputId": "c19a20b8-0d3c-4086-c210-a6f66eca9446"
      },
      "execution_count": null,
      "outputs": [
        {
          "output_type": "stream",
          "name": "stdout",
          "text": [
            "Epoch 1/200\n",
            "\u001b[1m119/119\u001b[0m \u001b[32m━━━━━━━━━━━━━━━━━━━━\u001b[0m\u001b[37m\u001b[0m \u001b[1m2s\u001b[0m 6ms/step - loss: 0.0270 - mae: 0.1238 - val_loss: 0.0619 - val_mae: 0.2275\n",
            "Epoch 2/200\n",
            "\u001b[1m119/119\u001b[0m \u001b[32m━━━━━━━━━━━━━━━━━━━━\u001b[0m\u001b[37m\u001b[0m \u001b[1m0s\u001b[0m 4ms/step - loss: 0.0275 - mae: 0.1234 - val_loss: 0.0561 - val_mae: 0.2169\n",
            "Epoch 3/200\n",
            "\u001b[1m119/119\u001b[0m \u001b[32m━━━━━━━━━━━━━━━━━━━━\u001b[0m\u001b[37m\u001b[0m \u001b[1m0s\u001b[0m 4ms/step - loss: 0.0223 - mae: 0.1114 - val_loss: 0.0456 - val_mae: 0.1929\n",
            "Epoch 4/200\n",
            "\u001b[1m119/119\u001b[0m \u001b[32m━━━━━━━━━━━━━━━━━━━━\u001b[0m\u001b[37m\u001b[0m \u001b[1m0s\u001b[0m 4ms/step - loss: 0.0185 - mae: 0.1020 - val_loss: 0.0339 - val_mae: 0.1612\n",
            "Epoch 5/200\n",
            "\u001b[1m119/119\u001b[0m \u001b[32m━━━━━━━━━━━━━━━━━━━━\u001b[0m\u001b[37m\u001b[0m \u001b[1m0s\u001b[0m 4ms/step - loss: 0.0148 - mae: 0.0923 - val_loss: 0.0235 - val_mae: 0.1275\n",
            "Epoch 6/200\n",
            "\u001b[1m119/119\u001b[0m \u001b[32m━━━━━━━━━━━━━━━━━━━━\u001b[0m\u001b[37m\u001b[0m \u001b[1m0s\u001b[0m 4ms/step - loss: 0.0117 - mae: 0.0837 - val_loss: 0.0160 - val_mae: 0.1004\n",
            "Epoch 7/200\n",
            "\u001b[1m119/119\u001b[0m \u001b[32m━━━━━━━━━━━━━━━━━━━━\u001b[0m\u001b[37m\u001b[0m \u001b[1m0s\u001b[0m 4ms/step - loss: 0.0094 - mae: 0.0772 - val_loss: 0.0114 - val_mae: 0.0829\n",
            "Epoch 8/200\n",
            "\u001b[1m119/119\u001b[0m \u001b[32m━━━━━━━━━━━━━━━━━━━━\u001b[0m\u001b[37m\u001b[0m \u001b[1m0s\u001b[0m 4ms/step - loss: 0.0075 - mae: 0.0703 - val_loss: 0.0086 - val_mae: 0.0720\n",
            "Epoch 9/200\n",
            "\u001b[1m119/119\u001b[0m \u001b[32m━━━━━━━━━━━━━━━━━━━━\u001b[0m\u001b[37m\u001b[0m \u001b[1m0s\u001b[0m 4ms/step - loss: 0.0059 - mae: 0.0626 - val_loss: 0.0069 - val_mae: 0.0643\n",
            "Epoch 10/200\n",
            "\u001b[1m119/119\u001b[0m \u001b[32m━━━━━━━━━━━━━━━━━━━━\u001b[0m\u001b[37m\u001b[0m \u001b[1m0s\u001b[0m 4ms/step - loss: 0.0044 - mae: 0.0541 - val_loss: 0.0058 - val_mae: 0.0582\n",
            "Epoch 11/200\n",
            "\u001b[1m119/119\u001b[0m \u001b[32m━━━━━━━━━━━━━━━━━━━━\u001b[0m\u001b[37m\u001b[0m \u001b[1m0s\u001b[0m 4ms/step - loss: 0.0036 - mae: 0.0475 - val_loss: 0.0049 - val_mae: 0.0532\n",
            "Epoch 12/200\n",
            "\u001b[1m119/119\u001b[0m \u001b[32m━━━━━━━━━━━━━━━━━━━━\u001b[0m\u001b[37m\u001b[0m \u001b[1m0s\u001b[0m 4ms/step - loss: 0.0030 - mae: 0.0434 - val_loss: 0.0043 - val_mae: 0.0492\n",
            "Epoch 13/200\n",
            "\u001b[1m119/119\u001b[0m \u001b[32m━━━━━━━━━━━━━━━━━━━━\u001b[0m\u001b[37m\u001b[0m \u001b[1m0s\u001b[0m 4ms/step - loss: 0.0024 - mae: 0.0390 - val_loss: 0.0039 - val_mae: 0.0464\n",
            "Epoch 14/200\n",
            "\u001b[1m119/119\u001b[0m \u001b[32m━━━━━━━━━━━━━━━━━━━━\u001b[0m\u001b[37m\u001b[0m \u001b[1m0s\u001b[0m 4ms/step - loss: 0.0023 - mae: 0.0369 - val_loss: 0.0036 - val_mae: 0.0441\n",
            "Epoch 15/200\n",
            "\u001b[1m119/119\u001b[0m \u001b[32m━━━━━━━━━━━━━━━━━━━━\u001b[0m\u001b[37m\u001b[0m \u001b[1m0s\u001b[0m 4ms/step - loss: 0.0021 - mae: 0.0354 - val_loss: 0.0033 - val_mae: 0.0423\n",
            "Epoch 16/200\n",
            "\u001b[1m119/119\u001b[0m \u001b[32m━━━━━━━━━━━━━━━━━━━━\u001b[0m\u001b[37m\u001b[0m \u001b[1m0s\u001b[0m 4ms/step - loss: 0.0019 - mae: 0.0333 - val_loss: 0.0032 - val_mae: 0.0407\n",
            "Epoch 17/200\n",
            "\u001b[1m119/119\u001b[0m \u001b[32m━━━━━━━━━━━━━━━━━━━━\u001b[0m\u001b[37m\u001b[0m \u001b[1m0s\u001b[0m 4ms/step - loss: 0.0018 - mae: 0.0318 - val_loss: 0.0030 - val_mae: 0.0392\n",
            "Epoch 18/200\n",
            "\u001b[1m119/119\u001b[0m \u001b[32m━━━━━━━━━━━━━━━━━━━━\u001b[0m\u001b[37m\u001b[0m \u001b[1m0s\u001b[0m 4ms/step - loss: 0.0017 - mae: 0.0318 - val_loss: 0.0029 - val_mae: 0.0388\n",
            "Epoch 19/200\n",
            "\u001b[1m119/119\u001b[0m \u001b[32m━━━━━━━━━━━━━━━━━━━━\u001b[0m\u001b[37m\u001b[0m \u001b[1m0s\u001b[0m 4ms/step - loss: 0.0016 - mae: 0.0300 - val_loss: 0.0028 - val_mae: 0.0376\n",
            "Epoch 20/200\n",
            "\u001b[1m119/119\u001b[0m \u001b[32m━━━━━━━━━━━━━━━━━━━━\u001b[0m\u001b[37m\u001b[0m \u001b[1m0s\u001b[0m 4ms/step - loss: 0.0016 - mae: 0.0298 - val_loss: 0.0027 - val_mae: 0.0366\n",
            "Epoch 21/200\n",
            "\u001b[1m119/119\u001b[0m \u001b[32m━━━━━━━━━━━━━━━━━━━━\u001b[0m\u001b[37m\u001b[0m \u001b[1m0s\u001b[0m 4ms/step - loss: 0.0015 - mae: 0.0292 - val_loss: 0.0026 - val_mae: 0.0361\n",
            "Epoch 22/200\n",
            "\u001b[1m119/119\u001b[0m \u001b[32m━━━━━━━━━━━━━━━━━━━━\u001b[0m\u001b[37m\u001b[0m \u001b[1m0s\u001b[0m 4ms/step - loss: 0.0015 - mae: 0.0288 - val_loss: 0.0025 - val_mae: 0.0351\n",
            "Epoch 23/200\n",
            "\u001b[1m119/119\u001b[0m \u001b[32m━━━━━━━━━━━━━━━━━━━━\u001b[0m\u001b[37m\u001b[0m \u001b[1m0s\u001b[0m 4ms/step - loss: 0.0014 - mae: 0.0276 - val_loss: 0.0023 - val_mae: 0.0337\n",
            "Epoch 24/200\n",
            "\u001b[1m119/119\u001b[0m \u001b[32m━━━━━━━━━━━━━━━━━━━━\u001b[0m\u001b[37m\u001b[0m \u001b[1m0s\u001b[0m 4ms/step - loss: 0.0014 - mae: 0.0273 - val_loss: 0.0022 - val_mae: 0.0327\n",
            "Epoch 25/200\n",
            "\u001b[1m119/119\u001b[0m \u001b[32m━━━━━━━━━━━━━━━━━━━━\u001b[0m\u001b[37m\u001b[0m \u001b[1m0s\u001b[0m 4ms/step - loss: 0.0013 - mae: 0.0264 - val_loss: 0.0022 - val_mae: 0.0322\n",
            "Epoch 26/200\n",
            "\u001b[1m119/119\u001b[0m \u001b[32m━━━━━━━━━━━━━━━━━━━━\u001b[0m\u001b[37m\u001b[0m \u001b[1m0s\u001b[0m 4ms/step - loss: 0.0013 - mae: 0.0269 - val_loss: 0.0021 - val_mae: 0.0318\n",
            "Epoch 27/200\n",
            "\u001b[1m119/119\u001b[0m \u001b[32m━━━━━━━━━━━━━━━━━━━━\u001b[0m\u001b[37m\u001b[0m \u001b[1m0s\u001b[0m 4ms/step - loss: 0.0014 - mae: 0.0273 - val_loss: 0.0021 - val_mae: 0.0313\n",
            "Epoch 28/200\n",
            "\u001b[1m119/119\u001b[0m \u001b[32m━━━━━━━━━━━━━━━━━━━━\u001b[0m\u001b[37m\u001b[0m \u001b[1m0s\u001b[0m 4ms/step - loss: 0.0013 - mae: 0.0263 - val_loss: 0.0019 - val_mae: 0.0302\n",
            "Epoch 29/200\n",
            "\u001b[1m119/119\u001b[0m \u001b[32m━━━━━━━━━━━━━━━━━━━━\u001b[0m\u001b[37m\u001b[0m \u001b[1m0s\u001b[0m 4ms/step - loss: 0.0012 - mae: 0.0255 - val_loss: 0.0019 - val_mae: 0.0297\n",
            "Epoch 30/200\n",
            "\u001b[1m119/119\u001b[0m \u001b[32m━━━━━━━━━━━━━━━━━━━━\u001b[0m\u001b[37m\u001b[0m \u001b[1m0s\u001b[0m 4ms/step - loss: 0.0012 - mae: 0.0249 - val_loss: 0.0018 - val_mae: 0.0298\n",
            "Epoch 31/200\n",
            "\u001b[1m119/119\u001b[0m \u001b[32m━━━━━━━━━━━━━━━━━━━━\u001b[0m\u001b[37m\u001b[0m \u001b[1m0s\u001b[0m 4ms/step - loss: 0.0012 - mae: 0.0254 - val_loss: 0.0016 - val_mae: 0.0276\n",
            "Epoch 32/200\n",
            "\u001b[1m119/119\u001b[0m \u001b[32m━━━━━━━━━━━━━━━━━━━━\u001b[0m\u001b[37m\u001b[0m \u001b[1m0s\u001b[0m 4ms/step - loss: 0.0011 - mae: 0.0244 - val_loss: 0.0016 - val_mae: 0.0277\n",
            "Epoch 33/200\n",
            "\u001b[1m119/119\u001b[0m \u001b[32m━━━━━━━━━━━━━━━━━━━━\u001b[0m\u001b[37m\u001b[0m \u001b[1m0s\u001b[0m 4ms/step - loss: 0.0012 - mae: 0.0250 - val_loss: 0.0016 - val_mae: 0.0279\n",
            "Epoch 34/200\n",
            "\u001b[1m119/119\u001b[0m \u001b[32m━━━━━━━━━━━━━━━━━━━━\u001b[0m\u001b[37m\u001b[0m \u001b[1m0s\u001b[0m 4ms/step - loss: 0.0011 - mae: 0.0238 - val_loss: 0.0014 - val_mae: 0.0256\n",
            "Epoch 35/200\n",
            "\u001b[1m119/119\u001b[0m \u001b[32m━━━━━━━━━━━━━━━━━━━━\u001b[0m\u001b[37m\u001b[0m \u001b[1m0s\u001b[0m 4ms/step - loss: 0.0011 - mae: 0.0238 - val_loss: 0.0014 - val_mae: 0.0255\n",
            "Epoch 36/200\n",
            "\u001b[1m119/119\u001b[0m \u001b[32m━━━━━━━━━━━━━━━━━━━━\u001b[0m\u001b[37m\u001b[0m \u001b[1m0s\u001b[0m 4ms/step - loss: 0.0010 - mae: 0.0235 - val_loss: 0.0014 - val_mae: 0.0255\n",
            "Epoch 37/200\n",
            "\u001b[1m119/119\u001b[0m \u001b[32m━━━━━━━━━━━━━━━━━━━━\u001b[0m\u001b[37m\u001b[0m \u001b[1m0s\u001b[0m 4ms/step - loss: 0.0011 - mae: 0.0242 - val_loss: 0.0013 - val_mae: 0.0248\n",
            "Epoch 38/200\n",
            "\u001b[1m119/119\u001b[0m \u001b[32m━━━━━━━━━━━━━━━━━━━━\u001b[0m\u001b[37m\u001b[0m \u001b[1m0s\u001b[0m 4ms/step - loss: 0.0010 - mae: 0.0237 - val_loss: 0.0012 - val_mae: 0.0234\n",
            "Epoch 39/200\n",
            "\u001b[1m119/119\u001b[0m \u001b[32m━━━━━━━━━━━━━━━━━━━━\u001b[0m\u001b[37m\u001b[0m \u001b[1m0s\u001b[0m 4ms/step - loss: 0.0010 - mae: 0.0232 - val_loss: 0.0012 - val_mae: 0.0236\n",
            "Epoch 40/200\n",
            "\u001b[1m119/119\u001b[0m \u001b[32m━━━━━━━━━━━━━━━━━━━━\u001b[0m\u001b[37m\u001b[0m \u001b[1m0s\u001b[0m 4ms/step - loss: 9.5862e-04 - mae: 0.0223 - val_loss: 0.0011 - val_mae: 0.0233\n",
            "Epoch 41/200\n",
            "\u001b[1m119/119\u001b[0m \u001b[32m━━━━━━━━━━━━━━━━━━━━\u001b[0m\u001b[37m\u001b[0m \u001b[1m0s\u001b[0m 4ms/step - loss: 0.0010 - mae: 0.0227 - val_loss: 0.0011 - val_mae: 0.0223\n",
            "Epoch 42/200\n",
            "\u001b[1m119/119\u001b[0m \u001b[32m━━━━━━━━━━━━━━━━━━━━\u001b[0m\u001b[37m\u001b[0m \u001b[1m0s\u001b[0m 4ms/step - loss: 8.6667e-04 - mae: 0.0212 - val_loss: 9.7935e-04 - val_mae: 0.0210\n",
            "Epoch 43/200\n",
            "\u001b[1m119/119\u001b[0m \u001b[32m━━━━━━━━━━━━━━━━━━━━\u001b[0m\u001b[37m\u001b[0m \u001b[1m0s\u001b[0m 4ms/step - loss: 8.8150e-04 - mae: 0.0214 - val_loss: 9.1033e-04 - val_mae: 0.0202\n",
            "Epoch 44/200\n",
            "\u001b[1m119/119\u001b[0m \u001b[32m━━━━━━━━━━━━━━━━━━━━\u001b[0m\u001b[37m\u001b[0m \u001b[1m0s\u001b[0m 4ms/step - loss: 9.3222e-04 - mae: 0.0222 - val_loss: 9.4435e-04 - val_mae: 0.0210\n",
            "Epoch 45/200\n",
            "\u001b[1m119/119\u001b[0m \u001b[32m━━━━━━━━━━━━━━━━━━━━\u001b[0m\u001b[37m\u001b[0m \u001b[1m0s\u001b[0m 4ms/step - loss: 8.6992e-04 - mae: 0.0214 - val_loss: 8.3725e-04 - val_mae: 0.0194\n",
            "Epoch 46/200\n",
            "\u001b[1m119/119\u001b[0m \u001b[32m━━━━━━━━━━━━━━━━━━━━\u001b[0m\u001b[37m\u001b[0m \u001b[1m0s\u001b[0m 4ms/step - loss: 8.5329e-04 - mae: 0.0212 - val_loss: 8.1719e-04 - val_mae: 0.0198\n",
            "Epoch 47/200\n",
            "\u001b[1m119/119\u001b[0m \u001b[32m━━━━━━━━━━━━━━━━━━━━\u001b[0m\u001b[37m\u001b[0m \u001b[1m0s\u001b[0m 4ms/step - loss: 8.6572e-04 - mae: 0.0211 - val_loss: 7.6736e-04 - val_mae: 0.0186\n",
            "Epoch 48/200\n",
            "\u001b[1m119/119\u001b[0m \u001b[32m━━━━━━━━━━━━━━━━━━━━\u001b[0m\u001b[37m\u001b[0m \u001b[1m0s\u001b[0m 4ms/step - loss: 8.5637e-04 - mae: 0.0211 - val_loss: 7.1557e-04 - val_mae: 0.0177\n",
            "Epoch 49/200\n",
            "\u001b[1m119/119\u001b[0m \u001b[32m━━━━━━━━━━━━━━━━━━━━\u001b[0m\u001b[37m\u001b[0m \u001b[1m0s\u001b[0m 4ms/step - loss: 8.5415e-04 - mae: 0.0206 - val_loss: 6.5389e-04 - val_mae: 0.0168\n",
            "Epoch 50/200\n",
            "\u001b[1m119/119\u001b[0m \u001b[32m━━━━━━━━━━━━━━━━━━━━\u001b[0m\u001b[37m\u001b[0m \u001b[1m0s\u001b[0m 4ms/step - loss: 7.9914e-04 - mae: 0.0203 - val_loss: 6.1436e-04 - val_mae: 0.0162\n",
            "Epoch 51/200\n",
            "\u001b[1m119/119\u001b[0m \u001b[32m━━━━━━━━━━━━━━━━━━━━\u001b[0m\u001b[37m\u001b[0m \u001b[1m0s\u001b[0m 4ms/step - loss: 8.6333e-04 - mae: 0.0206 - val_loss: 6.2519e-04 - val_mae: 0.0168\n",
            "Epoch 52/200\n",
            "\u001b[1m119/119\u001b[0m \u001b[32m━━━━━━━━━━━━━━━━━━━━\u001b[0m\u001b[37m\u001b[0m \u001b[1m0s\u001b[0m 4ms/step - loss: 7.6674e-04 - mae: 0.0199 - val_loss: 6.2590e-04 - val_mae: 0.0171\n",
            "Epoch 53/200\n",
            "\u001b[1m119/119\u001b[0m \u001b[32m━━━━━━━━━━━━━━━━━━━━\u001b[0m\u001b[37m\u001b[0m \u001b[1m0s\u001b[0m 4ms/step - loss: 7.8460e-04 - mae: 0.0198 - val_loss: 5.6839e-04 - val_mae: 0.0160\n",
            "Epoch 54/200\n",
            "\u001b[1m119/119\u001b[0m \u001b[32m━━━━━━━━━━━━━━━━━━━━\u001b[0m\u001b[37m\u001b[0m \u001b[1m0s\u001b[0m 4ms/step - loss: 8.5136e-04 - mae: 0.0199 - val_loss: 4.9466e-04 - val_mae: 0.0143\n",
            "Epoch 55/200\n",
            "\u001b[1m119/119\u001b[0m \u001b[32m━━━━━━━━━━━━━━━━━━━━\u001b[0m\u001b[37m\u001b[0m \u001b[1m0s\u001b[0m 4ms/step - loss: 7.3750e-04 - mae: 0.0190 - val_loss: 4.7612e-04 - val_mae: 0.0141\n",
            "Epoch 56/200\n",
            "\u001b[1m119/119\u001b[0m \u001b[32m━━━━━━━━━━━━━━━━━━━━\u001b[0m\u001b[37m\u001b[0m \u001b[1m0s\u001b[0m 4ms/step - loss: 7.9753e-04 - mae: 0.0201 - val_loss: 4.6560e-04 - val_mae: 0.0140\n",
            "Epoch 57/200\n",
            "\u001b[1m119/119\u001b[0m \u001b[32m━━━━━━━━━━━━━━━━━━━━\u001b[0m\u001b[37m\u001b[0m \u001b[1m0s\u001b[0m 4ms/step - loss: 7.6816e-04 - mae: 0.0194 - val_loss: 4.9182e-04 - val_mae: 0.0150\n",
            "Epoch 58/200\n",
            "\u001b[1m119/119\u001b[0m \u001b[32m━━━━━━━━━━━━━━━━━━━━\u001b[0m\u001b[37m\u001b[0m \u001b[1m0s\u001b[0m 4ms/step - loss: 6.9407e-04 - mae: 0.0186 - val_loss: 4.1891e-04 - val_mae: 0.0133\n",
            "Epoch 59/200\n",
            "\u001b[1m119/119\u001b[0m \u001b[32m━━━━━━━━━━━━━━━━━━━━\u001b[0m\u001b[37m\u001b[0m \u001b[1m0s\u001b[0m 4ms/step - loss: 7.2434e-04 - mae: 0.0190 - val_loss: 4.1346e-04 - val_mae: 0.0134\n",
            "Epoch 60/200\n",
            "\u001b[1m119/119\u001b[0m \u001b[32m━━━━━━━━━━━━━━━━━━━━\u001b[0m\u001b[37m\u001b[0m \u001b[1m0s\u001b[0m 4ms/step - loss: 7.6829e-04 - mae: 0.0192 - val_loss: 3.9779e-04 - val_mae: 0.0130\n",
            "Epoch 61/200\n",
            "\u001b[1m119/119\u001b[0m \u001b[32m━━━━━━━━━━━━━━━━━━━━\u001b[0m\u001b[37m\u001b[0m \u001b[1m0s\u001b[0m 4ms/step - loss: 7.2571e-04 - mae: 0.0188 - val_loss: 3.8493e-04 - val_mae: 0.0129\n",
            "Epoch 62/200\n",
            "\u001b[1m119/119\u001b[0m \u001b[32m━━━━━━━━━━━━━━━━━━━━\u001b[0m\u001b[37m\u001b[0m \u001b[1m0s\u001b[0m 4ms/step - loss: 7.4599e-04 - mae: 0.0188 - val_loss: 3.8480e-04 - val_mae: 0.0131\n",
            "Epoch 63/200\n",
            "\u001b[1m119/119\u001b[0m \u001b[32m━━━━━━━━━━━━━━━━━━━━\u001b[0m\u001b[37m\u001b[0m \u001b[1m0s\u001b[0m 4ms/step - loss: 7.3170e-04 - mae: 0.0187 - val_loss: 3.3679e-04 - val_mae: 0.0121\n",
            "Epoch 64/200\n",
            "\u001b[1m119/119\u001b[0m \u001b[32m━━━━━━━━━━━━━━━━━━━━\u001b[0m\u001b[37m\u001b[0m \u001b[1m0s\u001b[0m 4ms/step - loss: 7.5222e-04 - mae: 0.0192 - val_loss: 3.1095e-04 - val_mae: 0.0115\n",
            "Epoch 65/200\n",
            "\u001b[1m119/119\u001b[0m \u001b[32m━━━━━━━━━━━━━━━━━━━━\u001b[0m\u001b[37m\u001b[0m \u001b[1m0s\u001b[0m 4ms/step - loss: 6.3987e-04 - mae: 0.0177 - val_loss: 3.0668e-04 - val_mae: 0.0113\n",
            "Epoch 66/200\n",
            "\u001b[1m119/119\u001b[0m \u001b[32m━━━━━━━━━━━━━━━━━━━━\u001b[0m\u001b[37m\u001b[0m \u001b[1m0s\u001b[0m 4ms/step - loss: 7.1327e-04 - mae: 0.0184 - val_loss: 3.1847e-04 - val_mae: 0.0119\n",
            "Epoch 67/200\n",
            "\u001b[1m119/119\u001b[0m \u001b[32m━━━━━━━━━━━━━━━━━━━━\u001b[0m\u001b[37m\u001b[0m \u001b[1m0s\u001b[0m 4ms/step - loss: 6.7628e-04 - mae: 0.0182 - val_loss: 2.8591e-04 - val_mae: 0.0110\n",
            "Epoch 68/200\n",
            "\u001b[1m119/119\u001b[0m \u001b[32m━━━━━━━━━━━━━━━━━━━━\u001b[0m\u001b[37m\u001b[0m \u001b[1m0s\u001b[0m 4ms/step - loss: 7.1446e-04 - mae: 0.0184 - val_loss: 2.7184e-04 - val_mae: 0.0107\n",
            "Epoch 69/200\n",
            "\u001b[1m119/119\u001b[0m \u001b[32m━━━━━━━━━━━━━━━━━━━━\u001b[0m\u001b[37m\u001b[0m \u001b[1m0s\u001b[0m 4ms/step - loss: 6.7988e-04 - mae: 0.0181 - val_loss: 2.9172e-04 - val_mae: 0.0114\n",
            "Epoch 70/200\n",
            "\u001b[1m119/119\u001b[0m \u001b[32m━━━━━━━━━━━━━━━━━━━━\u001b[0m\u001b[37m\u001b[0m \u001b[1m0s\u001b[0m 4ms/step - loss: 6.4765e-04 - mae: 0.0176 - val_loss: 2.5133e-04 - val_mae: 0.0104\n",
            "Epoch 71/200\n",
            "\u001b[1m119/119\u001b[0m \u001b[32m━━━━━━━━━━━━━━━━━━━━\u001b[0m\u001b[37m\u001b[0m \u001b[1m0s\u001b[0m 4ms/step - loss: 6.7869e-04 - mae: 0.0180 - val_loss: 2.4252e-04 - val_mae: 0.0101\n",
            "Epoch 72/200\n",
            "\u001b[1m119/119\u001b[0m \u001b[32m━━━━━━━━━━━━━━━━━━━━\u001b[0m\u001b[37m\u001b[0m \u001b[1m0s\u001b[0m 4ms/step - loss: 6.1703e-04 - mae: 0.0174 - val_loss: 2.3207e-04 - val_mae: 0.0099\n",
            "Epoch 73/200\n",
            "\u001b[1m119/119\u001b[0m \u001b[32m━━━━━━━━━━━━━━━━━━━━\u001b[0m\u001b[37m\u001b[0m \u001b[1m0s\u001b[0m 4ms/step - loss: 6.3684e-04 - mae: 0.0176 - val_loss: 2.1726e-04 - val_mae: 0.0096\n",
            "Epoch 74/200\n",
            "\u001b[1m119/119\u001b[0m \u001b[32m━━━━━━━━━━━━━━━━━━━━\u001b[0m\u001b[37m\u001b[0m \u001b[1m0s\u001b[0m 4ms/step - loss: 6.1177e-04 - mae: 0.0175 - val_loss: 2.1189e-04 - val_mae: 0.0097\n",
            "Epoch 75/200\n",
            "\u001b[1m119/119\u001b[0m \u001b[32m━━━━━━━━━━━━━━━━━━━━\u001b[0m\u001b[37m\u001b[0m \u001b[1m0s\u001b[0m 4ms/step - loss: 7.3593e-04 - mae: 0.0191 - val_loss: 2.2841e-04 - val_mae: 0.0101\n",
            "Epoch 76/200\n",
            "\u001b[1m119/119\u001b[0m \u001b[32m━━━━━━━━━━━━━━━━━━━━\u001b[0m\u001b[37m\u001b[0m \u001b[1m0s\u001b[0m 4ms/step - loss: 6.6626e-04 - mae: 0.0179 - val_loss: 2.0483e-04 - val_mae: 0.0095\n",
            "Epoch 77/200\n",
            "\u001b[1m119/119\u001b[0m \u001b[32m━━━━━━━━━━━━━━━━━━━━\u001b[0m\u001b[37m\u001b[0m \u001b[1m0s\u001b[0m 4ms/step - loss: 6.2059e-04 - mae: 0.0172 - val_loss: 2.0148e-04 - val_mae: 0.0094\n",
            "Epoch 78/200\n",
            "\u001b[1m119/119\u001b[0m \u001b[32m━━━━━━━━━━━━━━━━━━━━\u001b[0m\u001b[37m\u001b[0m \u001b[1m0s\u001b[0m 4ms/step - loss: 6.3597e-04 - mae: 0.0174 - val_loss: 2.1275e-04 - val_mae: 0.0097\n",
            "Epoch 79/200\n",
            "\u001b[1m119/119\u001b[0m \u001b[32m━━━━━━━━━━━━━━━━━━━━\u001b[0m\u001b[37m\u001b[0m \u001b[1m0s\u001b[0m 4ms/step - loss: 5.6860e-04 - mae: 0.0168 - val_loss: 1.9994e-04 - val_mae: 0.0094\n",
            "Epoch 80/200\n",
            "\u001b[1m119/119\u001b[0m \u001b[32m━━━━━━━━━━━━━━━━━━━━\u001b[0m\u001b[37m\u001b[0m \u001b[1m0s\u001b[0m 4ms/step - loss: 6.4125e-04 - mae: 0.0174 - val_loss: 2.0067e-04 - val_mae: 0.0094\n",
            "Epoch 81/200\n",
            "\u001b[1m119/119\u001b[0m \u001b[32m━━━━━━━━━━━━━━━━━━━━\u001b[0m\u001b[37m\u001b[0m \u001b[1m0s\u001b[0m 4ms/step - loss: 6.4440e-04 - mae: 0.0176 - val_loss: 1.8607e-04 - val_mae: 0.0091\n",
            "Epoch 82/200\n",
            "\u001b[1m119/119\u001b[0m \u001b[32m━━━━━━━━━━━━━━━━━━━━\u001b[0m\u001b[37m\u001b[0m \u001b[1m0s\u001b[0m 4ms/step - loss: 5.8877e-04 - mae: 0.0170 - val_loss: 1.8489e-04 - val_mae: 0.0091\n",
            "Epoch 83/200\n",
            "\u001b[1m119/119\u001b[0m \u001b[32m━━━━━━━━━━━━━━━━━━━━\u001b[0m\u001b[37m\u001b[0m \u001b[1m0s\u001b[0m 4ms/step - loss: 5.9943e-04 - mae: 0.0170 - val_loss: 1.8365e-04 - val_mae: 0.0090\n",
            "Epoch 84/200\n",
            "\u001b[1m119/119\u001b[0m \u001b[32m━━━━━━━━━━━━━━━━━━━━\u001b[0m\u001b[37m\u001b[0m \u001b[1m0s\u001b[0m 4ms/step - loss: 6.2822e-04 - mae: 0.0177 - val_loss: 1.8359e-04 - val_mae: 0.0090\n",
            "Epoch 85/200\n",
            "\u001b[1m119/119\u001b[0m \u001b[32m━━━━━━━━━━━━━━━━━━━━\u001b[0m\u001b[37m\u001b[0m \u001b[1m0s\u001b[0m 4ms/step - loss: 6.6329e-04 - mae: 0.0176 - val_loss: 1.7941e-04 - val_mae: 0.0089\n",
            "Epoch 86/200\n",
            "\u001b[1m119/119\u001b[0m \u001b[32m━━━━━━━━━━━━━━━━━━━━\u001b[0m\u001b[37m\u001b[0m \u001b[1m0s\u001b[0m 4ms/step - loss: 5.9674e-04 - mae: 0.0170 - val_loss: 1.7542e-04 - val_mae: 0.0089\n",
            "Epoch 87/200\n",
            "\u001b[1m119/119\u001b[0m \u001b[32m━━━━━━━━━━━━━━━━━━━━\u001b[0m\u001b[37m\u001b[0m \u001b[1m0s\u001b[0m 4ms/step - loss: 6.2847e-04 - mae: 0.0176 - val_loss: 1.8096e-04 - val_mae: 0.0090\n",
            "Epoch 88/200\n",
            "\u001b[1m119/119\u001b[0m \u001b[32m━━━━━━━━━━━━━━━━━━━━\u001b[0m\u001b[37m\u001b[0m \u001b[1m0s\u001b[0m 4ms/step - loss: 6.4257e-04 - mae: 0.0176 - val_loss: 1.7118e-04 - val_mae: 0.0087\n",
            "Epoch 89/200\n",
            "\u001b[1m119/119\u001b[0m \u001b[32m━━━━━━━━━━━━━━━━━━━━\u001b[0m\u001b[37m\u001b[0m \u001b[1m0s\u001b[0m 4ms/step - loss: 6.1257e-04 - mae: 0.0168 - val_loss: 1.7228e-04 - val_mae: 0.0089\n",
            "Epoch 90/200\n",
            "\u001b[1m119/119\u001b[0m \u001b[32m━━━━━━━━━━━━━━━━━━━━\u001b[0m\u001b[37m\u001b[0m \u001b[1m0s\u001b[0m 4ms/step - loss: 6.1514e-04 - mae: 0.0174 - val_loss: 1.7709e-04 - val_mae: 0.0089\n",
            "Epoch 91/200\n",
            "\u001b[1m119/119\u001b[0m \u001b[32m━━━━━━━━━━━━━━━━━━━━\u001b[0m\u001b[37m\u001b[0m \u001b[1m0s\u001b[0m 4ms/step - loss: 6.3620e-04 - mae: 0.0175 - val_loss: 1.6912e-04 - val_mae: 0.0087\n",
            "Epoch 92/200\n",
            "\u001b[1m119/119\u001b[0m \u001b[32m━━━━━━━━━━━━━━━━━━━━\u001b[0m\u001b[37m\u001b[0m \u001b[1m0s\u001b[0m 4ms/step - loss: 6.3220e-04 - mae: 0.0175 - val_loss: 1.6787e-04 - val_mae: 0.0087\n",
            "Epoch 93/200\n",
            "\u001b[1m119/119\u001b[0m \u001b[32m━━━━━━━━━━━━━━━━━━━━\u001b[0m\u001b[37m\u001b[0m \u001b[1m0s\u001b[0m 4ms/step - loss: 6.3970e-04 - mae: 0.0175 - val_loss: 1.6597e-04 - val_mae: 0.0086\n",
            "Epoch 94/200\n",
            "\u001b[1m119/119\u001b[0m \u001b[32m━━━━━━━━━━━━━━━━━━━━\u001b[0m\u001b[37m\u001b[0m \u001b[1m0s\u001b[0m 4ms/step - loss: 5.9874e-04 - mae: 0.0173 - val_loss: 1.7372e-04 - val_mae: 0.0089\n",
            "Epoch 95/200\n",
            "\u001b[1m119/119\u001b[0m \u001b[32m━━━━━━━━━━━━━━━━━━━━\u001b[0m\u001b[37m\u001b[0m \u001b[1m0s\u001b[0m 4ms/step - loss: 6.2938e-04 - mae: 0.0175 - val_loss: 1.6451e-04 - val_mae: 0.0085\n",
            "Epoch 96/200\n",
            "\u001b[1m119/119\u001b[0m \u001b[32m━━━━━━━━━━━━━━━━━━━━\u001b[0m\u001b[37m\u001b[0m \u001b[1m0s\u001b[0m 4ms/step - loss: 5.6528e-04 - mae: 0.0167 - val_loss: 1.6788e-04 - val_mae: 0.0087\n",
            "Epoch 97/200\n",
            "\u001b[1m119/119\u001b[0m \u001b[32m━━━━━━━━━━━━━━━━━━━━\u001b[0m\u001b[37m\u001b[0m \u001b[1m0s\u001b[0m 4ms/step - loss: 6.3799e-04 - mae: 0.0174 - val_loss: 1.6163e-04 - val_mae: 0.0085\n",
            "Epoch 98/200\n",
            "\u001b[1m119/119\u001b[0m \u001b[32m━━━━━━━━━━━━━━━━━━━━\u001b[0m\u001b[37m\u001b[0m \u001b[1m0s\u001b[0m 4ms/step - loss: 5.9243e-04 - mae: 0.0170 - val_loss: 1.6528e-04 - val_mae: 0.0086\n",
            "Epoch 99/200\n",
            "\u001b[1m119/119\u001b[0m \u001b[32m━━━━━━━━━━━━━━━━━━━━\u001b[0m\u001b[37m\u001b[0m \u001b[1m0s\u001b[0m 4ms/step - loss: 6.1230e-04 - mae: 0.0173 - val_loss: 1.6836e-04 - val_mae: 0.0087\n",
            "Epoch 100/200\n",
            "\u001b[1m119/119\u001b[0m \u001b[32m━━━━━━━━━━━━━━━━━━━━\u001b[0m\u001b[37m\u001b[0m \u001b[1m0s\u001b[0m 4ms/step - loss: 6.4938e-04 - mae: 0.0181 - val_loss: 1.6545e-04 - val_mae: 0.0087\n",
            "Epoch 101/200\n",
            "\u001b[1m119/119\u001b[0m \u001b[32m━━━━━━━━━━━━━━━━━━━━\u001b[0m\u001b[37m\u001b[0m \u001b[1m0s\u001b[0m 4ms/step - loss: 6.0163e-04 - mae: 0.0173 - val_loss: 1.7271e-04 - val_mae: 0.0088\n",
            "Epoch 102/200\n",
            "\u001b[1m119/119\u001b[0m \u001b[32m━━━━━━━━━━━━━━━━━━━━\u001b[0m\u001b[37m\u001b[0m \u001b[1m0s\u001b[0m 4ms/step - loss: 5.7307e-04 - mae: 0.0168 - val_loss: 1.7497e-04 - val_mae: 0.0090\n",
            "Epoch 103/200\n",
            "\u001b[1m119/119\u001b[0m \u001b[32m━━━━━━━━━━━━━━━━━━━━\u001b[0m\u001b[37m\u001b[0m \u001b[1m0s\u001b[0m 4ms/step - loss: 6.1044e-04 - mae: 0.0175 - val_loss: 1.8718e-04 - val_mae: 0.0092\n",
            "Epoch 104/200\n",
            "\u001b[1m119/119\u001b[0m \u001b[32m━━━━━━━━━━━━━━━━━━━━\u001b[0m\u001b[37m\u001b[0m \u001b[1m0s\u001b[0m 4ms/step - loss: 5.7469e-04 - mae: 0.0174 - val_loss: 1.7566e-04 - val_mae: 0.0087\n",
            "Epoch 105/200\n",
            "\u001b[1m119/119\u001b[0m \u001b[32m━━━━━━━━━━━━━━━━━━━━\u001b[0m\u001b[37m\u001b[0m \u001b[1m0s\u001b[0m 4ms/step - loss: 5.7825e-04 - mae: 0.0169 - val_loss: 1.7397e-04 - val_mae: 0.0085\n",
            "Epoch 106/200\n",
            "\u001b[1m119/119\u001b[0m \u001b[32m━━━━━━━━━━━━━━━━━━━━\u001b[0m\u001b[37m\u001b[0m \u001b[1m0s\u001b[0m 4ms/step - loss: 5.6182e-04 - mae: 0.0168 - val_loss: 1.7260e-04 - val_mae: 0.0086\n",
            "Epoch 107/200\n",
            "\u001b[1m119/119\u001b[0m \u001b[32m━━━━━━━━━━━━━━━━━━━━\u001b[0m\u001b[37m\u001b[0m \u001b[1m0s\u001b[0m 4ms/step - loss: 5.8437e-04 - mae: 0.0171 - val_loss: 1.6887e-04 - val_mae: 0.0084\n",
            "Epoch 108/200\n",
            "\u001b[1m119/119\u001b[0m \u001b[32m━━━━━━━━━━━━━━━━━━━━\u001b[0m\u001b[37m\u001b[0m \u001b[1m0s\u001b[0m 4ms/step - loss: 5.4844e-04 - mae: 0.0165 - val_loss: 1.6908e-04 - val_mae: 0.0084\n",
            "Epoch 109/200\n",
            "\u001b[1m119/119\u001b[0m \u001b[32m━━━━━━━━━━━━━━━━━━━━\u001b[0m\u001b[37m\u001b[0m \u001b[1m0s\u001b[0m 4ms/step - loss: 5.7565e-04 - mae: 0.0168 - val_loss: 1.7521e-04 - val_mae: 0.0086\n",
            "Epoch 110/200\n",
            "\u001b[1m119/119\u001b[0m \u001b[32m━━━━━━━━━━━━━━━━━━━━\u001b[0m\u001b[37m\u001b[0m \u001b[1m0s\u001b[0m 4ms/step - loss: 5.7376e-04 - mae: 0.0172 - val_loss: 1.6703e-04 - val_mae: 0.0083\n",
            "Epoch 111/200\n",
            "\u001b[1m119/119\u001b[0m \u001b[32m━━━━━━━━━━━━━━━━━━━━\u001b[0m\u001b[37m\u001b[0m \u001b[1m0s\u001b[0m 4ms/step - loss: 5.5457e-04 - mae: 0.0163 - val_loss: 1.6080e-04 - val_mae: 0.0082\n",
            "Epoch 112/200\n",
            "\u001b[1m119/119\u001b[0m \u001b[32m━━━━━━━━━━━━━━━━━━━━\u001b[0m\u001b[37m\u001b[0m \u001b[1m0s\u001b[0m 4ms/step - loss: 5.0193e-04 - mae: 0.0156 - val_loss: 1.6797e-04 - val_mae: 0.0083\n",
            "Epoch 113/200\n",
            "\u001b[1m119/119\u001b[0m \u001b[32m━━━━━━━━━━━━━━━━━━━━\u001b[0m\u001b[37m\u001b[0m \u001b[1m0s\u001b[0m 4ms/step - loss: 5.2122e-04 - mae: 0.0160 - val_loss: 1.7255e-04 - val_mae: 0.0085\n",
            "Epoch 114/200\n",
            "\u001b[1m119/119\u001b[0m \u001b[32m━━━━━━━━━━━━━━━━━━━━\u001b[0m\u001b[37m\u001b[0m \u001b[1m0s\u001b[0m 4ms/step - loss: 5.5507e-04 - mae: 0.0169 - val_loss: 1.6716e-04 - val_mae: 0.0082\n",
            "Epoch 115/200\n",
            "\u001b[1m119/119\u001b[0m \u001b[32m━━━━━━━━━━━━━━━━━━━━\u001b[0m\u001b[37m\u001b[0m \u001b[1m0s\u001b[0m 4ms/step - loss: 5.6214e-04 - mae: 0.0167 - val_loss: 1.6060e-04 - val_mae: 0.0081\n",
            "Epoch 116/200\n",
            "\u001b[1m119/119\u001b[0m \u001b[32m━━━━━━━━━━━━━━━━━━━━\u001b[0m\u001b[37m\u001b[0m \u001b[1m0s\u001b[0m 4ms/step - loss: 5.2678e-04 - mae: 0.0163 - val_loss: 1.6902e-04 - val_mae: 0.0087\n",
            "Epoch 117/200\n",
            "\u001b[1m119/119\u001b[0m \u001b[32m━━━━━━━━━━━━━━━━━━━━\u001b[0m\u001b[37m\u001b[0m \u001b[1m0s\u001b[0m 4ms/step - loss: 5.9924e-04 - mae: 0.0176 - val_loss: 1.5934e-04 - val_mae: 0.0081\n",
            "Epoch 118/200\n",
            "\u001b[1m119/119\u001b[0m \u001b[32m━━━━━━━━━━━━━━━━━━━━\u001b[0m\u001b[37m\u001b[0m \u001b[1m0s\u001b[0m 4ms/step - loss: 5.2639e-04 - mae: 0.0160 - val_loss: 1.6542e-04 - val_mae: 0.0083\n",
            "Epoch 119/200\n",
            "\u001b[1m119/119\u001b[0m \u001b[32m━━━━━━━━━━━━━━━━━━━━\u001b[0m\u001b[37m\u001b[0m \u001b[1m0s\u001b[0m 4ms/step - loss: 5.7906e-04 - mae: 0.0172 - val_loss: 1.6383e-04 - val_mae: 0.0082\n",
            "Epoch 120/200\n",
            "\u001b[1m119/119\u001b[0m \u001b[32m━━━━━━━━━━━━━━━━━━━━\u001b[0m\u001b[37m\u001b[0m \u001b[1m0s\u001b[0m 4ms/step - loss: 5.5396e-04 - mae: 0.0165 - val_loss: 1.7120e-04 - val_mae: 0.0084\n",
            "Epoch 121/200\n",
            "\u001b[1m119/119\u001b[0m \u001b[32m━━━━━━━━━━━━━━━━━━━━\u001b[0m\u001b[37m\u001b[0m \u001b[1m0s\u001b[0m 4ms/step - loss: 5.9053e-04 - mae: 0.0173 - val_loss: 1.7100e-04 - val_mae: 0.0084\n",
            "Epoch 122/200\n",
            "\u001b[1m119/119\u001b[0m \u001b[32m━━━━━━━━━━━━━━━━━━━━\u001b[0m\u001b[37m\u001b[0m \u001b[1m0s\u001b[0m 4ms/step - loss: 5.6041e-04 - mae: 0.0168 - val_loss: 1.6877e-04 - val_mae: 0.0082\n",
            "Epoch 123/200\n",
            "\u001b[1m119/119\u001b[0m \u001b[32m━━━━━━━━━━━━━━━━━━━━\u001b[0m\u001b[37m\u001b[0m \u001b[1m0s\u001b[0m 4ms/step - loss: 5.1195e-04 - mae: 0.0162 - val_loss: 1.6602e-04 - val_mae: 0.0081\n",
            "Epoch 124/200\n",
            "\u001b[1m119/119\u001b[0m \u001b[32m━━━━━━━━━━━━━━━━━━━━\u001b[0m\u001b[37m\u001b[0m \u001b[1m0s\u001b[0m 4ms/step - loss: 5.2549e-04 - mae: 0.0159 - val_loss: 1.7813e-04 - val_mae: 0.0086\n",
            "Epoch 125/200\n",
            "\u001b[1m119/119\u001b[0m \u001b[32m━━━━━━━━━━━━━━━━━━━━\u001b[0m\u001b[37m\u001b[0m \u001b[1m0s\u001b[0m 4ms/step - loss: 6.1777e-04 - mae: 0.0179 - val_loss: 1.6992e-04 - val_mae: 0.0081\n",
            "Epoch 126/200\n",
            "\u001b[1m119/119\u001b[0m \u001b[32m━━━━━━━━━━━━━━━━━━━━\u001b[0m\u001b[37m\u001b[0m \u001b[1m0s\u001b[0m 4ms/step - loss: 5.3923e-04 - mae: 0.0163 - val_loss: 1.8831e-04 - val_mae: 0.0091\n",
            "Epoch 127/200\n",
            "\u001b[1m119/119\u001b[0m \u001b[32m━━━━━━━━━━━━━━━━━━━━\u001b[0m\u001b[37m\u001b[0m \u001b[1m0s\u001b[0m 4ms/step - loss: 6.1318e-04 - mae: 0.0179 - val_loss: 1.9190e-04 - val_mae: 0.0086\n",
            "Epoch 128/200\n",
            "\u001b[1m119/119\u001b[0m \u001b[32m━━━━━━━━━━━━━━━━━━━━\u001b[0m\u001b[37m\u001b[0m \u001b[1m0s\u001b[0m 4ms/step - loss: 5.4307e-04 - mae: 0.0168 - val_loss: 1.7405e-04 - val_mae: 0.0081\n",
            "Epoch 129/200\n",
            "\u001b[1m119/119\u001b[0m \u001b[32m━━━━━━━━━━━━━━━━━━━━\u001b[0m\u001b[37m\u001b[0m \u001b[1m0s\u001b[0m 4ms/step - loss: 5.0669e-04 - mae: 0.0159 - val_loss: 1.7825e-04 - val_mae: 0.0081\n",
            "Epoch 130/200\n",
            "\u001b[1m119/119\u001b[0m \u001b[32m━━━━━━━━━━━━━━━━━━━━\u001b[0m\u001b[37m\u001b[0m \u001b[1m0s\u001b[0m 4ms/step - loss: 5.2206e-04 - mae: 0.0162 - val_loss: 1.8034e-04 - val_mae: 0.0081\n",
            "Epoch 131/200\n",
            "\u001b[1m119/119\u001b[0m \u001b[32m━━━━━━━━━━━━━━━━━━━━\u001b[0m\u001b[37m\u001b[0m \u001b[1m0s\u001b[0m 4ms/step - loss: 5.0216e-04 - mae: 0.0160 - val_loss: 1.8650e-04 - val_mae: 0.0085\n",
            "Epoch 132/200\n",
            "\u001b[1m119/119\u001b[0m \u001b[32m━━━━━━━━━━━━━━━━━━━━\u001b[0m\u001b[37m\u001b[0m \u001b[1m0s\u001b[0m 4ms/step - loss: 5.6238e-04 - mae: 0.0169 - val_loss: 1.8145e-04 - val_mae: 0.0084\n",
            "Epoch 133/200\n",
            "\u001b[1m119/119\u001b[0m \u001b[32m━━━━━━━━━━━━━━━━━━━━\u001b[0m\u001b[37m\u001b[0m \u001b[1m0s\u001b[0m 4ms/step - loss: 5.8798e-04 - mae: 0.0174 - val_loss: 1.8012e-04 - val_mae: 0.0082\n",
            "Epoch 134/200\n",
            "\u001b[1m119/119\u001b[0m \u001b[32m━━━━━━━━━━━━━━━━━━━━\u001b[0m\u001b[37m\u001b[0m \u001b[1m0s\u001b[0m 4ms/step - loss: 5.3485e-04 - mae: 0.0163 - val_loss: 1.7537e-04 - val_mae: 0.0088\n",
            "Epoch 135/200\n",
            "\u001b[1m119/119\u001b[0m \u001b[32m━━━━━━━━━━━━━━━━━━━━\u001b[0m\u001b[37m\u001b[0m \u001b[1m0s\u001b[0m 4ms/step - loss: 5.5333e-04 - mae: 0.0167 - val_loss: 1.6629e-04 - val_mae: 0.0079\n",
            "Epoch 136/200\n",
            "\u001b[1m119/119\u001b[0m \u001b[32m━━━━━━━━━━━━━━━━━━━━\u001b[0m\u001b[37m\u001b[0m \u001b[1m0s\u001b[0m 4ms/step - loss: 4.7160e-04 - mae: 0.0154 - val_loss: 1.7324e-04 - val_mae: 0.0082\n",
            "Epoch 137/200\n",
            "\u001b[1m119/119\u001b[0m \u001b[32m━━━━━━━━━━━━━━━━━━━━\u001b[0m\u001b[37m\u001b[0m \u001b[1m0s\u001b[0m 4ms/step - loss: 5.0644e-04 - mae: 0.0161 - val_loss: 1.7082e-04 - val_mae: 0.0079\n",
            "Epoch 138/200\n",
            "\u001b[1m119/119\u001b[0m \u001b[32m━━━━━━━━━━━━━━━━━━━━\u001b[0m\u001b[37m\u001b[0m \u001b[1m0s\u001b[0m 4ms/step - loss: 4.4742e-04 - mae: 0.0151 - val_loss: 1.7703e-04 - val_mae: 0.0081\n",
            "Epoch 139/200\n",
            "\u001b[1m119/119\u001b[0m \u001b[32m━━━━━━━━━━━━━━━━━━━━\u001b[0m\u001b[37m\u001b[0m \u001b[1m0s\u001b[0m 4ms/step - loss: 5.3018e-04 - mae: 0.0162 - val_loss: 1.7257e-04 - val_mae: 0.0078\n",
            "Epoch 140/200\n",
            "\u001b[1m119/119\u001b[0m \u001b[32m━━━━━━━━━━━━━━━━━━━━\u001b[0m\u001b[37m\u001b[0m \u001b[1m0s\u001b[0m 4ms/step - loss: 5.1576e-04 - mae: 0.0161 - val_loss: 1.7922e-04 - val_mae: 0.0082\n",
            "Epoch 141/200\n",
            "\u001b[1m119/119\u001b[0m \u001b[32m━━━━━━━━━━━━━━━━━━━━\u001b[0m\u001b[37m\u001b[0m \u001b[1m0s\u001b[0m 4ms/step - loss: 4.7518e-04 - mae: 0.0157 - val_loss: 1.7273e-04 - val_mae: 0.0081\n",
            "Epoch 142/200\n",
            "\u001b[1m119/119\u001b[0m \u001b[32m━━━━━━━━━━━━━━━━━━━━\u001b[0m\u001b[37m\u001b[0m \u001b[1m0s\u001b[0m 4ms/step - loss: 5.3542e-04 - mae: 0.0164 - val_loss: 1.7185e-04 - val_mae: 0.0078\n",
            "Epoch 143/200\n",
            "\u001b[1m119/119\u001b[0m \u001b[32m━━━━━━━━━━━━━━━━━━━━\u001b[0m\u001b[37m\u001b[0m \u001b[1m0s\u001b[0m 4ms/step - loss: 5.2037e-04 - mae: 0.0163 - val_loss: 1.8239e-04 - val_mae: 0.0081\n",
            "Epoch 144/200\n",
            "\u001b[1m119/119\u001b[0m \u001b[32m━━━━━━━━━━━━━━━━━━━━\u001b[0m\u001b[37m\u001b[0m \u001b[1m0s\u001b[0m 4ms/step - loss: 5.4614e-04 - mae: 0.0170 - val_loss: 1.9029e-04 - val_mae: 0.0081\n",
            "Epoch 145/200\n",
            "\u001b[1m119/119\u001b[0m \u001b[32m━━━━━━━━━━━━━━━━━━━━\u001b[0m\u001b[37m\u001b[0m \u001b[1m0s\u001b[0m 4ms/step - loss: 5.0878e-04 - mae: 0.0162 - val_loss: 1.8749e-04 - val_mae: 0.0081\n",
            "Epoch 146/200\n",
            "\u001b[1m119/119\u001b[0m \u001b[32m━━━━━━━━━━━━━━━━━━━━\u001b[0m\u001b[37m\u001b[0m \u001b[1m0s\u001b[0m 4ms/step - loss: 5.1457e-04 - mae: 0.0163 - val_loss: 1.8691e-04 - val_mae: 0.0080\n",
            "Epoch 147/200\n",
            "\u001b[1m119/119\u001b[0m \u001b[32m━━━━━━━━━━━━━━━━━━━━\u001b[0m\u001b[37m\u001b[0m \u001b[1m0s\u001b[0m 4ms/step - loss: 4.9298e-04 - mae: 0.0158 - val_loss: 1.8032e-04 - val_mae: 0.0079\n",
            "Epoch 148/200\n",
            "\u001b[1m119/119\u001b[0m \u001b[32m━━━━━━━━━━━━━━━━━━━━\u001b[0m\u001b[37m\u001b[0m \u001b[1m0s\u001b[0m 4ms/step - loss: 5.0838e-04 - mae: 0.0160 - val_loss: 2.0494e-04 - val_mae: 0.0082\n",
            "Epoch 149/200\n",
            "\u001b[1m119/119\u001b[0m \u001b[32m━━━━━━━━━━━━━━━━━━━━\u001b[0m\u001b[37m\u001b[0m \u001b[1m0s\u001b[0m 4ms/step - loss: 5.2820e-04 - mae: 0.0165 - val_loss: 1.9393e-04 - val_mae: 0.0079\n",
            "Epoch 150/200\n",
            "\u001b[1m119/119\u001b[0m \u001b[32m━━━━━━━━━━━━━━━━━━━━\u001b[0m\u001b[37m\u001b[0m \u001b[1m0s\u001b[0m 4ms/step - loss: 4.9536e-04 - mae: 0.0158 - val_loss: 2.0866e-04 - val_mae: 0.0082\n",
            "Epoch 151/200\n",
            "\u001b[1m119/119\u001b[0m \u001b[32m━━━━━━━━━━━━━━━━━━━━\u001b[0m\u001b[37m\u001b[0m \u001b[1m0s\u001b[0m 4ms/step - loss: 4.8221e-04 - mae: 0.0157 - val_loss: 1.9693e-04 - val_mae: 0.0080\n",
            "Epoch 152/200\n",
            "\u001b[1m119/119\u001b[0m \u001b[32m━━━━━━━━━━━━━━━━━━━━\u001b[0m\u001b[37m\u001b[0m \u001b[1m0s\u001b[0m 4ms/step - loss: 4.4754e-04 - mae: 0.0149 - val_loss: 1.9596e-04 - val_mae: 0.0080\n",
            "Epoch 153/200\n",
            "\u001b[1m119/119\u001b[0m \u001b[32m━━━━━━━━━━━━━━━━━━━━\u001b[0m\u001b[37m\u001b[0m \u001b[1m0s\u001b[0m 4ms/step - loss: 5.2154e-04 - mae: 0.0160 - val_loss: 2.1564e-04 - val_mae: 0.0084\n",
            "Epoch 154/200\n",
            "\u001b[1m119/119\u001b[0m \u001b[32m━━━━━━━━━━━━━━━━━━━━\u001b[0m\u001b[37m\u001b[0m \u001b[1m0s\u001b[0m 4ms/step - loss: 4.7702e-04 - mae: 0.0158 - val_loss: 2.1168e-04 - val_mae: 0.0086\n",
            "Epoch 155/200\n",
            "\u001b[1m119/119\u001b[0m \u001b[32m━━━━━━━━━━━━━━━━━━━━\u001b[0m\u001b[37m\u001b[0m \u001b[1m0s\u001b[0m 4ms/step - loss: 5.2622e-04 - mae: 0.0168 - val_loss: 1.9612e-04 - val_mae: 0.0079\n",
            "Epoch 156/200\n",
            "\u001b[1m119/119\u001b[0m \u001b[32m━━━━━━━━━━━━━━━━━━━━\u001b[0m\u001b[37m\u001b[0m \u001b[1m0s\u001b[0m 4ms/step - loss: 4.9272e-04 - mae: 0.0161 - val_loss: 2.0198e-04 - val_mae: 0.0085\n",
            "Epoch 157/200\n",
            "\u001b[1m119/119\u001b[0m \u001b[32m━━━━━━━━━━━━━━━━━━━━\u001b[0m\u001b[37m\u001b[0m \u001b[1m0s\u001b[0m 4ms/step - loss: 5.1814e-04 - mae: 0.0165 - val_loss: 2.0003e-04 - val_mae: 0.0081\n",
            "Epoch 158/200\n",
            "\u001b[1m119/119\u001b[0m \u001b[32m━━━━━━━━━━━━━━━━━━━━\u001b[0m\u001b[37m\u001b[0m \u001b[1m0s\u001b[0m 4ms/step - loss: 4.7635e-04 - mae: 0.0157 - val_loss: 2.0697e-04 - val_mae: 0.0081\n",
            "Epoch 159/200\n",
            "\u001b[1m119/119\u001b[0m \u001b[32m━━━━━━━━━━━━━━━━━━━━\u001b[0m\u001b[37m\u001b[0m \u001b[1m0s\u001b[0m 4ms/step - loss: 4.8440e-04 - mae: 0.0156 - val_loss: 2.0052e-04 - val_mae: 0.0083\n",
            "Epoch 160/200\n",
            "\u001b[1m119/119\u001b[0m \u001b[32m━━━━━━━━━━━━━━━━━━━━\u001b[0m\u001b[37m\u001b[0m \u001b[1m0s\u001b[0m 4ms/step - loss: 5.1966e-04 - mae: 0.0164 - val_loss: 2.0735e-04 - val_mae: 0.0082\n",
            "Epoch 161/200\n",
            "\u001b[1m119/119\u001b[0m \u001b[32m━━━━━━━━━━━━━━━━━━━━\u001b[0m\u001b[37m\u001b[0m \u001b[1m0s\u001b[0m 4ms/step - loss: 5.1795e-04 - mae: 0.0163 - val_loss: 2.0605e-04 - val_mae: 0.0080\n",
            "Epoch 162/200\n",
            "\u001b[1m119/119\u001b[0m \u001b[32m━━━━━━━━━━━━━━━━━━━━\u001b[0m\u001b[37m\u001b[0m \u001b[1m0s\u001b[0m 4ms/step - loss: 4.9501e-04 - mae: 0.0162 - val_loss: 2.0928e-04 - val_mae: 0.0082\n",
            "Epoch 163/200\n",
            "\u001b[1m119/119\u001b[0m \u001b[32m━━━━━━━━━━━━━━━━━━━━\u001b[0m\u001b[37m\u001b[0m \u001b[1m0s\u001b[0m 4ms/step - loss: 5.5504e-04 - mae: 0.0168 - val_loss: 2.1280e-04 - val_mae: 0.0081\n",
            "Epoch 164/200\n",
            "\u001b[1m119/119\u001b[0m \u001b[32m━━━━━━━━━━━━━━━━━━━━\u001b[0m\u001b[37m\u001b[0m \u001b[1m0s\u001b[0m 4ms/step - loss: 4.9613e-04 - mae: 0.0157 - val_loss: 2.2027e-04 - val_mae: 0.0081\n",
            "Epoch 165/200\n",
            "\u001b[1m119/119\u001b[0m \u001b[32m━━━━━━━━━━━━━━━━━━━━\u001b[0m\u001b[37m\u001b[0m \u001b[1m0s\u001b[0m 4ms/step - loss: 4.4057e-04 - mae: 0.0150 - val_loss: 2.1686e-04 - val_mae: 0.0082\n",
            "Epoch 166/200\n",
            "\u001b[1m119/119\u001b[0m \u001b[32m━━━━━━━━━━━━━━━━━━━━\u001b[0m\u001b[37m\u001b[0m \u001b[1m0s\u001b[0m 4ms/step - loss: 4.6733e-04 - mae: 0.0155 - val_loss: 2.2053e-04 - val_mae: 0.0083\n",
            "Epoch 167/200\n",
            "\u001b[1m119/119\u001b[0m \u001b[32m━━━━━━━━━━━━━━━━━━━━\u001b[0m\u001b[37m\u001b[0m \u001b[1m0s\u001b[0m 4ms/step - loss: 5.1380e-04 - mae: 0.0161 - val_loss: 1.9476e-04 - val_mae: 0.0078\n",
            "Epoch 168/200\n",
            "\u001b[1m119/119\u001b[0m \u001b[32m━━━━━━━━━━━━━━━━━━━━\u001b[0m\u001b[37m\u001b[0m \u001b[1m0s\u001b[0m 4ms/step - loss: 4.8196e-04 - mae: 0.0158 - val_loss: 2.0319e-04 - val_mae: 0.0079\n",
            "Epoch 169/200\n",
            "\u001b[1m119/119\u001b[0m \u001b[32m━━━━━━━━━━━━━━━━━━━━\u001b[0m\u001b[37m\u001b[0m \u001b[1m0s\u001b[0m 4ms/step - loss: 4.6155e-04 - mae: 0.0155 - val_loss: 2.0537e-04 - val_mae: 0.0081\n",
            "Epoch 170/200\n",
            "\u001b[1m119/119\u001b[0m \u001b[32m━━━━━━━━━━━━━━━━━━━━\u001b[0m\u001b[37m\u001b[0m \u001b[1m0s\u001b[0m 4ms/step - loss: 4.6059e-04 - mae: 0.0151 - val_loss: 2.0251e-04 - val_mae: 0.0080\n",
            "Epoch 171/200\n",
            "\u001b[1m119/119\u001b[0m \u001b[32m━━━━━━━━━━━━━━━━━━━━\u001b[0m\u001b[37m\u001b[0m \u001b[1m0s\u001b[0m 4ms/step - loss: 5.0318e-04 - mae: 0.0158 - val_loss: 2.1343e-04 - val_mae: 0.0081\n",
            "Epoch 172/200\n",
            "\u001b[1m119/119\u001b[0m \u001b[32m━━━━━━━━━━━━━━━━━━━━\u001b[0m\u001b[37m\u001b[0m \u001b[1m0s\u001b[0m 4ms/step - loss: 5.0448e-04 - mae: 0.0163 - val_loss: 1.9927e-04 - val_mae: 0.0080\n",
            "Epoch 173/200\n",
            "\u001b[1m119/119\u001b[0m \u001b[32m━━━━━━━━━━━━━━━━━━━━\u001b[0m\u001b[37m\u001b[0m \u001b[1m0s\u001b[0m 4ms/step - loss: 5.2276e-04 - mae: 0.0162 - val_loss: 1.9965e-04 - val_mae: 0.0078\n",
            "Epoch 174/200\n",
            "\u001b[1m119/119\u001b[0m \u001b[32m━━━━━━━━━━━━━━━━━━━━\u001b[0m\u001b[37m\u001b[0m \u001b[1m0s\u001b[0m 4ms/step - loss: 4.6750e-04 - mae: 0.0155 - val_loss: 2.2748e-04 - val_mae: 0.0085\n",
            "Epoch 175/200\n",
            "\u001b[1m119/119\u001b[0m \u001b[32m━━━━━━━━━━━━━━━━━━━━\u001b[0m\u001b[37m\u001b[0m \u001b[1m0s\u001b[0m 4ms/step - loss: 4.8201e-04 - mae: 0.0156 - val_loss: 2.0847e-04 - val_mae: 0.0078\n",
            "Epoch 176/200\n",
            "\u001b[1m119/119\u001b[0m \u001b[32m━━━━━━━━━━━━━━━━━━━━\u001b[0m\u001b[37m\u001b[0m \u001b[1m0s\u001b[0m 4ms/step - loss: 5.0319e-04 - mae: 0.0160 - val_loss: 2.1563e-04 - val_mae: 0.0080\n",
            "Epoch 177/200\n",
            "\u001b[1m119/119\u001b[0m \u001b[32m━━━━━━━━━━━━━━━━━━━━\u001b[0m\u001b[37m\u001b[0m \u001b[1m0s\u001b[0m 4ms/step - loss: 4.6715e-04 - mae: 0.0156 - val_loss: 2.1691e-04 - val_mae: 0.0080\n",
            "Epoch 178/200\n",
            "\u001b[1m119/119\u001b[0m \u001b[32m━━━━━━━━━━━━━━━━━━━━\u001b[0m\u001b[37m\u001b[0m \u001b[1m0s\u001b[0m 4ms/step - loss: 4.7105e-04 - mae: 0.0158 - val_loss: 2.1536e-04 - val_mae: 0.0081\n",
            "Epoch 179/200\n",
            "\u001b[1m119/119\u001b[0m \u001b[32m━━━━━━━━━━━━━━━━━━━━\u001b[0m\u001b[37m\u001b[0m \u001b[1m0s\u001b[0m 4ms/step - loss: 4.7600e-04 - mae: 0.0157 - val_loss: 2.1502e-04 - val_mae: 0.0089\n",
            "Epoch 180/200\n",
            "\u001b[1m119/119\u001b[0m \u001b[32m━━━━━━━━━━━━━━━━━━━━\u001b[0m\u001b[37m\u001b[0m \u001b[1m0s\u001b[0m 4ms/step - loss: 4.5683e-04 - mae: 0.0157 - val_loss: 2.2507e-04 - val_mae: 0.0080\n",
            "Epoch 181/200\n",
            "\u001b[1m119/119\u001b[0m \u001b[32m━━━━━━━━━━━━━━━━━━━━\u001b[0m\u001b[37m\u001b[0m \u001b[1m0s\u001b[0m 4ms/step - loss: 4.8600e-04 - mae: 0.0158 - val_loss: 2.3371e-04 - val_mae: 0.0081\n",
            "Epoch 182/200\n",
            "\u001b[1m119/119\u001b[0m \u001b[32m━━━━━━━━━━━━━━━━━━━━\u001b[0m\u001b[37m\u001b[0m \u001b[1m0s\u001b[0m 4ms/step - loss: 4.2564e-04 - mae: 0.0148 - val_loss: 2.3500e-04 - val_mae: 0.0082\n",
            "Epoch 183/200\n",
            "\u001b[1m119/119\u001b[0m \u001b[32m━━━━━━━━━━━━━━━━━━━━\u001b[0m\u001b[37m\u001b[0m \u001b[1m0s\u001b[0m 4ms/step - loss: 5.1925e-04 - mae: 0.0164 - val_loss: 2.3850e-04 - val_mae: 0.0082\n",
            "Epoch 184/200\n",
            "\u001b[1m119/119\u001b[0m \u001b[32m━━━━━━━━━━━━━━━━━━━━\u001b[0m\u001b[37m\u001b[0m \u001b[1m0s\u001b[0m 4ms/step - loss: 4.8708e-04 - mae: 0.0160 - val_loss: 2.6083e-04 - val_mae: 0.0088\n",
            "Epoch 185/200\n",
            "\u001b[1m119/119\u001b[0m \u001b[32m━━━━━━━━━━━━━━━━━━━━\u001b[0m\u001b[37m\u001b[0m \u001b[1m0s\u001b[0m 4ms/step - loss: 4.7498e-04 - mae: 0.0154 - val_loss: 2.3994e-04 - val_mae: 0.0082\n",
            "Epoch 186/200\n",
            "\u001b[1m119/119\u001b[0m \u001b[32m━━━━━━━━━━━━━━━━━━━━\u001b[0m\u001b[37m\u001b[0m \u001b[1m0s\u001b[0m 4ms/step - loss: 4.6099e-04 - mae: 0.0154 - val_loss: 2.1849e-04 - val_mae: 0.0080\n",
            "Epoch 187/200\n",
            "\u001b[1m119/119\u001b[0m \u001b[32m━━━━━━━━━━━━━━━━━━━━\u001b[0m\u001b[37m\u001b[0m \u001b[1m0s\u001b[0m 4ms/step - loss: 4.2037e-04 - mae: 0.0145 - val_loss: 2.3830e-04 - val_mae: 0.0081\n",
            "Epoch 188/200\n",
            "\u001b[1m119/119\u001b[0m \u001b[32m━━━━━━━━━━━━━━━━━━━━\u001b[0m\u001b[37m\u001b[0m \u001b[1m0s\u001b[0m 4ms/step - loss: 4.1996e-04 - mae: 0.0149 - val_loss: 2.5356e-04 - val_mae: 0.0085\n",
            "Epoch 189/200\n",
            "\u001b[1m119/119\u001b[0m \u001b[32m━━━━━━━━━━━━━━━━━━━━\u001b[0m\u001b[37m\u001b[0m \u001b[1m0s\u001b[0m 4ms/step - loss: 4.5193e-04 - mae: 0.0147 - val_loss: 2.4742e-04 - val_mae: 0.0083\n",
            "Epoch 190/200\n",
            "\u001b[1m119/119\u001b[0m \u001b[32m━━━━━━━━━━━━━━━━━━━━\u001b[0m\u001b[37m\u001b[0m \u001b[1m0s\u001b[0m 4ms/step - loss: 4.7490e-04 - mae: 0.0155 - val_loss: 2.3849e-04 - val_mae: 0.0081\n",
            "Epoch 191/200\n",
            "\u001b[1m119/119\u001b[0m \u001b[32m━━━━━━━━━━━━━━━━━━━━\u001b[0m\u001b[37m\u001b[0m \u001b[1m0s\u001b[0m 4ms/step - loss: 4.7862e-04 - mae: 0.0156 - val_loss: 2.3368e-04 - val_mae: 0.0081\n",
            "Epoch 192/200\n",
            "\u001b[1m119/119\u001b[0m \u001b[32m━━━━━━━━━━━━━━━━━━━━\u001b[0m\u001b[37m\u001b[0m \u001b[1m0s\u001b[0m 4ms/step - loss: 5.4253e-04 - mae: 0.0166 - val_loss: 2.4414e-04 - val_mae: 0.0086\n",
            "Epoch 193/200\n",
            "\u001b[1m119/119\u001b[0m \u001b[32m━━━━━━━━━━━━━━━━━━━━\u001b[0m\u001b[37m\u001b[0m \u001b[1m0s\u001b[0m 4ms/step - loss: 4.5727e-04 - mae: 0.0153 - val_loss: 2.5524e-04 - val_mae: 0.0082\n",
            "Epoch 194/200\n",
            "\u001b[1m119/119\u001b[0m \u001b[32m━━━━━━━━━━━━━━━━━━━━\u001b[0m\u001b[37m\u001b[0m \u001b[1m0s\u001b[0m 4ms/step - loss: 5.0791e-04 - mae: 0.0162 - val_loss: 2.5557e-04 - val_mae: 0.0083\n",
            "Epoch 195/200\n",
            "\u001b[1m119/119\u001b[0m \u001b[32m━━━━━━━━━━━━━━━━━━━━\u001b[0m\u001b[37m\u001b[0m \u001b[1m0s\u001b[0m 4ms/step - loss: 4.3956e-04 - mae: 0.0154 - val_loss: 2.4424e-04 - val_mae: 0.0081\n",
            "Epoch 196/200\n",
            "\u001b[1m119/119\u001b[0m \u001b[32m━━━━━━━━━━━━━━━━━━━━\u001b[0m\u001b[37m\u001b[0m \u001b[1m0s\u001b[0m 4ms/step - loss: 4.4092e-04 - mae: 0.0151 - val_loss: 2.5352e-04 - val_mae: 0.0082\n",
            "Epoch 197/200\n",
            "\u001b[1m119/119\u001b[0m \u001b[32m━━━━━━━━━━━━━━━━━━━━\u001b[0m\u001b[37m\u001b[0m \u001b[1m0s\u001b[0m 4ms/step - loss: 4.4707e-04 - mae: 0.0153 - val_loss: 2.5271e-04 - val_mae: 0.0085\n",
            "Epoch 198/200\n",
            "\u001b[1m119/119\u001b[0m \u001b[32m━━━━━━━━━━━━━━━━━━━━\u001b[0m\u001b[37m\u001b[0m \u001b[1m0s\u001b[0m 4ms/step - loss: 5.0390e-04 - mae: 0.0162 - val_loss: 2.4113e-04 - val_mae: 0.0081\n",
            "Epoch 199/200\n",
            "\u001b[1m119/119\u001b[0m \u001b[32m━━━━━━━━━━━━━━━━━━━━\u001b[0m\u001b[37m\u001b[0m \u001b[1m0s\u001b[0m 4ms/step - loss: 4.5906e-04 - mae: 0.0155 - val_loss: 2.7087e-04 - val_mae: 0.0088\n",
            "Epoch 200/200\n",
            "\u001b[1m119/119\u001b[0m \u001b[32m━━━━━━━━━━━━━━━━━━━━\u001b[0m\u001b[37m\u001b[0m \u001b[1m0s\u001b[0m 4ms/step - loss: 4.4586e-04 - mae: 0.0152 - val_loss: 2.4105e-04 - val_mae: 0.0080\n"
          ]
        }
      ]
    },
    {
      "cell_type": "code",
      "source": [
        "# Plot training & validation loss values\n",
        "plt.plot(history_model_5.history['loss'])\n",
        "plt.plot(history_model_5.history['val_loss'])\n",
        "plt.title('Model loss')\n",
        "plt.ylabel('Loss')\n",
        "plt.xlabel('Epoch')\n",
        "plt.legend(['Train', 'Test'], loc='upper left')\n",
        "plt.show()"
      ],
      "metadata": {
        "colab": {
          "base_uri": "https://localhost:8080/",
          "height": 472
        },
        "outputId": "5bd9f3e7-c322-400e-9677-2bd832ce0a28",
        "id": "_0QfAsz7eo7X"
      },
      "execution_count": null,
      "outputs": [
        {
          "output_type": "display_data",
          "data": {
            "text/plain": [
              "<Figure size 640x480 with 1 Axes>"
            ],
            "image/png": "[encoded data removed]"
          },
          "metadata": {}
        }
      ]
    },
    {
      "cell_type": "code",
      "source": [
        "from sklearn.metrics import mean_squared_error, mean_absolute_error, r2_score\n",
        "import numpy as np\n",
        "\n",
        "# Make predictions on the test set\n",
        "y_pred = best_model_5.predict(X_test)\n",
        "\n",
        "# Calculate the mean squared error\n",
        "mse = mean_squared_error(y_test, y_pred)\n",
        "print(f'Mean Squared Error (MSE): {mse}')\n",
        "\n",
        "# Calculate the mean absolute error\n",
        "mae = mean_absolute_error(y_test, y_pred)\n",
        "print(f'Mean Absolute Error (MAE): {mae}')\n",
        "\n",
        "# Calculate the R^2 score\n",
        "r2 = r2_score(y_test, y_pred)\n",
        "print(f'R^2 Score: {r2}')\n",
        "\n",
        "# Calculate Out-of-Sample (OOS) R^2\n",
        "def oos_r2_score(y_true, y_pred):\n",
        "    ss_res = np.sum((y_true - y_pred) ** 2)\n",
        "    ss_tot = np.sum((y_true - np.mean(y_true)) ** 2)\n",
        "    return 1 - (ss_res / ss_tot)\n",
        "\n",
        "oos_r2 = oos_r2_score(y_test, y_pred)\n",
        "print(f'Out-of-Sample (OOS) R^2 Score: {oos_r2}')\n",
        "\n",
        "# Plot actual vs predicted values using line plot\n",
        "plt.figure(figsize=(10, 6))\n",
        "plt.plot(range(len(y_test)), y_test, label='Actual Values', color='b')\n",
        "plt.plot(range(len(y_test)), y_pred, label='Predicted Values', color='r', alpha=0.7)\n",
        "plt.xlabel('Sample Index')\n",
        "plt.ylabel('Value')\n",
        "plt.title('Actual vs Predicted Values')\n",
        "plt.legend()\n",
        "plt.show()"
      ],
      "metadata": {
        "colab": {
          "base_uri": "https://localhost:8080/",
          "height": 649
        },
        "id": "SHYIKT6d-1Gk",
        "outputId": "81e7f92a-4906-4033-a057-b4665aca5629"
      },
      "execution_count": null,
      "outputs": [
        {
          "output_type": "stream",
          "name": "stdout",
          "text": [
            "\u001b[1m30/30\u001b[0m \u001b[32m━━━━━━━━━━━━━━━━━━━━\u001b[0m\u001b[37m\u001b[0m \u001b[1m0s\u001b[0m 5ms/step\n",
            "Mean Squared Error (MSE): 0.00024104626232107396\n",
            "Mean Absolute Error (MAE): 0.007965821631733124\n",
            "R^2 Score: 0.9760116227971773\n",
            "Out-of-Sample (OOS) R^2 Score: -1762.501763496988\n"
          ]
        },
        {
          "output_type": "display_data",
          "data": {
            "text/plain": [
              "<Figure size 1000x600 with 1 Axes>"
            ],
            "image/png": "[encoded data removed]"
          },
          "metadata": {}
        }
      ]
    },
    {
      "cell_type": "code",
      "source": [
        "# Calculate residuals\n",
        "residuals = y_test - y_pred\n",
        "\n",
        "# Plot residuals\n",
        "plt.figure(figsize=(10, 6))\n",
        "plt.scatter(range(len(residuals)), residuals, color='purple', alpha=0.5)\n",
        "plt.hlines(y=0, xmin=0, xmax=len(residuals), linestyles='dashed')\n",
        "plt.xlabel('Sample Index')\n",
        "plt.ylabel('Residual')\n",
        "plt.title('Residuals Plot')\n",
        "plt.show()"
      ],
      "metadata": {
        "colab": {
          "base_uri": "https://localhost:8080/",
          "height": 878
        },
        "id": "CaTa6M08_Pjp",
        "outputId": "39567bdd-22c1-43cd-8c39-f87924121d13"
      },
      "execution_count": null,
      "outputs": [
        {
          "output_type": "error",
          "ename": "ValueError",
          "evalue": "x and y must be the same size",
          "traceback": [
            "\u001b[0;31m---------------------------------------------------------------------------\u001b[0m",
            "\u001b[0;31mValueError\u001b[0m                                Traceback (most recent call last)",
            "\u001b[0;32m<ipython-input-477-c9c4f5262444>\u001b[0m in \u001b[0;36m<cell line: 6>\u001b[0;34m()\u001b[0m\n\u001b[1;32m      4\u001b[0m \u001b[0;31m# Plot residuals\u001b[0m\u001b[0;34m\u001b[0m\u001b[0;34m\u001b[0m\u001b[0m\n\u001b[1;32m      5\u001b[0m \u001b[0mplt\u001b[0m\u001b[0;34m.\u001b[0m\u001b[0mfigure\u001b[0m\u001b[0;34m(\u001b[0m\u001b[0mfigsize\u001b[0m\u001b[0;34m=\u001b[0m\u001b[0;34m(\u001b[0m\u001b[0;36m10\u001b[0m\u001b[0;34m,\u001b[0m \u001b[0;36m6\u001b[0m\u001b[0;34m)\u001b[0m\u001b[0;34m)\u001b[0m\u001b[0;34m\u001b[0m\u001b[0;34m\u001b[0m\u001b[0m\n\u001b[0;32m----> 6\u001b[0;31m \u001b[0mplt\u001b[0m\u001b[0;34m.\u001b[0m\u001b[0mscatter\u001b[0m\u001b[0;34m(\u001b[0m\u001b[0mrange\u001b[0m\u001b[0;34m(\u001b[0m\u001b[0mlen\u001b[0m\u001b[0;34m(\u001b[0m\u001b[0mresiduals\u001b[0m\u001b[0;34m)\u001b[0m\u001b[0;34m)\u001b[0m\u001b[0;34m,\u001b[0m \u001b[0mresiduals\u001b[0m\u001b[0;34m,\u001b[0m \u001b[0mcolor\u001b[0m\u001b[0;34m=\u001b[0m\u001b[0;34m'purple'\u001b[0m\u001b[0;34m,\u001b[0m \u001b[0malpha\u001b[0m\u001b[0;34m=\u001b[0m\u001b[0;36m0.5\u001b[0m\u001b[0;34m)\u001b[0m\u001b[0;34m\u001b[0m\u001b[0;34m\u001b[0m\u001b[0m\n\u001b[0m\u001b[1;32m      7\u001b[0m \u001b[0mplt\u001b[0m\u001b[0;34m.\u001b[0m\u001b[0mhlines\u001b[0m\u001b[0;34m(\u001b[0m\u001b[0my\u001b[0m\u001b[0;34m=\u001b[0m\u001b[0;36m0\u001b[0m\u001b[0;34m,\u001b[0m \u001b[0mxmin\u001b[0m\u001b[0;34m=\u001b[0m\u001b[0;36m0\u001b[0m\u001b[0;34m,\u001b[0m \u001b[0mxmax\u001b[0m\u001b[0;34m=\u001b[0m\u001b[0mlen\u001b[0m\u001b[0;34m(\u001b[0m\u001b[0mresiduals\u001b[0m\u001b[0;34m)\u001b[0m\u001b[0;34m,\u001b[0m \u001b[0mlinestyles\u001b[0m\u001b[0;34m=\u001b[0m\u001b[0;34m'dashed'\u001b[0m\u001b[0;34m)\u001b[0m\u001b[0;34m\u001b[0m\u001b[0;34m\u001b[0m\u001b[0m\n\u001b[1;32m      8\u001b[0m \u001b[0mplt\u001b[0m\u001b[0;34m.\u001b[0m\u001b[0mxlabel\u001b[0m\u001b[0;34m(\u001b[0m\u001b[0;34m'Sample Index'\u001b[0m\u001b[0;34m)\u001b[0m\u001b[0;34m\u001b[0m\u001b[0;34m\u001b[0m\u001b[0m\n",
            "\u001b[0;32m/usr/local/lib/python3.10/dist-packages/matplotlib/pyplot.py\u001b[0m in \u001b[0;36mscatter\u001b[0;34m(x, y, s, c, marker, cmap, norm, vmin, vmax, alpha, linewidths, edgecolors, plotnonfinite, data, **kwargs)\u001b[0m\n\u001b[1;32m   2860\u001b[0m         \u001b[0mvmin\u001b[0m\u001b[0;34m=\u001b[0m\u001b[0;32mNone\u001b[0m\u001b[0;34m,\u001b[0m \u001b[0mvmax\u001b[0m\u001b[0;34m=\u001b[0m\u001b[0;32mNone\u001b[0m\u001b[0;34m,\u001b[0m \u001b[0malpha\u001b[0m\u001b[0;34m=\u001b[0m\u001b[0;32mNone\u001b[0m\u001b[0;34m,\u001b[0m \u001b[0mlinewidths\u001b[0m\u001b[0;34m=\u001b[0m\u001b[0;32mNone\u001b[0m\u001b[0;34m,\u001b[0m \u001b[0;34m*\u001b[0m\u001b[0;34m,\u001b[0m\u001b[0;34m\u001b[0m\u001b[0;34m\u001b[0m\u001b[0m\n\u001b[1;32m   2861\u001b[0m         edgecolors=None, plotnonfinite=False, data=None, **kwargs):\n\u001b[0;32m-> 2862\u001b[0;31m     __ret = gca().scatter(\n\u001b[0m\u001b[1;32m   2863\u001b[0m         \u001b[0mx\u001b[0m\u001b[0;34m,\u001b[0m \u001b[0my\u001b[0m\u001b[0;34m,\u001b[0m \u001b[0ms\u001b[0m\u001b[0;34m=\u001b[0m\u001b[0ms\u001b[0m\u001b[0;34m,\u001b[0m \u001b[0mc\u001b[0m\u001b[0;34m=\u001b[0m\u001b[0mc\u001b[0m\u001b[0;34m,\u001b[0m \u001b[0mmarker\u001b[0m\u001b[0;34m=\u001b[0m\u001b[0mmarker\u001b[0m\u001b[0;34m,\u001b[0m \u001b[0mcmap\u001b[0m\u001b[0;34m=\u001b[0m\u001b[0mcmap\u001b[0m\u001b[0;34m,\u001b[0m \u001b[0mnorm\u001b[0m\u001b[0;34m=\u001b[0m\u001b[0mnorm\u001b[0m\u001b[0;34m,\u001b[0m\u001b[0;34m\u001b[0m\u001b[0;34m\u001b[0m\u001b[0m\n\u001b[1;32m   2864\u001b[0m         \u001b[0mvmin\u001b[0m\u001b[0;34m=\u001b[0m\u001b[0mvmin\u001b[0m\u001b[0;34m,\u001b[0m \u001b[0mvmax\u001b[0m\u001b[0;34m=\u001b[0m\u001b[0mvmax\u001b[0m\u001b[0;34m,\u001b[0m \u001b[0malpha\u001b[0m\u001b[0;34m=\u001b[0m\u001b[0malpha\u001b[0m\u001b[0;34m,\u001b[0m \u001b[0mlinewidths\u001b[0m\u001b[0;34m=\u001b[0m\u001b[0mlinewidths\u001b[0m\u001b[0;34m,\u001b[0m\u001b[0;34m\u001b[0m\u001b[0;34m\u001b[0m\u001b[0m\n",
            "\u001b[0;32m/usr/local/lib/python3.10/dist-packages/matplotlib/__init__.py\u001b[0m in \u001b[0;36minner\u001b[0;34m(ax, data, *args, **kwargs)\u001b[0m\n\u001b[1;32m   1440\u001b[0m     \u001b[0;32mdef\u001b[0m \u001b[0minner\u001b[0m\u001b[0;34m(\u001b[0m\u001b[0max\u001b[0m\u001b[0;34m,\u001b[0m \u001b[0;34m*\u001b[0m\u001b[0margs\u001b[0m\u001b[0;34m,\u001b[0m \u001b[0mdata\u001b[0m\u001b[0;34m=\u001b[0m\u001b[0;32mNone\u001b[0m\u001b[0;34m,\u001b[0m \u001b[0;34m**\u001b[0m\u001b[0mkwargs\u001b[0m\u001b[0;34m)\u001b[0m\u001b[0;34m:\u001b[0m\u001b[0;34m\u001b[0m\u001b[0;34m\u001b[0m\u001b[0m\n\u001b[1;32m   1441\u001b[0m         \u001b[0;32mif\u001b[0m \u001b[0mdata\u001b[0m \u001b[0;32mis\u001b[0m \u001b[0;32mNone\u001b[0m\u001b[0;34m:\u001b[0m\u001b[0;34m\u001b[0m\u001b[0;34m\u001b[0m\u001b[0m\n\u001b[0;32m-> 1442\u001b[0;31m             \u001b[0;32mreturn\u001b[0m \u001b[0mfunc\u001b[0m\u001b[0;34m(\u001b[0m\u001b[0max\u001b[0m\u001b[0;34m,\u001b[0m \u001b[0;34m*\u001b[0m\u001b[0mmap\u001b[0m\u001b[0;34m(\u001b[0m\u001b[0msanitize_sequence\u001b[0m\u001b[0;34m,\u001b[0m \u001b[0margs\u001b[0m\u001b[0;34m)\u001b[0m\u001b[0;34m,\u001b[0m \u001b[0;34m**\u001b[0m\u001b[0mkwargs\u001b[0m\u001b[0;34m)\u001b[0m\u001b[0;34m\u001b[0m\u001b[0;34m\u001b[0m\u001b[0m\n\u001b[0m\u001b[1;32m   1443\u001b[0m \u001b[0;34m\u001b[0m\u001b[0m\n\u001b[1;32m   1444\u001b[0m         \u001b[0mbound\u001b[0m \u001b[0;34m=\u001b[0m \u001b[0mnew_sig\u001b[0m\u001b[0;34m.\u001b[0m\u001b[0mbind\u001b[0m\u001b[0;34m(\u001b[0m\u001b[0max\u001b[0m\u001b[0;34m,\u001b[0m \u001b[0;34m*\u001b[0m\u001b[0margs\u001b[0m\u001b[0;34m,\u001b[0m \u001b[0;34m**\u001b[0m\u001b[0mkwargs\u001b[0m\u001b[0;34m)\u001b[0m\u001b[0;34m\u001b[0m\u001b[0;34m\u001b[0m\u001b[0m\n",
            "\u001b[0;32m/usr/local/lib/python3.10/dist-packages/matplotlib/axes/_axes.py\u001b[0m in \u001b[0;36mscatter\u001b[0;34m(self, x, y, s, c, marker, cmap, norm, vmin, vmax, alpha, linewidths, edgecolors, plotnonfinite, **kwargs)\u001b[0m\n\u001b[1;32m   4582\u001b[0m         \u001b[0my\u001b[0m \u001b[0;34m=\u001b[0m \u001b[0mnp\u001b[0m\u001b[0;34m.\u001b[0m\u001b[0mma\u001b[0m\u001b[0;34m.\u001b[0m\u001b[0mravel\u001b[0m\u001b[0;34m(\u001b[0m\u001b[0my\u001b[0m\u001b[0;34m)\u001b[0m\u001b[0;34m\u001b[0m\u001b[0;34m\u001b[0m\u001b[0m\n\u001b[1;32m   4583\u001b[0m         \u001b[0;32mif\u001b[0m \u001b[0mx\u001b[0m\u001b[0;34m.\u001b[0m\u001b[0msize\u001b[0m \u001b[0;34m!=\u001b[0m \u001b[0my\u001b[0m\u001b[0;34m.\u001b[0m\u001b[0msize\u001b[0m\u001b[0;34m:\u001b[0m\u001b[0;34m\u001b[0m\u001b[0;34m\u001b[0m\u001b[0m\n\u001b[0;32m-> 4584\u001b[0;31m             \u001b[0;32mraise\u001b[0m \u001b[0mValueError\u001b[0m\u001b[0;34m(\u001b[0m\u001b[0;34m\"x and y must be the same size\"\u001b[0m\u001b[0;34m)\u001b[0m\u001b[0;34m\u001b[0m\u001b[0;34m\u001b[0m\u001b[0m\n\u001b[0m\u001b[1;32m   4585\u001b[0m \u001b[0;34m\u001b[0m\u001b[0m\n\u001b[1;32m   4586\u001b[0m         \u001b[0;32mif\u001b[0m \u001b[0ms\u001b[0m \u001b[0;32mis\u001b[0m \u001b[0;32mNone\u001b[0m\u001b[0;34m:\u001b[0m\u001b[0;34m\u001b[0m\u001b[0;34m\u001b[0m\u001b[0m\n",
            "\u001b[0;31mValueError\u001b[0m: x and y must be the same size"
          ]
        },
        {
          "output_type": "display_data",
          "data": {
            "text/plain": [
              "<Figure size 1000x600 with 1 Axes>"
            ],
            "image/png": "[encoded data removed]"
          },
          "metadata": {}
        }
      ]
    },
    {
      "cell_type": "code",
      "source": [
        "from sklearn.metrics import confusion_matrix, ConfusionMatrixDisplay\n",
        "import matplotlib.pyplot as plt\n",
        "\n",
        "# Make predictions on the test set\n",
        "y_pred = best_model_5.predict(X_test)\n",
        "\n",
        "# Since best_model_5 is likely a Keras model wrapped in a Scikit-learn classifier,\n",
        "# we need to convert predictions from probability distributions to class labels.\n",
        "predicted_categories = np.argmax(y_pred, axis=1)\n",
        "\n",
        "# Ensure that actual_categories has the correct length\n",
        "actual_categories = y_test\n",
        "\n",
        "# Compute the confusion matrix\n",
        "cm = confusion_matrix(actual_categories, predicted_categories)\n",
        "\n",
        "# Display the confusion matrix\n",
        "disp = ConfusionMatrixDisplay(confusion_matrix=cm, display_labels=[0, 1, 2, 3, 4])\n",
        "\n",
        "plt.figure(figsize=(10, 7))\n",
        "disp.plot(cmap=plt.cm.Blues)\n",
        "plt.title('Confusion Matrix')\n",
        "plt.show()\n"
      ],
      "metadata": {
        "colab": {
          "base_uri": "https://localhost:8080/",
          "height": 506
        },
        "id": "T65PNHFLe7Dr",
        "outputId": "1d341dae-5fac-40d2-b8bb-e4057b67c133"
      },
      "execution_count": null,
      "outputs": [
        {
          "output_type": "stream",
          "name": "stdout",
          "text": [
            "\u001b[1m30/30\u001b[0m \u001b[32m━━━━━━━━━━━━━━━━━━━━\u001b[0m\u001b[37m\u001b[0m \u001b[1m0s\u001b[0m 8ms/step\n"
          ]
        },
        {
          "output_type": "display_data",
          "data": {
            "text/plain": [
              "<Figure size 1000x700 with 0 Axes>"
            ]
          },
          "metadata": {}
        },
        {
          "output_type": "display_data",
          "data": {
            "text/plain": [
              "<Figure size 640x480 with 2 Axes>"
            ],
            "image/png": "[encoded data removed]"
          },
          "metadata": {}
        }
      ]
    },
    {
      "cell_type": "code",
      "source": [
        "best_model_5.summary()"
      ],
      "metadata": {
        "id": "gC7HHb_ae-AZ"
      },
      "execution_count": null,
      "outputs": []
    },
    {
      "cell_type": "code",
      "source": [
        "model_save_path = 'fifth_iteration_lstm.keras'\n",
        "best_model_5.save(model_save_path)\n",
        "logging.info(f\"Model saved to {model_save_path}\")\n"
      ],
      "metadata": {
        "id": "fMLTxU4jfBcW"
      },
      "execution_count": null,
      "outputs": []
    },
    {
      "cell_type": "markdown",
      "source": [
        "# Testing one hot encoding"
      ],
      "metadata": {
        "id": "3zLgs6CtvnPP"
      }
    },
    {
      "cell_type": "code",
      "source": [
        "import numpy as np\n",
        "import pandas as pd\n",
        "import logging\n",
        "from sklearn.preprocessing import MinMaxScaler\n",
        "from sklearn.model_selection import train_test_split\n",
        "from tensorflow.keras.models import Sequential\n",
        "from tensorflow.keras.layers import LSTM, Dropout, Dense, Input\n",
        "from tensorflow.keras.utils import to_categorical\n",
        "from sklearn.metrics import confusion_matrix, ConfusionMatrixDisplay\n",
        "import matplotlib.pyplot as plt\n",
        "\n",
        "logging.info('Loading dataset...')\n",
        "\n",
        "file_path = '/content/select_technical_all_nonstationary.csv'\n",
        "df = pd.read_csv(file_path)\n",
        "df = df.drop(columns = ['date'])\n",
        "dataset = df.values[:, 0:].astype('float64') # Later this can be changed to float64 for further precision.\n",
        "\n",
        "diff = dataset[:,1:2]\n",
        "\n",
        "def categorize_diff(diff):\n",
        "    if diff < -0.0023999999999999:\n",
        "        return 0  # Price falls\n",
        "    elif diff > 0.0021999999999999:\n",
        "        return 2  # Price rises\n",
        "    else:\n",
        "        return 1  # Price stays the same\n",
        "\n",
        "# Apply the categorization\n",
        "y_categories = np.array([categorize_diff(pc) for pc in diff])\n",
        "\n",
        "# Verify the distribution of categories\n",
        "unique, counts = np.unique(y_categories, return_counts=True)\n",
        "print(dict(zip(unique, counts)))\n",
        "\n",
        "# Normalize dataset\n",
        "logging.info('Normalizing dataset...')\n",
        "scaler = MinMaxScaler(feature_range=(0, 1))\n",
        "dataset_scaled = scaler.fit_transform(dataset[:, 1:])\n",
        "\n",
        "# Prepare the dataset for LSTM\n",
        "time_steps = 15\n",
        "\n",
        "def create_dataset(data, labels, time_steps):\n",
        "    X, y = [], []\n",
        "    for i in range(len(data) - time_steps):\n",
        "        X.append(data[i:(i + time_steps)])\n",
        "        y.append(labels[i + time_steps])\n",
        "    return np.array(X), np.array(y)\n",
        "\n",
        "X, y = create_dataset(dataset_scaled, y_categories, time_steps)"
      ],
      "metadata": {
        "id": "KR91tfKszYc0",
        "outputId": "6a23cd2c-d6cf-4a18-90bf-67eca848a594",
        "colab": {
          "base_uri": "https://localhost:8080/"
        }
      },
      "execution_count": null,
      "outputs": [
        {
          "output_type": "stream",
          "name": "stdout",
          "text": [
            "{2: 4758}\n"
          ]
        }
      ]
    },
    {
      "cell_type": "code",
      "source": [
        "# Split into train and test sets ensuring no data leakage\n",
        "X_train, X_test, y_train, y_test = train_test_split(X, y, test_size=0.2, shuffle=False, random_state=42)\n",
        "\n",
        "# One-hot encode the labels\n",
        "y_train_one_hot = to_categorical(y_train, num_classes=3)\n",
        "y_test_one_hot = to_categorical(y_test, num_classes=3)\n",
        "\n",
        "# Verify the shape of the dataset and the one-hot encoded labels\n",
        "print(f'Shape of X_train: {X_train.shape}')\n",
        "print(f'Shape of y_train_one_hot: {y_train_one_hot.shape}')\n",
        "print(f'Shape of X_test: {X_test.shape}')\n",
        "print(f'Shape of y_test_one_hot: {y_test_one_hot.shape}')\n",
        "\n",
        "# Check the label distribution\n",
        "unique, counts = np.unique(y_train, return_counts=True)\n",
        "print(\"Training set label distribution:\", dict(zip(unique, counts)))\n",
        "\n",
        "unique, counts = np.unique(y_test, return_counts=True)\n",
        "print(\"Test set label distribution:\", dict(zip(unique, counts)))\n",
        "\n",
        "# Define the LSTM model for multi-class classification\n",
        "def create_model(units1=64, dropout_rate1=0.2, learning_rate=0.001, batch_size=64):\n",
        "    model = Sequential([\n",
        "        Input(shape=(X_train.shape[1], X_train.shape[2])),\n",
        "        LSTM(units1, return_sequences=False),\n",
        "        Dropout(dropout_rate1),\n",
        "        Dense(3, activation='softmax')  # Softmax activation for multi-class classification\n",
        "    ])\n",
        "    model.compile(optimizer='adam', loss='categorical_crossentropy', metrics=['accuracy'])\n",
        "    return model\n",
        "\n",
        "# Create and train the model\n",
        "model = create_model(units1=64, dropout_rate1=0.2, learning_rate=0.001, batch_size=64)\n",
        "history = model.fit(X_train, y_train_one_hot, epochs=75, validation_data=(X_test, y_test_one_hot), verbose=1)\n",
        "\n",
        "# Evaluate the model\n",
        "results = model.evaluate(X_test, y_test_one_hot)\n",
        "print(f\"Test Loss: {results[0]}\")\n",
        "print(f\"Test Accuracy: {results[1]}\")\n",
        "\n",
        "# Generate predictions and confusion matrix\n",
        "y_pred = np.argmax(model.predict(X_test), axis=1)\n",
        "cm = confusion_matrix(np.argmax(y_test_one_hot, axis=1), y_pred)\n",
        "disp = ConfusionMatrixDisplay(confusion_matrix=cm, display_labels=[0, 1, 2])\n",
        "disp.plot()\n",
        "plt.show()\n"
      ],
      "metadata": {
        "colab": {
          "base_uri": "https://localhost:8080/",
          "height": 469
        },
        "id": "uOroVIhtvl-w",
        "outputId": "ebe968ba-c7c5-4587-e0fc-fbdebf6a07e2"
      },
      "execution_count": null,
      "outputs": [
        {
          "output_type": "stream",
          "name": "stdout",
          "text": [
            "Shape of X_train: (3794, 15, 21)\n",
            "Shape of y_train_one_hot: (3794, 3)\n",
            "Shape of X_test: (949, 15, 21)\n",
            "Shape of y_test_one_hot: (949, 3)\n",
            "Training set label distribution: {2: 3794}\n",
            "Test set label distribution: {2: 949}\n",
            "Epoch 1/75\n"
          ]
        },
        {
          "output_type": "error",
          "ename": "ValueError",
          "evalue": "Arguments `target` and `output` must have the same rank (ndim). Received: target.shape=(None,), output.shape=(None, 3)",
          "traceback": [
            "\u001b[0;31m---------------------------------------------------------------------------\u001b[0m",
            "\u001b[0;31mValueError\u001b[0m                                Traceback (most recent call last)",
            "\u001b[0;32m<ipython-input-664-e5a404b9f8ac>\u001b[0m in \u001b[0;36m<cell line: 34>\u001b[0;34m()\u001b[0m\n\u001b[1;32m     32\u001b[0m \u001b[0;31m# Create and train the model\u001b[0m\u001b[0;34m\u001b[0m\u001b[0;34m\u001b[0m\u001b[0m\n\u001b[1;32m     33\u001b[0m \u001b[0mmodel\u001b[0m \u001b[0;34m=\u001b[0m \u001b[0mcreate_model\u001b[0m\u001b[0;34m(\u001b[0m\u001b[0munits1\u001b[0m\u001b[0;34m=\u001b[0m\u001b[0;36m64\u001b[0m\u001b[0;34m,\u001b[0m \u001b[0mdropout_rate1\u001b[0m\u001b[0;34m=\u001b[0m\u001b[0;36m0.2\u001b[0m\u001b[0;34m,\u001b[0m \u001b[0mlearning_rate\u001b[0m\u001b[0;34m=\u001b[0m\u001b[0;36m0.001\u001b[0m\u001b[0;34m,\u001b[0m \u001b[0mbatch_size\u001b[0m\u001b[0;34m=\u001b[0m\u001b[0;36m64\u001b[0m\u001b[0;34m)\u001b[0m\u001b[0;34m\u001b[0m\u001b[0;34m\u001b[0m\u001b[0m\n\u001b[0;32m---> 34\u001b[0;31m \u001b[0mhistory\u001b[0m \u001b[0;34m=\u001b[0m \u001b[0mmodel\u001b[0m\u001b[0;34m.\u001b[0m\u001b[0mfit\u001b[0m\u001b[0;34m(\u001b[0m\u001b[0mX_train\u001b[0m\u001b[0;34m,\u001b[0m \u001b[0my_train\u001b[0m\u001b[0;34m,\u001b[0m \u001b[0mepochs\u001b[0m\u001b[0;34m=\u001b[0m\u001b[0;36m75\u001b[0m\u001b[0;34m,\u001b[0m \u001b[0mvalidation_data\u001b[0m\u001b[0;34m=\u001b[0m\u001b[0;34m(\u001b[0m\u001b[0mX_test\u001b[0m\u001b[0;34m,\u001b[0m \u001b[0my_test\u001b[0m\u001b[0;34m)\u001b[0m\u001b[0;34m,\u001b[0m \u001b[0mverbose\u001b[0m\u001b[0;34m=\u001b[0m\u001b[0;36m1\u001b[0m\u001b[0;34m)\u001b[0m\u001b[0;34m\u001b[0m\u001b[0;34m\u001b[0m\u001b[0m\n\u001b[0m\u001b[1;32m     35\u001b[0m \u001b[0;34m\u001b[0m\u001b[0m\n\u001b[1;32m     36\u001b[0m \u001b[0;31m# Evaluate the model\u001b[0m\u001b[0;34m\u001b[0m\u001b[0;34m\u001b[0m\u001b[0m\n",
            "\u001b[0;32m/usr/local/lib/python3.10/dist-packages/keras/src/utils/traceback_utils.py\u001b[0m in \u001b[0;36merror_handler\u001b[0;34m(*args, **kwargs)\u001b[0m\n\u001b[1;32m    120\u001b[0m             \u001b[0;31m# To get the full stack trace, call:\u001b[0m\u001b[0;34m\u001b[0m\u001b[0;34m\u001b[0m\u001b[0m\n\u001b[1;32m    121\u001b[0m             \u001b[0;31m# `keras.config.disable_traceback_filtering()`\u001b[0m\u001b[0;34m\u001b[0m\u001b[0;34m\u001b[0m\u001b[0m\n\u001b[0;32m--> 122\u001b[0;31m             \u001b[0;32mraise\u001b[0m \u001b[0me\u001b[0m\u001b[0;34m.\u001b[0m\u001b[0mwith_traceback\u001b[0m\u001b[0;34m(\u001b[0m\u001b[0mfiltered_tb\u001b[0m\u001b[0;34m)\u001b[0m \u001b[0;32mfrom\u001b[0m \u001b[0;32mNone\u001b[0m\u001b[0;34m\u001b[0m\u001b[0;34m\u001b[0m\u001b[0m\n\u001b[0m\u001b[1;32m    123\u001b[0m         \u001b[0;32mfinally\u001b[0m\u001b[0;34m:\u001b[0m\u001b[0;34m\u001b[0m\u001b[0;34m\u001b[0m\u001b[0m\n\u001b[1;32m    124\u001b[0m             \u001b[0;32mdel\u001b[0m \u001b[0mfiltered_tb\u001b[0m\u001b[0;34m\u001b[0m\u001b[0;34m\u001b[0m\u001b[0m\n",
            "\u001b[0;32m/usr/local/lib/python3.10/dist-packages/keras/src/backend/tensorflow/nn.py\u001b[0m in \u001b[0;36mcategorical_crossentropy\u001b[0;34m(target, output, from_logits, axis)\u001b[0m\n\u001b[1;32m    545\u001b[0m         )\n\u001b[1;32m    546\u001b[0m     \u001b[0;32mif\u001b[0m \u001b[0mlen\u001b[0m\u001b[0;34m(\u001b[0m\u001b[0mtarget\u001b[0m\u001b[0;34m.\u001b[0m\u001b[0mshape\u001b[0m\u001b[0;34m)\u001b[0m \u001b[0;34m!=\u001b[0m \u001b[0mlen\u001b[0m\u001b[0;34m(\u001b[0m\u001b[0moutput\u001b[0m\u001b[0;34m.\u001b[0m\u001b[0mshape\u001b[0m\u001b[0;34m)\u001b[0m\u001b[0;34m:\u001b[0m\u001b[0;34m\u001b[0m\u001b[0;34m\u001b[0m\u001b[0m\n\u001b[0;32m--> 547\u001b[0;31m         raise ValueError(\n\u001b[0m\u001b[1;32m    548\u001b[0m             \u001b[0;34m\"Arguments `target` and `output` must have the same rank \"\u001b[0m\u001b[0;34m\u001b[0m\u001b[0;34m\u001b[0m\u001b[0m\n\u001b[1;32m    549\u001b[0m             \u001b[0;34m\"(ndim). Received: \"\u001b[0m\u001b[0;34m\u001b[0m\u001b[0;34m\u001b[0m\u001b[0m\n",
            "\u001b[0;31mValueError\u001b[0m: Arguments `target` and `output` must have the same rank (ndim). Received: target.shape=(None,), output.shape=(None, 3)"
          ]
        }
      ]
    },
    {
      "cell_type": "code",
      "source": [
        "\n",
        "# Calculate diff\n",
        "diff = dataset[:, 18:19]\n",
        "\n",
        "def categorize_diff(diff):\n",
        "    if diff < -0.0023999999999999:\n",
        "        return 0  # Price falls\n",
        "    elif diff > 0.0021999999999999:\n",
        "        return 2  # Price rises\n",
        "    else:\n",
        "        return 1  # Price stays the same\n",
        "\n",
        "# Apply the categorization\n",
        "y_categories = np.array([categorize_diff(pc) for pc in diff.flatten()])\n",
        "\n",
        "# Verify the distribution of categories\n",
        "unique, counts = np.unique(y_categories, return_counts=True)\n",
        "print(dict(zip(unique, counts)))\n",
        "\n",
        "# Normalize dataset\n",
        "logging.info('Normalizing dataset...')\n",
        "scaler = MinMaxScaler(feature_range=(0, 1))\n",
        "dataset_scaled = scaler.fit_transform(dataset)\n",
        "\n",
        "# Prepare the dataset for LSTM\n",
        "time_steps = 15\n",
        "\n",
        "def create_dataset(data, labels, time_steps):\n",
        "    X, y = [], []\n",
        "    for i in range(len(data) - time_steps):\n",
        "        X.append(data[i:(i + time_steps)])\n",
        "        y.append(labels[i + time_steps])\n",
        "    return np.array(X), np.array(y)\n",
        "\n",
        "X, y = create_dataset(dataset_scaled, y_categories, time_steps)\n",
        "\n",
        "# Split into train and test sets ensuring no data leakage\n",
        "X_train, X_test, y_train, y_test = train_test_split(X, y, test_size=0.2, shuffle=False, random_state=42)\n",
        "\n",
        "# One-hot encode the labels\n",
        "y_train_one_hot = to_categorical(y_train, num_classes=3)\n",
        "y_test_one_hot = to_categorical(y_test, num_classes=3)\n",
        "\n",
        "# Verify the shape of the dataset and the one-hot encoded labels\n",
        "print(f'Shape of X_train: {X_train.shape}')\n",
        "print(f'Shape of y_train_one_hot: {y_train_one_hot.shape}')\n",
        "print(f'Shape of X_test: {X_test.shape}')\n",
        "print(f'Shape of y_test_one_hot: {y_test_one_hot.shape}')\n",
        "\n",
        "# Check the label distribution\n",
        "unique, counts = np.unique(y_train, return_counts=True)\n",
        "print(\"Training set label distribution:\", dict(zip(unique, counts)))\n",
        "\n",
        "unique, counts = np.unique(y_test, return_counts=True)\n",
        "print(\"Test set label distribution:\", dict(zip(unique, counts)))\n",
        "\n",
        "# Define the LSTM model for multi-class classification\n",
        "def create_model(units1=64, dropout_rate1=0.2, learning_rate=0.001, batch_size = 64):\n",
        "    model = Sequential([\n",
        "        Input(shape=(X_train.shape[1], X_train.shape[2])),\n",
        "        LSTM(units1, return_sequences = False),\n",
        "        Dropout(dropout_rate1),\n",
        "        Dense(3, activation='softmax')  # Softmax activation for multi-class classification\n",
        "    ])\n",
        "    model.compile(optimizer='adam', loss='categorical_crossentropy', metrics=['accuracy'])\n",
        "    return model\n",
        "\n",
        "# Create and train the model\n",
        "model = create_model(units1=64, dropout_rate1=0.2, learning_rate=0.001, batch_size = 64)\n",
        "history = model.fit(X_train, y_train_one_hot, epochs=75, validation_data=(X_test, y_test_one_hot), verbose=1)\n",
        "\n",
        "# Evaluate the model\n",
        "results = model.evaluate(X_test, y_test_one_hot)\n",
        "print(f\"Test Loss: {results[0]}\")\n",
        "print(f\"Test Accuracy: {results[1]}\")\n",
        "\n",
        "# Generate predictions and confusion matrix\n",
        "y_pred = np.argmax(model.predict(X_test), axis=1)\n",
        "cm = confusion_matrix(np.argmax(y_test_one_hot, axis=1), y_pred)\n",
        "disp = ConfusionMatrixDisplay(confusion_matrix=cm, display_labels=[0, 1, 2])\n",
        "disp.plot()\n",
        "plt.show()\n"
      ],
      "metadata": {
        "id": "eLW90GCIwOzP"
      },
      "execution_count": null,
      "outputs": []
    },
    {
      "cell_type": "code",
      "source": [
        "# Predict the classes for the test set\n",
        "y_pred_prob = model_5.predict(X_test)\n",
        "y_pred = np.argmax(y_pred_prob, axis=1)\n",
        "\n",
        "# Convert one-hot encoded test labels back to single dimension\n",
        "y_test_labels = np.argmax(y_test_one_hot, axis=1)\n",
        "\n",
        "# Create confusion matrix\n",
        "cm = confusion_matrix(y_test_labels, y_pred)\n",
        "cmd = ConfusionMatrixDisplay(confusion_matrix=cm, display_labels=[0, 1])\n",
        "\n",
        "# Display the confusion matrix\n",
        "plt.figure(figsize=(8, 6))\n",
        "cmd.plot(cmap=plt.cm.Blues)\n",
        "plt.title(\"Confusion Matrix\")\n",
        "plt.show()"
      ],
      "metadata": {
        "colab": {
          "base_uri": "https://localhost:8080/",
          "height": 506
        },
        "id": "27ACF2CgwE0r",
        "outputId": "b121493f-e711-46a9-f958-e00365074be8"
      },
      "execution_count": null,
      "outputs": [
        {
          "output_type": "stream",
          "name": "stdout",
          "text": [
            "\u001b[1m30/30\u001b[0m \u001b[32m━━━━━━━━━━━━━━━━━━━━\u001b[0m\u001b[37m\u001b[0m \u001b[1m0s\u001b[0m 1ms/step \n"
          ]
        },
        {
          "output_type": "display_data",
          "data": {
            "text/plain": [
              "<Figure size 800x600 with 0 Axes>"
            ]
          },
          "metadata": {}
        },
        {
          "output_type": "display_data",
          "data": {
            "text/plain": [
              "<Figure size 640x480 with 2 Axes>"
            ],
            "image/png": "[encoded data removed]"
          },
          "metadata": {}
        }
      ]
    },
    {
      "cell_type": "code",
      "source": [],
      "metadata": {
        "id": "GpSZ1_aJw5Do"
      },
      "execution_count": null,
      "outputs": []
    }
  ],
  "metadata": {
    "kernelspec": {
      "display_name": "Python 3",
      "name": "python3"
    },
    "language_info": {
      "codemirror_mode": {
        "name": "ipython",
        "version": 3
      },
      "file_extension": ".py",
      "mimetype": "text/x-python",
      "name": "python",
      "nbconvert_exporter": "python",
      "pygments_lexer": "ipython3",
      "version": "3.11.6"
    },
    "colab": {
      "provenance": [],
      "machine_shape": "hm",
      "gpuType": "L4"
    },
    "accelerator": "GPU"
  },
  "nbformat": 4,
  "nbformat_minor": 0
}