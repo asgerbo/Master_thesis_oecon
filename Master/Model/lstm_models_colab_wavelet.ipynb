{
  "cells": [
    {
      "cell_type": "markdown",
      "metadata": {
        "id": "gp4neeTt5-P6"
      },
      "source": [
        "#### Importing neccessary libraries\n",
        "\n",
        "1. **Numpy** for *linear algebra*\n",
        "2. **Pandas** for reading csv files and DataFrame handling\n",
        "3. **Tensorflow** for *machine learning*\n",
        "4. **Keras** for defining the *LSTM model architecture* and regularization\n",
        "5. Functions such as **train_test_split** for dividing the dataset into training and test set and **GridSearchCV** to tune hyperparameters across a grid of values.\n",
        "6. **MinMaxScaler** to scale the variable values to a range of $[0,1]$.  \n",
        "7. **matplotlib** for plotting results"
      ]
    },
    {
      "cell_type": "code",
      "source": [
        "pip install scikeras"
      ],
      "metadata": {
        "id": "pyoCk02Dtj04",
        "collapsed": true,
        "colab": {
          "base_uri": "https://localhost:8080/"
        },
        "outputId": "36f76857-ff05-4326-e37d-e237f4ca9acf"
      },
      "execution_count": 1,
      "outputs": [
        {
          "output_type": "stream",
          "name": "stdout",
          "text": [
            "Collecting scikeras\n",
            "  Downloading scikeras-0.13.0-py3-none-any.whl (26 kB)\n",
            "Collecting keras>=3.2.0 (from scikeras)\n",
            "  Downloading keras-3.3.3-py3-none-any.whl (1.1 MB)\n",
            "\u001b[2K     \u001b[90m━━━━━━━━━━━━━━━━━━━━━━━━━━━━━━━━━━━━━━━━\u001b[0m \u001b[32m1.1/1.1 MB\u001b[0m \u001b[31m29.8 MB/s\u001b[0m eta \u001b[36m0:00:00\u001b[0m\n",
            "\u001b[?25hCollecting scikit-learn>=1.4.2 (from scikeras)\n",
            "  Downloading scikit_learn-1.5.0-cp310-cp310-manylinux_2_17_x86_64.manylinux2014_x86_64.whl (13.3 MB)\n",
            "\u001b[2K     \u001b[90m━━━━━━━━━━━━━━━━━━━━━━━━━━━━━━━━━━━━━━━━\u001b[0m \u001b[32m13.3/13.3 MB\u001b[0m \u001b[31m91.5 MB/s\u001b[0m eta \u001b[36m0:00:00\u001b[0m\n",
            "\u001b[?25hRequirement already satisfied: absl-py in /usr/local/lib/python3.10/dist-packages (from keras>=3.2.0->scikeras) (1.4.0)\n",
            "Requirement already satisfied: numpy in /usr/local/lib/python3.10/dist-packages (from keras>=3.2.0->scikeras) (1.25.2)\n",
            "Requirement already satisfied: rich in /usr/local/lib/python3.10/dist-packages (from keras>=3.2.0->scikeras) (13.7.1)\n",
            "Collecting namex (from keras>=3.2.0->scikeras)\n",
            "  Downloading namex-0.0.8-py3-none-any.whl (5.8 kB)\n",
            "Requirement already satisfied: h5py in /usr/local/lib/python3.10/dist-packages (from keras>=3.2.0->scikeras) (3.9.0)\n",
            "Collecting optree (from keras>=3.2.0->scikeras)\n",
            "  Downloading optree-0.11.0-cp310-cp310-manylinux_2_17_x86_64.manylinux2014_x86_64.whl (311 kB)\n",
            "\u001b[2K     \u001b[90m━━━━━━━━━━━━━━━━━━━━━━━━━━━━━━━━━━━━━━━━\u001b[0m \u001b[32m311.2/311.2 kB\u001b[0m \u001b[31m3.9 MB/s\u001b[0m eta \u001b[36m0:00:00\u001b[0m\n",
            "\u001b[?25hRequirement already satisfied: ml-dtypes in /usr/local/lib/python3.10/dist-packages (from keras>=3.2.0->scikeras) (0.2.0)\n",
            "Requirement already satisfied: scipy>=1.6.0 in /usr/local/lib/python3.10/dist-packages (from scikit-learn>=1.4.2->scikeras) (1.11.4)\n",
            "Requirement already satisfied: joblib>=1.2.0 in /usr/local/lib/python3.10/dist-packages (from scikit-learn>=1.4.2->scikeras) (1.4.2)\n",
            "Requirement already satisfied: threadpoolctl>=3.1.0 in /usr/local/lib/python3.10/dist-packages (from scikit-learn>=1.4.2->scikeras) (3.5.0)\n",
            "Requirement already satisfied: typing-extensions>=4.0.0 in /usr/local/lib/python3.10/dist-packages (from optree->keras>=3.2.0->scikeras) (4.12.1)\n",
            "Requirement already satisfied: markdown-it-py>=2.2.0 in /usr/local/lib/python3.10/dist-packages (from rich->keras>=3.2.0->scikeras) (3.0.0)\n",
            "Requirement already satisfied: pygments<3.0.0,>=2.13.0 in /usr/local/lib/python3.10/dist-packages (from rich->keras>=3.2.0->scikeras) (2.16.1)\n",
            "Requirement already satisfied: mdurl~=0.1 in /usr/local/lib/python3.10/dist-packages (from markdown-it-py>=2.2.0->rich->keras>=3.2.0->scikeras) (0.1.2)\n",
            "Installing collected packages: namex, optree, scikit-learn, keras, scikeras\n",
            "  Attempting uninstall: scikit-learn\n",
            "    Found existing installation: scikit-learn 1.2.2\n",
            "    Uninstalling scikit-learn-1.2.2:\n",
            "      Successfully uninstalled scikit-learn-1.2.2\n",
            "  Attempting uninstall: keras\n",
            "    Found existing installation: keras 2.15.0\n",
            "    Uninstalling keras-2.15.0:\n",
            "      Successfully uninstalled keras-2.15.0\n",
            "\u001b[31mERROR: pip's dependency resolver does not currently take into account all the packages that are installed. This behaviour is the source of the following dependency conflicts.\n",
            "tensorflow 2.15.0 requires keras<2.16,>=2.15.0, but you have keras 3.3.3 which is incompatible.\u001b[0m\u001b[31m\n",
            "\u001b[0mSuccessfully installed keras-3.3.3 namex-0.0.8 optree-0.11.0 scikeras-0.13.0 scikit-learn-1.5.0\n"
          ]
        }
      ]
    },
    {
      "cell_type": "code",
      "execution_count": 28,
      "metadata": {
        "id": "qq2CjEwn5-P8"
      },
      "outputs": [],
      "source": [
        "import numpy as np\n",
        "import pandas as pd\n",
        "import tensorflow as tf\n",
        "from keras.models import Sequential\n",
        "from keras.layers import Dense, LSTM, Dropout, Input, TimeDistributed, Flatten\n",
        "from sklearn.model_selection import train_test_split, GridSearchCV\n",
        "from keras.callbacks import EarlyStopping\n",
        "from keras.utils import to_categorical\n",
        "from sklearn.preprocessing import MinMaxScaler\n",
        "from scikeras.wrappers import KerasClassifier\n",
        "import matplotlib.pyplot as plt\n",
        "from keras.regularizers import l2\n",
        "from sklearn.metrics import confusion_matrix, ConfusionMatrixDisplay\n",
        "from sklearn.metrics import accuracy_score\n",
        "import pywt"
      ]
    },
    {
      "cell_type": "markdown",
      "metadata": {
        "id": "k97gcKMu5-P-"
      },
      "source": [
        "## Setting Device to GPU\n",
        "\n",
        "Since the model is run in Google Colab with an external GPU for increased computational ability the device which is used needs to be defined:"
      ]
    },
    {
      "cell_type": "code",
      "execution_count": 29,
      "metadata": {
        "id": "hSYWdY965-P-",
        "colab": {
          "base_uri": "https://localhost:8080/"
        },
        "outputId": "7769cfdf-9f70-4927-bdf8-ee02100041fe"
      },
      "outputs": [
        {
          "output_type": "stream",
          "name": "stdout",
          "text": [
            "GPU found at: /device:GPU:0\n"
          ]
        }
      ],
      "source": [
        "device_name = tf.test.gpu_device_name()\n",
        "if device_name != '/device:GPU:0':\n",
        "    print('GPU not found')\n",
        "else:\n",
        "    print(f'GPU found at: {device_name}')"
      ]
    },
    {
      "cell_type": "markdown",
      "source": [
        "# Data Loading"
      ],
      "metadata": {
        "id": "_ZX_qFIOaPuJ"
      }
    },
    {
      "cell_type": "code",
      "execution_count": 30,
      "metadata": {
        "id": "zKNgMIkN5-QA"
      },
      "outputs": [],
      "source": [
        "file_path = '/content/final_dataset.csv'\n",
        "df = pd.read_csv(file_path)\n",
        "\n",
        "dataset = df.values[:, 0:].astype('float64')\n",
        "\n",
        "diff = dataset[:,0:1]"
      ]
    },
    {
      "cell_type": "code",
      "source": [
        "np.random.seed(42)\n",
        "tf.random.set_seed(42)"
      ],
      "metadata": {
        "id": "Qwo5C8SfIqg4"
      },
      "execution_count": 31,
      "outputs": []
    },
    {
      "cell_type": "markdown",
      "source": [
        "# Output Variable Transformation and Data Scaling"
      ],
      "metadata": {
        "id": "sU9xMXKOaRAh"
      }
    },
    {
      "cell_type": "code",
      "execution_count": 32,
      "metadata": {
        "id": "Z2CIAv8F5-QA"
      },
      "outputs": [],
      "source": [
        "# 34.1 quantile: -0.0021999999999999\n",
        "# 65 quantile:  0.0021999999999999\n",
        "\n",
        "def categorize_diff(diff):\n",
        "    if diff < -0.0021999999999999:\n",
        "        return 0  # Price fall bucket\n",
        "    elif diff > 0.0021999999999999:\n",
        "        return 2  # Price rise bucket\n",
        "    else:\n",
        "        return 1  # No action bucket\n",
        "\n",
        "y_categories = np.array([categorize_diff(pc) for pc in diff])"
      ]
    },
    {
      "cell_type": "code",
      "source": [
        "y_categories = to_categorical(y_categories)\n",
        "\n",
        "scaler = MinMaxScaler(feature_range=(0, 1))\n",
        "dataset = scaler.fit_transform(dataset[:, 1:])"
      ],
      "metadata": {
        "id": "wnYnmlpLqFnr"
      },
      "execution_count": 33,
      "outputs": []
    },
    {
      "cell_type": "code",
      "source": [
        "# Apply CWT to each time series in the dataset\n",
        "def apply_cwt(data, scales, wavelet='cmor1.5-1.0'):\n",
        "    cwt_coeffs = []\n",
        "    for i in range(data.shape[1]):\n",
        "        coeffs, _ = pywt.cwt(data[:, i], scales, wavelet)\n",
        "        cwt_coeffs.append(np.abs(coeffs))  # Take the magnitude of the complex values\n",
        "    return np.array(cwt_coeffs)\n",
        "\n",
        "# Define wavelet and scales\n",
        "scales = np.arange(1, 11)  # Example scales, adjust as needed\n",
        "wavelet = 'cmor1.5-1.0'  # Updated wavelet specification\n",
        "\n",
        "# Apply CWT to dataset\n",
        "cwt_results = apply_cwt(dataset, scales)  # Shape: (features, scales, samples)\n",
        "cwt_results = np.transpose(cwt_results, (2, 1, 0))  # Shape: (samples, scales, features)"
      ],
      "metadata": {
        "id": "7KRzROhV6dOh"
      },
      "execution_count": 34,
      "outputs": []
    },
    {
      "cell_type": "markdown",
      "source": [
        "# Conversion to Tensor"
      ],
      "metadata": {
        "id": "zyO0h9CpaX5r"
      }
    },
    {
      "cell_type": "code",
      "execution_count": 35,
      "metadata": {
        "id": "3J7TVzS35-QA"
      },
      "outputs": [],
      "source": [
        "def create_dataset(data, time_steps):\n",
        "    dataX = []\n",
        "    for i in range(len(data) - time_steps):\n",
        "        a = data[i:(i + time_steps), :, :]\n",
        "        dataX.append(a)\n",
        "    return np.array(dataX)"
      ]
    },
    {
      "cell_type": "markdown",
      "source": [
        "# 1st Iteration"
      ],
      "metadata": {
        "id": "rG3VRwIPaDDk"
      }
    },
    {
      "cell_type": "code",
      "source": [
        "time_steps = 15\n",
        "\n",
        "dataX = create_dataset(cwt_results, time_steps)  # Shape: (samples - time_steps, time_steps, scales, features)\n",
        "\n",
        "X = dataX\n",
        "y = y_categories[time_steps:]\n",
        "X_train, X_test, y_train, y_test = train_test_split(X, y, test_size=0.2, shuffle=False, random_state = 42)"
      ],
      "metadata": {
        "id": "wzrdYO_n0YjQ"
      },
      "execution_count": 36,
      "outputs": []
    },
    {
      "cell_type": "code",
      "source": [
        "samples, time_steps, scales, features = dataX.shape\n",
        "dataX = np.reshape(dataX, (samples, time_steps, scales * features))  # Flatten scales and features\n"
      ],
      "metadata": {
        "id": "ddbWvhv67IjK"
      },
      "execution_count": 37,
      "outputs": []
    },
    {
      "cell_type": "code",
      "source": [
        "def create_model(units1=128, dropout_rate1=0.1, batch_size=32, l2_value = 0.01):\n",
        "    model = Sequential([\n",
        "        Input(shape=(X_train.shape[1], X_train.shape[2], X_train.shape[3])),\n",
        "        TimeDistributed(Flatten()),\n",
        "        LSTM(units1, return_sequences=False),\n",
        "        Dropout(dropout_rate1),\n",
        "        Dense(3, activation='softmax', kernel_regularizer = l2(l2_value))\n",
        "    ])\n",
        "    model.compile(optimizer='adam', loss='categorical_crossentropy', metrics=['accuracy'])\n",
        "    return model"
      ],
      "metadata": {
        "id": "gA_PSUOYs18D"
      },
      "execution_count": 38,
      "outputs": []
    },
    {
      "cell_type": "code",
      "source": [
        "model = KerasClassifier(model = create_model, epochs = 75, verbose = 0, shuffle = False, random_state = 42)"
      ],
      "metadata": {
        "id": "mws6g62Os8pR"
      },
      "execution_count": 39,
      "outputs": []
    },
    {
      "cell_type": "code",
      "execution_count": 40,
      "metadata": {
        "id": "6EXO2oQQ5-QB"
      },
      "outputs": [],
      "source": [
        "param_grid = {\n",
        "    'model__units1': [32],\n",
        "    'model__dropout_rate1': [0.1],\n",
        "    'batch_size': [128],\n",
        "    'model__l2_value': [0.1]\n",
        "}"
      ]
    },
    {
      "cell_type": "code",
      "source": [
        "grid = GridSearchCV(estimator=model, param_grid=param_grid, cv = 5, n_jobs = -1)"
      ],
      "metadata": {
        "id": "bv51fJ4NsHBD"
      },
      "execution_count": 41,
      "outputs": []
    },
    {
      "cell_type": "code",
      "source": [
        "early_stopping = EarlyStopping(monitor = 'val_loss', patience = 5, start_from_epoch = 10, restore_best_weights = True)\n",
        "\n",
        "grid_result = grid.fit(X_train, y_train, callbacks = [early_stopping], validation_split = 0.2)"
      ],
      "metadata": {
        "id": "79SOlqI4tEJY",
        "colab": {
          "base_uri": "https://localhost:8080/"
        },
        "outputId": "348e69c1-f602-499f-9d25-4e8998f0a3e1"
      },
      "execution_count": 42,
      "outputs": [
        {
          "output_type": "stream",
          "name": "stderr",
          "text": [
            "/usr/local/lib/python3.10/dist-packages/joblib/externals/loky/backend/fork_exec.py:38: RuntimeWarning: os.fork() was called. os.fork() is incompatible with multithreaded code, and JAX is multithreaded, so this will likely lead to a deadlock.\n",
            "  pid = os.fork()\n"
          ]
        }
      ]
    },
    {
      "cell_type": "code",
      "source": [
        "best_params = grid_result.best_params_\n",
        "\n",
        "print(best_params)"
      ],
      "metadata": {
        "colab": {
          "base_uri": "https://localhost:8080/"
        },
        "id": "mlTH9vno3dwA",
        "outputId": "0ca7c8b8-8e10-48ba-c917-e9acc72a8ad9"
      },
      "execution_count": 43,
      "outputs": [
        {
          "output_type": "stream",
          "name": "stdout",
          "text": [
            "{'batch_size': 128, 'model__dropout_rate1': 0.1, 'model__l2_value': 0.1, 'model__units1': 32}\n"
          ]
        }
      ]
    },
    {
      "cell_type": "code",
      "source": [
        "best_model = create_model(units1 = best_params['model__units1'],\n",
        "                          dropout_rate1 = best_params['model__dropout_rate1'],\n",
        "                          batch_size = best_params['batch_size'],\n",
        "                          l2_value = best_params['model__l2_value'],\n",
        "                          )"
      ],
      "metadata": {
        "id": "ZxkIZAwVhI2_"
      },
      "execution_count": 44,
      "outputs": []
    },
    {
      "cell_type": "code",
      "source": [
        "early_stopping_manual = EarlyStopping(monitor='val_loss', patience = 10, restore_best_weights = True)\n",
        "history = best_model.fit(X_train, y_train,\n",
        "                         epochs = 75,\n",
        "                         batch_size = 128, # remember to change if needed (default = 32)\n",
        "                         validation_data = (X_test, y_test),\n",
        "                         shuffle = False,\n",
        "                         callbacks = [early_stopping_manual],\n",
        "                         verbose = 0\n",
        "                         )"
      ],
      "metadata": {
        "id": "NWDb9ut9-cyw"
      },
      "execution_count": 45,
      "outputs": []
    },
    {
      "cell_type": "code",
      "source": [
        "plt.plot(history.history['loss'])\n",
        "plt.plot(history.history['val_loss'])\n",
        "plt.title('Model loss')\n",
        "plt.ylabel('Loss')\n",
        "plt.xlabel('Epoch')\n",
        "plt.legend(['Train', 'Test'], loc='upper left')\n",
        "plt.show()"
      ],
      "metadata": {
        "colab": {
          "base_uri": "https://localhost:8080/",
          "height": 472
        },
        "id": "U9_SRpS3bOAq",
        "outputId": "76c28607-2122-4a29-e9b0-08d330d6a693"
      },
      "execution_count": 46,
      "outputs": [
        {
          "output_type": "display_data",
          "data": {
            "text/plain": [
              "<Figure size 640x480 with 1 Axes>"
            ],
            "image/png": "[encoded data removed]"
          },
          "metadata": {}
        }
      ]
    },
    {
      "cell_type": "code",
      "source": [
        "y_pred = best_model.predict(X_test)\n",
        "\n",
        "actual_categories = np.argmax(y_test, axis=1)\n",
        "\n",
        "predicted_categories = np.argmax(y_pred, axis=1)\n",
        "\n",
        "cm = confusion_matrix(actual_categories, predicted_categories)\n",
        "disp = ConfusionMatrixDisplay(confusion_matrix=cm, display_labels=[0, 1, 2])\n",
        "\n",
        "plt.figure(figsize=(10, 7))\n",
        "disp.plot(cmap=plt.cm.Blues)\n",
        "plt.title('Confusion Matrix')\n",
        "plt.show()"
      ],
      "metadata": {
        "id": "EeDubU5kreqk",
        "outputId": "cdf133a3-1bb4-4217-c673-d51a273eda25",
        "colab": {
          "base_uri": "https://localhost:8080/",
          "height": 507
        }
      },
      "execution_count": 47,
      "outputs": [
        {
          "output_type": "stream",
          "name": "stdout",
          "text": [
            "\u001b[1m30/30\u001b[0m \u001b[32m━━━━━━━━━━━━━━━━━━━━\u001b[0m\u001b[37m\u001b[0m \u001b[1m0s\u001b[0m 8ms/step\n"
          ]
        },
        {
          "output_type": "display_data",
          "data": {
            "text/plain": [
              "<Figure size 1000x700 with 0 Axes>"
            ]
          },
          "metadata": {}
        },
        {
          "output_type": "display_data",
          "data": {
            "text/plain": [
              "<Figure size 640x480 with 2 Axes>"
            ],
            "image/png": "[encoded data removed]"
          },
          "metadata": {}
        }
      ]
    },
    {
      "cell_type": "code",
      "source": [
        "file_path = '/content/usd_eur_raw.csv'\n",
        "df_raw_exchange = pd.read_csv(file_path)\n",
        "\n",
        "df_raw_exchange = df_raw_exchange['usd_eur_exchange'].pct_change()\n",
        "\n",
        "df_raw_exchange = df_raw_exchange.iloc[3:-1]"
      ],
      "metadata": {
        "id": "BvY2i5B3rH7g"
      },
      "execution_count": 48,
      "outputs": []
    },
    {
      "cell_type": "code",
      "source": [
        "def compute_hit_rate(signals, percent_changes):\n",
        "    correct_signals = 0\n",
        "    total_signals = len(signals)\n",
        "\n",
        "    for signal, percent_change in zip(signals, percent_changes):\n",
        "        if (signal == 0 and percent_change < 0) or (signal == 2 and percent_change > 0):\n",
        "            correct_signals += 1\n",
        "        elif signal == 1:\n",
        "            total_signals -= 1\n",
        "\n",
        "    return correct_signals / total_signals if total_signals > 0 else 0\n",
        "\n",
        "def backtest(actions, percent_changes):\n",
        "    cash = 100\n",
        "    position = 0  # Current position: 0 for flat, -1 for short, 1 for long\n",
        "    portfolio_value = []\n",
        "\n",
        "    for action, percent_change in zip(actions, percent_changes):\n",
        "        if action == 0:  # Sell\n",
        "            position = -100  # Set position to short\n",
        "            cash += position * percent_change  # Sell shares\n",
        "        elif action == 1:  # Flat\n",
        "            position = 0  # Set position to flat\n",
        "            cash += 0  # No action\n",
        "        elif action == 2:  # Buy\n",
        "            position = 100  # Set position to long\n",
        "            cash += position * percent_change  # Buy shares\n",
        "\n",
        "        portfolio_value.append(cash)  # Calculate portfolio value\n",
        "\n",
        "    return portfolio_value\n",
        "\n",
        "def run_single_iteration(X_train, y_train, X_test, y_test, best_params):\n",
        "    best_model = create_model(batch_size = best_params['batch_size'],\n",
        "                              dropout_rate1 = best_params['model__dropout_rate1'],\n",
        "                              units1 = best_params['model__units1']\n",
        "    )\n",
        "\n",
        "    early_stopping_manual = EarlyStopping(monitor='val_loss', patience = 10, restore_best_weights = True)\n",
        "    history = best_model.fit(X_train, y_train,\n",
        "                             epochs=75,\n",
        "                             validation_data=(X_test, y_test),\n",
        "                             batch_size = 128,\n",
        "                             shuffle=False,\n",
        "                             callbacks=[early_stopping_manual],\n",
        "                             verbose=0)\n",
        "\n",
        "    predictions = best_model.predict(X_test)\n",
        "    predicted_categories = np.argmax(predictions, axis=1)\n",
        "\n",
        "    y_test_labels = np.argmax(y_test, axis=1)\n",
        "\n",
        "    accuracy = accuracy_score(y_test_labels, predicted_categories)\n",
        "\n",
        "    signals = predicted_categories\n",
        "    percent_changes = np.array(df_raw_exchange.iloc[-len(y_test):])\n",
        "\n",
        "    portfolio_value = backtest(signals, percent_changes)\n",
        "    hit_rate = compute_hit_rate(signals, percent_changes)\n",
        "    num_trades = np.sum((signals == 0) | (signals == 2))\n",
        "\n",
        "    return portfolio_value, accuracy, hit_rate, num_trades\n",
        "\n",
        "iterations = 50\n",
        "\n",
        "final_portfolio_values = []\n",
        "accuracies = []\n",
        "hit_rates = []\n",
        "trade_counts = []\n",
        "\n",
        "for i in range(iterations):\n",
        "    print(f\"Running iteration {i+1}/{iterations}\")\n",
        "    portfolio_value, accuracy, hit_rate, num_trades = run_single_iteration(X_train, y_train, X_test, y_test, best_params)\n",
        "    final_portfolio_values.append(portfolio_value[-1])\n",
        "    accuracies.append(accuracy)\n",
        "    hit_rates.append(hit_rate)\n",
        "    trade_counts.append(num_trades)\n",
        "    print(f\"Iteration {i+1} - Final Portfolio Value: {portfolio_value[-1]}, Accuracy: {accuracy}, Hit Rate: {hit_rate}, Trades: {num_trades}\")\n",
        "\n",
        "average_final_value = np.mean(final_portfolio_values)\n",
        "std_final_value = np.std(final_portfolio_values)\n",
        "\n",
        "average_accuracy = np.mean(accuracies)\n",
        "average_hit_rate = np.mean(hit_rates)\n",
        "average_num_trades = np.mean(trade_counts)\n",
        "\n",
        "print(\"Average Final Portfolio Value:\")\n",
        "print(average_final_value)\n",
        "print('Standard Deviation of Final Values:')\n",
        "print(std_final_value)\n",
        "print('Average Accuracy:')\n",
        "print(average_accuracy)\n",
        "print('Average Hit Rate:')\n",
        "print(average_hit_rate)\n",
        "print('Average No. of Trades:')\n",
        "print(average_num_trades)"
      ],
      "metadata": {
        "colab": {
          "base_uri": "https://localhost:8080/"
        },
        "id": "rjtXIxcuOGoL",
        "outputId": "5ce6d4a4-2e94-405e-e678-ca98f6859d09"
      },
      "execution_count": 49,
      "outputs": [
        {
          "output_type": "stream",
          "name": "stdout",
          "text": [
            "Running iteration 1/50\n",
            "\u001b[1m30/30\u001b[0m \u001b[32m━━━━━━━━━━━━━━━━━━━━\u001b[0m\u001b[37m\u001b[0m \u001b[1m0s\u001b[0m 8ms/step\n",
            "Iteration 1 - Final Portfolio Value: 81.66543980443977, Accuracy: 0.3698630136986301, Hit Rate: 0.47474747474747475, Trades: 396\n",
            "Running iteration 2/50\n",
            "\u001b[1m30/30\u001b[0m \u001b[32m━━━━━━━━━━━━━━━━━━━━\u001b[0m\u001b[37m\u001b[0m \u001b[1m0s\u001b[0m 8ms/step\n",
            "Iteration 2 - Final Portfolio Value: 88.17932073143187, Accuracy: 0.3677555321390938, Hit Rate: 0.46331236897274636, Trades: 477\n",
            "Running iteration 3/50\n",
            "\u001b[1m30/30\u001b[0m \u001b[32m━━━━━━━━━━━━━━━━━━━━\u001b[0m\u001b[37m\u001b[0m \u001b[1m0s\u001b[0m 8ms/step\n",
            "Iteration 3 - Final Portfolio Value: 101.21996707167285, Accuracy: 0.37513171759747105, Hit Rate: 0.5032258064516129, Trades: 465\n",
            "Running iteration 4/50\n",
            "\u001b[1m30/30\u001b[0m \u001b[32m━━━━━━━━━━━━━━━━━━━━\u001b[0m\u001b[37m\u001b[0m \u001b[1m0s\u001b[0m 8ms/step\n",
            "Iteration 4 - Final Portfolio Value: 98.62604985727619, Accuracy: 0.3772391991570074, Hit Rate: 0.47139588100686497, Trades: 437\n",
            "Running iteration 5/50\n",
            "\u001b[1m30/30\u001b[0m \u001b[32m━━━━━━━━━━━━━━━━━━━━\u001b[0m\u001b[37m\u001b[0m \u001b[1m0s\u001b[0m 8ms/step\n",
            "Iteration 5 - Final Portfolio Value: 114.20559408983387, Accuracy: 0.3835616438356164, Hit Rate: 0.5073375262054507, Trades: 477\n",
            "Running iteration 6/50\n",
            "\u001b[1m30/30\u001b[0m \u001b[32m━━━━━━━━━━━━━━━━━━━━\u001b[0m\u001b[37m\u001b[0m \u001b[1m0s\u001b[0m 8ms/step\n",
            "Iteration 6 - Final Portfolio Value: 105.58081976181198, Accuracy: 0.3898840885142255, Hit Rate: 0.5163551401869159, Trades: 428\n",
            "Running iteration 7/50\n",
            "\u001b[1m30/30\u001b[0m \u001b[32m━━━━━━━━━━━━━━━━━━━━\u001b[0m\u001b[37m\u001b[0m \u001b[1m0s\u001b[0m 8ms/step\n",
            "Iteration 7 - Final Portfolio Value: 92.67978599509051, Accuracy: 0.37513171759747105, Hit Rate: 0.5, Trades: 450\n",
            "Running iteration 8/50\n",
            "\u001b[1m30/30\u001b[0m \u001b[32m━━━━━━━━━━━━━━━━━━━━\u001b[0m\u001b[37m\u001b[0m \u001b[1m0s\u001b[0m 8ms/step\n",
            "Iteration 8 - Final Portfolio Value: 99.21882781626131, Accuracy: 0.38777660695468913, Hit Rate: 0.5149253731343284, Trades: 402\n",
            "Running iteration 9/50\n",
            "\u001b[1m30/30\u001b[0m \u001b[32m━━━━━━━━━━━━━━━━━━━━\u001b[0m\u001b[37m\u001b[0m \u001b[1m0s\u001b[0m 8ms/step\n",
            "Iteration 9 - Final Portfolio Value: 91.10961875106081, Accuracy: 0.37829293993677554, Hit Rate: 0.4879518072289157, Trades: 498\n",
            "Running iteration 10/50\n",
            "\u001b[1m30/30\u001b[0m \u001b[32m━━━━━━━━━━━━━━━━━━━━\u001b[0m\u001b[37m\u001b[0m \u001b[1m0s\u001b[0m 8ms/step\n",
            "Iteration 10 - Final Portfolio Value: 118.12521861143235, Accuracy: 0.40147523709167543, Hit Rate: 0.5462184873949579, Trades: 238\n",
            "Running iteration 11/50\n",
            "\u001b[1m30/30\u001b[0m \u001b[32m━━━━━━━━━━━━━━━━━━━━\u001b[0m\u001b[37m\u001b[0m \u001b[1m0s\u001b[0m 8ms/step\n",
            "Iteration 11 - Final Portfolio Value: 113.00184968305989, Accuracy: 0.40042149631190727, Hit Rate: 0.5327102803738317, Trades: 428\n",
            "Running iteration 12/50\n",
            "\u001b[1m30/30\u001b[0m \u001b[32m━━━━━━━━━━━━━━━━━━━━\u001b[0m\u001b[37m\u001b[0m \u001b[1m0s\u001b[0m 8ms/step\n",
            "Iteration 12 - Final Portfolio Value: 115.63743755890393, Accuracy: 0.38777660695468913, Hit Rate: 0.5402930402930403, Trades: 546\n",
            "Running iteration 13/50\n",
            "\u001b[1m30/30\u001b[0m \u001b[32m━━━━━━━━━━━━━━━━━━━━\u001b[0m\u001b[37m\u001b[0m \u001b[1m0s\u001b[0m 8ms/step\n",
            "Iteration 13 - Final Portfolio Value: 101.13855516026176, Accuracy: 0.3793466807165437, Hit Rate: 0.4920273348519362, Trades: 439\n",
            "Running iteration 14/50\n",
            "\u001b[1m30/30\u001b[0m \u001b[32m━━━━━━━━━━━━━━━━━━━━\u001b[0m\u001b[37m\u001b[0m \u001b[1m0s\u001b[0m 8ms/step\n",
            "Iteration 14 - Final Portfolio Value: 91.81517342910335, Accuracy: 0.38777660695468913, Hit Rate: 0.4845360824742268, Trades: 485\n",
            "Running iteration 15/50\n",
            "\u001b[1m30/30\u001b[0m \u001b[32m━━━━━━━━━━━━━━━━━━━━\u001b[0m\u001b[37m\u001b[0m \u001b[1m0s\u001b[0m 8ms/step\n",
            "Iteration 15 - Final Portfolio Value: 93.93903225833621, Accuracy: 0.39199157007376184, Hit Rate: 0.49551569506726456, Trades: 446\n",
            "Running iteration 16/50\n",
            "\u001b[1m30/30\u001b[0m \u001b[32m━━━━━━━━━━━━━━━━━━━━\u001b[0m\u001b[37m\u001b[0m \u001b[1m0s\u001b[0m 8ms/step\n",
            "Iteration 16 - Final Portfolio Value: 112.53335492681025, Accuracy: 0.3972602739726027, Hit Rate: 0.5509138381201044, Trades: 383\n",
            "Running iteration 17/50\n",
            "\u001b[1m30/30\u001b[0m \u001b[32m━━━━━━━━━━━━━━━━━━━━\u001b[0m\u001b[37m\u001b[0m \u001b[1m0s\u001b[0m 8ms/step\n",
            "Iteration 17 - Final Portfolio Value: 106.347940155529, Accuracy: 0.38672286617492097, Hit Rate: 0.5214446952595937, Trades: 443\n",
            "Running iteration 18/50\n",
            "\u001b[1m30/30\u001b[0m \u001b[32m━━━━━━━━━━━━━━━━━━━━\u001b[0m\u001b[37m\u001b[0m \u001b[1m0s\u001b[0m 8ms/step\n",
            "Iteration 18 - Final Portfolio Value: 92.98383769550658, Accuracy: 0.37829293993677554, Hit Rate: 0.4989384288747346, Trades: 471\n",
            "Running iteration 19/50\n",
            "\u001b[1m30/30\u001b[0m \u001b[32m━━━━━━━━━━━━━━━━━━━━\u001b[0m\u001b[37m\u001b[0m \u001b[1m0s\u001b[0m 8ms/step\n",
            "Iteration 19 - Final Portfolio Value: 95.42185128587893, Accuracy: 0.3719704952581665, Hit Rate: 0.4955357142857143, Trades: 448\n",
            "Running iteration 20/50\n",
            "\u001b[1m30/30\u001b[0m \u001b[32m━━━━━━━━━━━━━━━━━━━━\u001b[0m\u001b[37m\u001b[0m \u001b[1m0s\u001b[0m 8ms/step\n",
            "Iteration 20 - Final Portfolio Value: 97.59385691237121, Accuracy: 0.3856691253951528, Hit Rate: 0.5022222222222222, Trades: 450\n",
            "Running iteration 21/50\n",
            "\u001b[1m30/30\u001b[0m \u001b[32m━━━━━━━━━━━━━━━━━━━━\u001b[0m\u001b[37m\u001b[0m \u001b[1m0s\u001b[0m 8ms/step\n",
            "Iteration 21 - Final Portfolio Value: 107.26120012231969, Accuracy: 0.38672286617492097, Hit Rate: 0.5111561866125761, Trades: 493\n",
            "Running iteration 22/50\n",
            "\u001b[1m30/30\u001b[0m \u001b[32m━━━━━━━━━━━━━━━━━━━━\u001b[0m\u001b[37m\u001b[0m \u001b[1m0s\u001b[0m 8ms/step\n",
            "Iteration 22 - Final Portfolio Value: 108.62745836295532, Accuracy: 0.3972602739726027, Hit Rate: 0.508130081300813, Trades: 492\n",
            "Running iteration 23/50\n",
            "\u001b[1m30/30\u001b[0m \u001b[32m━━━━━━━━━━━━━━━━━━━━\u001b[0m\u001b[37m\u001b[0m \u001b[1m0s\u001b[0m 8ms/step\n",
            "Iteration 23 - Final Portfolio Value: 102.95282039730436, Accuracy: 0.38883034773445735, Hit Rate: 0.5274261603375527, Trades: 474\n",
            "Running iteration 24/50\n",
            "\u001b[1m30/30\u001b[0m \u001b[32m━━━━━━━━━━━━━━━━━━━━\u001b[0m\u001b[37m\u001b[0m \u001b[1m0s\u001b[0m 7ms/step\n",
            "Iteration 24 - Final Portfolio Value: 109.32057330941733, Accuracy: 0.39304531085353, Hit Rate: 0.5169082125603864, Trades: 414\n",
            "Running iteration 25/50\n",
            "\u001b[1m30/30\u001b[0m \u001b[32m━━━━━━━━━━━━━━━━━━━━\u001b[0m\u001b[37m\u001b[0m \u001b[1m0s\u001b[0m 8ms/step\n",
            "Iteration 25 - Final Portfolio Value: 111.60693140420291, Accuracy: 0.3951527924130664, Hit Rate: 0.5035460992907801, Trades: 423\n",
            "Running iteration 26/50\n",
            "\u001b[1m30/30\u001b[0m \u001b[32m━━━━━━━━━━━━━━━━━━━━\u001b[0m\u001b[37m\u001b[0m \u001b[1m0s\u001b[0m 7ms/step\n",
            "Iteration 26 - Final Portfolio Value: 98.4447754929803, Accuracy: 0.37829293993677554, Hit Rate: 0.503370786516854, Trades: 445\n",
            "Running iteration 27/50\n",
            "\u001b[1m30/30\u001b[0m \u001b[32m━━━━━━━━━━━━━━━━━━━━\u001b[0m\u001b[37m\u001b[0m \u001b[1m0s\u001b[0m 8ms/step\n",
            "Iteration 27 - Final Portfolio Value: 89.49334229210977, Accuracy: 0.37407797681770283, Hit Rate: 0.4654255319148936, Trades: 376\n",
            "Running iteration 28/50\n",
            "\u001b[1m30/30\u001b[0m \u001b[32m━━━━━━━━━━━━━━━━━━━━\u001b[0m\u001b[37m\u001b[0m \u001b[1m0s\u001b[0m 8ms/step\n",
            "Iteration 28 - Final Portfolio Value: 100.07026856842275, Accuracy: 0.3772391991570074, Hit Rate: 0.4977973568281938, Trades: 454\n",
            "Running iteration 29/50\n",
            "\u001b[1m30/30\u001b[0m \u001b[32m━━━━━━━━━━━━━━━━━━━━\u001b[0m\u001b[37m\u001b[0m \u001b[1m0s\u001b[0m 7ms/step\n",
            "Iteration 29 - Final Portfolio Value: 96.43830083772271, Accuracy: 0.37407797681770283, Hit Rate: 0.5033407572383074, Trades: 449\n",
            "Running iteration 30/50\n",
            "\u001b[1m30/30\u001b[0m \u001b[32m━━━━━━━━━━━━━━━━━━━━\u001b[0m\u001b[37m\u001b[0m \u001b[1m0s\u001b[0m 8ms/step\n",
            "Iteration 30 - Final Portfolio Value: 102.62605682396851, Accuracy: 0.3940990516332982, Hit Rate: 0.5073891625615764, Trades: 406\n",
            "Running iteration 31/50\n",
            "\u001b[1m30/30\u001b[0m \u001b[32m━━━━━━━━━━━━━━━━━━━━\u001b[0m\u001b[37m\u001b[0m \u001b[1m0s\u001b[0m 8ms/step\n",
            "Iteration 31 - Final Portfolio Value: 105.24727513585235, Accuracy: 0.3909378292939937, Hit Rate: 0.5164319248826291, Trades: 426\n",
            "Running iteration 32/50\n",
            "\u001b[1m30/30\u001b[0m \u001b[32m━━━━━━━━━━━━━━━━━━━━\u001b[0m\u001b[37m\u001b[0m \u001b[1m0s\u001b[0m 8ms/step\n",
            "Iteration 32 - Final Portfolio Value: 93.61549864188395, Accuracy: 0.3814541622760801, Hit Rate: 0.4937655860349127, Trades: 401\n",
            "Running iteration 33/50\n",
            "\u001b[1m30/30\u001b[0m \u001b[32m━━━━━━━━━━━━━━━━━━━━\u001b[0m\u001b[37m\u001b[0m \u001b[1m0s\u001b[0m 8ms/step\n",
            "Iteration 33 - Final Portfolio Value: 103.81845019688159, Accuracy: 0.37513171759747105, Hit Rate: 0.4948717948717949, Trades: 390\n",
            "Running iteration 34/50\n",
            "\u001b[1m30/30\u001b[0m \u001b[32m━━━━━━━━━━━━━━━━━━━━\u001b[0m\u001b[37m\u001b[0m \u001b[1m0s\u001b[0m 8ms/step\n",
            "Iteration 34 - Final Portfolio Value: 96.68674524944096, Accuracy: 0.38461538461538464, Hit Rate: 0.48118811881188117, Trades: 505\n",
            "Running iteration 35/50\n",
            "\u001b[1m30/30\u001b[0m \u001b[32m━━━━━━━━━━━━━━━━━━━━\u001b[0m\u001b[37m\u001b[0m \u001b[1m0s\u001b[0m 8ms/step\n",
            "Iteration 35 - Final Portfolio Value: 106.6391298793525, Accuracy: 0.3898840885142255, Hit Rate: 0.5084337349397591, Trades: 415\n",
            "Running iteration 36/50\n",
            "\u001b[1m30/30\u001b[0m \u001b[32m━━━━━━━━━━━━━━━━━━━━\u001b[0m\u001b[37m\u001b[0m \u001b[1m0s\u001b[0m 8ms/step\n",
            "Iteration 36 - Final Portfolio Value: 101.36683427378172, Accuracy: 0.39304531085353, Hit Rate: 0.49885057471264366, Trades: 435\n",
            "Running iteration 37/50\n",
            "\u001b[1m30/30\u001b[0m \u001b[32m━━━━━━━━━━━━━━━━━━━━\u001b[0m\u001b[37m\u001b[0m \u001b[1m0s\u001b[0m 8ms/step\n",
            "Iteration 37 - Final Portfolio Value: 103.34935538342488, Accuracy: 0.39199157007376184, Hit Rate: 0.5143487858719646, Trades: 453\n",
            "Running iteration 38/50\n",
            "\u001b[1m30/30\u001b[0m \u001b[32m━━━━━━━━━━━━━━━━━━━━\u001b[0m\u001b[37m\u001b[0m \u001b[1m0s\u001b[0m 8ms/step\n",
            "Iteration 38 - Final Portfolio Value: 109.22972303565255, Accuracy: 0.3951527924130664, Hit Rate: 0.5157894736842106, Trades: 475\n",
            "Running iteration 39/50\n",
            "\u001b[1m30/30\u001b[0m \u001b[32m━━━━━━━━━━━━━━━━━━━━\u001b[0m\u001b[37m\u001b[0m \u001b[1m0s\u001b[0m 9ms/step\n",
            "Iteration 39 - Final Portfolio Value: 96.77873599458276, Accuracy: 0.3909378292939937, Hit Rate: 0.494140625, Trades: 512\n",
            "Running iteration 40/50\n",
            "\u001b[1m30/30\u001b[0m \u001b[32m━━━━━━━━━━━━━━━━━━━━\u001b[0m\u001b[37m\u001b[0m \u001b[1m0s\u001b[0m 7ms/step\n",
            "Iteration 40 - Final Portfolio Value: 106.48165999780078, Accuracy: 0.3909378292939937, Hit Rate: 0.5080906148867314, Trades: 309\n",
            "Running iteration 41/50\n",
            "\u001b[1m30/30\u001b[0m \u001b[32m━━━━━━━━━━━━━━━━━━━━\u001b[0m\u001b[37m\u001b[0m \u001b[1m0s\u001b[0m 8ms/step\n",
            "Iteration 41 - Final Portfolio Value: 105.2226286488689, Accuracy: 0.3909378292939937, Hit Rate: 0.505091649694501, Trades: 491\n",
            "Running iteration 42/50\n",
            "\u001b[1m30/30\u001b[0m \u001b[32m━━━━━━━━━━━━━━━━━━━━\u001b[0m\u001b[37m\u001b[0m \u001b[1m0s\u001b[0m 8ms/step\n",
            "Iteration 42 - Final Portfolio Value: 102.06261432135717, Accuracy: 0.3909378292939937, Hit Rate: 0.507177033492823, Trades: 418\n",
            "Running iteration 43/50\n",
            "\u001b[1m30/30\u001b[0m \u001b[32m━━━━━━━━━━━━━━━━━━━━\u001b[0m\u001b[37m\u001b[0m \u001b[1m0s\u001b[0m 8ms/step\n",
            "Iteration 43 - Final Portfolio Value: 85.06467274722537, Accuracy: 0.3814541622760801, Hit Rate: 0.49122807017543857, Trades: 513\n",
            "Running iteration 44/50\n",
            "\u001b[1m30/30\u001b[0m \u001b[32m━━━━━━━━━━━━━━━━━━━━\u001b[0m\u001b[37m\u001b[0m \u001b[1m0s\u001b[0m 8ms/step\n",
            "Iteration 44 - Final Portfolio Value: 105.70821274464849, Accuracy: 0.3940990516332982, Hit Rate: 0.5011600928074246, Trades: 431\n",
            "Running iteration 45/50\n",
            "\u001b[1m30/30\u001b[0m \u001b[32m━━━━━━━━━━━━━━━━━━━━\u001b[0m\u001b[37m\u001b[0m \u001b[1m0s\u001b[0m 7ms/step\n",
            "Iteration 45 - Final Portfolio Value: 106.98985445050282, Accuracy: 0.3940990516332982, Hit Rate: 0.5056390977443609, Trades: 532\n",
            "Running iteration 46/50\n",
            "\u001b[1m30/30\u001b[0m \u001b[32m━━━━━━━━━━━━━━━━━━━━\u001b[0m\u001b[37m\u001b[0m \u001b[1m0s\u001b[0m 8ms/step\n",
            "Iteration 46 - Final Portfolio Value: 107.58695985996253, Accuracy: 0.3972602739726027, Hit Rate: 0.5144230769230769, Trades: 416\n",
            "Running iteration 47/50\n",
            "\u001b[1m30/30\u001b[0m \u001b[32m━━━━━━━━━━━━━━━━━━━━\u001b[0m\u001b[37m\u001b[0m \u001b[1m0s\u001b[0m 8ms/step\n",
            "Iteration 47 - Final Portfolio Value: 104.43273901022523, Accuracy: 0.3835616438356164, Hit Rate: 0.4961439588688946, Trades: 389\n",
            "Running iteration 48/50\n",
            "\u001b[1m30/30\u001b[0m \u001b[32m━━━━━━━━━━━━━━━━━━━━\u001b[0m\u001b[37m\u001b[0m \u001b[1m0s\u001b[0m 8ms/step\n",
            "Iteration 48 - Final Portfolio Value: 87.77736635601009, Accuracy: 0.3814541622760801, Hit Rate: 0.486784140969163, Trades: 454\n",
            "Running iteration 49/50\n",
            "\u001b[1m30/30\u001b[0m \u001b[32m━━━━━━━━━━━━━━━━━━━━\u001b[0m\u001b[37m\u001b[0m \u001b[1m0s\u001b[0m 8ms/step\n",
            "Iteration 49 - Final Portfolio Value: 94.87892402998351, Accuracy: 0.3909378292939937, Hit Rate: 0.4964200477326969, Trades: 419\n",
            "Running iteration 50/50\n",
            "\u001b[1m30/30\u001b[0m \u001b[32m━━━━━━━━━━━━━━━━━━━━\u001b[0m\u001b[37m\u001b[0m \u001b[1m0s\u001b[0m 8ms/step\n",
            "Iteration 50 - Final Portfolio Value: 92.59032212054491, Accuracy: 0.36459430979978924, Hit Rate: 0.5162337662337663, Trades: 616\n",
            "Average Final Portfolio Value:\n",
            "101.06785922490918\n",
            "Standard Deviation of Final Values:\n",
            "8.162272194332177\n",
            "Average Accuracy:\n",
            "0.38571127502634345\n",
            "Average Hit Rate:\n",
            "0.5038061940130509\n",
            "Average No. of Trades:\n",
            "444.66\n"
          ]
        }
      ]
    },
    {
      "cell_type": "markdown",
      "source": [
        "# 2nd Iteration\n"
      ],
      "metadata": {
        "id": "raDxrz0OXdn-"
      }
    },
    {
      "cell_type": "code",
      "source": [
        "time_steps = 15\n",
        "\n",
        "dataX = create_dataset(dataset, time_steps)\n",
        "\n",
        "dataX = np.reshape(dataX, (dataX.shape[0], time_steps, dataset.shape[1]))\n",
        "\n",
        "X = dataX\n",
        "y = y_categories[time_steps:]\n",
        "X_train, X_test, y_train, y_test = train_test_split(X, y, test_size=0.2, shuffle=False)"
      ],
      "metadata": {
        "id": "hgm2rVqiHEll"
      },
      "execution_count": null,
      "outputs": []
    },
    {
      "cell_type": "code",
      "source": [
        "def create_model_3(units1 = 128, dropout_rate1 = 0.3, batch_size = 32, l2_value = 0.01):\n",
        "    model = Sequential([\n",
        "        Input(shape = (X_train.shape[1], X_train.shape[2])),\n",
        "        LSTM(units1, return_sequences = True),\n",
        "        Dropout(dropout_rate1),\n",
        "        Dense(3, activation = 'softmax', kernel_regularizer = l2(l2_value))\n",
        "    ])\n",
        "    model.compile(optimizer = 'adam', loss = 'categorical_crossentropy', metrics = ['accuracy'])\n",
        "    return model"
      ],
      "metadata": {
        "id": "aG0H2wuogQMm"
      },
      "execution_count": null,
      "outputs": []
    },
    {
      "cell_type": "code",
      "source": [
        "model_3 = KerasClassifier(model = create_model_3, epochs = 75, verbose = 0, shuffle = False, random_state = 42)"
      ],
      "metadata": {
        "id": "SU70hUdGHEln"
      },
      "execution_count": null,
      "outputs": []
    },
    {
      "cell_type": "code",
      "source": [
        "param_grid_model3 = {\n",
        "    'model__units1': [32, 64, 128],\n",
        "    'model__dropout_rate1': [0.4, 0.3, 0.2],\n",
        "    'batch_size': [32, 64, 128],\n",
        "    'model__l2_value': [0.1, 0.01, 0.001]\n",
        "}"
      ],
      "metadata": {
        "id": "F6a5QdTBgkRB"
      },
      "execution_count": null,
      "outputs": []
    },
    {
      "cell_type": "code",
      "source": [
        "grid_model_3 = GridSearchCV(estimator = model_3, param_grid = param_grid_model3, cv = 5, n_jobs = -1)"
      ],
      "metadata": {
        "id": "2mCcvVuwHEln"
      },
      "execution_count": null,
      "outputs": []
    },
    {
      "cell_type": "code",
      "source": [
        "early_stopping = EarlyStopping(monitor = 'val_loss', patience = 5, start_from_epoch = 10, restore_best_weights = True)\n",
        "\n",
        "grid_result_model_3 = grid_model_3.fit(X_train, y_train, validation_split = 0.2, callbacks = [early_stopping])"
      ],
      "metadata": {
        "id": "Jkhx4HFoHElo"
      },
      "execution_count": null,
      "outputs": []
    },
    {
      "cell_type": "code",
      "source": [
        "best_params_model_3 = grid_result_model_3.best_params_\n",
        "\n",
        "print(best_params_model_3)"
      ],
      "metadata": {
        "colab": {
          "base_uri": "https://localhost:8080/"
        },
        "outputId": "589f7ec0-c335-43f9-cf5b-d052d45b2b22",
        "id": "aw0cDP5MYq_m"
      },
      "execution_count": null,
      "outputs": [
        {
          "output_type": "stream",
          "name": "stdout",
          "text": [
            "{'batch_size': 128, 'model__dropout_rate1': 0.4, 'model__l2_value': 0.1, 'model__units1': 128}\n"
          ]
        }
      ]
    },
    {
      "cell_type": "code",
      "source": [
        "best_model_3 = create_model_3(units1 = best_params_model_3['model__units1'],\n",
        "                          dropout_rate1 = best_params_model_3['model__dropout_rate1'],\n",
        "                          batch_size = best_params_model_3['batch_size'],\n",
        "                          l2_value = best_params_model_3['model__l2_value'],\n",
        "                          )"
      ],
      "metadata": {
        "id": "E3y-RYy1Yq_n"
      },
      "execution_count": null,
      "outputs": []
    },
    {
      "cell_type": "code",
      "source": [
        "early_stopping_manual = EarlyStopping(monitor='val_loss', patience = 10, restore_best_weights = True)\n",
        "\n",
        "history_model_3 = best_model_3.fit(X_train, y_train,\n",
        "                         epochs = 75,\n",
        "                         validation_data = (X_test, y_test),\n",
        "                                   batch_size = 128,\n",
        "                        callbacks = [early_stopping_manual],\n",
        "                         verbose = 0)"
      ],
      "metadata": {
        "id": "l7bVpi3aYq_n"
      },
      "execution_count": null,
      "outputs": []
    },
    {
      "cell_type": "code",
      "source": [
        "plt.plot(history_model_3.history['loss'])\n",
        "plt.plot(history_model_3.history['val_loss'])\n",
        "plt.title('Model loss')\n",
        "plt.ylabel('Loss')\n",
        "plt.xlabel('Epoch')\n",
        "plt.legend(['Train', 'Test'], loc='upper left')\n",
        "plt.show()"
      ],
      "metadata": {
        "id": "tYZ7qgwJeDTl",
        "outputId": "873c837b-322f-4e91-cf48-9f071eb1b39e",
        "colab": {
          "base_uri": "https://localhost:8080/",
          "height": 472
        }
      },
      "execution_count": null,
      "outputs": [
        {
          "output_type": "display_data",
          "data": {
            "text/plain": [
              "<Figure size 640x480 with 1 Axes>"
            ],
            "image/png": "[encoded data removed]"
          },
          "metadata": {}
        }
      ]
    },
    {
      "cell_type": "code",
      "source": [
        "y_pred = best_model_3.predict(X_test)\n",
        "\n",
        "actual_categories = np.argmax(y_test, axis=1)\n",
        "\n",
        "predicted_categories = np.argmax(y_pred, axis=1)\n",
        "\n",
        "cm = confusion_matrix(actual_categories, predicted_categories)\n",
        "disp = ConfusionMatrixDisplay(confusion_matrix=cm, display_labels=[0, 1, 2])\n",
        "\n",
        "plt.figure(figsize=(10, 7))\n",
        "disp.plot(cmap=plt.cm.Blues)\n",
        "plt.title('Confusion Matrix')\n",
        "plt.show()"
      ],
      "metadata": {
        "id": "QvMeilgThxOK",
        "outputId": "bda02f69-58f0-434c-ea2d-f1e28feb18d3",
        "colab": {
          "base_uri": "https://localhost:8080/",
          "height": 506
        }
      },
      "execution_count": null,
      "outputs": [
        {
          "output_type": "stream",
          "name": "stdout",
          "text": [
            "\u001b[1m30/30\u001b[0m \u001b[32m━━━━━━━━━━━━━━━━━━━━\u001b[0m\u001b[37m\u001b[0m \u001b[1m1s\u001b[0m 12ms/step\n"
          ]
        },
        {
          "output_type": "display_data",
          "data": {
            "text/plain": [
              "<Figure size 1000x700 with 0 Axes>"
            ]
          },
          "metadata": {}
        },
        {
          "output_type": "display_data",
          "data": {
            "text/plain": [
              "<Figure size 640x480 with 2 Axes>"
            ],
            "image/png": "[encoded data removed]"
          },
          "metadata": {}
        }
      ]
    },
    {
      "cell_type": "code",
      "source": [
        "def compute_hit_rate(signals, percent_changes):\n",
        "    correct_signals = 0\n",
        "    total_signals = len(signals)\n",
        "\n",
        "    for signal, percent_change in zip(signals, percent_changes):\n",
        "        if (signal == 0 and percent_change < 0) or (signal == 2 and percent_change > 0):\n",
        "            correct_signals += 1\n",
        "        elif signal == 1:\n",
        "            total_signals -= 1\n",
        "\n",
        "    return correct_signals / total_signals if total_signals > 0 else 0\n",
        "\n",
        "def backtest(actions, percent_changes):\n",
        "    cash = 100\n",
        "    position = 0  # Current position: 0 for flat, -1 for short, 1 for long\n",
        "    portfolio_value = []\n",
        "\n",
        "    for action, percent_change in zip(actions, percent_changes):\n",
        "        if action == 0:  # Sell\n",
        "            position = -100  # Set position to short\n",
        "            cash += position * percent_change  # Sell shares\n",
        "        elif action == 1:  # Flat\n",
        "            position = 0  # Set position to flat\n",
        "            cash += 0  # No action\n",
        "        elif action == 2:  # Buy\n",
        "            position = 100  # Set position to long\n",
        "            cash += position * percent_change  # Buy shares\n",
        "\n",
        "        portfolio_value.append(cash)  # Calculate portfolio value\n",
        "\n",
        "    return portfolio_value\n",
        "\n",
        "def run_single_iteration(X_train, y_train, X_test, y_test, best_params):\n",
        "    best_model_3 = create_model_3(units1 = best_params_model_3['model__units1'],\n",
        "                          dropout_rate1 = best_params_model_3['model__dropout_rate1'],\n",
        "                          batch_size = best_params_model_3['batch_size'],\n",
        "                          l2_value = best_params_model_3['model__l2_value']\n",
        "                          )\n",
        "\n",
        "    early_stopping_manual = EarlyStopping(monitor='val_loss', patience = 10, restore_best_weights = True)\n",
        "\n",
        "    history_model_3 = best_model_3.fit(X_train, y_train,\n",
        "                         epochs = 100,\n",
        "                         validation_data = (X_test, y_test),\n",
        "                                   batch_size = 128,\n",
        "                        callbacks = [early_stopping_manual],\n",
        "                         verbose = 0)\n",
        "\n",
        "    predictions = best_model_3.predict(X_test)\n",
        "    predicted_categories = np.argmax(predictions, axis=1)\n",
        "\n",
        "    y_test_labels = np.argmax(y_test, axis=1)\n",
        "\n",
        "    accuracy = accuracy_score(y_test_labels, predicted_categories)\n",
        "\n",
        "    signals = predicted_categories\n",
        "    percent_changes = np.array(df_raw_exchange.iloc[-len(y_test):])\n",
        "\n",
        "    portfolio_value = backtest(signals, percent_changes)\n",
        "    hit_rate = compute_hit_rate(signals, percent_changes)\n",
        "    num_trades = np.sum((signals == 0) | (signals == 2))\n",
        "\n",
        "\n",
        "    return portfolio_value, accuracy, hit_rate, num_trades\n",
        "\n",
        "iterations = 50\n",
        "\n",
        "final_portfolio_values = []\n",
        "accuracies = []\n",
        "hit_rates = []\n",
        "trade_counts = []\n",
        "\n",
        "for i in range(iterations):\n",
        "    print(f\"Running iteration {i+1}/{iterations}\")\n",
        "    portfolio_value, accuracy, hit_rate, num_trades = run_single_iteration(X_train, y_train, X_test, y_test, best_params_model_3)\n",
        "    final_portfolio_values.append(portfolio_value[-1])\n",
        "    accuracies.append(accuracy)\n",
        "    hit_rates.append(hit_rate)\n",
        "    trade_counts.append(num_trades)\n",
        "    print(f\"Iteration {i+1} - Final Portfolio Value: {portfolio_value[-1]}, Accuracy: {accuracy}, Hit Rate: {hit_rate}, Trades: {num_trades}\")\n",
        "\n",
        "average_final_value = np.mean(final_portfolio_values)\n",
        "std_final_value = np.std(final_portfolio_values)\n",
        "\n",
        "average_accuracy = np.mean(accuracies)\n",
        "average_hit_rate = np.mean(hit_rates)\n",
        "average_num_trades = np.mean(trade_counts)\n",
        "\n",
        "print(\"Average Final Portfolio Value:\")\n",
        "print(average_final_value)\n",
        "print('Standard Deviation of Final Values:')\n",
        "print(std_final_value)\n",
        "print('Average Accuracy:')\n",
        "print(average_accuracy)\n",
        "print('Average Hit Rate:')\n",
        "print(average_hit_rate)\n",
        "print('Average No. of Trades:')\n",
        "print(average_num_trades)"
      ],
      "metadata": {
        "colab": {
          "base_uri": "https://localhost:8080/"
        },
        "id": "VnciKacSflQL",
        "outputId": "cd78c344-b879-4b1b-d845-cd45f126c320"
      },
      "execution_count": null,
      "outputs": [
        {
          "output_type": "stream",
          "name": "stdout",
          "text": [
            "Running iteration 1/50\n",
            "\u001b[1m30/30\u001b[0m \u001b[32m━━━━━━━━━━━━━━━━━━━━\u001b[0m\u001b[37m\u001b[0m \u001b[1m1s\u001b[0m 11ms/step\n",
            "Iteration 1 - Final Portfolio Value: 92.99336673141849, Accuracy: 0.34562697576396206, Hit Rate: 0.4956521739130435, Trades: 690\n",
            "Running iteration 2/50\n",
            "\u001b[1m30/30\u001b[0m \u001b[32m━━━━━━━━━━━━━━━━━━━━\u001b[0m\u001b[37m\u001b[0m \u001b[1m1s\u001b[0m 11ms/step\n",
            "Iteration 2 - Final Portfolio Value: 97.36188788517133, Accuracy: 0.3582718651211802, Hit Rate: 0.49538461538461537, Trades: 650\n",
            "Running iteration 3/50\n",
            "\u001b[1m30/30\u001b[0m \u001b[32m━━━━━━━━━━━━━━━━━━━━\u001b[0m\u001b[37m\u001b[0m \u001b[1m1s\u001b[0m 11ms/step\n",
            "Iteration 3 - Final Portfolio Value: 106.47416323425908, Accuracy: 0.3698630136986301, Hit Rate: 0.5081168831168831, Trades: 616\n",
            "Running iteration 4/50\n",
            "\u001b[1m30/30\u001b[0m \u001b[32m━━━━━━━━━━━━━━━━━━━━\u001b[0m\u001b[37m\u001b[0m \u001b[1m1s\u001b[0m 11ms/step\n",
            "Iteration 4 - Final Portfolio Value: 98.08279287007241, Accuracy: 0.35511064278187565, Hit Rate: 0.5073529411764706, Trades: 680\n",
            "Running iteration 5/50\n",
            "\u001b[1m30/30\u001b[0m \u001b[32m━━━━━━━━━━━━━━━━━━━━\u001b[0m\u001b[37m\u001b[0m \u001b[1m1s\u001b[0m 11ms/step\n",
            "Iteration 5 - Final Portfolio Value: 89.27737583290553, Accuracy: 0.3224446786090622, Hit Rate: 0.4894459102902375, Trades: 758\n",
            "Running iteration 6/50\n",
            "\u001b[1m30/30\u001b[0m \u001b[32m━━━━━━━━━━━━━━━━━━━━\u001b[0m\u001b[37m\u001b[0m \u001b[1m1s\u001b[0m 11ms/step\n",
            "Iteration 6 - Final Portfolio Value: 99.67983201742811, Accuracy: 0.36143308746048475, Hit Rate: 0.4927536231884058, Trades: 483\n",
            "Running iteration 7/50\n",
            "\u001b[1m30/30\u001b[0m \u001b[32m━━━━━━━━━━━━━━━━━━━━\u001b[0m\u001b[37m\u001b[0m \u001b[1m1s\u001b[0m 11ms/step\n",
            "Iteration 7 - Final Portfolio Value: 95.75321354014066, Accuracy: 0.34562697576396206, Hit Rate: 0.4875, Trades: 560\n",
            "Running iteration 8/50\n",
            "\u001b[1m30/30\u001b[0m \u001b[32m━━━━━━━━━━━━━━━━━━━━\u001b[0m\u001b[37m\u001b[0m \u001b[1m1s\u001b[0m 11ms/step\n",
            "Iteration 8 - Final Portfolio Value: 92.98909282387552, Accuracy: 0.3466807165437302, Hit Rate: 0.49779086892488955, Trades: 679\n",
            "Running iteration 9/50\n",
            "\u001b[1m30/30\u001b[0m \u001b[32m━━━━━━━━━━━━━━━━━━━━\u001b[0m\u001b[37m\u001b[0m \u001b[1m1s\u001b[0m 11ms/step\n",
            "Iteration 9 - Final Portfolio Value: 101.9249997033718, Accuracy: 0.3624868282402529, Hit Rate: 0.48927875243664715, Trades: 513\n",
            "Running iteration 10/50\n",
            "\u001b[1m30/30\u001b[0m \u001b[32m━━━━━━━━━━━━━━━━━━━━\u001b[0m\u001b[37m\u001b[0m \u001b[1m1s\u001b[0m 11ms/step\n",
            "Iteration 10 - Final Portfolio Value: 88.73930608171939, Accuracy: 0.3561643835616438, Hit Rate: 0.4832, Trades: 625\n",
            "Running iteration 11/50\n",
            "\u001b[1m30/30\u001b[0m \u001b[32m━━━━━━━━━━━━━━━━━━━━\u001b[0m\u001b[37m\u001b[0m \u001b[1m1s\u001b[0m 11ms/step\n",
            "Iteration 11 - Final Portfolio Value: 105.99471155934351, Accuracy: 0.3129610115911486, Hit Rate: 0.5068493150684932, Trades: 949\n",
            "Running iteration 12/50\n",
            "\u001b[1m30/30\u001b[0m \u001b[32m━━━━━━━━━━━━━━━━━━━━\u001b[0m\u001b[37m\u001b[0m \u001b[1m1s\u001b[0m 11ms/step\n",
            "Iteration 12 - Final Portfolio Value: 95.53991829191462, Accuracy: 0.36037934668071653, Hit Rate: 0.4946401225114854, Trades: 653\n",
            "Running iteration 13/50\n",
            "\u001b[1m30/30\u001b[0m \u001b[32m━━━━━━━━━━━━━━━━━━━━\u001b[0m\u001b[37m\u001b[0m \u001b[1m1s\u001b[0m 10ms/step\n",
            "Iteration 13 - Final Portfolio Value: 91.52699198354529, Accuracy: 0.3403582718651212, Hit Rate: 0.4872881355932203, Trades: 708\n",
            "Running iteration 14/50\n",
            "\u001b[1m30/30\u001b[0m \u001b[32m━━━━━━━━━━━━━━━━━━━━\u001b[0m\u001b[37m\u001b[0m \u001b[1m1s\u001b[0m 10ms/step\n",
            "Iteration 14 - Final Portfolio Value: 89.7022256530914, Accuracy: 0.321390937829294, Hit Rate: 0.4987012987012987, Trades: 770\n",
            "Running iteration 15/50\n",
            "\u001b[1m30/30\u001b[0m \u001b[32m━━━━━━━━━━━━━━━━━━━━\u001b[0m\u001b[37m\u001b[0m \u001b[1m1s\u001b[0m 11ms/step\n",
            "Iteration 15 - Final Portfolio Value: 86.93463577807262, Accuracy: 0.3403582718651212, Hit Rate: 0.48142857142857143, Trades: 700\n",
            "Running iteration 16/50\n",
            "\u001b[1m30/30\u001b[0m \u001b[32m━━━━━━━━━━━━━━━━━━━━\u001b[0m\u001b[37m\u001b[0m \u001b[1m1s\u001b[0m 10ms/step\n",
            "Iteration 16 - Final Portfolio Value: 96.20564199093582, Accuracy: 0.3624868282402529, Hit Rate: 0.5098389982110912, Trades: 559\n",
            "Running iteration 17/50\n",
            "\u001b[1m30/30\u001b[0m \u001b[32m━━━━━━━━━━━━━━━━━━━━\u001b[0m\u001b[37m\u001b[0m \u001b[1m1s\u001b[0m 10ms/step\n",
            "Iteration 17 - Final Portfolio Value: 107.04639589372569, Accuracy: 0.3667017913593256, Hit Rate: 0.5, Trades: 596\n",
            "Running iteration 18/50\n",
            "\u001b[1m30/30\u001b[0m \u001b[32m━━━━━━━━━━━━━━━━━━━━\u001b[0m\u001b[37m\u001b[0m \u001b[1m1s\u001b[0m 11ms/step\n",
            "Iteration 18 - Final Portfolio Value: 92.62007350563819, Accuracy: 0.3561643835616438, Hit Rate: 0.4887459807073955, Trades: 622\n",
            "Running iteration 19/50\n",
            "\u001b[1m30/30\u001b[0m \u001b[32m━━━━━━━━━━━━━━━━━━━━\u001b[0m\u001b[37m\u001b[0m \u001b[1m1s\u001b[0m 11ms/step\n",
            "Iteration 19 - Final Portfolio Value: 88.37522488587713, Accuracy: 0.35511064278187565, Hit Rate: 0.487062404870624, Trades: 657\n",
            "Running iteration 20/50\n",
            "\u001b[1m30/30\u001b[0m \u001b[32m━━━━━━━━━━━━━━━━━━━━\u001b[0m\u001b[37m\u001b[0m \u001b[1m1s\u001b[0m 10ms/step\n",
            "Iteration 20 - Final Portfolio Value: 103.51816892798517, Accuracy: 0.3624868282402529, Hit Rate: 0.49920255183413076, Trades: 627\n",
            "Running iteration 21/50\n",
            "\u001b[1m30/30\u001b[0m \u001b[32m━━━━━━━━━━━━━━━━━━━━\u001b[0m\u001b[37m\u001b[0m \u001b[1m1s\u001b[0m 11ms/step\n",
            "Iteration 21 - Final Portfolio Value: 102.57041904147289, Accuracy: 0.3424657534246575, Hit Rate: 0.5042857142857143, Trades: 700\n",
            "Running iteration 22/50\n",
            "\u001b[1m30/30\u001b[0m \u001b[32m━━━━━━━━━━━━━━━━━━━━\u001b[0m\u001b[37m\u001b[0m \u001b[1m1s\u001b[0m 10ms/step\n",
            "Iteration 22 - Final Portfolio Value: 101.73830413597176, Accuracy: 0.36880927291886195, Hit Rate: 0.49768875192604006, Trades: 649\n",
            "Running iteration 23/50\n",
            "\u001b[1m30/30\u001b[0m \u001b[32m━━━━━━━━━━━━━━━━━━━━\u001b[0m\u001b[37m\u001b[0m \u001b[1m1s\u001b[0m 10ms/step\n",
            "Iteration 23 - Final Portfolio Value: 94.20017140719929, Accuracy: 0.33719704952581664, Hit Rate: 0.5, Trades: 732\n",
            "Running iteration 24/50\n",
            "\u001b[1m30/30\u001b[0m \u001b[32m━━━━━━━━━━━━━━━━━━━━\u001b[0m\u001b[37m\u001b[0m \u001b[1m1s\u001b[0m 11ms/step\n",
            "Iteration 24 - Final Portfolio Value: 102.93507249318132, Accuracy: 0.3761854583772392, Hit Rate: 0.4908616187989556, Trades: 383\n",
            "Running iteration 25/50\n",
            "\u001b[1m30/30\u001b[0m \u001b[32m━━━━━━━━━━━━━━━━━━━━\u001b[0m\u001b[37m\u001b[0m \u001b[1m1s\u001b[0m 11ms/step\n",
            "Iteration 25 - Final Portfolio Value: 96.20774676037958, Accuracy: 0.3656480505795574, Hit Rate: 0.4989247311827957, Trades: 465\n",
            "Running iteration 26/50\n",
            "\u001b[1m30/30\u001b[0m \u001b[32m━━━━━━━━━━━━━━━━━━━━\u001b[0m\u001b[37m\u001b[0m \u001b[1m1s\u001b[0m 10ms/step\n",
            "Iteration 26 - Final Portfolio Value: 93.12199692566625, Accuracy: 0.34562697576396206, Hit Rate: 0.49777777777777776, Trades: 675\n",
            "Running iteration 27/50\n",
            "\u001b[1m30/30\u001b[0m \u001b[32m━━━━━━━━━━━━━━━━━━━━\u001b[0m\u001b[37m\u001b[0m \u001b[1m1s\u001b[0m 10ms/step\n",
            "Iteration 27 - Final Portfolio Value: 101.9152577633143, Accuracy: 0.36880927291886195, Hit Rate: 0.496875, Trades: 640\n",
            "Running iteration 28/50\n",
            "\u001b[1m30/30\u001b[0m \u001b[32m━━━━━━━━━━━━━━━━━━━━\u001b[0m\u001b[37m\u001b[0m \u001b[1m1s\u001b[0m 10ms/step\n",
            "Iteration 28 - Final Portfolio Value: 102.81926319115664, Accuracy: 0.3624868282402529, Hit Rate: 0.49130434782608695, Trades: 460\n",
            "Running iteration 29/50\n",
            "\u001b[1m30/30\u001b[0m \u001b[32m━━━━━━━━━━━━━━━━━━━━\u001b[0m\u001b[37m\u001b[0m \u001b[1m1s\u001b[0m 11ms/step\n",
            "Iteration 29 - Final Portfolio Value: 100.5067266580977, Accuracy: 0.35721812434141204, Hit Rate: 0.497196261682243, Trades: 535\n",
            "Running iteration 30/50\n",
            "\u001b[1m30/30\u001b[0m \u001b[32m━━━━━━━━━━━━━━━━━━━━\u001b[0m\u001b[37m\u001b[0m \u001b[1m1s\u001b[0m 10ms/step\n",
            "Iteration 30 - Final Portfolio Value: 83.45734633154325, Accuracy: 0.3192834562697576, Hit Rate: 0.4860927152317881, Trades: 755\n",
            "Running iteration 31/50\n",
            "\u001b[1m30/30\u001b[0m \u001b[32m━━━━━━━━━━━━━━━━━━━━\u001b[0m\u001b[37m\u001b[0m \u001b[1m1s\u001b[0m 10ms/step\n",
            "Iteration 31 - Final Portfolio Value: 91.14026101019775, Accuracy: 0.3530031612223393, Hit Rate: 0.48861911987860396, Trades: 659\n",
            "Running iteration 32/50\n",
            "\u001b[1m30/30\u001b[0m \u001b[32m━━━━━━━━━━━━━━━━━━━━\u001b[0m\u001b[37m\u001b[0m \u001b[1m1s\u001b[0m 11ms/step\n",
            "Iteration 32 - Final Portfolio Value: 96.01089131334834, Accuracy: 0.3582718651211802, Hit Rate: 0.4969512195121951, Trades: 656\n",
            "Running iteration 33/50\n",
            "\u001b[1m30/30\u001b[0m \u001b[32m━━━━━━━━━━━━━━━━━━━━\u001b[0m\u001b[37m\u001b[0m \u001b[1m1s\u001b[0m 11ms/step\n",
            "Iteration 33 - Final Portfolio Value: 97.74509848515991, Accuracy: 0.35721812434141204, Hit Rate: 0.5022970903522205, Trades: 653\n",
            "Running iteration 34/50\n",
            "\u001b[1m30/30\u001b[0m \u001b[32m━━━━━━━━━━━━━━━━━━━━\u001b[0m\u001b[37m\u001b[0m \u001b[1m1s\u001b[0m 10ms/step\n",
            "Iteration 34 - Final Portfolio Value: 103.67798464143961, Accuracy: 0.37829293993677554, Hit Rate: 0.4881889763779528, Trades: 381\n",
            "Running iteration 35/50\n",
            "\u001b[1m30/30\u001b[0m \u001b[32m━━━━━━━━━━━━━━━━━━━━\u001b[0m\u001b[37m\u001b[0m \u001b[1m1s\u001b[0m 10ms/step\n",
            "Iteration 35 - Final Portfolio Value: 101.41947123477821, Accuracy: 0.37091675447839834, Hit Rate: 0.49912739965095987, Trades: 573\n",
            "Running iteration 36/50\n",
            "\u001b[1m30/30\u001b[0m \u001b[32m━━━━━━━━━━━━━━━━━━━━\u001b[0m\u001b[37m\u001b[0m \u001b[1m1s\u001b[0m 10ms/step\n",
            "Iteration 36 - Final Portfolio Value: 87.78696023555972, Accuracy: 0.3361433087460485, Hit Rate: 0.48583569405099153, Trades: 706\n",
            "Running iteration 37/50\n",
            "\u001b[1m30/30\u001b[0m \u001b[32m━━━━━━━━━━━━━━━━━━━━\u001b[0m\u001b[37m\u001b[0m \u001b[1m1s\u001b[0m 10ms/step\n",
            "Iteration 37 - Final Portfolio Value: 103.52439282774353, Accuracy: 0.3624868282402529, Hit Rate: 0.4982698961937716, Trades: 578\n",
            "Running iteration 38/50\n",
            "\u001b[1m30/30\u001b[0m \u001b[32m━━━━━━━━━━━━━━━━━━━━\u001b[0m\u001b[37m\u001b[0m \u001b[1m1s\u001b[0m 10ms/step\n",
            "Iteration 38 - Final Portfolio Value: 92.48958302499048, Accuracy: 0.3530031612223393, Hit Rate: 0.49251497005988026, Trades: 668\n",
            "Running iteration 39/50\n",
            "\u001b[1m30/30\u001b[0m \u001b[32m━━━━━━━━━━━━━━━━━━━━\u001b[0m\u001b[37m\u001b[0m \u001b[1m1s\u001b[0m 11ms/step\n",
            "Iteration 39 - Final Portfolio Value: 87.01775684677258, Accuracy: 0.3361433087460485, Hit Rate: 0.4876632801161103, Trades: 689\n",
            "Running iteration 40/50\n",
            "\u001b[1m30/30\u001b[0m \u001b[32m━━━━━━━━━━━━━━━━━━━━\u001b[0m\u001b[37m\u001b[0m \u001b[1m1s\u001b[0m 11ms/step\n",
            "Iteration 40 - Final Portfolio Value: 95.08926023845936, Accuracy: 0.3519494204425711, Hit Rate: 0.49343065693430654, Trades: 685\n",
            "Running iteration 41/50\n",
            "\u001b[1m30/30\u001b[0m \u001b[32m━━━━━━━━━━━━━━━━━━━━\u001b[0m\u001b[37m\u001b[0m \u001b[1m1s\u001b[0m 10ms/step\n",
            "Iteration 41 - Final Portfolio Value: 95.61748171855456, Accuracy: 0.34351949420442573, Hit Rate: 0.49697885196374625, Trades: 662\n",
            "Running iteration 42/50\n",
            "\u001b[1m30/30\u001b[0m \u001b[32m━━━━━━━━━━━━━━━━━━━━\u001b[0m\u001b[37m\u001b[0m \u001b[1m1s\u001b[0m 11ms/step\n",
            "Iteration 42 - Final Portfolio Value: 93.16765538247625, Accuracy: 0.3519494204425711, Hit Rate: 0.4954954954954955, Trades: 666\n",
            "Running iteration 43/50\n",
            "\u001b[1m30/30\u001b[0m \u001b[32m━━━━━━━━━━━━━━━━━━━━\u001b[0m\u001b[37m\u001b[0m \u001b[1m1s\u001b[0m 11ms/step\n",
            "Iteration 43 - Final Portfolio Value: 99.30866376674547, Accuracy: 0.36037934668071653, Hit Rate: 0.49725776965265084, Trades: 547\n",
            "Running iteration 44/50\n",
            "\u001b[1m30/30\u001b[0m \u001b[32m━━━━━━━━━━━━━━━━━━━━\u001b[0m\u001b[37m\u001b[0m \u001b[1m1s\u001b[0m 10ms/step\n",
            "Iteration 44 - Final Portfolio Value: 104.79170777917835, Accuracy: 0.36143308746048475, Hit Rate: 0.5056390977443609, Trades: 532\n",
            "Running iteration 45/50\n",
            "\u001b[1m30/30\u001b[0m \u001b[32m━━━━━━━━━━━━━━━━━━━━\u001b[0m\u001b[37m\u001b[0m \u001b[1m1s\u001b[0m 10ms/step\n",
            "Iteration 45 - Final Portfolio Value: 94.41960688195371, Accuracy: 0.3530031612223393, Hit Rate: 0.4970414201183432, Trades: 676\n",
            "Running iteration 46/50\n",
            "\u001b[1m30/30\u001b[0m \u001b[32m━━━━━━━━━━━━━━━━━━━━\u001b[0m\u001b[37m\u001b[0m \u001b[1m1s\u001b[0m 10ms/step\n",
            "Iteration 46 - Final Portfolio Value: 108.86308696317472, Accuracy: 0.36880927291886195, Hit Rate: 0.5067567567567568, Trades: 592\n",
            "Running iteration 47/50\n",
            "\u001b[1m30/30\u001b[0m \u001b[32m━━━━━━━━━━━━━━━━━━━━\u001b[0m\u001b[37m\u001b[0m \u001b[1m1s\u001b[0m 11ms/step\n",
            "Iteration 47 - Final Portfolio Value: 96.29912471182442, Accuracy: 0.34773445732349845, Hit Rate: 0.4979310344827586, Trades: 725\n",
            "Running iteration 48/50\n",
            "\u001b[1m30/30\u001b[0m \u001b[32m━━━━━━━━━━━━━━━━━━━━\u001b[0m\u001b[37m\u001b[0m \u001b[1m1s\u001b[0m 10ms/step\n",
            "Iteration 48 - Final Portfolio Value: 88.66811986909974, Accuracy: 0.29083245521601686, Hit Rate: 0.4912891986062718, Trades: 861\n",
            "Running iteration 49/50\n",
            "\u001b[1m30/30\u001b[0m \u001b[32m━━━━━━━━━━━━━━━━━━━━\u001b[0m\u001b[37m\u001b[0m \u001b[1m1s\u001b[0m 10ms/step\n",
            "Iteration 49 - Final Portfolio Value: 86.56536024466118, Accuracy: 0.3245521601685985, Hit Rate: 0.4879032258064516, Trades: 744\n",
            "Running iteration 50/50\n",
            "\u001b[1m30/30\u001b[0m \u001b[32m━━━━━━━━━━━━━━━━━━━━\u001b[0m\u001b[37m\u001b[0m \u001b[1m1s\u001b[0m 11ms/step\n",
            "Iteration 50 - Final Portfolio Value: 100.95423617241866, Accuracy: 0.37302423603793466, Hit Rate: 0.4958263772954925, Trades: 599\n",
            "Average Final Portfolio Value:\n",
            "96.49538054494023\n",
            "Standard Deviation of Final Values:\n",
            "6.1935436243472015\n",
            "Average Accuracy:\n",
            "0.35157007376185456\n",
            "Average Hit Rate:\n",
            "0.4953251519423646\n",
            "Average No. of Trades:\n",
            "638.82\n"
          ]
        }
      ]
    },
    {
      "cell_type": "markdown",
      "source": [
        "# 3rd Iteration\n"
      ],
      "metadata": {
        "id": "HjNl3WoQZGV_"
      }
    },
    {
      "cell_type": "code",
      "source": [
        "time_steps = 15\n",
        "\n",
        "dataX = create_dataset(dataset, time_steps)\n",
        "\n",
        "dataX = np.reshape(dataX, (dataX.shape[0], time_steps, dataset.shape[1]))\n",
        "\n",
        "X = dataX\n",
        "y = y_categories[time_steps:]\n",
        "X_train, X_test, y_train, y_test = train_test_split(X, y, test_size=0.2, shuffle=False, random_state = 42)"
      ],
      "metadata": {
        "id": "K_5al4hayBE-"
      },
      "execution_count": null,
      "outputs": []
    },
    {
      "cell_type": "code",
      "source": [
        "def create_model_3(units1 = 128, units2 = 64,  dropout_rate1 = 0.2, dropout_rate2 = 0.1, batch_size = 32, l2_value = 0.01):\n",
        "    model = Sequential([\n",
        "        Input(shape=(X_train.shape[1], X_train.shape[2])),\n",
        "        LSTM(units1, return_sequences = True),\n",
        "        Dropout(dropout_rate1),\n",
        "        LSTM(units2, return_sequences = False),\n",
        "        Dropout(dropout_rate2),\n",
        "        Dense(3, activation = 'softmax', kernel_regularizer=l2(l2_value))\n",
        "    ])\n",
        "    model.compile(optimizer='adam', loss='categorical_crossentropy', metrics=['accuracy'])\n",
        "    return model"
      ],
      "metadata": {
        "id": "Xd7xw4w5ZGHf"
      },
      "execution_count": null,
      "outputs": []
    },
    {
      "cell_type": "code",
      "source": [
        "param_grid_model_3 = {\n",
        "    'model__units1': [64, 128],\n",
        "    'model__units2': [64, 128],\n",
        "    'model__dropout_rate1': [0.2, 0.3, 0.4],\n",
        "    'model__dropout_rate2': [0.2, 0.3, 0.4],\n",
        "    'batch_size': [64, 128],\n",
        "    'model__l2_value': [0.1, 0.01]\n",
        "}"
      ],
      "metadata": {
        "id": "Zd0By1dv3oHq"
      },
      "execution_count": null,
      "outputs": []
    },
    {
      "cell_type": "code",
      "source": [
        "model_3 = KerasClassifier(model = create_model_3, epochs = 75, verbose = 0, shuffle = False, random_state = 42)"
      ],
      "metadata": {
        "id": "4jJ1f7aXZHqs"
      },
      "execution_count": null,
      "outputs": []
    },
    {
      "cell_type": "code",
      "source": [
        "grid_model_3 = GridSearchCV(estimator = model_3, param_grid = param_grid_model_3, cv = 5, scoring = 'accuracy', n_jobs = -1)"
      ],
      "metadata": {
        "id": "7saLAKHjZHqs"
      },
      "execution_count": null,
      "outputs": []
    },
    {
      "cell_type": "code",
      "source": [
        "early_stopping = EarlyStopping(monitor = 'val_loss', patience = 5, start_from_epoch = 10, restore_best_weights = True)\n",
        "\n",
        "grid_result_model_3 = grid_model_3.fit(X_train, y_train, validation_split = 0.2, callbacks = [early_stopping])"
      ],
      "metadata": {
        "id": "XkD3EzbiZHqs"
      },
      "execution_count": null,
      "outputs": []
    },
    {
      "cell_type": "code",
      "source": [
        "best_params_model_3 = grid_result_model_3.best_params_\n",
        "\n",
        "print(best_params_model_3)"
      ],
      "metadata": {
        "colab": {
          "base_uri": "https://localhost:8080/"
        },
        "id": "EcRpxq1R_pS2",
        "outputId": "bfc63239-f5fe-4568-bd02-72e6cfa68fd6"
      },
      "execution_count": null,
      "outputs": [
        {
          "output_type": "stream",
          "name": "stdout",
          "text": [
            "{'batch_size': 128, 'model__dropout_rate1': 0.4, 'model__dropout_rate2': 0.3, 'model__l2_value': 0.1, 'model__units1': 128, 'model__units2': 64}\n"
          ]
        }
      ]
    },
    {
      "cell_type": "code",
      "source": [
        "best_model_3 = create_model_3(units1 = best_params_model_3['model__units1'],\n",
        "                              units2 = best_params_model_3['model__units2'],\n",
        "                          dropout_rate1 = best_params_model_3['model__dropout_rate1'],\n",
        "                              dropout_rate2 = best_params_model_3['model__dropout_rate2'],\n",
        "                          batch_size = best_params_model_3['batch_size'],\n",
        "                              l2_value = best_params_model_3['model__l2_value']\n",
        "                          )"
      ],
      "metadata": {
        "id": "E7w3jJeO_tOo"
      },
      "execution_count": null,
      "outputs": []
    },
    {
      "cell_type": "code",
      "source": [
        "early_stopping = EarlyStopping(monitor = 'val_loss', patience = 5, start_from_epoch = 10, restore_best_weights = True)\n",
        "\n",
        "history_model_3 = best_model_3.fit(X_train, y_train,\n",
        "                         epochs = 75,\n",
        "                                   batch_size = 128,\n",
        "                         validation_data=(X_test, y_test),\n",
        "                                   callbacks = [early_stopping],\n",
        "                         verbose = 0)"
      ],
      "metadata": {
        "id": "w3G1BQlz_134"
      },
      "execution_count": null,
      "outputs": []
    },
    {
      "cell_type": "code",
      "source": [
        "plt.plot(history_model_3.history['loss'])\n",
        "plt.plot(history_model_3.history['val_loss'])\n",
        "plt.title('Model loss')\n",
        "plt.ylabel('Loss')\n",
        "plt.xlabel('Epoch')\n",
        "plt.legend(['Train', 'Test'], loc='upper left')\n",
        "plt.show()"
      ],
      "metadata": {
        "colab": {
          "base_uri": "https://localhost:8080/",
          "height": 472
        },
        "id": "5FSNJKXU_4qH",
        "outputId": "dfd3e301-54d8-4678-83df-fa9671f1d400"
      },
      "execution_count": null,
      "outputs": [
        {
          "output_type": "display_data",
          "data": {
            "text/plain": [
              "<Figure size 640x480 with 1 Axes>"
            ],
            "image/png": "[encoded data removed]"
          },
          "metadata": {}
        }
      ]
    },
    {
      "cell_type": "code",
      "source": [
        "y_pred = best_model_3.predict(X_test)\n",
        "\n",
        "actual_categories = np.argmax(y_test, axis=1)\n",
        "\n",
        "predicted_categories = np.argmax(y_pred, axis=1)\n",
        "\n",
        "cm = confusion_matrix(actual_categories, predicted_categories)\n",
        "disp = ConfusionMatrixDisplay(confusion_matrix=cm, display_labels=[0, 1, 2])\n",
        "\n",
        "plt.figure(figsize=(10, 7))\n",
        "disp.plot(cmap=plt.cm.Blues)\n",
        "plt.title('Confusion Matrix')\n",
        "plt.show()"
      ],
      "metadata": {
        "colab": {
          "base_uri": "https://localhost:8080/",
          "height": 506
        },
        "id": "DIUMJ8Eo_7DO",
        "outputId": "45422253-c7f3-4a37-ca38-6df7a5878c15"
      },
      "execution_count": null,
      "outputs": [
        {
          "output_type": "stream",
          "name": "stdout",
          "text": [
            "\u001b[1m30/30\u001b[0m \u001b[32m━━━━━━━━━━━━━━━━━━━━\u001b[0m\u001b[37m\u001b[0m \u001b[1m0s\u001b[0m 8ms/step\n"
          ]
        },
        {
          "output_type": "display_data",
          "data": {
            "text/plain": [
              "<Figure size 1000x700 with 0 Axes>"
            ]
          },
          "metadata": {}
        },
        {
          "output_type": "display_data",
          "data": {
            "text/plain": [
              "<Figure size 640x480 with 2 Axes>"
            ],
            "image/png": "[encoded data removed]"
          },
          "metadata": {}
        }
      ]
    },
    {
      "cell_type": "code",
      "source": [
        "def compute_hit_rate(signals, percent_changes):\n",
        "    correct_signals = 0\n",
        "    total_signals = len(signals)\n",
        "\n",
        "    for signal, percent_change in zip(signals, percent_changes):\n",
        "        if (signal == 0 and percent_change < 0) or (signal == 2 and percent_change > 0):\n",
        "            correct_signals += 1\n",
        "        elif signal == 1:\n",
        "            total_signals -= 1\n",
        "\n",
        "    return correct_signals / total_signals if total_signals > 0 else 0\n",
        "\n",
        "def backtest(actions, percent_changes):\n",
        "    cash = 100\n",
        "    position = 0\n",
        "    portfolio_value = []\n",
        "\n",
        "    for action, percent_change in zip(actions, percent_changes):\n",
        "        if action == 0:  # Sell\n",
        "            position = -100  # Set position to short\n",
        "            cash += position * percent_change  # Sell shares\n",
        "        elif action == 1:  # Flat\n",
        "            position = 0  # Set position to flat\n",
        "            cash += 0  # No action\n",
        "        elif action == 2:  # Buy\n",
        "            position = 100  # Set position to long\n",
        "            cash += position * percent_change  # Buy shares\n",
        "\n",
        "        portfolio_value.append(cash)\n",
        "\n",
        "    return portfolio_value\n",
        "\n",
        "def run_single_iteration(X_train, y_train, X_test, y_test, best_params_model_3):\n",
        "    best_model_3 = create_model_3(units1 = best_params_model_3['model__units1'],\n",
        "                              units2 = best_params_model_3['model__units2'],\n",
        "                          dropout_rate1 = best_params_model_3['model__dropout_rate1'],\n",
        "                              dropout_rate2 = best_params_model_3['model__dropout_rate2'],\n",
        "                          batch_size = best_params_model_3['batch_size'],\n",
        "                                  l2_value = best_params_model_3['model__l2_value']\n",
        "                          )\n",
        "\n",
        "    early_stopping = EarlyStopping(monitor = 'val_loss', patience = 5, start_from_epoch = 10, restore_best_weights = True)\n",
        "\n",
        "    history_model_3 = best_model_3.fit(X_train, y_train,\n",
        "                         epochs = 75,\n",
        "                                   batch_size = 128,\n",
        "                         validation_data = (X_test, y_test),\n",
        "                                   callbacks = [early_stopping],\n",
        "                         verbose = 0)\n",
        "\n",
        "    predictions = best_model_3.predict(X_test)\n",
        "    predicted_categories = np.argmax(predictions, axis=1)\n",
        "\n",
        "    y_test_labels = np.argmax(y_test, axis=1)\n",
        "\n",
        "    accuracy = accuracy_score(y_test_labels, predicted_categories)\n",
        "\n",
        "    signals = predicted_categories\n",
        "    percent_changes = np.array(df_raw_exchange.iloc[-len(y_test):])\n",
        "\n",
        "    portfolio_value = backtest(signals, percent_changes)\n",
        "    hit_rate = compute_hit_rate(signals, percent_changes)\n",
        "    num_trades = np.sum((signals == 0) | (signals == 2))\n",
        "\n",
        "\n",
        "    return portfolio_value, accuracy, hit_rate, num_trades\n",
        "\n",
        "iterations = 50\n",
        "\n",
        "final_portfolio_values = []\n",
        "accuracies = []\n",
        "hit_rates = []\n",
        "trade_counts = []\n",
        "\n",
        "for i in range(iterations):\n",
        "    print(f\"Running iteration {i+1}/{iterations}\")\n",
        "    portfolio_value, accuracy, hit_rate, num_trades = run_single_iteration(X_train, y_train, X_test, y_test, best_params_model_3)\n",
        "    final_portfolio_values.append(portfolio_value[-1])\n",
        "    accuracies.append(accuracy)\n",
        "    hit_rates.append(hit_rate)\n",
        "    trade_counts.append(num_trades)\n",
        "    print(f\"Iteration {i+1} - Final Portfolio Value: {portfolio_value[-1]}, Accuracy: {accuracy}, Hit Rate: {hit_rate}, Trades: {num_trades}\")\n",
        "\n",
        "average_final_value = np.mean(final_portfolio_values)\n",
        "std_final_value = np.std(final_portfolio_values)\n",
        "\n",
        "average_accuracy = np.mean(accuracies)\n",
        "average_hit_rate = np.mean(hit_rates)\n",
        "average_num_trades = np.mean(trade_counts)\n",
        "\n",
        "print(\"Average Final Portfolio Value:\")\n",
        "print(average_final_value)\n",
        "print('Standard Deviation of Final Values:')\n",
        "print(std_final_value)\n",
        "print('Average Accuracy:')\n",
        "print(average_accuracy)\n",
        "print('Average Hit Rate:')\n",
        "print(average_hit_rate)\n",
        "print('Average No. of Trades:')\n",
        "print(average_num_trades)"
      ],
      "metadata": {
        "colab": {
          "base_uri": "https://localhost:8080/"
        },
        "id": "Kn3vmKWN-1X7",
        "outputId": "cc28f058-5324-403c-f1ff-be5b0705b45e"
      },
      "execution_count": null,
      "outputs": [
        {
          "output_type": "stream",
          "name": "stdout",
          "text": [
            "Running iteration 1/100\n",
            "\u001b[1m30/30\u001b[0m \u001b[32m━━━━━━━━━━━━━━━━━━━━\u001b[0m\u001b[37m\u001b[0m \u001b[1m0s\u001b[0m 8ms/step\n",
            "Iteration 1 - Final Portfolio Value: 98.38139270693449, Accuracy: 0.35721812434141204, Hit Rate: 0.5056179775280899, Trades: 534\n",
            "Running iteration 2/100\n",
            "\u001b[1m30/30\u001b[0m \u001b[32m━━━━━━━━━━━━━━━━━━━━\u001b[0m\u001b[37m\u001b[0m \u001b[1m0s\u001b[0m 8ms/step\n",
            "Iteration 2 - Final Portfolio Value: 100.34972953844746, Accuracy: 0.36143308746048475, Hit Rate: 0.5110220440881763, Trades: 499\n",
            "Running iteration 3/100\n",
            "\u001b[1m30/30\u001b[0m \u001b[32m━━━━━━━━━━━━━━━━━━━━\u001b[0m\u001b[37m\u001b[0m \u001b[1m0s\u001b[0m 8ms/step\n",
            "Iteration 3 - Final Portfolio Value: 99.72011345258545, Accuracy: 0.36880927291886195, Hit Rate: 0.5028790786948176, Trades: 521\n",
            "Running iteration 4/100\n",
            "\u001b[1m30/30\u001b[0m \u001b[32m━━━━━━━━━━━━━━━━━━━━\u001b[0m\u001b[37m\u001b[0m \u001b[1m0s\u001b[0m 8ms/step\n",
            "Iteration 4 - Final Portfolio Value: 93.57447078992806, Accuracy: 0.36459430979978924, Hit Rate: 0.49361702127659574, Trades: 470\n",
            "Running iteration 5/100\n",
            "\u001b[1m30/30\u001b[0m \u001b[32m━━━━━━━━━━━━━━━━━━━━\u001b[0m\u001b[37m\u001b[0m \u001b[1m0s\u001b[0m 8ms/step\n",
            "Iteration 5 - Final Portfolio Value: 105.13685886060284, Accuracy: 0.36880927291886195, Hit Rate: 0.5093945720250522, Trades: 479\n",
            "Running iteration 6/100\n",
            "\u001b[1m30/30\u001b[0m \u001b[32m━━━━━━━━━━━━━━━━━━━━\u001b[0m\u001b[37m\u001b[0m \u001b[1m0s\u001b[0m 8ms/step\n",
            "Iteration 6 - Final Portfolio Value: 102.974662302947, Accuracy: 0.36880927291886195, Hit Rate: 0.50920245398773, Trades: 489\n",
            "Running iteration 7/100\n",
            "\u001b[1m30/30\u001b[0m \u001b[32m━━━━━━━━━━━━━━━━━━━━\u001b[0m\u001b[37m\u001b[0m \u001b[1m0s\u001b[0m 8ms/step\n",
            "Iteration 7 - Final Portfolio Value: 99.67116555495255, Accuracy: 0.3656480505795574, Hit Rate: 0.4869402985074627, Trades: 536\n",
            "Running iteration 8/100\n",
            "\u001b[1m30/30\u001b[0m \u001b[32m━━━━━━━━━━━━━━━━━━━━\u001b[0m\u001b[37m\u001b[0m \u001b[1m1s\u001b[0m 23ms/step\n",
            "Iteration 8 - Final Portfolio Value: 103.87018680470905, Accuracy: 0.3677555321390938, Hit Rate: 0.5079365079365079, Trades: 504\n",
            "Running iteration 9/100\n",
            "\u001b[1m30/30\u001b[0m \u001b[32m━━━━━━━━━━━━━━━━━━━━\u001b[0m\u001b[37m\u001b[0m \u001b[1m0s\u001b[0m 8ms/step\n",
            "Iteration 9 - Final Portfolio Value: 96.80799445452924, Accuracy: 0.3656480505795574, Hit Rate: 0.49043478260869566, Trades: 575\n",
            "Running iteration 10/100\n",
            "\u001b[1m30/30\u001b[0m \u001b[32m━━━━━━━━━━━━━━━━━━━━\u001b[0m\u001b[37m\u001b[0m \u001b[1m0s\u001b[0m 8ms/step\n",
            "Iteration 10 - Final Portfolio Value: 91.76672500236711, Accuracy: 0.35511064278187565, Hit Rate: 0.48973143759873616, Trades: 633\n",
            "Running iteration 11/100\n",
            "\u001b[1m30/30\u001b[0m \u001b[32m━━━━━━━━━━━━━━━━━━━━\u001b[0m\u001b[37m\u001b[0m \u001b[1m0s\u001b[0m 8ms/step\n",
            "Iteration 11 - Final Portfolio Value: 93.75445731962536, Accuracy: 0.3540569020021075, Hit Rate: 0.4929078014184397, Trades: 564\n",
            "Running iteration 12/100\n",
            "\u001b[1m30/30\u001b[0m \u001b[32m━━━━━━━━━━━━━━━━━━━━\u001b[0m\u001b[37m\u001b[0m \u001b[1m0s\u001b[0m 8ms/step\n",
            "Iteration 12 - Final Portfolio Value: 110.78435684991598, Accuracy: 0.3772391991570074, Hit Rate: 0.5174603174603175, Trades: 630\n",
            "Running iteration 13/100\n",
            "\u001b[1m30/30\u001b[0m \u001b[32m━━━━━━━━━━━━━━━━━━━━\u001b[0m\u001b[37m\u001b[0m \u001b[1m0s\u001b[0m 8ms/step\n",
            "Iteration 13 - Final Portfolio Value: 102.91633005673461, Accuracy: 0.36037934668071653, Hit Rate: 0.49335863377609107, Trades: 527\n",
            "Running iteration 14/100\n",
            "\u001b[1m30/30\u001b[0m \u001b[32m━━━━━━━━━━━━━━━━━━━━\u001b[0m\u001b[37m\u001b[0m \u001b[1m0s\u001b[0m 8ms/step\n",
            "Iteration 14 - Final Portfolio Value: 100.45362358760804, Accuracy: 0.3677555321390938, Hit Rate: 0.49559082892416223, Trades: 567\n",
            "Running iteration 15/100\n",
            "\u001b[1m30/30\u001b[0m \u001b[32m━━━━━━━━━━━━━━━━━━━━\u001b[0m\u001b[37m\u001b[0m \u001b[1m0s\u001b[0m 7ms/step\n",
            "Iteration 15 - Final Portfolio Value: 108.8444478926651, Accuracy: 0.3719704952581665, Hit Rate: 0.511326860841424, Trades: 618\n",
            "Running iteration 16/100\n",
            "\u001b[1m30/30\u001b[0m \u001b[32m━━━━━━━━━━━━━━━━━━━━\u001b[0m\u001b[37m\u001b[0m \u001b[1m0s\u001b[0m 8ms/step\n",
            "Iteration 16 - Final Portfolio Value: 97.74062037319243, Accuracy: 0.36880927291886195, Hit Rate: 0.506198347107438, Trades: 484\n",
            "Running iteration 17/100\n",
            "\u001b[1m30/30\u001b[0m \u001b[32m━━━━━━━━━━━━━━━━━━━━\u001b[0m\u001b[37m\u001b[0m \u001b[1m0s\u001b[0m 8ms/step\n",
            "Iteration 17 - Final Portfolio Value: 103.94829747019214, Accuracy: 0.3635405690200211, Hit Rate: 0.5051020408163265, Trades: 588\n",
            "Running iteration 18/100\n",
            "\u001b[1m30/30\u001b[0m \u001b[32m━━━━━━━━━━━━━━━━━━━━\u001b[0m\u001b[37m\u001b[0m \u001b[1m0s\u001b[0m 8ms/step\n",
            "Iteration 18 - Final Portfolio Value: 101.67436546262313, Accuracy: 0.3624868282402529, Hit Rate: 0.5067961165048543, Trades: 515\n",
            "Running iteration 19/100\n",
            "\u001b[1m30/30\u001b[0m \u001b[32m━━━━━━━━━━━━━━━━━━━━\u001b[0m\u001b[37m\u001b[0m \u001b[1m0s\u001b[0m 8ms/step\n",
            "Iteration 19 - Final Portfolio Value: 89.07903281151067, Accuracy: 0.3224446786090622, Hit Rate: 0.49171974522292994, Trades: 785\n",
            "Running iteration 20/100\n",
            "\u001b[1m30/30\u001b[0m \u001b[32m━━━━━━━━━━━━━━━━━━━━\u001b[0m\u001b[37m\u001b[0m \u001b[1m0s\u001b[0m 8ms/step\n",
            "Iteration 20 - Final Portfolio Value: 102.29503903692944, Accuracy: 0.35511064278187565, Hit Rate: 0.5150214592274678, Trades: 699\n",
            "Running iteration 21/100\n",
            "\u001b[1m30/30\u001b[0m \u001b[32m━━━━━━━━━━━━━━━━━━━━\u001b[0m\u001b[37m\u001b[0m \u001b[1m0s\u001b[0m 8ms/step\n",
            "Iteration 21 - Final Portfolio Value: 103.4485565069525, Accuracy: 0.3540569020021075, Hit Rate: 0.5154185022026432, Trades: 681\n",
            "Running iteration 22/100\n",
            "\u001b[1m30/30\u001b[0m \u001b[32m━━━━━━━━━━━━━━━━━━━━\u001b[0m\u001b[37m\u001b[0m \u001b[1m0s\u001b[0m 8ms/step\n",
            "Iteration 22 - Final Portfolio Value: 96.01573493332306, Accuracy: 0.36143308746048475, Hit Rate: 0.4984520123839009, Trades: 646\n",
            "Running iteration 23/100\n",
            "\u001b[1m30/30\u001b[0m \u001b[32m━━━━━━━━━━━━━━━━━━━━\u001b[0m\u001b[37m\u001b[0m \u001b[1m0s\u001b[0m 8ms/step\n",
            "Iteration 23 - Final Portfolio Value: 104.31309609266282, Accuracy: 0.3698630136986301, Hit Rate: 0.4981684981684982, Trades: 546\n",
            "Running iteration 24/100\n",
            "\u001b[1m30/30\u001b[0m \u001b[32m━━━━━━━━━━━━━━━━━━━━\u001b[0m\u001b[37m\u001b[0m \u001b[1m0s\u001b[0m 8ms/step\n",
            "Iteration 24 - Final Portfolio Value: 101.57275649568396, Accuracy: 0.36459430979978924, Hit Rate: 0.5128712871287129, Trades: 505\n",
            "Running iteration 25/100\n",
            "\u001b[1m30/30\u001b[0m \u001b[32m━━━━━━━━━━━━━━━━━━━━\u001b[0m\u001b[37m\u001b[0m \u001b[1m0s\u001b[0m 7ms/step\n",
            "Iteration 25 - Final Portfolio Value: 102.61561199156091, Accuracy: 0.36037934668071653, Hit Rate: 0.5058823529411764, Trades: 510\n",
            "Running iteration 26/100\n",
            "\u001b[1m30/30\u001b[0m \u001b[32m━━━━━━━━━━━━━━━━━━━━\u001b[0m\u001b[37m\u001b[0m \u001b[1m0s\u001b[0m 8ms/step\n",
            "Iteration 26 - Final Portfolio Value: 97.57119485866826, Accuracy: 0.3582718651211802, Hit Rate: 0.501937984496124, Trades: 516\n",
            "Running iteration 27/100\n",
            "\u001b[1m30/30\u001b[0m \u001b[32m━━━━━━━━━━━━━━━━━━━━\u001b[0m\u001b[37m\u001b[0m \u001b[1m0s\u001b[0m 7ms/step\n",
            "Iteration 27 - Final Portfolio Value: 105.37891659712153, Accuracy: 0.37302423603793466, Hit Rate: 0.5024793388429752, Trades: 605\n",
            "Running iteration 28/100\n",
            "\u001b[1m30/30\u001b[0m \u001b[32m━━━━━━━━━━━━━━━━━━━━\u001b[0m\u001b[37m\u001b[0m \u001b[1m0s\u001b[0m 8ms/step\n",
            "Iteration 28 - Final Portfolio Value: 107.01646490445123, Accuracy: 0.37513171759747105, Hit Rate: 0.5017064846416383, Trades: 586\n",
            "Running iteration 29/100\n",
            "\u001b[1m30/30\u001b[0m \u001b[32m━━━━━━━━━━━━━━━━━━━━\u001b[0m\u001b[37m\u001b[0m \u001b[1m0s\u001b[0m 8ms/step\n",
            "Iteration 29 - Final Portfolio Value: 106.08729469682186, Accuracy: 0.37302423603793466, Hit Rate: 0.5224171539961013, Trades: 513\n",
            "Running iteration 30/100\n",
            "\u001b[1m30/30\u001b[0m \u001b[32m━━━━━━━━━━━━━━━━━━━━\u001b[0m\u001b[37m\u001b[0m \u001b[1m0s\u001b[0m 7ms/step\n",
            "Iteration 30 - Final Portfolio Value: 99.16431655917168, Accuracy: 0.3624868282402529, Hit Rate: 0.5027522935779817, Trades: 545\n",
            "Running iteration 31/100\n",
            "\u001b[1m30/30\u001b[0m \u001b[32m━━━━━━━━━━━━━━━━━━━━\u001b[0m\u001b[37m\u001b[0m \u001b[1m0s\u001b[0m 8ms/step\n",
            "Iteration 31 - Final Portfolio Value: 108.84917342036101, Accuracy: 0.3667017913593256, Hit Rate: 0.512539184952978, Trades: 638\n",
            "Running iteration 32/100\n",
            "\u001b[1m30/30\u001b[0m \u001b[32m━━━━━━━━━━━━━━━━━━━━\u001b[0m\u001b[37m\u001b[0m \u001b[1m0s\u001b[0m 8ms/step\n",
            "Iteration 32 - Final Portfolio Value: 96.8362986280637, Accuracy: 0.35932560590094836, Hit Rate: 0.4990512333965844, Trades: 527\n",
            "Running iteration 33/100\n",
            "\u001b[1m30/30\u001b[0m \u001b[32m━━━━━━━━━━━━━━━━━━━━\u001b[0m\u001b[37m\u001b[0m \u001b[1m0s\u001b[0m 8ms/step\n",
            "Iteration 33 - Final Portfolio Value: 96.02714537445526, Accuracy: 0.35932560590094836, Hit Rate: 0.49407114624505927, Trades: 506\n",
            "Running iteration 34/100\n",
            "\u001b[1m30/30\u001b[0m \u001b[32m━━━━━━━━━━━━━━━━━━━━\u001b[0m\u001b[37m\u001b[0m \u001b[1m0s\u001b[0m 8ms/step\n",
            "Iteration 34 - Final Portfolio Value: 109.27728344823952, Accuracy: 0.3635405690200211, Hit Rate: 0.5207715133531158, Trades: 674\n",
            "Running iteration 35/100\n",
            "\u001b[1m30/30\u001b[0m \u001b[32m━━━━━━━━━━━━━━━━━━━━\u001b[0m\u001b[37m\u001b[0m \u001b[1m0s\u001b[0m 8ms/step\n",
            "Iteration 35 - Final Portfolio Value: 100.67988694261228, Accuracy: 0.3635405690200211, Hit Rate: 0.4936440677966102, Trades: 472\n",
            "Running iteration 36/100\n",
            "\u001b[1m30/30\u001b[0m \u001b[32m━━━━━━━━━━━━━━━━━━━━\u001b[0m\u001b[37m\u001b[0m \u001b[1m0s\u001b[0m 8ms/step\n",
            "Iteration 36 - Final Portfolio Value: 102.05271960486795, Accuracy: 0.36143308746048475, Hit Rate: 0.5, Trades: 480\n",
            "Running iteration 37/100\n",
            "\u001b[1m30/30\u001b[0m \u001b[32m━━━━━━━━━━━━━━━━━━━━\u001b[0m\u001b[37m\u001b[0m \u001b[1m0s\u001b[0m 8ms/step\n",
            "Iteration 37 - Final Portfolio Value: 102.93621116125311, Accuracy: 0.3719704952581665, Hit Rate: 0.5065176908752328, Trades: 537\n",
            "Running iteration 38/100\n",
            "\u001b[1m30/30\u001b[0m \u001b[32m━━━━━━━━━━━━━━━━━━━━\u001b[0m\u001b[37m\u001b[0m \u001b[1m0s\u001b[0m 8ms/step\n",
            "Iteration 38 - Final Portfolio Value: 105.95151406688848, Accuracy: 0.3698630136986301, Hit Rate: 0.5098389982110912, Trades: 559\n",
            "Running iteration 39/100\n",
            "\u001b[1m30/30\u001b[0m \u001b[32m━━━━━━━━━━━━━━━━━━━━\u001b[0m\u001b[37m\u001b[0m \u001b[1m0s\u001b[0m 8ms/step\n",
            "Iteration 39 - Final Portfolio Value: 102.59641231630113, Accuracy: 0.36880927291886195, Hit Rate: 0.49409780775716694, Trades: 593\n",
            "Running iteration 40/100\n",
            "\u001b[1m30/30\u001b[0m \u001b[32m━━━━━━━━━━━━━━━━━━━━\u001b[0m\u001b[37m\u001b[0m \u001b[1m0s\u001b[0m 8ms/step\n",
            "Iteration 40 - Final Portfolio Value: 95.92408277807104, Accuracy: 0.3582718651211802, Hit Rate: 0.488245931283906, Trades: 553\n",
            "Running iteration 41/100\n",
            "\u001b[1m30/30\u001b[0m \u001b[32m━━━━━━━━━━━━━━━━━━━━\u001b[0m\u001b[37m\u001b[0m \u001b[1m0s\u001b[0m 7ms/step\n",
            "Iteration 41 - Final Portfolio Value: 93.62140443109332, Accuracy: 0.35932560590094836, Hit Rate: 0.49498997995991983, Trades: 499\n",
            "Running iteration 42/100\n",
            "\u001b[1m30/30\u001b[0m \u001b[32m━━━━━━━━━━━━━━━━━━━━\u001b[0m\u001b[37m\u001b[0m \u001b[1m0s\u001b[0m 8ms/step\n",
            "Iteration 42 - Final Portfolio Value: 96.26888729885536, Accuracy: 0.3129610115911486, Hit Rate: 0.5035885167464115, Trades: 836\n",
            "Running iteration 43/100\n",
            "\u001b[1m30/30\u001b[0m \u001b[32m━━━━━━━━━━━━━━━━━━━━\u001b[0m\u001b[37m\u001b[0m \u001b[1m0s\u001b[0m 8ms/step\n",
            "Iteration 43 - Final Portfolio Value: 102.87177086610092, Accuracy: 0.3656480505795574, Hit Rate: 0.5038461538461538, Trades: 520\n",
            "Running iteration 44/100\n",
            "\u001b[1m30/30\u001b[0m \u001b[32m━━━━━━━━━━━━━━━━━━━━\u001b[0m\u001b[37m\u001b[0m \u001b[1m0s\u001b[0m 7ms/step\n",
            "Iteration 44 - Final Portfolio Value: 87.65673578635526, Accuracy: 0.3129610115911486, Hit Rate: 0.49313358302122345, Trades: 801\n",
            "Running iteration 45/100\n",
            "\u001b[1m30/30\u001b[0m \u001b[32m━━━━━━━━━━━━━━━━━━━━\u001b[0m\u001b[37m\u001b[0m \u001b[1m0s\u001b[0m 7ms/step\n",
            "Iteration 45 - Final Portfolio Value: 104.43391115928074, Accuracy: 0.3656480505795574, Hit Rate: 0.49755301794453505, Trades: 613\n",
            "Running iteration 46/100\n",
            "\u001b[1m30/30\u001b[0m \u001b[32m━━━━━━━━━━━━━━━━━━━━\u001b[0m\u001b[37m\u001b[0m \u001b[1m0s\u001b[0m 7ms/step\n",
            "Iteration 46 - Final Portfolio Value: 101.24793605319601, Accuracy: 0.3677555321390938, Hit Rate: 0.508130081300813, Trades: 492\n",
            "Running iteration 47/100\n",
            "\u001b[1m30/30\u001b[0m \u001b[32m━━━━━━━━━━━━━━━━━━━━\u001b[0m\u001b[37m\u001b[0m \u001b[1m0s\u001b[0m 7ms/step\n",
            "Iteration 47 - Final Portfolio Value: 107.76896364380015, Accuracy: 0.36459430979978924, Hit Rate: 0.5081699346405228, Trades: 612\n",
            "Running iteration 48/100\n",
            "\u001b[1m30/30\u001b[0m \u001b[32m━━━━━━━━━━━━━━━━━━━━\u001b[0m\u001b[37m\u001b[0m \u001b[1m0s\u001b[0m 8ms/step\n",
            "Iteration 48 - Final Portfolio Value: 95.60538010017194, Accuracy: 0.35511064278187565, Hit Rate: 0.4897579143389199, Trades: 537\n",
            "Running iteration 49/100\n",
            "\u001b[1m30/30\u001b[0m \u001b[32m━━━━━━━━━━━━━━━━━━━━\u001b[0m\u001b[37m\u001b[0m \u001b[1m0s\u001b[0m 7ms/step\n",
            "Iteration 49 - Final Portfolio Value: 102.55580473727346, Accuracy: 0.36037934668071653, Hit Rate: 0.49818181818181817, Trades: 550\n",
            "Running iteration 50/100\n",
            "\u001b[1m30/30\u001b[0m \u001b[32m━━━━━━━━━━━━━━━━━━━━\u001b[0m\u001b[37m\u001b[0m \u001b[1m0s\u001b[0m 8ms/step\n",
            "Iteration 50 - Final Portfolio Value: 89.68860872810163, Accuracy: 0.3013698630136986, Hit Rate: 0.4939613526570048, Trades: 828\n",
            "Running iteration 51/100\n",
            "\u001b[1m30/30\u001b[0m \u001b[32m━━━━━━━━━━━━━━━━━━━━\u001b[0m\u001b[37m\u001b[0m \u001b[1m0s\u001b[0m 8ms/step\n",
            "Iteration 51 - Final Portfolio Value: 97.86854095970418, Accuracy: 0.36459430979978924, Hit Rate: 0.5207100591715976, Trades: 507\n",
            "Running iteration 52/100\n",
            "\u001b[1m30/30\u001b[0m \u001b[32m━━━━━━━━━━━━━━━━━━━━\u001b[0m\u001b[37m\u001b[0m \u001b[1m0s\u001b[0m 8ms/step\n",
            "Iteration 52 - Final Portfolio Value: 99.09681118797296, Accuracy: 0.3582718651211802, Hit Rate: 0.501953125, Trades: 512\n",
            "Running iteration 53/100\n",
            "\u001b[1m30/30\u001b[0m \u001b[32m━━━━━━━━━━━━━━━━━━━━\u001b[0m\u001b[37m\u001b[0m \u001b[1m0s\u001b[0m 8ms/step\n",
            "Iteration 53 - Final Portfolio Value: 101.27949992548527, Accuracy: 0.3656480505795574, Hit Rate: 0.5031446540880503, Trades: 477\n",
            "Running iteration 54/100\n",
            "\u001b[1m30/30\u001b[0m \u001b[32m━━━━━━━━━━━━━━━━━━━━\u001b[0m\u001b[37m\u001b[0m \u001b[1m0s\u001b[0m 8ms/step\n",
            "Iteration 54 - Final Portfolio Value: 101.28642869161098, Accuracy: 0.36459430979978924, Hit Rate: 0.49504950495049505, Trades: 505\n",
            "Running iteration 55/100\n",
            "\u001b[1m30/30\u001b[0m \u001b[32m━━━━━━━━━━━━━━━━━━━━\u001b[0m\u001b[37m\u001b[0m \u001b[1m0s\u001b[0m 8ms/step\n",
            "Iteration 55 - Final Portfolio Value: 100.00553969635737, Accuracy: 0.36037934668071653, Hit Rate: 0.5080645161290323, Trades: 496\n",
            "Running iteration 56/100\n",
            "\u001b[1m30/30\u001b[0m \u001b[32m━━━━━━━━━━━━━━━━━━━━\u001b[0m\u001b[37m\u001b[0m \u001b[1m0s\u001b[0m 8ms/step\n",
            "Iteration 56 - Final Portfolio Value: 102.45873877842075, Accuracy: 0.3656480505795574, Hit Rate: 0.4971209213051823, Trades: 521\n",
            "Running iteration 57/100\n",
            "\u001b[1m30/30\u001b[0m \u001b[32m━━━━━━━━━━━━━━━━━━━━\u001b[0m\u001b[37m\u001b[0m \u001b[1m0s\u001b[0m 8ms/step\n",
            "Iteration 57 - Final Portfolio Value: 94.45405692085332, Accuracy: 0.3540569020021075, Hit Rate: 0.49295774647887325, Trades: 568\n",
            "Running iteration 58/100\n",
            "\u001b[1m30/30\u001b[0m \u001b[32m━━━━━━━━━━━━━━━━━━━━\u001b[0m\u001b[37m\u001b[0m \u001b[1m0s\u001b[0m 8ms/step\n",
            "Iteration 58 - Final Portfolio Value: 94.33349764220469, Accuracy: 0.32982086406743943, Hit Rate: 0.49523809523809526, Trades: 735\n",
            "Running iteration 59/100\n",
            "\u001b[1m30/30\u001b[0m \u001b[32m━━━━━━━━━━━━━━━━━━━━\u001b[0m\u001b[37m\u001b[0m \u001b[1m0s\u001b[0m 8ms/step\n",
            "Iteration 59 - Final Portfolio Value: 102.88039419469314, Accuracy: 0.36880927291886195, Hit Rate: 0.5022222222222222, Trades: 450\n",
            "Running iteration 60/100\n",
            "\u001b[1m30/30\u001b[0m \u001b[32m━━━━━━━━━━━━━━━━━━━━\u001b[0m\u001b[37m\u001b[0m \u001b[1m0s\u001b[0m 8ms/step\n",
            "Iteration 60 - Final Portfolio Value: 106.88638757085548, Accuracy: 0.37302423603793466, Hit Rate: 0.514344262295082, Trades: 488\n",
            "Running iteration 61/100\n",
            "\u001b[1m30/30\u001b[0m \u001b[32m━━━━━━━━━━━━━━━━━━━━\u001b[0m\u001b[37m\u001b[0m \u001b[1m0s\u001b[0m 8ms/step\n",
            "Iteration 61 - Final Portfolio Value: 93.97334657431429, Accuracy: 0.3656480505795574, Hit Rate: 0.49673202614379086, Trades: 459\n",
            "Running iteration 62/100\n",
            "\u001b[1m30/30\u001b[0m \u001b[32m━━━━━━━━━━━━━━━━━━━━\u001b[0m\u001b[37m\u001b[0m \u001b[1m0s\u001b[0m 8ms/step\n",
            "Iteration 62 - Final Portfolio Value: 102.81992947130092, Accuracy: 0.36880927291886195, Hit Rate: 0.4944, Trades: 625\n",
            "Running iteration 63/100\n",
            "\u001b[1m30/30\u001b[0m \u001b[32m━━━━━━━━━━━━━━━━━━━━\u001b[0m\u001b[37m\u001b[0m \u001b[1m0s\u001b[0m 8ms/step\n",
            "Iteration 63 - Final Portfolio Value: 100.77868445326814, Accuracy: 0.36143308746048475, Hit Rate: 0.5093945720250522, Trades: 479\n",
            "Running iteration 64/100\n",
            "\u001b[1m30/30\u001b[0m \u001b[32m━━━━━━━━━━━━━━━━━━━━\u001b[0m\u001b[37m\u001b[0m \u001b[1m0s\u001b[0m 8ms/step\n",
            "Iteration 64 - Final Portfolio Value: 102.52145711352613, Accuracy: 0.3624868282402529, Hit Rate: 0.5048169556840078, Trades: 519\n",
            "Running iteration 65/100\n",
            "\u001b[1m30/30\u001b[0m \u001b[32m━━━━━━━━━━━━━━━━━━━━\u001b[0m\u001b[37m\u001b[0m \u001b[1m0s\u001b[0m 8ms/step\n",
            "Iteration 65 - Final Portfolio Value: 104.56994220529243, Accuracy: 0.3624868282402529, Hit Rate: 0.499054820415879, Trades: 529\n",
            "Running iteration 66/100\n",
            "\u001b[1m30/30\u001b[0m \u001b[32m━━━━━━━━━━━━━━━━━━━━\u001b[0m\u001b[37m\u001b[0m \u001b[1m0s\u001b[0m 7ms/step\n",
            "Iteration 66 - Final Portfolio Value: 99.09335009604382, Accuracy: 0.36143308746048475, Hit Rate: 0.5028462998102466, Trades: 527\n",
            "Running iteration 67/100\n",
            "\u001b[1m30/30\u001b[0m \u001b[32m━━━━━━━━━━━━━━━━━━━━\u001b[0m\u001b[37m\u001b[0m \u001b[1m0s\u001b[0m 8ms/step\n",
            "Iteration 67 - Final Portfolio Value: 97.49407247033538, Accuracy: 0.2992623814541623, Hit Rate: 0.501123595505618, Trades: 890\n",
            "Running iteration 68/100\n",
            "\u001b[1m30/30\u001b[0m \u001b[32m━━━━━━━━━━━━━━━━━━━━\u001b[0m\u001b[37m\u001b[0m \u001b[1m0s\u001b[0m 9ms/step\n",
            "Iteration 68 - Final Portfolio Value: 99.95805122701282, Accuracy: 0.36459430979978924, Hit Rate: 0.4894067796610169, Trades: 472\n",
            "Running iteration 69/100\n",
            "\u001b[1m30/30\u001b[0m \u001b[32m━━━━━━━━━━━━━━━━━━━━\u001b[0m\u001b[37m\u001b[0m \u001b[1m0s\u001b[0m 8ms/step\n",
            "Iteration 69 - Final Portfolio Value: 101.42315997749351, Accuracy: 0.35932560590094836, Hit Rate: 0.5057471264367817, Trades: 522\n",
            "Running iteration 70/100\n",
            "\u001b[1m30/30\u001b[0m \u001b[32m━━━━━━━━━━━━━━━━━━━━\u001b[0m\u001b[37m\u001b[0m \u001b[1m0s\u001b[0m 9ms/step\n",
            "Iteration 70 - Final Portfolio Value: 98.82344961448501, Accuracy: 0.3498419388830348, Hit Rate: 0.4972972972972973, Trades: 555\n",
            "Running iteration 71/100\n",
            "\u001b[1m30/30\u001b[0m \u001b[32m━━━━━━━━━━━━━━━━━━━━\u001b[0m\u001b[37m\u001b[0m \u001b[1m0s\u001b[0m 8ms/step\n",
            "Iteration 71 - Final Portfolio Value: 109.74194372689857, Accuracy: 0.36037934668071653, Hit Rate: 0.5119266055045871, Trades: 545\n",
            "Running iteration 72/100\n",
            "\u001b[1m30/30\u001b[0m \u001b[32m━━━━━━━━━━━━━━━━━━━━\u001b[0m\u001b[37m\u001b[0m \u001b[1m0s\u001b[0m 8ms/step\n",
            "Iteration 72 - Final Portfolio Value: 98.4421078541038, Accuracy: 0.3530031612223393, Hit Rate: 0.4965635738831615, Trades: 582\n",
            "Running iteration 73/100\n",
            "\u001b[1m30/30\u001b[0m \u001b[32m━━━━━━━━━━━━━━━━━━━━\u001b[0m\u001b[37m\u001b[0m \u001b[1m0s\u001b[0m 9ms/step\n",
            "Iteration 73 - Final Portfolio Value: 99.34508270999342, Accuracy: 0.35511064278187565, Hit Rate: 0.4981132075471698, Trades: 530\n",
            "Running iteration 74/100\n",
            "\u001b[1m30/30\u001b[0m \u001b[32m━━━━━━━━━━━━━━━━━━━━\u001b[0m\u001b[37m\u001b[0m \u001b[1m0s\u001b[0m 8ms/step\n",
            "Iteration 74 - Final Portfolio Value: 107.54023654924455, Accuracy: 0.36037934668071653, Hit Rate: 0.5112359550561798, Trades: 534\n",
            "Running iteration 75/100\n",
            "\u001b[1m30/30\u001b[0m \u001b[32m━━━━━━━━━━━━━━━━━━━━\u001b[0m\u001b[37m\u001b[0m \u001b[1m0s\u001b[0m 8ms/step\n",
            "Iteration 75 - Final Portfolio Value: 109.51883581430215, Accuracy: 0.3624868282402529, Hit Rate: 0.5095419847328244, Trades: 524\n",
            "Running iteration 76/100\n",
            "\u001b[1m30/30\u001b[0m \u001b[32m━━━━━━━━━━━━━━━━━━━━\u001b[0m\u001b[37m\u001b[0m \u001b[1m0s\u001b[0m 8ms/step\n",
            "Iteration 76 - Final Portfolio Value: 96.51114971922169, Accuracy: 0.36037934668071653, Hit Rate: 0.5032679738562091, Trades: 459\n",
            "Running iteration 77/100\n",
            "\u001b[1m30/30\u001b[0m \u001b[32m━━━━━━━━━━━━━━━━━━━━\u001b[0m\u001b[37m\u001b[0m \u001b[1m0s\u001b[0m 8ms/step\n",
            "Iteration 77 - Final Portfolio Value: 100.50707031343934, Accuracy: 0.36037934668071653, Hit Rate: 0.5, Trades: 514\n",
            "Running iteration 78/100\n",
            "\u001b[1m30/30\u001b[0m \u001b[32m━━━━━━━━━━━━━━━━━━━━\u001b[0m\u001b[37m\u001b[0m \u001b[1m0s\u001b[0m 8ms/step\n",
            "Iteration 78 - Final Portfolio Value: 99.39044520741902, Accuracy: 0.35511064278187565, Hit Rate: 0.5139146567717996, Trades: 539\n",
            "Running iteration 79/100\n",
            "\u001b[1m30/30\u001b[0m \u001b[32m━━━━━━━━━━━━━━━━━━━━\u001b[0m\u001b[37m\u001b[0m \u001b[1m0s\u001b[0m 8ms/step\n",
            "Iteration 79 - Final Portfolio Value: 107.2203572063276, Accuracy: 0.3719704952581665, Hit Rate: 0.5081374321880651, Trades: 553\n",
            "Running iteration 80/100\n",
            "\u001b[1m30/30\u001b[0m \u001b[32m━━━━━━━━━━━━━━━━━━━━\u001b[0m\u001b[37m\u001b[0m \u001b[1m0s\u001b[0m 8ms/step\n",
            "Iteration 80 - Final Portfolio Value: 106.65793012920062, Accuracy: 0.3624868282402529, Hit Rate: 0.5170340681362725, Trades: 499\n",
            "Running iteration 81/100\n",
            "\u001b[1m30/30\u001b[0m \u001b[32m━━━━━━━━━━━━━━━━━━━━\u001b[0m\u001b[37m\u001b[0m \u001b[1m0s\u001b[0m 8ms/step\n",
            "Iteration 81 - Final Portfolio Value: 93.77601029119101, Accuracy: 0.2950474183350896, Hit Rate: 0.492152466367713, Trades: 892\n",
            "Running iteration 82/100\n",
            "\u001b[1m30/30\u001b[0m \u001b[32m━━━━━━━━━━━━━━━━━━━━\u001b[0m\u001b[37m\u001b[0m \u001b[1m0s\u001b[0m 8ms/step\n",
            "Iteration 82 - Final Portfolio Value: 101.01115957483964, Accuracy: 0.35511064278187565, Hit Rate: 0.48741007194244607, Trades: 556\n",
            "Running iteration 83/100\n",
            "\u001b[1m30/30\u001b[0m \u001b[32m━━━━━━━━━━━━━━━━━━━━\u001b[0m\u001b[37m\u001b[0m \u001b[1m0s\u001b[0m 8ms/step\n",
            "Iteration 83 - Final Portfolio Value: 97.39331135596976, Accuracy: 0.3635405690200211, Hit Rate: 0.49498997995991983, Trades: 499\n",
            "Running iteration 84/100\n",
            "\u001b[1m30/30\u001b[0m \u001b[32m━━━━━━━━━━━━━━━━━━━━\u001b[0m\u001b[37m\u001b[0m \u001b[1m0s\u001b[0m 8ms/step\n",
            "Iteration 84 - Final Portfolio Value: 100.30760725850904, Accuracy: 0.3635405690200211, Hit Rate: 0.49793388429752067, Trades: 484\n",
            "Running iteration 85/100\n",
            "\u001b[1m30/30\u001b[0m \u001b[32m━━━━━━━━━━━━━━━━━━━━\u001b[0m\u001b[37m\u001b[0m \u001b[1m0s\u001b[0m 8ms/step\n",
            "Iteration 85 - Final Portfolio Value: 100.75525505607187, Accuracy: 0.37407797681770283, Hit Rate: 0.48903508771929827, Trades: 456\n",
            "Running iteration 86/100\n",
            "\u001b[1m30/30\u001b[0m \u001b[32m━━━━━━━━━━━━━━━━━━━━\u001b[0m\u001b[37m\u001b[0m \u001b[1m0s\u001b[0m 8ms/step\n",
            "Iteration 86 - Final Portfolio Value: 95.3879255214483, Accuracy: 0.36880927291886195, Hit Rate: 0.5, Trades: 548\n",
            "Running iteration 87/100\n",
            "\u001b[1m30/30\u001b[0m \u001b[32m━━━━━━━━━━━━━━━━━━━━\u001b[0m\u001b[37m\u001b[0m \u001b[1m0s\u001b[0m 8ms/step\n",
            "Iteration 87 - Final Portfolio Value: 102.79370262735506, Accuracy: 0.3667017913593256, Hit Rate: 0.5045207956600362, Trades: 553\n",
            "Running iteration 88/100\n",
            "\u001b[1m30/30\u001b[0m \u001b[32m━━━━━━━━━━━━━━━━━━━━\u001b[0m\u001b[37m\u001b[0m \u001b[1m0s\u001b[0m 8ms/step\n",
            "Iteration 88 - Final Portfolio Value: 101.09085708491705, Accuracy: 0.3582718651211802, Hit Rate: 0.4984126984126984, Trades: 630\n",
            "Running iteration 89/100\n",
            "\u001b[1m30/30\u001b[0m \u001b[32m━━━━━━━━━━━━━━━━━━━━\u001b[0m\u001b[37m\u001b[0m \u001b[1m0s\u001b[0m 8ms/step\n",
            "Iteration 89 - Final Portfolio Value: 101.49604501259603, Accuracy: 0.3635405690200211, Hit Rate: 0.4793388429752066, Trades: 484\n",
            "Running iteration 90/100\n",
            "\u001b[1m30/30\u001b[0m \u001b[32m━━━━━━━━━━━━━━━━━━━━\u001b[0m\u001b[37m\u001b[0m \u001b[1m0s\u001b[0m 8ms/step\n",
            "Iteration 90 - Final Portfolio Value: 99.75196018376583, Accuracy: 0.3635405690200211, Hit Rate: 0.5142857142857142, Trades: 490\n",
            "Running iteration 91/100\n",
            "\u001b[1m30/30\u001b[0m \u001b[32m━━━━━━━━━━━━━━━━━━━━\u001b[0m\u001b[37m\u001b[0m \u001b[1m0s\u001b[0m 8ms/step\n",
            "Iteration 91 - Final Portfolio Value: 81.81354094277256, Accuracy: 0.29083245521601686, Hit Rate: 0.4843205574912892, Trades: 861\n",
            "Running iteration 92/100\n",
            "\u001b[1m30/30\u001b[0m \u001b[32m━━━━━━━━━━━━━━━━━━━━\u001b[0m\u001b[37m\u001b[0m \u001b[1m0s\u001b[0m 8ms/step\n",
            "Iteration 92 - Final Portfolio Value: 97.85437032797603, Accuracy: 0.3719704952581665, Hit Rate: 0.49183303085299457, Trades: 551\n",
            "Running iteration 93/100\n",
            "\u001b[1m30/30\u001b[0m \u001b[32m━━━━━━━━━━━━━━━━━━━━\u001b[0m\u001b[37m\u001b[0m \u001b[1m0s\u001b[0m 8ms/step\n",
            "Iteration 93 - Final Portfolio Value: 98.27139788436418, Accuracy: 0.36143308746048475, Hit Rate: 0.5040816326530613, Trades: 490\n",
            "Running iteration 94/100\n",
            "\u001b[1m30/30\u001b[0m \u001b[32m━━━━━━━━━━━━━━━━━━━━\u001b[0m\u001b[37m\u001b[0m \u001b[1m0s\u001b[0m 8ms/step\n",
            "Iteration 94 - Final Portfolio Value: 96.34855305027037, Accuracy: 0.3540569020021075, Hit Rate: 0.5, Trades: 556\n",
            "Running iteration 95/100\n",
            "\u001b[1m30/30\u001b[0m \u001b[32m━━━━━━━━━━━━━━━━━━━━\u001b[0m\u001b[37m\u001b[0m \u001b[1m0s\u001b[0m 8ms/step\n",
            "Iteration 95 - Final Portfolio Value: 99.83819254559086, Accuracy: 0.3635405690200211, Hit Rate: 0.5212355212355212, Trades: 518\n",
            "Running iteration 96/100\n",
            "\u001b[1m30/30\u001b[0m \u001b[32m━━━━━━━━━━━━━━━━━━━━\u001b[0m\u001b[37m\u001b[0m \u001b[1m0s\u001b[0m 8ms/step\n",
            "Iteration 96 - Final Portfolio Value: 101.01964545214773, Accuracy: 0.3582718651211802, Hit Rate: 0.5, Trades: 528\n",
            "Running iteration 97/100\n",
            "\u001b[1m30/30\u001b[0m \u001b[32m━━━━━━━━━━━━━━━━━━━━\u001b[0m\u001b[37m\u001b[0m \u001b[1m0s\u001b[0m 8ms/step\n",
            "Iteration 97 - Final Portfolio Value: 112.84307520787502, Accuracy: 0.3698630136986301, Hit Rate: 0.5122349102773246, Trades: 613\n",
            "Running iteration 98/100\n",
            "\u001b[1m30/30\u001b[0m \u001b[32m━━━━━━━━━━━━━━━━━━━━\u001b[0m\u001b[37m\u001b[0m \u001b[1m0s\u001b[0m 8ms/step\n",
            "Iteration 98 - Final Portfolio Value: 102.384600281148, Accuracy: 0.36459430979978924, Hit Rate: 0.5086887835703001, Trades: 633\n",
            "Running iteration 99/100\n",
            "\u001b[1m30/30\u001b[0m \u001b[32m━━━━━━━━━━━━━━━━━━━━\u001b[0m\u001b[37m\u001b[0m \u001b[1m0s\u001b[0m 8ms/step\n",
            "Iteration 99 - Final Portfolio Value: 111.08938592826215, Accuracy: 0.37091675447839834, Hit Rate: 0.5159474671669794, Trades: 533\n",
            "Running iteration 100/100\n",
            "\u001b[1m30/30\u001b[0m \u001b[32m━━━━━━━━━━━━━━━━━━━━\u001b[0m\u001b[37m\u001b[0m \u001b[1m0s\u001b[0m 8ms/step\n",
            "Iteration 100 - Final Portfolio Value: 97.01743566831657, Accuracy: 0.35721812434141204, Hit Rate: 0.4878048780487805, Trades: 492\n",
            "Average Final Portfolio Value:\n",
            "100.58902473767529\n",
            "Standard Deviation of Final Values:\n",
            "5.198183792670207\n",
            "Average Accuracy:\n",
            "0.35905163329820866\n",
            "Average Hit Rate:\n",
            "0.5020002052089152\n",
            "Average No. of Trades:\n",
            "561.79\n"
          ]
        }
      ]
    },
    {
      "cell_type": "markdown",
      "source": [
        "# 4th Iteration"
      ],
      "metadata": {
        "id": "mVfcOKmobaTI"
      }
    },
    {
      "cell_type": "code",
      "source": [
        "file_path = '/content/final_dataset_iteration2.csv'\n",
        "df = pd.read_csv(file_path)\n",
        "\n",
        "dataset = df.values[:, 0:].astype('float64')\n",
        "\n",
        "diff = dataset[:,0:1]"
      ],
      "metadata": {
        "id": "cNOSMMjnpzhc"
      },
      "execution_count": null,
      "outputs": []
    },
    {
      "cell_type": "code",
      "source": [
        "# 34.1 quantile: -0.0021999999999999\n",
        "# 65 quantile:  0.0021999999999999\n",
        "\n",
        "def categorize_diff(diff):\n",
        "    if diff < -0.0021999999999999:\n",
        "        return 0  # Price fall bucket\n",
        "    elif diff > 0.0021999999999999:\n",
        "        return 2  # Price rise bucket\n",
        "    else:\n",
        "        return 1  # Price no cation bucket\n",
        "\n",
        "y_categories = np.array([categorize_diff(pc) for pc in diff])"
      ],
      "metadata": {
        "id": "B240WYZ8uin-"
      },
      "execution_count": null,
      "outputs": []
    },
    {
      "cell_type": "code",
      "source": [
        "y_categories = to_categorical(y_categories)\n",
        "\n",
        "scaler = MinMaxScaler(feature_range=(0, 1))\n",
        "dataset = scaler.fit_transform(dataset[:, 1:])"
      ],
      "metadata": {
        "id": "gtrh5epOukZH"
      },
      "execution_count": null,
      "outputs": []
    },
    {
      "cell_type": "code",
      "source": [
        "def create_dataset(dataset, time_steps = 1):\n",
        "    dataX = []\n",
        "    for i in range(len(dataset) - time_steps):\n",
        "        a = dataset[i:(i + time_steps), :]\n",
        "        dataX.append(a)\n",
        "    return np.array(dataX)"
      ],
      "metadata": {
        "id": "FSqATEF1umia"
      },
      "execution_count": null,
      "outputs": []
    },
    {
      "cell_type": "code",
      "source": [
        "time_steps = 15\n",
        "\n",
        "dataX = create_dataset(dataset, time_steps)\n",
        "\n",
        "dataX = np.reshape(dataX, (dataX.shape[0], time_steps, dataset.shape[1]))\n",
        "\n",
        "X = dataX\n",
        "y = y_categories[time_steps:]\n",
        "X_train, X_test, y_train, y_test = train_test_split(X, y, test_size = 0.2, shuffle = False)"
      ],
      "metadata": {
        "id": "hJR-SZfSjUJh"
      },
      "execution_count": null,
      "outputs": []
    },
    {
      "cell_type": "code",
      "source": [
        "def create_model_4(units1 = 128, dropout_rate1 = 0.3, batch_size = 32):\n",
        "    model = Sequential([\n",
        "        Input(shape = (X_train.shape[1], X_train.shape[2])),\n",
        "        LSTM(units1, return_sequences = False),\n",
        "        Dropout(dropout_rate1),\n",
        "        Dense(3, activation = 'softmax')\n",
        "    ])\n",
        "    model.compile(optimizer = 'adam', loss = 'categorical_crossentropy', metrics = ['accuracy'])\n",
        "    return model"
      ],
      "metadata": {
        "id": "jC4aU8csjUJk"
      },
      "execution_count": null,
      "outputs": []
    },
    {
      "cell_type": "code",
      "source": [
        "model_4 = KerasClassifier(model = create_model_4, epochs = 75, verbose = 0, shuffle = False, random_state = 42)"
      ],
      "metadata": {
        "id": "dExLnerEjUJl"
      },
      "execution_count": null,
      "outputs": []
    },
    {
      "cell_type": "code",
      "source": [
        "param_grid_model4 = {\n",
        "    'model__units1': [32, 64, 128],\n",
        "    'model__dropout_rate1': [0.4, 0.3, 0.2],\n",
        "    'batch_size': [32, 64, 128],\n",
        "}"
      ],
      "metadata": {
        "id": "sezQo1XcjUJl"
      },
      "execution_count": null,
      "outputs": []
    },
    {
      "cell_type": "code",
      "source": [
        "grid_model_4 = GridSearchCV(estimator = model_4, param_grid = param_grid_model4, cv = 5, n_jobs = -1)"
      ],
      "metadata": {
        "id": "QzrycjwJjUJl"
      },
      "execution_count": null,
      "outputs": []
    },
    {
      "cell_type": "code",
      "source": [
        "early_stopping = EarlyStopping(monitor = 'val_loss', patience = 5, start_from_epoch = 10, restore_best_weights = True)\n",
        "\n",
        "grid_result_model_4 = grid_model_4.fit(X_train, y_train, validation_split = 0.2, callbacks = [early_stopping])"
      ],
      "metadata": {
        "id": "w8fN2lE9jUJl"
      },
      "execution_count": null,
      "outputs": []
    },
    {
      "cell_type": "code",
      "source": [
        "best_params_model_4 = grid_result_model_4.best_params_\n",
        "\n",
        "print(best_params_model_4)"
      ],
      "metadata": {
        "colab": {
          "base_uri": "https://localhost:8080/"
        },
        "outputId": "372c3c87-ef7c-4dc5-8444-0bc58391a7a0",
        "id": "MwhXgXbojUJn"
      },
      "execution_count": null,
      "outputs": [
        {
          "output_type": "stream",
          "name": "stdout",
          "text": [
            "{'batch_size': 32, 'model__dropout_rate1': 0.4, 'model__units1': 32}\n"
          ]
        }
      ]
    },
    {
      "cell_type": "code",
      "source": [
        "best_model_4 = create_model_4(units1 = best_params_model_4['model__units1'],\n",
        "                          dropout_rate1 = best_params_model_4['model__dropout_rate1'],\n",
        "                          batch_size = best_params_model_4['batch_size']\n",
        "                          )"
      ],
      "metadata": {
        "id": "xv2VF3YyjUJn"
      },
      "execution_count": null,
      "outputs": []
    },
    {
      "cell_type": "code",
      "source": [
        "early_stopping_manual = EarlyStopping(monitor = 'val_loss', patience = 10, restore_best_weights = True)\n",
        "\n",
        "history_model_4 = best_model_4.fit(X_train, y_train,\n",
        "                         epochs = 75,\n",
        "                         validation_data = (X_test, y_test),\n",
        "                                   batch_size = 32, # remember to change (default 32).\n",
        "                        callbacks = [early_stopping_manual],\n",
        "                         verbose = 0)"
      ],
      "metadata": {
        "id": "PrZuVinJjUJn"
      },
      "execution_count": null,
      "outputs": []
    },
    {
      "cell_type": "code",
      "source": [
        "plt.plot(history_model_4.history['loss'])\n",
        "plt.plot(history_model_4.history['val_loss'])\n",
        "plt.title('Model loss')\n",
        "plt.ylabel('Loss')\n",
        "plt.xlabel('Epoch')\n",
        "plt.legend(['Train', 'Test'], loc='upper left')\n",
        "plt.show()"
      ],
      "metadata": {
        "outputId": "2f6a1d39-87bc-4850-d8b4-e8bfbe0bbbfb",
        "colab": {
          "base_uri": "https://localhost:8080/",
          "height": 472
        },
        "collapsed": true,
        "id": "7PfhKqxhjUJn"
      },
      "execution_count": null,
      "outputs": [
        {
          "output_type": "display_data",
          "data": {
            "text/plain": [
              "<Figure size 640x480 with 1 Axes>"
            ],
            "image/png": "[encoded data removed]"
          },
          "metadata": {}
        }
      ]
    },
    {
      "cell_type": "code",
      "source": [
        "y_pred = best_model_4.predict(X_test)\n",
        "\n",
        "actual_categories = np.argmax(y_test, axis=1)\n",
        "\n",
        "predicted_categories = np.argmax(y_pred, axis=1)\n",
        "\n",
        "cm = confusion_matrix(actual_categories, predicted_categories)\n",
        "disp = ConfusionMatrixDisplay(confusion_matrix=cm, display_labels=[0, 1, 2])\n",
        "\n",
        "plt.figure(figsize=(10, 7))\n",
        "disp.plot(cmap=plt.cm.Blues)\n",
        "plt.title('Confusion Matrix')\n",
        "plt.show()"
      ],
      "metadata": {
        "outputId": "df4056e4-8d89-46f5-e31b-5e2540f478f0",
        "colab": {
          "base_uri": "https://localhost:8080/",
          "height": 506
        },
        "collapsed": true,
        "id": "9UN4AhdbjUJo"
      },
      "execution_count": null,
      "outputs": [
        {
          "output_type": "stream",
          "name": "stdout",
          "text": [
            "\u001b[1m30/30\u001b[0m \u001b[32m━━━━━━━━━━━━━━━━━━━━\u001b[0m\u001b[37m\u001b[0m \u001b[1m0s\u001b[0m 6ms/step\n"
          ]
        },
        {
          "output_type": "display_data",
          "data": {
            "text/plain": [
              "<Figure size 1000x700 with 0 Axes>"
            ]
          },
          "metadata": {}
        },
        {
          "output_type": "display_data",
          "data": {
            "text/plain": [
              "<Figure size 640x480 with 2 Axes>"
            ],
            "image/png": "[encoded data removed]"
          },
          "metadata": {}
        }
      ]
    },
    {
      "cell_type": "code",
      "source": [
        "def compute_hit_rate(signals, percent_changes):\n",
        "    correct_signals = 0\n",
        "    total_signals = len(signals)\n",
        "\n",
        "    for signal, percent_change in zip(signals, percent_changes):\n",
        "        if (signal == 0 and percent_change < 0) or (signal == 2 and percent_change > 0):\n",
        "            correct_signals += 1\n",
        "        elif signal == 1:\n",
        "            total_signals -= 1\n",
        "\n",
        "    return correct_signals / total_signals if total_signals > 0 else 0\n",
        "\n",
        "def backtest(actions, percent_changes):\n",
        "    cash = 100\n",
        "    position = 0\n",
        "    portfolio_value = []\n",
        "\n",
        "    for action, percent_change in zip(actions, percent_changes):\n",
        "        if action == 0:  # Sell\n",
        "            position = -100  # Set position to short\n",
        "            cash += position * percent_change  # Sell shares\n",
        "        elif action == 1:  # Flat\n",
        "            position = 0  # Set position to flat\n",
        "            cash += 0  # No action\n",
        "        elif action == 2:  # Buy\n",
        "            position = 100  # Set position to long\n",
        "            cash += position * percent_change  # Buy shares\n",
        "\n",
        "        portfolio_value.append(cash)\n",
        "\n",
        "    return portfolio_value\n",
        "\n",
        "def run_single_iteration(X_train, y_train, X_test, y_test, best_params_model_4):\n",
        "    best_model_4 = create_model_4(units1 = best_params_model_4['model__units1'],\n",
        "                          dropout_rate1 = best_params_model_4['model__dropout_rate1'],\n",
        "                          batch_size = best_params_model_4['batch_size']\n",
        "                          )\n",
        "\n",
        "    early_stopping_manual = EarlyStopping(monitor='val_loss', patience = 10, restore_best_weights = True)\n",
        "\n",
        "    history_model_4 = best_model_4.fit(X_train, y_train,\n",
        "                         epochs = 100,\n",
        "                         validation_data = (X_test, y_test),\n",
        "                                   batch_size = 32, # remember to change (default 32).\n",
        "                        callbacks = [early_stopping_manual],\n",
        "                         verbose = 0)\n",
        "\n",
        "    predictions = best_model_4.predict(X_test)\n",
        "    predicted_categories = np.argmax(predictions, axis=1)\n",
        "\n",
        "    y_test_labels = np.argmax(y_test, axis=1)\n",
        "\n",
        "    accuracy = accuracy_score(y_test_labels, predicted_categories)\n",
        "\n",
        "    signals = predicted_categories\n",
        "    percent_changes = np.array(df_raw_exchange.iloc[-len(y_test):])\n",
        "\n",
        "    portfolio_value = backtest(signals, percent_changes)\n",
        "    hit_rate = compute_hit_rate(signals, percent_changes)\n",
        "    num_trades = np.sum((signals == 0) | (signals == 2))\n",
        "\n",
        "\n",
        "    return portfolio_value, accuracy, hit_rate, num_trades\n",
        "\n",
        "iterations = 50\n",
        "\n",
        "final_portfolio_values = []\n",
        "accuracies = []\n",
        "hit_rates = []\n",
        "trade_counts = []\n",
        "\n",
        "for i in range(iterations):\n",
        "    print(f\"Running iteration {i+1}/{iterations}\")\n",
        "    portfolio_value, accuracy, hit_rate, num_trades = run_single_iteration(X_train, y_train, X_test, y_test, best_params_model_4)\n",
        "    final_portfolio_values.append(portfolio_value[-1])\n",
        "    accuracies.append(accuracy)\n",
        "    hit_rates.append(hit_rate)\n",
        "    trade_counts.append(num_trades)\n",
        "    print(f\"Iteration {i+1} - Final Portfolio Value: {portfolio_value[-1]}, Accuracy: {accuracy}, Hit Rate: {hit_rate}, Trades: {num_trades}\")\n",
        "\n",
        "average_final_value = np.mean(final_portfolio_values)\n",
        "std_final_value = np.std(final_portfolio_values)\n",
        "\n",
        "average_accuracy = np.mean(accuracies)\n",
        "average_hit_rate = np.mean(hit_rates)\n",
        "average_num_trades = np.mean(trade_counts)\n",
        "\n",
        "print(\"Average Final Portfolio Value:\")\n",
        "print(average_final_value)\n",
        "print('Standard Deviation of Final Values:')\n",
        "print(std_final_value)\n",
        "print('Average Accuracy:')\n",
        "print(average_accuracy)\n",
        "print('Average Hit Rate:')\n",
        "print(average_hit_rate)\n",
        "print('Average No. of Trades:')\n",
        "print(average_num_trades)"
      ],
      "metadata": {
        "colab": {
          "base_uri": "https://localhost:8080/"
        },
        "outputId": "8d5f3cdb-c085-4b2f-a57d-1c404bd815e8",
        "collapsed": true,
        "id": "zfm9zbGHjUJo"
      },
      "execution_count": null,
      "outputs": [
        {
          "output_type": "stream",
          "name": "stdout",
          "text": [
            "Running iteration 1/50\n",
            "\u001b[1m30/30\u001b[0m \u001b[32m━━━━━━━━━━━━━━━━━━━━\u001b[0m\u001b[37m\u001b[0m \u001b[1m0s\u001b[0m 5ms/step\n",
            "Iteration 1 - Final Portfolio Value: 96.34521046177825, Accuracy: 0.3076923076923077, Hit Rate: 0.5026343519494204, Trades: 949\n",
            "Running iteration 2/50\n",
            "\u001b[1m30/30\u001b[0m \u001b[32m━━━━━━━━━━━━━━━━━━━━\u001b[0m\u001b[37m\u001b[0m \u001b[1m0s\u001b[0m 5ms/step\n",
            "Iteration 2 - Final Portfolio Value: 93.81178843289874, Accuracy: 0.3087460484720759, Hit Rate: 0.500542888165038, Trades: 921\n",
            "Running iteration 3/50\n",
            "\u001b[1m30/30\u001b[0m \u001b[32m━━━━━━━━━━━━━━━━━━━━\u001b[0m\u001b[37m\u001b[0m \u001b[1m0s\u001b[0m 5ms/step\n",
            "Iteration 3 - Final Portfolio Value: 113.68251708537395, Accuracy: 0.33719704952581664, Hit Rate: 0.5061728395061729, Trades: 810\n",
            "Running iteration 4/50\n",
            "\u001b[1m30/30\u001b[0m \u001b[32m━━━━━━━━━━━━━━━━━━━━\u001b[0m\u001b[37m\u001b[0m \u001b[1m0s\u001b[0m 5ms/step\n",
            "Iteration 4 - Final Portfolio Value: 95.88213986443522, Accuracy: 0.3055848261327713, Hit Rate: 0.5015806111696522, Trades: 949\n",
            "Running iteration 5/50\n",
            "\u001b[1m30/30\u001b[0m \u001b[32m━━━━━━━━━━━━━━━━━━━━\u001b[0m\u001b[37m\u001b[0m \u001b[1m0s\u001b[0m 5ms/step\n",
            "Iteration 5 - Final Portfolio Value: 94.79579964625644, Accuracy: 0.30242360379346683, Hit Rate: 0.48788198103266595, Trades: 949\n",
            "Running iteration 6/50\n",
            "\u001b[1m30/30\u001b[0m \u001b[32m━━━━━━━━━━━━━━━━━━━━\u001b[0m\u001b[37m\u001b[0m \u001b[1m0s\u001b[0m 5ms/step\n",
            "Iteration 6 - Final Portfolio Value: 100.35987434294468, Accuracy: 0.3108535300316122, Hit Rate: 0.5015806111696522, Trades: 949\n",
            "Running iteration 7/50\n",
            "\u001b[1m30/30\u001b[0m \u001b[32m━━━━━━━━━━━━━━━━━━━━\u001b[0m\u001b[37m\u001b[0m \u001b[1m0s\u001b[0m 5ms/step\n",
            "Iteration 7 - Final Portfolio Value: 106.49262342813226, Accuracy: 0.31822971548998946, Hit Rate: 0.5105708245243129, Trades: 946\n",
            "Running iteration 8/50\n",
            "\u001b[1m30/30\u001b[0m \u001b[32m━━━━━━━━━━━━━━━━━━━━\u001b[0m\u001b[37m\u001b[0m \u001b[1m0s\u001b[0m 5ms/step\n",
            "Iteration 8 - Final Portfolio Value: 97.20289454686824, Accuracy: 0.30453108535300316, Hit Rate: 0.48824188129899215, Trades: 893\n",
            "Running iteration 9/50\n",
            "\u001b[1m30/30\u001b[0m \u001b[32m━━━━━━━━━━━━━━━━━━━━\u001b[0m\u001b[37m\u001b[0m \u001b[1m0s\u001b[0m 5ms/step\n",
            "Iteration 9 - Final Portfolio Value: 99.0169484989736, Accuracy: 0.3076923076923077, Hit Rate: 0.5015806111696522, Trades: 949\n",
            "Running iteration 10/50\n",
            "\u001b[1m30/30\u001b[0m \u001b[32m━━━━━━━━━━━━━━━━━━━━\u001b[0m\u001b[37m\u001b[0m \u001b[1m0s\u001b[0m 5ms/step\n",
            "Iteration 10 - Final Portfolio Value: 101.03745143348537, Accuracy: 0.3066385669125395, Hit Rate: 0.4910432033719705, Trades: 949\n",
            "Running iteration 11/50\n",
            "\u001b[1m30/30\u001b[0m \u001b[32m━━━━━━━━━━━━━━━━━━━━\u001b[0m\u001b[37m\u001b[0m \u001b[1m0s\u001b[0m 5ms/step\n",
            "Iteration 11 - Final Portfolio Value: 96.11761657426324, Accuracy: 0.3076923076923077, Hit Rate: 0.5036880927291886, Trades: 949\n",
            "Running iteration 12/50\n",
            "\u001b[1m30/30\u001b[0m \u001b[32m━━━━━━━━━━━━━━━━━━━━\u001b[0m\u001b[37m\u001b[0m \u001b[1m0s\u001b[0m 5ms/step\n",
            "Iteration 12 - Final Portfolio Value: 110.80113962189158, Accuracy: 0.3224446786090622, Hit Rate: 0.5111111111111111, Trades: 945\n",
            "Running iteration 13/50\n",
            "\u001b[1m30/30\u001b[0m \u001b[32m━━━━━━━━━━━━━━━━━━━━\u001b[0m\u001b[37m\u001b[0m \u001b[1m0s\u001b[0m 5ms/step\n",
            "Iteration 13 - Final Portfolio Value: 91.99639527803166, Accuracy: 0.3055848261327713, Hit Rate: 0.4925373134328358, Trades: 938\n",
            "Running iteration 14/50\n",
            "\u001b[1m30/30\u001b[0m \u001b[32m━━━━━━━━━━━━━━━━━━━━\u001b[0m\u001b[37m\u001b[0m \u001b[1m0s\u001b[0m 5ms/step\n",
            "Iteration 14 - Final Portfolio Value: 95.75278970152101, Accuracy: 0.3055848261327713, Hit Rate: 0.487778958554729, Trades: 941\n",
            "Running iteration 15/50\n",
            "\u001b[1m30/30\u001b[0m \u001b[32m━━━━━━━━━━━━━━━━━━━━\u001b[0m\u001b[37m\u001b[0m \u001b[1m0s\u001b[0m 5ms/step\n",
            "Iteration 15 - Final Portfolio Value: 110.07599748660532, Accuracy: 0.31822971548998946, Hit Rate: 0.5068493150684932, Trades: 949\n",
            "Running iteration 16/50\n",
            "\u001b[1m30/30\u001b[0m \u001b[32m━━━━━━━━━━━━━━━━━━━━\u001b[0m\u001b[37m\u001b[0m \u001b[1m0s\u001b[0m 5ms/step\n",
            "Iteration 16 - Final Portfolio Value: 94.89233192750318, Accuracy: 0.3087460484720759, Hit Rate: 0.4967462039045553, Trades: 922\n",
            "Running iteration 17/50\n",
            "\u001b[1m30/30\u001b[0m \u001b[32m━━━━━━━━━━━━━━━━━━━━\u001b[0m\u001b[37m\u001b[0m \u001b[1m0s\u001b[0m 5ms/step\n",
            "Iteration 17 - Final Portfolio Value: 74.07317988258573, Accuracy: 0.28872497365648053, Hit Rate: 0.4794520547945205, Trades: 949\n",
            "Running iteration 18/50\n",
            "\u001b[1m30/30\u001b[0m \u001b[32m━━━━━━━━━━━━━━━━━━━━\u001b[0m\u001b[37m\u001b[0m \u001b[1m0s\u001b[0m 5ms/step\n",
            "Iteration 18 - Final Portfolio Value: 69.41977170772144, Accuracy: 0.29610115911485774, Hit Rate: 0.462800875273523, Trades: 914\n",
            "Running iteration 19/50\n",
            "\u001b[1m30/30\u001b[0m \u001b[32m━━━━━━━━━━━━━━━━━━━━\u001b[0m\u001b[37m\u001b[0m \u001b[1m0s\u001b[0m 5ms/step\n",
            "Iteration 19 - Final Portfolio Value: 115.39599306269612, Accuracy: 0.32982086406743943, Hit Rate: 0.5164021164021164, Trades: 945\n",
            "Running iteration 20/50\n",
            "\u001b[1m30/30\u001b[0m \u001b[32m━━━━━━━━━━━━━━━━━━━━\u001b[0m\u001b[37m\u001b[0m \u001b[1m0s\u001b[0m 5ms/step\n",
            "Iteration 20 - Final Portfolio Value: 99.0169484989736, Accuracy: 0.3076923076923077, Hit Rate: 0.5015806111696522, Trades: 949\n",
            "Running iteration 21/50\n",
            "\u001b[1m30/30\u001b[0m \u001b[32m━━━━━━━━━━━━━━━━━━━━\u001b[0m\u001b[37m\u001b[0m \u001b[1m0s\u001b[0m 5ms/step\n",
            "Iteration 21 - Final Portfolio Value: 89.47703683209613, Accuracy: 0.2982086406743941, Hit Rate: 0.48981779206859594, Trades: 933\n",
            "Running iteration 22/50\n",
            "\u001b[1m30/30\u001b[0m \u001b[32m━━━━━━━━━━━━━━━━━━━━\u001b[0m\u001b[37m\u001b[0m \u001b[1m0s\u001b[0m 5ms/step\n",
            "Iteration 22 - Final Portfolio Value: 115.89544270123115, Accuracy: 0.32771338250790305, Hit Rate: 0.5091891891891892, Trades: 925\n",
            "Running iteration 23/50\n",
            "\u001b[1m30/30\u001b[0m \u001b[32m━━━━━━━━━━━━━━━━━━━━\u001b[0m\u001b[37m\u001b[0m \u001b[1m0s\u001b[0m 5ms/step\n",
            "Iteration 23 - Final Portfolio Value: 106.56911410277418, Accuracy: 0.3150684931506849, Hit Rate: 0.5068493150684932, Trades: 949\n",
            "Running iteration 24/50\n",
            "\u001b[1m30/30\u001b[0m \u001b[32m━━━━━━━━━━━━━━━━━━━━\u001b[0m\u001b[37m\u001b[0m \u001b[1m0s\u001b[0m 5ms/step\n",
            "Iteration 24 - Final Portfolio Value: 107.46998726744, Accuracy: 0.3287671232876712, Hit Rate: 0.5160142348754448, Trades: 843\n",
            "Running iteration 25/50\n",
            "\u001b[1m30/30\u001b[0m \u001b[32m━━━━━━━━━━━━━━━━━━━━\u001b[0m\u001b[37m\u001b[0m \u001b[1m0s\u001b[0m 5ms/step\n",
            "Iteration 25 - Final Portfolio Value: 96.97455178632198, Accuracy: 0.31401475237091675, Hit Rate: 0.49775280898876406, Trades: 890\n",
            "Running iteration 26/50\n",
            "\u001b[1m30/30\u001b[0m \u001b[32m━━━━━━━━━━━━━━━━━━━━\u001b[0m\u001b[37m\u001b[0m \u001b[1m0s\u001b[0m 5ms/step\n",
            "Iteration 26 - Final Portfolio Value: 120.52474215901923, Accuracy: 0.32349841938883034, Hit Rate: 0.5212187159956474, Trades: 919\n",
            "Running iteration 27/50\n",
            "\u001b[1m30/30\u001b[0m \u001b[32m━━━━━━━━━━━━━━━━━━━━\u001b[0m\u001b[37m\u001b[0m \u001b[1m0s\u001b[0m 5ms/step\n",
            "Iteration 27 - Final Portfolio Value: 81.36459921317608, Accuracy: 0.2929399367755532, Hit Rate: 0.4841628959276018, Trades: 884\n",
            "Running iteration 28/50\n",
            "\u001b[1m30/30\u001b[0m \u001b[32m━━━━━━━━━━━━━━━━━━━━\u001b[0m\u001b[37m\u001b[0m \u001b[1m0s\u001b[0m 5ms/step\n",
            "Iteration 28 - Final Portfolio Value: 122.77553346813586, Accuracy: 0.32982086406743943, Hit Rate: 0.5258166491043204, Trades: 949\n",
            "Running iteration 29/50\n",
            "\u001b[1m30/30\u001b[0m \u001b[32m━━━━━━━━━━━━━━━━━━━━\u001b[0m\u001b[37m\u001b[0m \u001b[1m0s\u001b[0m 5ms/step\n",
            "Iteration 29 - Final Portfolio Value: 109.92246328240817, Accuracy: 0.30979978925184404, Hit Rate: 0.5071193866374589, Trades: 913\n",
            "Running iteration 30/50\n",
            "\u001b[1m30/30\u001b[0m \u001b[32m━━━━━━━━━━━━━━━━━━━━\u001b[0m\u001b[37m\u001b[0m \u001b[1m0s\u001b[0m 5ms/step\n",
            "Iteration 30 - Final Portfolio Value: 93.84626716786511, Accuracy: 0.2950474183350896, Hit Rate: 0.48324324324324325, Trades: 925\n",
            "Running iteration 31/50\n",
            "\u001b[1m30/30\u001b[0m \u001b[32m━━━━━━━━━━━━━━━━━━━━\u001b[0m\u001b[37m\u001b[0m \u001b[1m0s\u001b[0m 5ms/step\n",
            "Iteration 31 - Final Portfolio Value: 100.27510413320316, Accuracy: 0.3076923076923077, Hit Rate: 0.5005268703898841, Trades: 949\n",
            "Running iteration 32/50\n",
            "\u001b[1m30/30\u001b[0m \u001b[32m━━━━━━━━━━━━━━━━━━━━\u001b[0m\u001b[37m\u001b[0m \u001b[1m0s\u001b[0m 5ms/step\n",
            "Iteration 32 - Final Portfolio Value: 107.77919074689298, Accuracy: 0.3245521601685985, Hit Rate: 0.5112059765208111, Trades: 937\n",
            "Running iteration 33/50\n",
            "\u001b[1m30/30\u001b[0m \u001b[32m━━━━━━━━━━━━━━━━━━━━\u001b[0m\u001b[37m\u001b[0m \u001b[1m0s\u001b[0m 5ms/step\n",
            "Iteration 33 - Final Portfolio Value: 87.73639538375237, Accuracy: 0.30453108535300316, Hit Rate: 0.48788198103266595, Trades: 949\n",
            "Running iteration 34/50\n",
            "\u001b[1m30/30\u001b[0m \u001b[32m━━━━━━━━━━━━━━━━━━━━\u001b[0m\u001b[37m\u001b[0m \u001b[1m0s\u001b[0m 5ms/step\n",
            "Iteration 34 - Final Portfolio Value: 93.16718875522675, Accuracy: 0.30242360379346683, Hit Rate: 0.505795574288725, Trades: 949\n",
            "Running iteration 35/50\n",
            "\u001b[1m30/30\u001b[0m \u001b[32m━━━━━━━━━━━━━━━━━━━━\u001b[0m\u001b[37m\u001b[0m \u001b[1m0s\u001b[0m 5ms/step\n",
            "Iteration 35 - Final Portfolio Value: 117.14182845787785, Accuracy: 0.3245521601685985, Hit Rate: 0.5110642781875658, Trades: 949\n",
            "Running iteration 36/50\n",
            "\u001b[1m30/30\u001b[0m \u001b[32m━━━━━━━━━━━━━━━━━━━━\u001b[0m\u001b[37m\u001b[0m \u001b[1m0s\u001b[0m 5ms/step\n",
            "Iteration 36 - Final Portfolio Value: 111.82898703376351, Accuracy: 0.32771338250790305, Hit Rate: 0.5216016859852476, Trades: 949\n",
            "Running iteration 37/50\n",
            "\u001b[1m30/30\u001b[0m \u001b[32m━━━━━━━━━━━━━━━━━━━━\u001b[0m\u001b[37m\u001b[0m \u001b[1m0s\u001b[0m 5ms/step\n",
            "Iteration 37 - Final Portfolio Value: 109.77926031171931, Accuracy: 0.31612223393045313, Hit Rate: 0.5107296137339056, Trades: 932\n",
            "Running iteration 38/50\n",
            "\u001b[1m30/30\u001b[0m \u001b[32m━━━━━━━━━━━━━━━━━━━━\u001b[0m\u001b[37m\u001b[0m \u001b[1m0s\u001b[0m 5ms/step\n",
            "Iteration 38 - Final Portfolio Value: 102.538991128418, Accuracy: 0.3108535300316122, Hit Rate: 0.5064794816414687, Trades: 926\n",
            "Running iteration 39/50\n",
            "\u001b[1m30/30\u001b[0m \u001b[32m━━━━━━━━━━━━━━━━━━━━\u001b[0m\u001b[37m\u001b[0m \u001b[1m0s\u001b[0m 5ms/step\n",
            "Iteration 39 - Final Portfolio Value: 96.05452129906274, Accuracy: 0.3192834562697576, Hit Rate: 0.49712313003452246, Trades: 869\n",
            "Running iteration 40/50\n",
            "\u001b[1m30/30\u001b[0m \u001b[32m━━━━━━━━━━━━━━━━━━━━\u001b[0m\u001b[37m\u001b[0m \u001b[1m0s\u001b[0m 5ms/step\n",
            "Iteration 40 - Final Portfolio Value: 96.80945893466891, Accuracy: 0.3066385669125395, Hit Rate: 0.4952581664910432, Trades: 949\n",
            "Running iteration 41/50\n",
            "\u001b[1m30/30\u001b[0m \u001b[32m━━━━━━━━━━━━━━━━━━━━\u001b[0m\u001b[37m\u001b[0m \u001b[1m0s\u001b[0m 5ms/step\n",
            "Iteration 41 - Final Portfolio Value: 90.66632988956874, Accuracy: 0.30979978925184404, Hit Rate: 0.48292682926829267, Trades: 820\n",
            "Running iteration 42/50\n",
            "\u001b[1m30/30\u001b[0m \u001b[32m━━━━━━━━━━━━━━━━━━━━\u001b[0m\u001b[37m\u001b[0m \u001b[1m0s\u001b[0m 5ms/step\n",
            "Iteration 42 - Final Portfolio Value: 104.55756842524744, Accuracy: 0.3192834562697576, Hit Rate: 0.5011792452830188, Trades: 848\n",
            "Running iteration 43/50\n",
            "\u001b[1m30/30\u001b[0m \u001b[32m━━━━━━━━━━━━━━━━━━━━\u001b[0m\u001b[37m\u001b[0m \u001b[1m0s\u001b[0m 5ms/step\n",
            "Iteration 43 - Final Portfolio Value: 99.0169484989736, Accuracy: 0.3076923076923077, Hit Rate: 0.5015806111696522, Trades: 949\n",
            "Running iteration 44/50\n",
            "\u001b[1m30/30\u001b[0m \u001b[32m━━━━━━━━━━━━━━━━━━━━\u001b[0m\u001b[37m\u001b[0m \u001b[1m0s\u001b[0m 5ms/step\n",
            "Iteration 44 - Final Portfolio Value: 108.11888550178291, Accuracy: 0.31822971548998946, Hit Rate: 0.5148842337375965, Trades: 907\n",
            "Running iteration 45/50\n",
            "\u001b[1m30/30\u001b[0m \u001b[32m━━━━━━━━━━━━━━━━━━━━\u001b[0m\u001b[37m\u001b[0m \u001b[1m0s\u001b[0m 5ms/step\n",
            "Iteration 45 - Final Portfolio Value: 104.34531959658183, Accuracy: 0.3087460484720759, Hit Rate: 0.4931506849315068, Trades: 949\n",
            "Running iteration 46/50\n",
            "\u001b[1m30/30\u001b[0m \u001b[32m━━━━━━━━━━━━━━━━━━━━\u001b[0m\u001b[37m\u001b[0m \u001b[1m0s\u001b[0m 5ms/step\n",
            "Iteration 46 - Final Portfolio Value: 97.01283407628812, Accuracy: 0.3087460484720759, Hit Rate: 0.5005268703898841, Trades: 949\n",
            "Running iteration 47/50\n",
            "\u001b[1m30/30\u001b[0m \u001b[32m━━━━━━━━━━━━━━━━━━━━\u001b[0m\u001b[37m\u001b[0m \u001b[1m0s\u001b[0m 5ms/step\n",
            "Iteration 47 - Final Portfolio Value: 89.10775032203104, Accuracy: 0.3329820864067439, Hit Rate: 0.48027210884353744, Trades: 735\n",
            "Running iteration 48/50\n",
            "\u001b[1m30/30\u001b[0m \u001b[32m━━━━━━━━━━━━━━━━━━━━\u001b[0m\u001b[37m\u001b[0m \u001b[1m0s\u001b[0m 5ms/step\n",
            "Iteration 48 - Final Portfolio Value: 99.49810467896414, Accuracy: 0.3150684931506849, Hit Rate: 0.4994731296101159, Trades: 949\n",
            "Running iteration 49/50\n",
            "\u001b[1m30/30\u001b[0m \u001b[32m━━━━━━━━━━━━━━━━━━━━\u001b[0m\u001b[37m\u001b[0m \u001b[1m0s\u001b[0m 5ms/step\n",
            "Iteration 49 - Final Portfolio Value: 110.99513651394774, Accuracy: 0.321390937829294, Hit Rate: 0.5131717597471022, Trades: 949\n",
            "Running iteration 50/50\n",
            "\u001b[1m30/30\u001b[0m \u001b[32m━━━━━━━━━━━━━━━━━━━━\u001b[0m\u001b[37m\u001b[0m \u001b[1m0s\u001b[0m 5ms/step\n",
            "Iteration 50 - Final Portfolio Value: 99.81854620729685, Accuracy: 0.30453108535300316, Hit Rate: 0.4952581664910432, Trades: 949\n",
            "Average Final Portfolio Value:\n",
            "100.5447499871735\n",
            "Standard Deviation of Final Values:\n",
            "10.643099451474878\n",
            "Average Accuracy:\n",
            "0.31251844046364596\n",
            "Average Hit Rate:\n",
            "0.5004410216934921\n",
            "Average No. of Trades:\n",
            "923.14\n"
          ]
        }
      ]
    },
    {
      "cell_type": "markdown",
      "source": [
        "# 5th Iteration"
      ],
      "metadata": {
        "id": "mOmESdsb05t4"
      }
    },
    {
      "cell_type": "code",
      "source": [
        "time_steps = 15\n",
        "\n",
        "dataX = create_dataset(dataset, time_steps)\n",
        "\n",
        "dataX = np.reshape(dataX, (dataX.shape[0], time_steps, dataset.shape[1]))\n",
        "\n",
        "X = dataX\n",
        "y = y_categories[time_steps:]\n",
        "X_train, X_test, y_train, y_test = train_test_split(X, y, test_size=0.2, shuffle=False)"
      ],
      "metadata": {
        "id": "dU_t9JKH02YU"
      },
      "execution_count": null,
      "outputs": []
    },
    {
      "cell_type": "code",
      "source": [
        "def create_model_5(units1 = 128, dropout_rate1 = 0.3, batch_size = 32, l2_value = 0.01):\n",
        "    model = Sequential([\n",
        "        Input(shape = (X_train.shape[1], X_train.shape[2])),\n",
        "        LSTM(units1, return_sequences = False),\n",
        "        Dropout(dropout_rate1),\n",
        "        Dense(3, activation = 'softmax', kernel_regularizer = l2(l2_value))\n",
        "    ])\n",
        "    model.compile(optimizer = 'adam', loss = 'categorical_crossentropy', metrics = ['accuracy'])\n",
        "    return model"
      ],
      "metadata": {
        "id": "Qa2Q7zuY02YV"
      },
      "execution_count": null,
      "outputs": []
    },
    {
      "cell_type": "code",
      "source": [
        "model_5 = KerasClassifier(model = create_model_5, epochs = 75, verbose = 0, shuffle = False, random_state = 42)"
      ],
      "metadata": {
        "id": "W_n-b7jp02YV"
      },
      "execution_count": null,
      "outputs": []
    },
    {
      "cell_type": "code",
      "source": [
        "param_grid_model5 = {\n",
        "    'model__units1': [32, 64, 128],\n",
        "    'model__dropout_rate1': [0.4, 0.3, 0.2],\n",
        "    'batch_size': [32, 64, 128],\n",
        "    'model__l2_value': [0.1, 0.05, 0.02]\n",
        "}"
      ],
      "metadata": {
        "id": "dPpGKKAJ02YV"
      },
      "execution_count": null,
      "outputs": []
    },
    {
      "cell_type": "code",
      "source": [
        "grid_model_5 = GridSearchCV(estimator = model_5, param_grid = param_grid_model5, cv = 5, n_jobs = -1)"
      ],
      "metadata": {
        "id": "_Aj1x95r02YW"
      },
      "execution_count": null,
      "outputs": []
    },
    {
      "cell_type": "code",
      "source": [
        "early_stopping = EarlyStopping(monitor = 'val_loss', patience = 5, start_from_epoch = 10, restore_best_weights = True)\n",
        "\n",
        "grid_result_model_5 = grid_model_5.fit(X_train, y_train, validation_split = 0.2, callbacks = [early_stopping])"
      ],
      "metadata": {
        "id": "EWDALjIM02YW"
      },
      "execution_count": null,
      "outputs": []
    },
    {
      "cell_type": "code",
      "source": [
        "best_params_model_5 = grid_result_model_5.best_params_\n",
        "\n",
        "print(best_params_model_5)"
      ],
      "metadata": {
        "colab": {
          "base_uri": "https://localhost:8080/"
        },
        "outputId": "e5c3f4d6-8c79-4268-c8ab-28eeebb55f0d",
        "id": "hV3JA4Ac02YW"
      },
      "execution_count": null,
      "outputs": [
        {
          "output_type": "stream",
          "name": "stdout",
          "text": [
            "{'batch_size': 64, 'model__dropout_rate1': 0.3, 'model__l2_value': 0.02, 'model__units1': 128}\n"
          ]
        }
      ]
    },
    {
      "cell_type": "code",
      "source": [
        "best_model_5 = create_model_5(units1 = best_params_model_5['model__units1'],\n",
        "                          dropout_rate1 = best_params_model_5['model__dropout_rate1'],\n",
        "                          batch_size = best_params_model_5['batch_size'],\n",
        "                          l2_value = best_params_model_5['model__l2_value'],\n",
        "                          )"
      ],
      "metadata": {
        "id": "LaJA37Ly02YX"
      },
      "execution_count": null,
      "outputs": []
    },
    {
      "cell_type": "code",
      "source": [
        "early_stopping_manual = EarlyStopping(monitor = 'val_loss', patience = 10, restore_best_weights = True)\n",
        "\n",
        "history_model_5 = best_model_5.fit(X_train, y_train,\n",
        "                         epochs = 75,\n",
        "                         validation_data=(X_test, y_test),\n",
        "                                   batch_size = 64, # remember to change if needed (default = 32)\n",
        "                        callbacks = [early_stopping_manual],\n",
        "                         verbose = 0)"
      ],
      "metadata": {
        "id": "r1bRVpAf02YY"
      },
      "execution_count": null,
      "outputs": []
    },
    {
      "cell_type": "code",
      "source": [
        "plt.plot(history_model_5.history['loss'])\n",
        "plt.plot(history_model_5.history['val_loss'])\n",
        "plt.title('Model loss')\n",
        "plt.ylabel('Loss')\n",
        "plt.xlabel('Epoch')\n",
        "plt.legend(['Train', 'Test'], loc='upper left')\n",
        "plt.show()"
      ],
      "metadata": {
        "outputId": "68041f78-b945-4b8c-9067-7ae188c4769e",
        "colab": {
          "base_uri": "https://localhost:8080/",
          "height": 472
        },
        "id": "ABo787Gy02YY"
      },
      "execution_count": null,
      "outputs": [
        {
          "output_type": "display_data",
          "data": {
            "text/plain": [
              "<Figure size 640x480 with 1 Axes>"
            ],
            "image/png": "[encoded data removed]"
          },
          "metadata": {}
        }
      ]
    },
    {
      "cell_type": "code",
      "source": [
        "y_pred = best_model_5.predict(X_test)\n",
        "\n",
        "actual_categories = np.argmax(y_test, axis=1)\n",
        "\n",
        "predicted_categories = np.argmax(y_pred, axis=1)\n",
        "\n",
        "cm = confusion_matrix(actual_categories, predicted_categories)\n",
        "disp = ConfusionMatrixDisplay(confusion_matrix=cm, display_labels=[0, 1, 2])\n",
        "\n",
        "plt.figure(figsize=(10, 7))\n",
        "disp.plot(cmap=plt.cm.Blues)\n",
        "plt.title('Confusion Matrix')\n",
        "plt.show()"
      ],
      "metadata": {
        "outputId": "0ce98097-01b3-4dfd-bc8b-fc4c0a0bf09a",
        "colab": {
          "base_uri": "https://localhost:8080/",
          "height": 506
        },
        "id": "WP0DYETP02YZ"
      },
      "execution_count": null,
      "outputs": [
        {
          "output_type": "stream",
          "name": "stdout",
          "text": [
            "\u001b[1m30/30\u001b[0m \u001b[32m━━━━━━━━━━━━━━━━━━━━\u001b[0m\u001b[37m\u001b[0m \u001b[1m0s\u001b[0m 5ms/step\n"
          ]
        },
        {
          "output_type": "display_data",
          "data": {
            "text/plain": [
              "<Figure size 1000x700 with 0 Axes>"
            ]
          },
          "metadata": {}
        },
        {
          "output_type": "display_data",
          "data": {
            "text/plain": [
              "<Figure size 640x480 with 2 Axes>"
            ],
            "image/png": "[encoded data removed]"
          },
          "metadata": {}
        }
      ]
    },
    {
      "cell_type": "code",
      "source": [
        "def compute_hit_rate(signals, percent_changes):\n",
        "    correct_signals = 0\n",
        "    total_signals = len(signals)\n",
        "\n",
        "    for signal, percent_change in zip(signals, percent_changes):\n",
        "        if (signal == 0 and percent_change < 0) or (signal == 2 and percent_change > 0):\n",
        "            correct_signals += 1\n",
        "        elif signal == 1:\n",
        "            total_signals -= 1\n",
        "\n",
        "    return correct_signals / total_signals if total_signals > 0 else 0\n",
        "\n",
        "def backtest(actions, percent_changes):\n",
        "    cash = 100\n",
        "    position = 0\n",
        "    portfolio_value = []\n",
        "\n",
        "    for action, percent_change in zip(actions, percent_changes):\n",
        "        if action == 0:  # Sell\n",
        "            position = -100  # Set position to short\n",
        "            cash += position * percent_change  # Sell shares\n",
        "        elif action == 1:  # Flat\n",
        "            position = 0  # Set position to flat\n",
        "            cash += 0  # No action\n",
        "        elif action == 2:  # Buy\n",
        "            position = 100  # Set position to long\n",
        "            cash += position * percent_change  # Buy shares\n",
        "\n",
        "        portfolio_value.append(cash)  # Calculate portfolio value\n",
        "\n",
        "    return portfolio_value\n",
        "\n",
        "def run_single_iteration(X_train, y_train, X_test, y_test, best_params_model_5):\n",
        "    best_model_5 = create_model_5(units1 = best_params_model_5['model__units1'],\n",
        "                          dropout_rate1 = best_params_model_5['model__dropout_rate1'],\n",
        "                          batch_size = best_params_model_5['batch_size'],\n",
        "                          l2_value = best_params_model_5['model__l2_value'],\n",
        "                          )\n",
        "\n",
        "    early_stopping_manual = EarlyStopping(monitor = 'val_loss', patience = 10, restore_best_weights = True)\n",
        "\n",
        "    history_model_5 = best_model_5.fit(X_train, y_train,\n",
        "                         epochs = 75,\n",
        "                         validation_data=(X_test, y_test),\n",
        "                                   batch_size = 128, # remember to change if needed (default = 32)\n",
        "                        callbacks = [early_stopping_manual],\n",
        "                         verbose = 0)\n",
        "\n",
        "    predictions = best_model_5.predict(X_test)\n",
        "    predicted_categories = np.argmax(predictions, axis=1)\n",
        "\n",
        "    y_test_labels = np.argmax(y_test, axis=1)\n",
        "\n",
        "    accuracy = accuracy_score(y_test_labels, predicted_categories)\n",
        "\n",
        "    signals = predicted_categories\n",
        "    percent_changes = np.array(df_raw_exchange.iloc[-len(y_test):])\n",
        "\n",
        "    portfolio_value = backtest(signals, percent_changes)\n",
        "    hit_rate = compute_hit_rate(signals, percent_changes)\n",
        "    num_trades = np.sum((signals == 0) | (signals == 2))\n",
        "\n",
        "\n",
        "    return portfolio_value, accuracy, hit_rate, num_trades\n",
        "\n",
        "iterations = 50\n",
        "\n",
        "final_portfolio_values = []\n",
        "accuracies = []\n",
        "hit_rates = []\n",
        "trade_counts = []\n",
        "\n",
        "for i in range(iterations):\n",
        "    print(f\"Running iteration {i+1}/{iterations}\")\n",
        "    portfolio_value, accuracy, hit_rate, num_trades = run_single_iteration(X_train, y_train, X_test, y_test, best_params_model_5)\n",
        "    final_portfolio_values.append(portfolio_value[-1])\n",
        "    accuracies.append(accuracy)\n",
        "    hit_rates.append(hit_rate)\n",
        "    trade_counts.append(num_trades)\n",
        "    print(f\"Iteration {i+1} - Final Portfolio Value: {portfolio_value[-1]}, Accuracy: {accuracy}, Hit Rate: {hit_rate}, Trades: {num_trades}\")\n",
        "\n",
        "average_final_value = np.mean(final_portfolio_values)\n",
        "std_final_value = np.std(final_portfolio_values)\n",
        "\n",
        "average_accuracy = np.mean(accuracies)\n",
        "average_hit_rate = np.mean(hit_rates)\n",
        "average_num_trades = np.mean(trade_counts)\n",
        "\n",
        "print(\"Average Final Portfolio Value:\")\n",
        "print(average_final_value)\n",
        "print('Standard Deviation of Final Values:')\n",
        "print(std_final_value)\n",
        "print('Average Accuracy:')\n",
        "print(average_accuracy)\n",
        "print('Average Hit Rate:')\n",
        "print(average_hit_rate)\n",
        "print('Average No. of Trades:')\n",
        "print(average_num_trades)"
      ],
      "metadata": {
        "colab": {
          "base_uri": "https://localhost:8080/"
        },
        "outputId": "cd2ac432-80ec-4971-9ee7-feb8d040d09f",
        "id": "FZmWY_WY02YZ"
      },
      "execution_count": null,
      "outputs": [
        {
          "output_type": "stream",
          "name": "stdout",
          "text": [
            "Running iteration 1/50\n",
            "\u001b[1m30/30\u001b[0m \u001b[32m━━━━━━━━━━━━━━━━━━━━\u001b[0m\u001b[37m\u001b[0m \u001b[1m0s\u001b[0m 5ms/step\n",
            "Iteration 1 - Final Portfolio Value: 94.13046969356863, Accuracy: 0.36459430979978924, Hit Rate: 0.49184149184149184, Trades: 429\n",
            "Running iteration 2/50\n",
            "\u001b[1m30/30\u001b[0m \u001b[32m━━━━━━━━━━━━━━━━━━━━\u001b[0m\u001b[37m\u001b[0m \u001b[1m0s\u001b[0m 5ms/step\n",
            "Iteration 2 - Final Portfolio Value: 100.69232340578806, Accuracy: 0.37513171759747105, Hit Rate: 0.5212765957446809, Trades: 376\n",
            "Running iteration 3/50\n",
            "\u001b[1m30/30\u001b[0m \u001b[32m━━━━━━━━━━━━━━━━━━━━\u001b[0m\u001b[37m\u001b[0m \u001b[1m0s\u001b[0m 5ms/step\n",
            "Iteration 3 - Final Portfolio Value: 96.50114863431183, Accuracy: 0.3656480505795574, Hit Rate: 0.5, Trades: 430\n",
            "Running iteration 4/50\n",
            "\u001b[1m30/30\u001b[0m \u001b[32m━━━━━━━━━━━━━━━━━━━━\u001b[0m\u001b[37m\u001b[0m \u001b[1m0s\u001b[0m 5ms/step\n",
            "Iteration 4 - Final Portfolio Value: 106.04233815660174, Accuracy: 0.35932560590094836, Hit Rate: 0.5024630541871922, Trades: 609\n",
            "Running iteration 5/50\n",
            "\u001b[1m30/30\u001b[0m \u001b[32m━━━━━━━━━━━━━━━━━━━━\u001b[0m\u001b[37m\u001b[0m \u001b[1m0s\u001b[0m 5ms/step\n",
            "Iteration 5 - Final Portfolio Value: 98.67808816285509, Accuracy: 0.36459430979978924, Hit Rate: 0.5155555555555555, Trades: 450\n",
            "Running iteration 6/50\n",
            "\u001b[1m30/30\u001b[0m \u001b[32m━━━━━━━━━━━━━━━━━━━━\u001b[0m\u001b[37m\u001b[0m \u001b[1m0s\u001b[0m 5ms/step\n",
            "Iteration 6 - Final Portfolio Value: 102.66773848615868, Accuracy: 0.3624868282402529, Hit Rate: 0.500763358778626, Trades: 655\n",
            "Running iteration 7/50\n",
            "\u001b[1m30/30\u001b[0m \u001b[32m━━━━━━━━━━━━━━━━━━━━\u001b[0m\u001b[37m\u001b[0m \u001b[1m0s\u001b[0m 5ms/step\n",
            "Iteration 7 - Final Portfolio Value: 98.55969371445802, Accuracy: 0.3677555321390938, Hit Rate: 0.5098039215686274, Trades: 459\n",
            "Running iteration 8/50\n",
            "\u001b[1m30/30\u001b[0m \u001b[32m━━━━━━━━━━━━━━━━━━━━\u001b[0m\u001b[37m\u001b[0m \u001b[1m0s\u001b[0m 5ms/step\n",
            "Iteration 8 - Final Portfolio Value: 89.00535917268758, Accuracy: 0.3719704952581665, Hit Rate: 0.4644808743169399, Trades: 366\n",
            "Running iteration 9/50\n",
            "\u001b[1m30/30\u001b[0m \u001b[32m━━━━━━━━━━━━━━━━━━━━\u001b[0m\u001b[37m\u001b[0m \u001b[1m0s\u001b[0m 4ms/step\n",
            "Iteration 9 - Final Portfolio Value: 104.14130723750851, Accuracy: 0.3582718651211802, Hit Rate: 0.5015974440894568, Trades: 626\n",
            "Running iteration 10/50\n",
            "\u001b[1m30/30\u001b[0m \u001b[32m━━━━━━━━━━━━━━━━━━━━\u001b[0m\u001b[37m\u001b[0m \u001b[1m0s\u001b[0m 5ms/step\n",
            "Iteration 10 - Final Portfolio Value: 107.63490867427532, Accuracy: 0.3667017913593256, Hit Rate: 0.5104761904761905, Trades: 525\n",
            "Running iteration 11/50\n",
            "\u001b[1m30/30\u001b[0m \u001b[32m━━━━━━━━━━━━━━━━━━━━\u001b[0m\u001b[37m\u001b[0m \u001b[1m0s\u001b[0m 5ms/step\n",
            "Iteration 11 - Final Portfolio Value: 109.01479036379922, Accuracy: 0.36880927291886195, Hit Rate: 0.5194805194805194, Trades: 616\n",
            "Running iteration 12/50\n",
            "\u001b[1m30/30\u001b[0m \u001b[32m━━━━━━━━━━━━━━━━━━━━\u001b[0m\u001b[37m\u001b[0m \u001b[1m0s\u001b[0m 5ms/step\n",
            "Iteration 12 - Final Portfolio Value: 100.15172796070615, Accuracy: 0.37407797681770283, Hit Rate: 0.5223880597014925, Trades: 402\n",
            "Running iteration 13/50\n",
            "\u001b[1m30/30\u001b[0m \u001b[32m━━━━━━━━━━━━━━━━━━━━\u001b[0m\u001b[37m\u001b[0m \u001b[1m0s\u001b[0m 5ms/step\n",
            "Iteration 13 - Final Portfolio Value: 105.9767716493679, Accuracy: 0.3698630136986301, Hit Rate: 0.5033670033670034, Trades: 594\n",
            "Running iteration 14/50\n",
            "\u001b[1m30/30\u001b[0m \u001b[32m━━━━━━━━━━━━━━━━━━━━\u001b[0m\u001b[37m\u001b[0m \u001b[1m0s\u001b[0m 5ms/step\n",
            "Iteration 14 - Final Portfolio Value: 104.9038311701035, Accuracy: 0.3804004214963119, Hit Rate: 0.4930747922437673, Trades: 361\n",
            "Running iteration 15/50\n",
            "\u001b[1m30/30\u001b[0m \u001b[32m━━━━━━━━━━━━━━━━━━━━\u001b[0m\u001b[37m\u001b[0m \u001b[1m0s\u001b[0m 5ms/step\n",
            "Iteration 15 - Final Portfolio Value: 93.05528795849634, Accuracy: 0.3656480505795574, Hit Rate: 0.4934782608695652, Trades: 460\n",
            "Running iteration 16/50\n",
            "\u001b[1m30/30\u001b[0m \u001b[32m━━━━━━━━━━━━━━━━━━━━\u001b[0m\u001b[37m\u001b[0m \u001b[1m0s\u001b[0m 5ms/step\n",
            "Iteration 16 - Final Portfolio Value: 98.95024596786416, Accuracy: 0.3656480505795574, Hit Rate: 0.5128205128205128, Trades: 429\n",
            "Running iteration 17/50\n",
            "\u001b[1m30/30\u001b[0m \u001b[32m━━━━━━━━━━━━━━━━━━━━\u001b[0m\u001b[37m\u001b[0m \u001b[1m0s\u001b[0m 5ms/step\n",
            "Iteration 17 - Final Portfolio Value: 105.47283682437114, Accuracy: 0.37091675447839834, Hit Rate: 0.5025125628140703, Trades: 597\n",
            "Running iteration 18/50\n",
            "\u001b[1m30/30\u001b[0m \u001b[32m━━━━━━━━━━━━━━━━━━━━\u001b[0m\u001b[37m\u001b[0m \u001b[1m0s\u001b[0m 5ms/step\n",
            "Iteration 18 - Final Portfolio Value: 99.20919137261156, Accuracy: 0.3635405690200211, Hit Rate: 0.5133689839572193, Trades: 561\n",
            "Running iteration 19/50\n",
            "\u001b[1m30/30\u001b[0m \u001b[32m━━━━━━━━━━━━━━━━━━━━\u001b[0m\u001b[37m\u001b[0m \u001b[1m0s\u001b[0m 5ms/step\n",
            "Iteration 19 - Final Portfolio Value: 105.75240854056246, Accuracy: 0.37091675447839834, Hit Rate: 0.5033670033670034, Trades: 594\n",
            "Running iteration 20/50\n",
            "\u001b[1m30/30\u001b[0m \u001b[32m━━━━━━━━━━━━━━━━━━━━\u001b[0m\u001b[37m\u001b[0m \u001b[1m0s\u001b[0m 5ms/step\n",
            "Iteration 20 - Final Portfolio Value: 93.4439101771945, Accuracy: 0.36459430979978924, Hit Rate: 0.4869109947643979, Trades: 573\n",
            "Running iteration 21/50\n",
            "\u001b[1m30/30\u001b[0m \u001b[32m━━━━━━━━━━━━━━━━━━━━\u001b[0m\u001b[37m\u001b[0m \u001b[1m0s\u001b[0m 5ms/step\n",
            "Iteration 21 - Final Portfolio Value: 108.1003111794076, Accuracy: 0.3635405690200211, Hit Rate: 0.5094664371772806, Trades: 581\n",
            "Running iteration 22/50\n",
            "\u001b[1m30/30\u001b[0m \u001b[32m━━━━━━━━━━━━━━━━━━━━\u001b[0m\u001b[37m\u001b[0m \u001b[1m0s\u001b[0m 5ms/step\n",
            "Iteration 22 - Final Portfolio Value: 110.56754336056228, Accuracy: 0.3677555321390938, Hit Rate: 0.5080906148867314, Trades: 618\n",
            "Running iteration 23/50\n",
            "\u001b[1m30/30\u001b[0m \u001b[32m━━━━━━━━━━━━━━━━━━━━\u001b[0m\u001b[37m\u001b[0m \u001b[1m0s\u001b[0m 5ms/step\n",
            "Iteration 23 - Final Portfolio Value: 111.18816731969234, Accuracy: 0.37302423603793466, Hit Rate: 0.5094043887147336, Trades: 638\n",
            "Running iteration 24/50\n",
            "\u001b[1m30/30\u001b[0m \u001b[32m━━━━━━━━━━━━━━━━━━━━\u001b[0m\u001b[37m\u001b[0m \u001b[1m0s\u001b[0m 5ms/step\n",
            "Iteration 24 - Final Portfolio Value: 105.84809257660437, Accuracy: 0.3677555321390938, Hit Rate: 0.5022421524663677, Trades: 446\n",
            "Running iteration 25/50\n",
            "\u001b[1m30/30\u001b[0m \u001b[32m━━━━━━━━━━━━━━━━━━━━\u001b[0m\u001b[37m\u001b[0m \u001b[1m0s\u001b[0m 5ms/step\n",
            "Iteration 25 - Final Portfolio Value: 95.7283816476421, Accuracy: 0.3582718651211802, Hit Rate: 0.4899598393574297, Trades: 498\n",
            "Running iteration 26/50\n",
            "\u001b[1m30/30\u001b[0m \u001b[32m━━━━━━━━━━━━━━━━━━━━\u001b[0m\u001b[37m\u001b[0m \u001b[1m0s\u001b[0m 5ms/step\n",
            "Iteration 26 - Final Portfolio Value: 102.15518221506282, Accuracy: 0.3793466807165437, Hit Rate: 0.48717948717948717, Trades: 351\n",
            "Running iteration 27/50\n",
            "\u001b[1m30/30\u001b[0m \u001b[32m━━━━━━━━━━━━━━━━━━━━\u001b[0m\u001b[37m\u001b[0m \u001b[1m0s\u001b[0m 5ms/step\n",
            "Iteration 27 - Final Portfolio Value: 106.98235173379945, Accuracy: 0.3677555321390938, Hit Rate: 0.5105973025048169, Trades: 519\n",
            "Running iteration 28/50\n",
            "\u001b[1m30/30\u001b[0m \u001b[32m━━━━━━━━━━━━━━━━━━━━\u001b[0m\u001b[37m\u001b[0m \u001b[1m0s\u001b[0m 4ms/step\n",
            "Iteration 28 - Final Portfolio Value: 101.74394789263584, Accuracy: 0.3624868282402529, Hit Rate: 0.502835538752363, Trades: 529\n",
            "Running iteration 29/50\n",
            "\u001b[1m30/30\u001b[0m \u001b[32m━━━━━━━━━━━━━━━━━━━━\u001b[0m\u001b[37m\u001b[0m \u001b[1m0s\u001b[0m 5ms/step\n",
            "Iteration 29 - Final Portfolio Value: 90.23908432438192, Accuracy: 0.3403582718651212, Hit Rate: 0.48484848484848486, Trades: 660\n",
            "Running iteration 30/50\n",
            "\u001b[1m30/30\u001b[0m \u001b[32m━━━━━━━━━━━━━━━━━━━━\u001b[0m\u001b[37m\u001b[0m \u001b[1m0s\u001b[0m 5ms/step\n",
            "Iteration 30 - Final Portfolio Value: 83.69798330480765, Accuracy: 0.3719704952581665, Hit Rate: 0.4619718309859155, Trades: 355\n",
            "Running iteration 31/50\n",
            "\u001b[1m30/30\u001b[0m \u001b[32m━━━━━━━━━━━━━━━━━━━━\u001b[0m\u001b[37m\u001b[0m \u001b[1m0s\u001b[0m 5ms/step\n",
            "Iteration 31 - Final Portfolio Value: 94.77721663058988, Accuracy: 0.3667017913593256, Hit Rate: 0.4982638888888889, Trades: 576\n",
            "Running iteration 32/50\n",
            "\u001b[1m30/30\u001b[0m \u001b[32m━━━━━━━━━━━━━━━━━━━━\u001b[0m\u001b[37m\u001b[0m \u001b[1m0s\u001b[0m 5ms/step\n",
            "Iteration 32 - Final Portfolio Value: 97.62978775670952, Accuracy: 0.3656480505795574, Hit Rate: 0.5012165450121655, Trades: 411\n",
            "Running iteration 33/50\n",
            "\u001b[1m30/30\u001b[0m \u001b[32m━━━━━━━━━━━━━━━━━━━━\u001b[0m\u001b[37m\u001b[0m \u001b[1m0s\u001b[0m 4ms/step\n",
            "Iteration 33 - Final Portfolio Value: 103.08974086851352, Accuracy: 0.3656480505795574, Hit Rate: 0.5176470588235295, Trades: 595\n",
            "Running iteration 34/50\n",
            "\u001b[1m30/30\u001b[0m \u001b[32m━━━━━━━━━━━━━━━━━━━━\u001b[0m\u001b[37m\u001b[0m \u001b[1m0s\u001b[0m 5ms/step\n",
            "Iteration 34 - Final Portfolio Value: 98.43742585051467, Accuracy: 0.3487881981032666, Hit Rate: 0.49333333333333335, Trades: 675\n",
            "Running iteration 35/50\n",
            "\u001b[1m30/30\u001b[0m \u001b[32m━━━━━━━━━━━━━━━━━━━━\u001b[0m\u001b[37m\u001b[0m \u001b[1m0s\u001b[0m 5ms/step\n",
            "Iteration 35 - Final Portfolio Value: 102.0291468765601, Accuracy: 0.3656480505795574, Hit Rate: 0.5259593679458239, Trades: 443\n",
            "Running iteration 36/50\n",
            "\u001b[1m30/30\u001b[0m \u001b[32m━━━━━━━━━━━━━━━━━━━━\u001b[0m\u001b[37m\u001b[0m \u001b[1m0s\u001b[0m 5ms/step\n",
            "Iteration 36 - Final Portfolio Value: 99.26763905237128, Accuracy: 0.35932560590094836, Hit Rate: 0.5092748735244519, Trades: 593\n",
            "Running iteration 37/50\n",
            "\u001b[1m30/30\u001b[0m \u001b[32m━━━━━━━━━━━━━━━━━━━━\u001b[0m\u001b[37m\u001b[0m \u001b[1m0s\u001b[0m 5ms/step\n",
            "Iteration 37 - Final Portfolio Value: 104.75311697807646, Accuracy: 0.3656480505795574, Hit Rate: 0.4966139954853273, Trades: 443\n",
            "Running iteration 38/50\n",
            "\u001b[1m30/30\u001b[0m \u001b[32m━━━━━━━━━━━━━━━━━━━━\u001b[0m\u001b[37m\u001b[0m \u001b[1m0s\u001b[0m 4ms/step\n",
            "Iteration 38 - Final Portfolio Value: 92.20792061068913, Accuracy: 0.3308746048472076, Hit Rate: 0.48725212464589235, Trades: 706\n",
            "Running iteration 39/50\n",
            "\u001b[1m30/30\u001b[0m \u001b[32m━━━━━━━━━━━━━━━━━━━━\u001b[0m\u001b[37m\u001b[0m \u001b[1m0s\u001b[0m 5ms/step\n",
            "Iteration 39 - Final Portfolio Value: 97.25428153648149, Accuracy: 0.37513171759747105, Hit Rate: 0.5012787723785166, Trades: 391\n",
            "Running iteration 40/50\n",
            "\u001b[1m30/30\u001b[0m \u001b[32m━━━━━━━━━━━━━━━━━━━━\u001b[0m\u001b[37m\u001b[0m \u001b[1m0s\u001b[0m 5ms/step\n",
            "Iteration 40 - Final Portfolio Value: 105.04621945556367, Accuracy: 0.34351949420442573, Hit Rate: 0.496551724137931, Trades: 725\n",
            "Running iteration 41/50\n",
            "\u001b[1m30/30\u001b[0m \u001b[32m━━━━━━━━━━━━━━━━━━━━\u001b[0m\u001b[37m\u001b[0m \u001b[1m0s\u001b[0m 5ms/step\n",
            "Iteration 41 - Final Portfolio Value: 101.46842045826634, Accuracy: 0.3761854583772392, Hit Rate: 0.5239234449760766, Trades: 418\n",
            "Running iteration 42/50\n",
            "\u001b[1m30/30\u001b[0m \u001b[32m━━━━━━━━━━━━━━━━━━━━\u001b[0m\u001b[37m\u001b[0m \u001b[1m0s\u001b[0m 5ms/step\n",
            "Iteration 42 - Final Portfolio Value: 103.92546245240149, Accuracy: 0.35721812434141204, Hit Rate: 0.4975767366720517, Trades: 619\n",
            "Running iteration 43/50\n",
            "\u001b[1m30/30\u001b[0m \u001b[32m━━━━━━━━━━━━━━━━━━━━\u001b[0m\u001b[37m\u001b[0m \u001b[1m0s\u001b[0m 5ms/step\n",
            "Iteration 43 - Final Portfolio Value: 105.37526740466335, Accuracy: 0.37513171759747105, Hit Rate: 0.5, Trades: 410\n",
            "Running iteration 44/50\n",
            "\u001b[1m30/30\u001b[0m \u001b[32m━━━━━━━━━━━━━━━━━━━━\u001b[0m\u001b[37m\u001b[0m \u001b[1m0s\u001b[0m 5ms/step\n",
            "Iteration 44 - Final Portfolio Value: 105.79365334276243, Accuracy: 0.36880927291886195, Hit Rate: 0.5034843205574913, Trades: 574\n",
            "Running iteration 45/50\n",
            "\u001b[1m30/30\u001b[0m \u001b[32m━━━━━━━━━━━━━━━━━━━━\u001b[0m\u001b[37m\u001b[0m \u001b[1m0s\u001b[0m 5ms/step\n",
            "Iteration 45 - Final Portfolio Value: 86.97200819454902, Accuracy: 0.3635405690200211, Hit Rate: 0.4530612244897959, Trades: 245\n",
            "Running iteration 46/50\n",
            "\u001b[1m30/30\u001b[0m \u001b[32m━━━━━━━━━━━━━━━━━━━━\u001b[0m\u001b[37m\u001b[0m \u001b[1m0s\u001b[0m 5ms/step\n",
            "Iteration 46 - Final Portfolio Value: 92.15834018186172, Accuracy: 0.35721812434141204, Hit Rate: 0.48333333333333334, Trades: 480\n",
            "Running iteration 47/50\n",
            "\u001b[1m30/30\u001b[0m \u001b[32m━━━━━━━━━━━━━━━━━━━━\u001b[0m\u001b[37m\u001b[0m \u001b[1m0s\u001b[0m 5ms/step\n",
            "Iteration 47 - Final Portfolio Value: 104.58267888709221, Accuracy: 0.36880927291886195, Hit Rate: 0.5098425196850394, Trades: 508\n",
            "Running iteration 48/50\n",
            "\u001b[1m30/30\u001b[0m \u001b[32m━━━━━━━━━━━━━━━━━━━━\u001b[0m\u001b[37m\u001b[0m \u001b[1m0s\u001b[0m 5ms/step\n",
            "Iteration 48 - Final Portfolio Value: 104.54110268242476, Accuracy: 0.35932560590094836, Hit Rate: 0.5031578947368421, Trades: 475\n",
            "Running iteration 49/50\n",
            "\u001b[1m30/30\u001b[0m \u001b[32m━━━━━━━━━━━━━━━━━━━━\u001b[0m\u001b[37m\u001b[0m \u001b[1m0s\u001b[0m 5ms/step\n",
            "Iteration 49 - Final Portfolio Value: 103.98059063323939, Accuracy: 0.37302423603793466, Hit Rate: 0.5, Trades: 490\n",
            "Running iteration 50/50\n",
            "\u001b[1m30/30\u001b[0m \u001b[32m━━━━━━━━━━━━━━━━━━━━\u001b[0m\u001b[37m\u001b[0m \u001b[1m0s\u001b[0m 5ms/step\n",
            "Iteration 50 - Final Portfolio Value: 94.76367123943398, Accuracy: 0.3119072708113804, Hit Rate: 0.4828850855745721, Trades: 818\n",
            "Average Final Portfolio Value:\n",
            "100.56578227941301\n",
            "Standard Deviation of Final Values:\n",
            "6.174693736929815\n",
            "Average Accuracy:\n",
            "0.36402528977871446\n",
            "Average Hit Rate:\n",
            "0.5004055900203797\n",
            "Average No. of Trades:\n",
            "518.04\n"
          ]
        }
      ]
    },
    {
      "cell_type": "markdown",
      "source": [
        "# 6th Iteration\n"
      ],
      "metadata": {
        "id": "pgQ9UF2rFadT"
      }
    },
    {
      "cell_type": "code",
      "source": [
        "time_steps = 15\n",
        "\n",
        "dataX = create_dataset(dataset, time_steps)\n",
        "\n",
        "dataX = np.reshape(dataX, (dataX.shape[0], time_steps, dataset.shape[1]))\n",
        "\n",
        "X = dataX\n",
        "y = y_categories[time_steps:]\n",
        "X_train, X_test, y_train, y_test = train_test_split(X, y, test_size = 0.2, shuffle = False, random_state = 42)"
      ],
      "metadata": {
        "id": "0BkqgugTFhhZ"
      },
      "execution_count": null,
      "outputs": []
    },
    {
      "cell_type": "code",
      "source": [
        "def create_model_6(units1 = 128, units2 = 64,  dropout_rate1 = 0.2, dropout_rate2 = 0.1, batch_size = 32, l2_value = 0.01):\n",
        "    model = Sequential([\n",
        "        Input(shape = (X_train.shape[1], X_train.shape[2])),\n",
        "        LSTM(units1, return_sequences = True),\n",
        "        Dropout(dropout_rate1),\n",
        "        LSTM(units2, return_sequences = False),\n",
        "        Dropout(dropout_rate2),\n",
        "        Dense(3, activation = 'softmax', kernel_regularizer = l2(l2_value))\n",
        "    ])\n",
        "    model.compile(optimizer = 'adam', loss = 'categorical_crossentropy', metrics = ['accuracy'])\n",
        "    return model"
      ],
      "metadata": {
        "id": "6KkAs4j_Fhha"
      },
      "execution_count": null,
      "outputs": []
    },
    {
      "cell_type": "code",
      "source": [
        "param_grid_model_6 = {\n",
        "    'model__units1': [64, 128],\n",
        "    'model__units2': [64, 128],\n",
        "    'model__dropout_rate1': [0.2, 0.3, 0.4],\n",
        "    'model__dropout_rate2': [0.2, 0.3, 0.4],\n",
        "    'batch_size': [64, 128],\n",
        "    'model__l2_value': [0.1, 0.01]\n",
        "}"
      ],
      "metadata": {
        "id": "0lDw76j2Fhha"
      },
      "execution_count": null,
      "outputs": []
    },
    {
      "cell_type": "code",
      "source": [
        "model_6 = KerasClassifier(model = create_model_6, epochs = 75, verbose = 0, shuffle = False, random_state = 42)"
      ],
      "metadata": {
        "id": "L1JVRyDnFhhb"
      },
      "execution_count": null,
      "outputs": []
    },
    {
      "cell_type": "code",
      "source": [
        "grid_model_6 = GridSearchCV(estimator = model_6, param_grid = param_grid_model_6, cv=5, scoring = 'accuracy', n_jobs = -1)"
      ],
      "metadata": {
        "id": "STwKqrm8Fhhb"
      },
      "execution_count": null,
      "outputs": []
    },
    {
      "cell_type": "code",
      "source": [
        "early_stopping = EarlyStopping(monitor = 'val_loss', patience = 5, start_from_epoch = 10, restore_best_weights = True)\n",
        "\n",
        "grid_result_model_6 = grid_model_6.fit(X_train, y_train, validation_split = 0.2, callbacks = [early_stopping])"
      ],
      "metadata": {
        "id": "b9ICra_sFhhb"
      },
      "execution_count": null,
      "outputs": []
    },
    {
      "cell_type": "code",
      "source": [
        "best_params_model_6 = grid_result_model_6.best_params_\n",
        "\n",
        "print(best_params_model_6)"
      ],
      "metadata": {
        "colab": {
          "base_uri": "https://localhost:8080/"
        },
        "outputId": "0d1bc0f7-3659-4055-acce-e3c4460a9223",
        "id": "uxacbZUHFhhb"
      },
      "execution_count": null,
      "outputs": [
        {
          "output_type": "stream",
          "name": "stdout",
          "text": [
            "{'batch_size': 128, 'model__dropout_rate1': 0.4, 'model__dropout_rate2': 0.4, 'model__l2_value': 0.1, 'model__units1': 128, 'model__units2': 128}\n"
          ]
        }
      ]
    },
    {
      "cell_type": "code",
      "source": [
        "best_model_6 = create_model_6(units1 = best_params_model_6['model__units1'],\n",
        "                              units2 = best_params_model_6['model__units2'],\n",
        "                          dropout_rate1 = best_params_model_6['model__dropout_rate1'],\n",
        "                              dropout_rate2 = best_params_model_6['model__dropout_rate2'],\n",
        "                          batch_size = best_params_model_6['batch_size'],\n",
        "                              l2_value = best_params_model_6['model__l2_value']\n",
        "                          )"
      ],
      "metadata": {
        "id": "BVH6OWLIFhhc"
      },
      "execution_count": null,
      "outputs": []
    },
    {
      "cell_type": "code",
      "source": [
        "early_stopping = EarlyStopping(monitor = 'val_loss', patience = 5, start_from_epoch = 10, restore_best_weights = True)\n",
        "\n",
        "history_model_6 = best_model_6.fit(X_train, y_train,\n",
        "                         epochs=75,\n",
        "                                   batch_size = 128, # remember to change (default = 32)\n",
        "                         validation_data = (X_test, y_test),\n",
        "                                   callbacks = [early_stopping],\n",
        "                         verbose = 0)"
      ],
      "metadata": {
        "id": "-Ji_HdUzFhhc"
      },
      "execution_count": null,
      "outputs": []
    },
    {
      "cell_type": "code",
      "source": [
        "plt.plot(history_model_6.history['loss'])\n",
        "plt.plot(history_model_6.history['val_loss'])\n",
        "plt.title('Model loss')\n",
        "plt.ylabel('Loss')\n",
        "plt.xlabel('Epoch')\n",
        "plt.legend(['Train', 'Test'], loc='upper left')\n",
        "plt.show()"
      ],
      "metadata": {
        "colab": {
          "base_uri": "https://localhost:8080/",
          "height": 472
        },
        "outputId": "8d163088-373f-47ad-ad3c-ec5e0af202c5",
        "id": "sOZqPjcoFhhc"
      },
      "execution_count": null,
      "outputs": [
        {
          "output_type": "display_data",
          "data": {
            "text/plain": [
              "<Figure size 640x480 with 1 Axes>"
            ],
            "image/png": "[encoded data removed]"
          },
          "metadata": {}
        }
      ]
    },
    {
      "cell_type": "code",
      "source": [
        "y_pred = best_model_6.predict(X_test)\n",
        "\n",
        "actual_categories = np.argmax(y_test, axis=1)\n",
        "\n",
        "predicted_categories = np.argmax(y_pred, axis=1)\n",
        "\n",
        "cm = confusion_matrix(actual_categories, predicted_categories)\n",
        "disp = ConfusionMatrixDisplay(confusion_matrix=cm, display_labels=[0, 1, 2])\n",
        "\n",
        "plt.figure(figsize=(10, 7))\n",
        "disp.plot(cmap=plt.cm.Blues)\n",
        "plt.title('Confusion Matrix')\n",
        "plt.show()"
      ],
      "metadata": {
        "colab": {
          "base_uri": "https://localhost:8080/",
          "height": 506
        },
        "outputId": "7485d897-9886-4743-8d42-772346fa93e7",
        "id": "mIlFGSzcFhhc"
      },
      "execution_count": null,
      "outputs": [
        {
          "output_type": "stream",
          "name": "stdout",
          "text": [
            "\u001b[1m30/30\u001b[0m \u001b[32m━━━━━━━━━━━━━━━━━━━━\u001b[0m\u001b[37m\u001b[0m \u001b[1m0s\u001b[0m 3ms/step\n"
          ]
        },
        {
          "output_type": "display_data",
          "data": {
            "text/plain": [
              "<Figure size 1000x700 with 0 Axes>"
            ]
          },
          "metadata": {}
        },
        {
          "output_type": "display_data",
          "data": {
            "text/plain": [
              "<Figure size 640x480 with 2 Axes>"
            ],
            "image/png": "[encoded data removed]"
          },
          "metadata": {}
        }
      ]
    },
    {
      "cell_type": "code",
      "source": [
        "def compute_hit_rate(signals, percent_changes):\n",
        "    correct_signals = 0\n",
        "    total_signals = len(signals)\n",
        "\n",
        "    for signal, percent_change in zip(signals, percent_changes):\n",
        "        if (signal == 0 and percent_change < 0) or (signal == 2 and percent_change > 0):\n",
        "            correct_signals += 1\n",
        "        elif signal == 1:\n",
        "            total_signals -= 1\n",
        "\n",
        "    return correct_signals / total_signals if total_signals > 0 else 0\n",
        "\n",
        "def backtest(actions, percent_changes):\n",
        "    cash = 100\n",
        "    position = 0\n",
        "    portfolio_value = []\n",
        "\n",
        "    for action, percent_change in zip(actions, percent_changes):\n",
        "        if action == 0:  # Sell\n",
        "            position = -100  # Set position to short\n",
        "            cash += position * percent_change  # Sell shares\n",
        "        elif action == 1:  # Flat\n",
        "            position = 0  # Set position to flat\n",
        "            cash += 0  # No action\n",
        "        elif action == 2:  # Buy\n",
        "            position = 100  # Set position to long\n",
        "            cash += position * percent_change  # Buy shares\n",
        "\n",
        "        portfolio_value.append(cash)\n",
        "\n",
        "    return portfolio_value\n",
        "\n",
        "def run_single_iteration(X_train, y_train, X_test, y_test, best_params_model_6):\n",
        "    best_model_6 = create_model_6(units1 = best_params_model_6['model__units1'],\n",
        "                              units2 = best_params_model_6['model__units2'],\n",
        "                          dropout_rate1 = best_params_model_6['model__dropout_rate1'],\n",
        "                              dropout_rate2 = best_params_model_6['model__dropout_rate2'],\n",
        "                          batch_size = best_params_model_6['batch_size'],\n",
        "                              l2_value = best_params_model_6['model__l2_value']\n",
        "                          )\n",
        "\n",
        "    early_stopping = EarlyStopping(monitor = 'val_loss', patience = 5, start_from_epoch = 10, restore_best_weights = True)\n",
        "\n",
        "    history_model_6 = best_model_6.fit(X_train, y_train,\n",
        "                         epochs = 75,\n",
        "                                   batch_size = 128,\n",
        "                         validation_data = (X_test, y_test),\n",
        "                                   callbacks = [early_stopping],\n",
        "                         verbose = 0)\n",
        "\n",
        "    predictions = best_model_6.predict(X_test)\n",
        "    predicted_categories = np.argmax(predictions, axis=1)\n",
        "\n",
        "    y_test_labels = np.argmax(y_test, axis=1)\n",
        "\n",
        "    accuracy = accuracy_score(y_test_labels, predicted_categories)\n",
        "\n",
        "    signals = predicted_categories\n",
        "    percent_changes = np.array(df_raw_exchange.iloc[-len(y_test):])\n",
        "\n",
        "    portfolio_value = backtest(signals, percent_changes)\n",
        "    hit_rate = compute_hit_rate(signals, percent_changes)\n",
        "    num_trades = np.sum((signals == 0) | (signals == 2))\n",
        "\n",
        "\n",
        "    return portfolio_value, accuracy, hit_rate, num_trades\n",
        "\n",
        "iterations = 50\n",
        "\n",
        "final_portfolio_values = []\n",
        "accuracies = []\n",
        "hit_rates = []\n",
        "trade_counts = []\n",
        "\n",
        "for i in range(iterations):\n",
        "    print(f\"Running iteration {i+1}/{iterations}\")\n",
        "    portfolio_value, accuracy, hit_rate, num_trades = run_single_iteration(X_train, y_train, X_test, y_test, best_params_model_6)\n",
        "    final_portfolio_values.append(portfolio_value[-1])\n",
        "    accuracies.append(accuracy)\n",
        "    hit_rates.append(hit_rate)\n",
        "    trade_counts.append(num_trades)\n",
        "    print(f\"Iteration {i+1} - Final Portfolio Value: {portfolio_value[-1]}, Accuracy: {accuracy}, Hit Rate: {hit_rate}, Trades: {num_trades}\")\n",
        "\n",
        "average_final_value = np.mean(final_portfolio_values)\n",
        "std_final_value = np.std(final_portfolio_values)\n",
        "\n",
        "average_accuracy = np.mean(accuracies)\n",
        "average_hit_rate = np.mean(hit_rates)\n",
        "average_num_trades = np.mean(trade_counts)\n",
        "\n",
        "print(\"Average Final Portfolio Value:\")\n",
        "print(average_final_value)\n",
        "print('Standard Deviation of Final Values:')\n",
        "print(std_final_value)\n",
        "print('Average Accuracy:')\n",
        "print(average_accuracy)\n",
        "print('Average Hit Rate:')\n",
        "print(average_hit_rate)\n",
        "print('Average No. of Trades:')\n",
        "print(average_num_trades)"
      ],
      "metadata": {
        "colab": {
          "base_uri": "https://localhost:8080/"
        },
        "outputId": "c21f9ac8-5093-4687-fb13-2b63e4eb6978",
        "id": "laVXR5dyFhhc"
      },
      "execution_count": null,
      "outputs": [
        {
          "output_type": "stream",
          "name": "stdout",
          "text": [
            "Running iteration 1/100\n",
            "\u001b[1m30/30\u001b[0m \u001b[32m━━━━━━━━━━━━━━━━━━━━\u001b[0m\u001b[37m\u001b[0m \u001b[1m0s\u001b[0m 8ms/step\n",
            "Iteration 1 - Final Portfolio Value: 96.55242852422245, Accuracy: 0.2971548998946259, Hit Rate: 0.5005820721769499, Trades: 859\n",
            "Running iteration 2/100\n",
            "\u001b[1m30/30\u001b[0m \u001b[32m━━━━━━━━━━━━━━━━━━━━\u001b[0m\u001b[37m\u001b[0m \u001b[1m0s\u001b[0m 9ms/step\n",
            "Iteration 2 - Final Portfolio Value: 88.65577949152967, Accuracy: 0.303477344573235, Hit Rate: 0.4944920440636475, Trades: 817\n",
            "Running iteration 3/100\n",
            "\u001b[1m30/30\u001b[0m \u001b[32m━━━━━━━━━━━━━━━━━━━━\u001b[0m\u001b[37m\u001b[0m \u001b[1m0s\u001b[0m 8ms/step\n",
            "Iteration 3 - Final Portfolio Value: 85.71726513449345, Accuracy: 0.3129610115911486, Hit Rate: 0.48673740053050396, Trades: 754\n",
            "Running iteration 4/100\n",
            "\u001b[1m30/30\u001b[0m \u001b[32m━━━━━━━━━━━━━━━━━━━━\u001b[0m\u001b[37m\u001b[0m \u001b[1m0s\u001b[0m 8ms/step\n",
            "Iteration 4 - Final Portfolio Value: 86.81982416582764, Accuracy: 0.2992623814541623, Hit Rate: 0.4841075794621027, Trades: 818\n",
            "Running iteration 5/100\n",
            "\u001b[1m30/30\u001b[0m \u001b[32m━━━━━━━━━━━━━━━━━━━━\u001b[0m\u001b[37m\u001b[0m \u001b[1m0s\u001b[0m 8ms/step\n",
            "Iteration 5 - Final Portfolio Value: 97.49341471902477, Accuracy: 0.303477344573235, Hit Rate: 0.5011764705882353, Trades: 850\n",
            "Running iteration 6/100\n",
            "\u001b[1m30/30\u001b[0m \u001b[32m━━━━━━━━━━━━━━━━━━━━\u001b[0m\u001b[37m\u001b[0m \u001b[1m0s\u001b[0m 8ms/step\n",
            "Iteration 6 - Final Portfolio Value: 89.05121708502034, Accuracy: 0.3066385669125395, Hit Rate: 0.49622166246851385, Trades: 794\n",
            "Running iteration 7/100\n",
            "\u001b[1m30/30\u001b[0m \u001b[32m━━━━━━━━━━━━━━━━━━━━\u001b[0m\u001b[37m\u001b[0m \u001b[1m0s\u001b[0m 8ms/step\n",
            "Iteration 7 - Final Portfolio Value: 88.05377843736355, Accuracy: 0.30242360379346683, Hit Rate: 0.4981640146878825, Trades: 817\n",
            "Running iteration 8/100\n",
            "\u001b[1m30/30\u001b[0m \u001b[32m━━━━━━━━━━━━━━━━━━━━\u001b[0m\u001b[37m\u001b[0m \u001b[1m0s\u001b[0m 8ms/step\n",
            "Iteration 8 - Final Portfolio Value: 96.21417981798945, Accuracy: 0.30242360379346683, Hit Rate: 0.505338078291815, Trades: 843\n",
            "Running iteration 9/100\n",
            "\u001b[1m30/30\u001b[0m \u001b[32m━━━━━━━━━━━━━━━━━━━━\u001b[0m\u001b[37m\u001b[0m \u001b[1m0s\u001b[0m 8ms/step\n",
            "Iteration 9 - Final Portfolio Value: 97.09337229078186, Accuracy: 0.3287671232876712, Hit Rate: 0.5006915629322268, Trades: 723\n",
            "Running iteration 10/100\n",
            "\u001b[1m30/30\u001b[0m \u001b[32m━━━━━━━━━━━━━━━━━━━━\u001b[0m\u001b[37m\u001b[0m \u001b[1m0s\u001b[0m 8ms/step\n",
            "Iteration 10 - Final Portfolio Value: 92.06531236961206, Accuracy: 0.3192834562697576, Hit Rate: 0.502724795640327, Trades: 734\n",
            "Running iteration 11/100\n",
            "\u001b[1m30/30\u001b[0m \u001b[32m━━━━━━━━━━━━━━━━━━━━\u001b[0m\u001b[37m\u001b[0m \u001b[1m0s\u001b[0m 8ms/step\n",
            "Iteration 11 - Final Portfolio Value: 85.34426682957171, Accuracy: 0.31401475237091675, Hit Rate: 0.4808743169398907, Trades: 732\n",
            "Running iteration 12/100\n",
            "\u001b[1m30/30\u001b[0m \u001b[32m━━━━━━━━━━━━━━━━━━━━\u001b[0m\u001b[37m\u001b[0m \u001b[1m0s\u001b[0m 8ms/step\n",
            "Iteration 12 - Final Portfolio Value: 91.02584055634307, Accuracy: 0.3076923076923077, Hit Rate: 0.4944237918215613, Trades: 807\n",
            "Running iteration 13/100\n",
            "\u001b[1m30/30\u001b[0m \u001b[32m━━━━━━━━━━━━━━━━━━━━\u001b[0m\u001b[37m\u001b[0m \u001b[1m0s\u001b[0m 8ms/step\n",
            "Iteration 13 - Final Portfolio Value: 83.27268302010543, Accuracy: 0.29610115911485774, Hit Rate: 0.486810551558753, Trades: 834\n",
            "Running iteration 14/100\n",
            "\u001b[1m30/30\u001b[0m \u001b[32m━━━━━━━━━━━━━━━━━━━━\u001b[0m\u001b[37m\u001b[0m \u001b[1m0s\u001b[0m 8ms/step\n",
            "Iteration 14 - Final Portfolio Value: 92.34673546378897, Accuracy: 0.2950474183350896, Hit Rate: 0.49824150058616645, Trades: 853\n",
            "Running iteration 15/100\n",
            "\u001b[1m30/30\u001b[0m \u001b[32m━━━━━━━━━━━━━━━━━━━━\u001b[0m\u001b[37m\u001b[0m \u001b[1m0s\u001b[0m 8ms/step\n",
            "Iteration 15 - Final Portfolio Value: 90.50210322968485, Accuracy: 0.3119072708113804, Hit Rate: 0.49546044098573283, Trades: 771\n",
            "Running iteration 16/100\n",
            "\u001b[1m30/30\u001b[0m \u001b[32m━━━━━━━━━━━━━━━━━━━━\u001b[0m\u001b[37m\u001b[0m \u001b[1m0s\u001b[0m 8ms/step\n",
            "Iteration 16 - Final Portfolio Value: 90.68482910623345, Accuracy: 0.3150684931506849, Hit Rate: 0.4961340206185567, Trades: 776\n",
            "Running iteration 17/100\n",
            "\u001b[1m30/30\u001b[0m \u001b[32m━━━━━━━━━━━━━━━━━━━━\u001b[0m\u001b[37m\u001b[0m \u001b[1m0s\u001b[0m 8ms/step\n",
            "Iteration 17 - Final Portfolio Value: 81.71136239667632, Accuracy: 0.29083245521601686, Hit Rate: 0.4773561811505508, Trades: 817\n",
            "Running iteration 18/100\n",
            "\u001b[1m30/30\u001b[0m \u001b[32m━━━━━━━━━━━━━━━━━━━━\u001b[0m\u001b[37m\u001b[0m \u001b[1m0s\u001b[0m 8ms/step\n",
            "Iteration 18 - Final Portfolio Value: 86.70130347769086, Accuracy: 0.3055848261327713, Hit Rate: 0.49815043156596794, Trades: 811\n",
            "Running iteration 19/100\n",
            "\u001b[1m30/30\u001b[0m \u001b[32m━━━━━━━━━━━━━━━━━━━━\u001b[0m\u001b[37m\u001b[0m \u001b[1m0s\u001b[0m 8ms/step\n",
            "Iteration 19 - Final Portfolio Value: 102.1668412756319, Accuracy: 0.3624868282402529, Hit Rate: 0.4975124378109453, Trades: 603\n",
            "Running iteration 20/100\n",
            "\u001b[1m30/30\u001b[0m \u001b[32m━━━━━━━━━━━━━━━━━━━━\u001b[0m\u001b[37m\u001b[0m \u001b[1m0s\u001b[0m 8ms/step\n",
            "Iteration 20 - Final Portfolio Value: 85.98576294513194, Accuracy: 0.29610115911485774, Hit Rate: 0.4897466827503016, Trades: 829\n",
            "Running iteration 21/100\n",
            "\u001b[1m30/30\u001b[0m \u001b[32m━━━━━━━━━━━━━━━━━━━━\u001b[0m\u001b[37m\u001b[0m \u001b[1m0s\u001b[0m 8ms/step\n",
            "Iteration 21 - Final Portfolio Value: 85.7124439519323, Accuracy: 0.30242360379346683, Hit Rate: 0.4927710843373494, Trades: 830\n",
            "Running iteration 22/100\n",
            "\u001b[1m30/30\u001b[0m \u001b[32m━━━━━━━━━━━━━━━━━━━━\u001b[0m\u001b[37m\u001b[0m \u001b[1m0s\u001b[0m 8ms/step\n",
            "Iteration 22 - Final Portfolio Value: 90.02341105267979, Accuracy: 0.30453108535300316, Hit Rate: 0.49255583126550867, Trades: 806\n",
            "Running iteration 23/100\n",
            "\u001b[1m30/30\u001b[0m \u001b[32m━━━━━━━━━━━━━━━━━━━━\u001b[0m\u001b[37m\u001b[0m \u001b[1m0s\u001b[0m 8ms/step\n",
            "Iteration 23 - Final Portfolio Value: 89.62477575320878, Accuracy: 0.3087460484720759, Hit Rate: 0.49370277078085645, Trades: 794\n",
            "Running iteration 24/100\n",
            "\u001b[1m30/30\u001b[0m \u001b[32m━━━━━━━━━━━━━━━━━━━━\u001b[0m\u001b[37m\u001b[0m \u001b[1m0s\u001b[0m 8ms/step\n",
            "Iteration 24 - Final Portfolio Value: 84.82767260462924, Accuracy: 0.2992623814541623, Hit Rate: 0.4963942307692308, Trades: 832\n",
            "Running iteration 25/100\n",
            "\u001b[1m30/30\u001b[0m \u001b[32m━━━━━━━━━━━━━━━━━━━━\u001b[0m\u001b[37m\u001b[0m \u001b[1m0s\u001b[0m 8ms/step\n",
            "Iteration 25 - Final Portfolio Value: 89.08683112821805, Accuracy: 0.3066385669125395, Hit Rate: 0.4920828258221681, Trades: 821\n",
            "Running iteration 26/100\n",
            "\u001b[1m30/30\u001b[0m \u001b[32m━━━━━━━━━━━━━━━━━━━━\u001b[0m\u001b[37m\u001b[0m \u001b[1m0s\u001b[0m 8ms/step\n",
            "Iteration 26 - Final Portfolio Value: 94.63546311592944, Accuracy: 0.3119072708113804, Hit Rate: 0.5006090133982948, Trades: 821\n",
            "Running iteration 27/100\n",
            "\u001b[1m30/30\u001b[0m \u001b[32m━━━━━━━━━━━━━━━━━━━━\u001b[0m\u001b[37m\u001b[0m \u001b[1m0s\u001b[0m 8ms/step\n",
            "Iteration 27 - Final Portfolio Value: 89.21265107383982, Accuracy: 0.2992623814541623, Hit Rate: 0.4934289127837515, Trades: 837\n",
            "Running iteration 28/100\n",
            "\u001b[1m30/30\u001b[0m \u001b[32m━━━━━━━━━━━━━━━━━━━━\u001b[0m\u001b[37m\u001b[0m \u001b[1m0s\u001b[0m 8ms/step\n",
            "Iteration 28 - Final Portfolio Value: 90.51500121148817, Accuracy: 0.30031612223393045, Hit Rate: 0.49760765550239233, Trades: 836\n",
            "Running iteration 29/100\n",
            "\u001b[1m30/30\u001b[0m \u001b[32m━━━━━━━━━━━━━━━━━━━━\u001b[0m\u001b[37m\u001b[0m \u001b[1m0s\u001b[0m 8ms/step\n",
            "Iteration 29 - Final Portfolio Value: 89.07908648380544, Accuracy: 0.2971548998946259, Hit Rate: 0.4929078014184397, Trades: 846\n",
            "Running iteration 30/100\n",
            "\u001b[1m30/30\u001b[0m \u001b[32m━━━━━━━━━━━━━━━━━━━━\u001b[0m\u001b[37m\u001b[0m \u001b[1m0s\u001b[0m 8ms/step\n",
            "Iteration 30 - Final Portfolio Value: 92.7927847513744, Accuracy: 0.2982086406743941, Hit Rate: 0.498812351543943, Trades: 842\n",
            "Running iteration 31/100\n",
            "\u001b[1m30/30\u001b[0m \u001b[32m━━━━━━━━━━━━━━━━━━━━\u001b[0m\u001b[37m\u001b[0m \u001b[1m0s\u001b[0m 8ms/step\n",
            "Iteration 31 - Final Portfolio Value: 93.95885846457969, Accuracy: 0.31612223393045313, Hit Rate: 0.4946236559139785, Trades: 744\n",
            "Running iteration 32/100\n",
            "\u001b[1m30/30\u001b[0m \u001b[32m━━━━━━━━━━━━━━━━━━━━\u001b[0m\u001b[37m\u001b[0m \u001b[1m0s\u001b[0m 8ms/step\n",
            "Iteration 32 - Final Portfolio Value: 92.94146512024477, Accuracy: 0.3119072708113804, Hit Rate: 0.4981226533166458, Trades: 799\n",
            "Running iteration 33/100\n",
            "\u001b[1m30/30\u001b[0m \u001b[32m━━━━━━━━━━━━━━━━━━━━\u001b[0m\u001b[37m\u001b[0m \u001b[1m0s\u001b[0m 8ms/step\n",
            "Iteration 33 - Final Portfolio Value: 90.22756870889671, Accuracy: 0.2971548998946259, Hit Rate: 0.49702734839476814, Trades: 841\n",
            "Running iteration 34/100\n",
            "\u001b[1m30/30\u001b[0m \u001b[32m━━━━━━━━━━━━━━━━━━━━\u001b[0m\u001b[37m\u001b[0m \u001b[1m0s\u001b[0m 8ms/step\n",
            "Iteration 34 - Final Portfolio Value: 88.51477178032044, Accuracy: 0.3171759747102213, Hit Rate: 0.4895977808599168, Trades: 721\n",
            "Running iteration 35/100\n",
            "\u001b[1m30/30\u001b[0m \u001b[32m━━━━━━━━━━━━━━━━━━━━\u001b[0m\u001b[37m\u001b[0m \u001b[1m0s\u001b[0m 8ms/step\n",
            "Iteration 35 - Final Portfolio Value: 89.24377406074007, Accuracy: 0.3055848261327713, Hit Rate: 0.4881889763779528, Trades: 762\n",
            "Running iteration 36/100\n",
            "\u001b[1m30/30\u001b[0m \u001b[32m━━━━━━━━━━━━━━━━━━━━\u001b[0m\u001b[37m\u001b[0m \u001b[1m0s\u001b[0m 8ms/step\n",
            "Iteration 36 - Final Portfolio Value: 86.0105724813331, Accuracy: 0.303477344573235, Hit Rate: 0.4938875305623472, Trades: 818\n",
            "Running iteration 37/100\n",
            "\u001b[1m30/30\u001b[0m \u001b[32m━━━━━━━━━━━━━━━━━━━━\u001b[0m\u001b[37m\u001b[0m \u001b[1m0s\u001b[0m 8ms/step\n",
            "Iteration 37 - Final Portfolio Value: 90.37577235744791, Accuracy: 0.3087460484720759, Hit Rate: 0.4913907284768212, Trades: 755\n",
            "Running iteration 38/100\n",
            "\u001b[1m30/30\u001b[0m \u001b[32m━━━━━━━━━━━━━━━━━━━━\u001b[0m\u001b[37m\u001b[0m \u001b[1m0s\u001b[0m 8ms/step\n",
            "Iteration 38 - Final Portfolio Value: 88.58251712271735, Accuracy: 0.2950474183350896, Hit Rate: 0.49230769230769234, Trades: 845\n",
            "Running iteration 39/100\n",
            "\u001b[1m30/30\u001b[0m \u001b[32m━━━━━━━━━━━━━━━━━━━━\u001b[0m\u001b[37m\u001b[0m \u001b[1m0s\u001b[0m 8ms/step\n",
            "Iteration 39 - Final Portfolio Value: 86.5945197887194, Accuracy: 0.3066385669125395, Hit Rate: 0.48959608323133413, Trades: 817\n",
            "Running iteration 40/100\n",
            "\u001b[1m30/30\u001b[0m \u001b[32m━━━━━━━━━━━━━━━━━━━━\u001b[0m\u001b[37m\u001b[0m \u001b[1m0s\u001b[0m 8ms/step\n",
            "Iteration 40 - Final Portfolio Value: 86.76201093447125, Accuracy: 0.3076923076923077, Hit Rate: 0.4925373134328358, Trades: 804\n",
            "Running iteration 41/100\n",
            "\u001b[1m30/30\u001b[0m \u001b[32m━━━━━━━━━━━━━━━━━━━━\u001b[0m\u001b[37m\u001b[0m \u001b[1m0s\u001b[0m 8ms/step\n",
            "Iteration 41 - Final Portfolio Value: 92.16043080171326, Accuracy: 0.3055848261327713, Hit Rate: 0.4962686567164179, Trades: 804\n",
            "Running iteration 42/100\n",
            "\u001b[1m30/30\u001b[0m \u001b[32m━━━━━━━━━━━━━━━━━━━━\u001b[0m\u001b[37m\u001b[0m \u001b[1m0s\u001b[0m 8ms/step\n",
            "Iteration 42 - Final Portfolio Value: 93.56553873591972, Accuracy: 0.2992623814541623, Hit Rate: 0.4994110718492344, Trades: 849\n",
            "Running iteration 43/100\n",
            "\u001b[1m30/30\u001b[0m \u001b[32m━━━━━━━━━━━━━━━━━━━━\u001b[0m\u001b[37m\u001b[0m \u001b[1m0s\u001b[0m 8ms/step\n",
            "Iteration 43 - Final Portfolio Value: 87.12622278736359, Accuracy: 0.3087460484720759, Hit Rate: 0.4848084544253633, Trades: 757\n",
            "Running iteration 44/100\n",
            "\u001b[1m30/30\u001b[0m \u001b[32m━━━━━━━━━━━━━━━━━━━━\u001b[0m\u001b[37m\u001b[0m \u001b[1m0s\u001b[0m 8ms/step\n",
            "Iteration 44 - Final Portfolio Value: 89.14447773150906, Accuracy: 0.2992623814541623, Hit Rate: 0.49403341288782815, Trades: 838\n",
            "Running iteration 45/100\n",
            "\u001b[1m30/30\u001b[0m \u001b[32m━━━━━━━━━━━━━━━━━━━━\u001b[0m\u001b[37m\u001b[0m \u001b[1m0s\u001b[0m 8ms/step\n",
            "Iteration 45 - Final Portfolio Value: 86.1734209051225, Accuracy: 0.3055848261327713, Hit Rate: 0.4891994917407878, Trades: 787\n",
            "Running iteration 46/100\n",
            "\u001b[1m30/30\u001b[0m \u001b[32m━━━━━━━━━━━━━━━━━━━━\u001b[0m\u001b[37m\u001b[0m \u001b[1m0s\u001b[0m 8ms/step\n",
            "Iteration 46 - Final Portfolio Value: 88.13123896944018, Accuracy: 0.3150684931506849, Hit Rate: 0.49340369393139843, Trades: 758\n",
            "Running iteration 47/100\n",
            "\u001b[1m30/30\u001b[0m \u001b[32m━━━━━━━━━━━━━━━━━━━━\u001b[0m\u001b[37m\u001b[0m \u001b[1m0s\u001b[0m 8ms/step\n",
            "Iteration 47 - Final Portfolio Value: 100.57669048170305, Accuracy: 0.3055848261327713, Hit Rate: 0.5046838407494145, Trades: 854\n",
            "Running iteration 48/100\n",
            "\u001b[1m30/30\u001b[0m \u001b[32m━━━━━━━━━━━━━━━━━━━━\u001b[0m\u001b[37m\u001b[0m \u001b[1m0s\u001b[0m 8ms/step\n",
            "Iteration 48 - Final Portfolio Value: 89.42180427510866, Accuracy: 0.3087460484720759, Hit Rate: 0.4896373056994819, Trades: 772\n",
            "Running iteration 49/100\n",
            "\u001b[1m30/30\u001b[0m \u001b[32m━━━━━━━━━━━━━━━━━━━━\u001b[0m\u001b[37m\u001b[0m \u001b[1m0s\u001b[0m 8ms/step\n",
            "Iteration 49 - Final Portfolio Value: 88.9140105419784, Accuracy: 0.3076923076923077, Hit Rate: 0.4909560723514212, Trades: 774\n",
            "Running iteration 50/100\n",
            "\u001b[1m30/30\u001b[0m \u001b[32m━━━━━━━━━━━━━━━━━━━━\u001b[0m\u001b[37m\u001b[0m \u001b[1m0s\u001b[0m 8ms/step\n",
            "Iteration 50 - Final Portfolio Value: 80.65352468731274, Accuracy: 0.2929399367755532, Hit Rate: 0.49029126213592233, Trades: 824\n",
            "Running iteration 51/100\n",
            "\u001b[1m30/30\u001b[0m \u001b[32m━━━━━━━━━━━━━━━━━━━━\u001b[0m\u001b[37m\u001b[0m \u001b[1m0s\u001b[0m 8ms/step\n",
            "Iteration 51 - Final Portfolio Value: 86.80858585375836, Accuracy: 0.3013698630136986, Hit Rate: 0.48941469489414696, Trades: 803\n",
            "Running iteration 52/100\n",
            "\u001b[1m30/30\u001b[0m \u001b[32m━━━━━━━━━━━━━━━━━━━━\u001b[0m\u001b[37m\u001b[0m \u001b[1m0s\u001b[0m 8ms/step\n",
            "Iteration 52 - Final Portfolio Value: 87.1844632920818, Accuracy: 0.3119072708113804, Hit Rate: 0.4873501997336884, Trades: 751\n",
            "Running iteration 53/100\n",
            "\u001b[1m30/30\u001b[0m \u001b[32m━━━━━━━━━━━━━━━━━━━━\u001b[0m\u001b[37m\u001b[0m \u001b[1m0s\u001b[0m 8ms/step\n",
            "Iteration 53 - Final Portfolio Value: 83.13043070472966, Accuracy: 0.3066385669125395, Hit Rate: 0.487468671679198, Trades: 798\n",
            "Running iteration 54/100\n",
            "\u001b[1m30/30\u001b[0m \u001b[32m━━━━━━━━━━━━━━━━━━━━\u001b[0m\u001b[37m\u001b[0m \u001b[1m0s\u001b[0m 8ms/step\n",
            "Iteration 54 - Final Portfolio Value: 94.99277044555774, Accuracy: 0.2950474183350896, Hit Rate: 0.5, Trades: 866\n",
            "Running iteration 55/100\n",
            "\u001b[1m30/30\u001b[0m \u001b[32m━━━━━━━━━━━━━━━━━━━━\u001b[0m\u001b[37m\u001b[0m \u001b[1m0s\u001b[0m 8ms/step\n",
            "Iteration 55 - Final Portfolio Value: 96.93971592226802, Accuracy: 0.303477344573235, Hit Rate: 0.4994124559341951, Trades: 851\n",
            "Running iteration 56/100\n",
            "\u001b[1m30/30\u001b[0m \u001b[32m━━━━━━━━━━━━━━━━━━━━\u001b[0m\u001b[37m\u001b[0m \u001b[1m0s\u001b[0m 8ms/step\n",
            "Iteration 56 - Final Portfolio Value: 90.34082939094165, Accuracy: 0.30031612223393045, Hit Rate: 0.49640287769784175, Trades: 834\n",
            "Running iteration 57/100\n",
            "\u001b[1m30/30\u001b[0m \u001b[32m━━━━━━━━━━━━━━━━━━━━\u001b[0m\u001b[37m\u001b[0m \u001b[1m0s\u001b[0m 8ms/step\n",
            "Iteration 57 - Final Portfolio Value: 89.08618240715762, Accuracy: 0.2971548998946259, Hit Rate: 0.4958968347010551, Trades: 853\n",
            "Running iteration 58/100\n",
            "\u001b[1m30/30\u001b[0m \u001b[32m━━━━━━━━━━━━━━━━━━━━\u001b[0m\u001b[37m\u001b[0m \u001b[1m0s\u001b[0m 8ms/step\n",
            "Iteration 58 - Final Portfolio Value: 93.31438518660445, Accuracy: 0.3013698630136986, Hit Rate: 0.49643705463182897, Trades: 842\n",
            "Running iteration 59/100\n",
            "\u001b[1m30/30\u001b[0m \u001b[32m━━━━━━━━━━━━━━━━━━━━\u001b[0m\u001b[37m\u001b[0m \u001b[1m0s\u001b[0m 8ms/step\n",
            "Iteration 59 - Final Portfolio Value: 85.42264248115856, Accuracy: 0.3066385669125395, Hit Rate: 0.48348745046235136, Trades: 757\n",
            "Running iteration 60/100\n",
            "\u001b[1m30/30\u001b[0m \u001b[32m━━━━━━━━━━━━━━━━━━━━\u001b[0m\u001b[37m\u001b[0m \u001b[1m0s\u001b[0m 8ms/step\n",
            "Iteration 60 - Final Portfolio Value: 90.46317352342209, Accuracy: 0.3055848261327713, Hit Rate: 0.49687108886107634, Trades: 799\n",
            "Running iteration 61/100\n",
            "\u001b[1m30/30\u001b[0m \u001b[32m━━━━━━━━━━━━━━━━━━━━\u001b[0m\u001b[37m\u001b[0m \u001b[1m0s\u001b[0m 8ms/step\n",
            "Iteration 61 - Final Portfolio Value: 92.33821426484974, Accuracy: 0.30979978925184404, Hit Rate: 0.4981132075471698, Trades: 795\n",
            "Running iteration 62/100\n",
            "\u001b[1m30/30\u001b[0m \u001b[32m━━━━━━━━━━━━━━━━━━━━\u001b[0m\u001b[37m\u001b[0m \u001b[1m0s\u001b[0m 8ms/step\n",
            "Iteration 62 - Final Portfolio Value: 80.76553932083957, Accuracy: 0.2929399367755532, Hit Rate: 0.47783251231527096, Trades: 812\n",
            "Running iteration 63/100\n",
            "\u001b[1m30/30\u001b[0m \u001b[32m━━━━━━━━━━━━━━━━━━━━\u001b[0m\u001b[37m\u001b[0m \u001b[1m0s\u001b[0m 8ms/step\n",
            "Iteration 63 - Final Portfolio Value: 93.91954096408506, Accuracy: 0.30242360379346683, Hit Rate: 0.4975845410628019, Trades: 828\n",
            "Running iteration 64/100\n",
            "\u001b[1m30/30\u001b[0m \u001b[32m━━━━━━━━━━━━━━━━━━━━\u001b[0m\u001b[37m\u001b[0m \u001b[1m0s\u001b[0m 8ms/step\n",
            "Iteration 64 - Final Portfolio Value: 82.08611192239758, Accuracy: 0.2929399367755532, Hit Rate: 0.48588957055214727, Trades: 815\n",
            "Running iteration 65/100\n",
            "\u001b[1m30/30\u001b[0m \u001b[32m━━━━━━━━━━━━━━━━━━━━\u001b[0m\u001b[37m\u001b[0m \u001b[1m0s\u001b[0m 8ms/step\n",
            "Iteration 65 - Final Portfolio Value: 94.4865264605233, Accuracy: 0.30031612223393045, Hit Rate: 0.4982164090368609, Trades: 841\n",
            "Running iteration 66/100\n",
            "\u001b[1m30/30\u001b[0m \u001b[32m━━━━━━━━━━━━━━━━━━━━\u001b[0m\u001b[37m\u001b[0m \u001b[1m0s\u001b[0m 8ms/step\n",
            "Iteration 66 - Final Portfolio Value: 87.03661187249648, Accuracy: 0.3108535300316122, Hit Rate: 0.49246231155778897, Trades: 796\n",
            "Running iteration 67/100\n",
            "\u001b[1m30/30\u001b[0m \u001b[32m━━━━━━━━━━━━━━━━━━━━\u001b[0m\u001b[37m\u001b[0m \u001b[1m0s\u001b[0m 8ms/step\n",
            "Iteration 67 - Final Portfolio Value: 86.64660716443996, Accuracy: 0.30453108535300316, Hit Rate: 0.4899497487437186, Trades: 796\n",
            "Running iteration 68/100\n",
            "\u001b[1m30/30\u001b[0m \u001b[32m━━━━━━━━━━━━━━━━━━━━\u001b[0m\u001b[37m\u001b[0m \u001b[1m0s\u001b[0m 8ms/step\n",
            "Iteration 68 - Final Portfolio Value: 90.91517373270926, Accuracy: 0.3150684931506849, Hit Rate: 0.49603174603174605, Trades: 756\n",
            "Running iteration 69/100\n",
            "\u001b[1m30/30\u001b[0m \u001b[32m━━━━━━━━━━━━━━━━━━━━\u001b[0m\u001b[37m\u001b[0m \u001b[1m0s\u001b[0m 8ms/step\n",
            "Iteration 69 - Final Portfolio Value: 80.1804396173882, Accuracy: 0.30242360379346683, Hit Rate: 0.47766749379652607, Trades: 806\n",
            "Running iteration 70/100\n",
            "\u001b[1m30/30\u001b[0m \u001b[32m━━━━━━━━━━━━━━━━━━━━\u001b[0m\u001b[37m\u001b[0m \u001b[1m0s\u001b[0m 8ms/step\n",
            "Iteration 70 - Final Portfolio Value: 93.15839500801292, Accuracy: 0.2992623814541623, Hit Rate: 0.49463647199046484, Trades: 839\n",
            "Running iteration 71/100\n",
            "\u001b[1m30/30\u001b[0m \u001b[32m━━━━━━━━━━━━━━━━━━━━\u001b[0m\u001b[37m\u001b[0m \u001b[1m0s\u001b[0m 8ms/step\n",
            "Iteration 71 - Final Portfolio Value: 96.66234900150187, Accuracy: 0.30031612223393045, Hit Rate: 0.5, Trades: 878\n",
            "Running iteration 72/100\n",
            "\u001b[1m30/30\u001b[0m \u001b[32m━━━━━━━━━━━━━━━━━━━━\u001b[0m\u001b[37m\u001b[0m \u001b[1m0s\u001b[0m 8ms/step\n",
            "Iteration 72 - Final Portfolio Value: 91.85198897079061, Accuracy: 0.3013698630136986, Hit Rate: 0.5005959475566151, Trades: 839\n",
            "Running iteration 73/100\n",
            "\u001b[1m30/30\u001b[0m \u001b[32m━━━━━━━━━━━━━━━━━━━━\u001b[0m\u001b[37m\u001b[0m \u001b[1m0s\u001b[0m 8ms/step\n",
            "Iteration 73 - Final Portfolio Value: 96.66215406864586, Accuracy: 0.3055848261327713, Hit Rate: 0.4988066825775656, Trades: 838\n",
            "Running iteration 74/100\n",
            "\u001b[1m30/30\u001b[0m \u001b[32m━━━━━━━━━━━━━━━━━━━━\u001b[0m\u001b[37m\u001b[0m \u001b[1m0s\u001b[0m 8ms/step\n",
            "Iteration 74 - Final Portfolio Value: 88.5846826330656, Accuracy: 0.3076923076923077, Hit Rate: 0.4949238578680203, Trades: 788\n",
            "Running iteration 75/100\n",
            "\u001b[1m30/30\u001b[0m \u001b[32m━━━━━━━━━━━━━━━━━━━━\u001b[0m\u001b[37m\u001b[0m \u001b[1m0s\u001b[0m 8ms/step\n",
            "Iteration 75 - Final Portfolio Value: 96.78170846784536, Accuracy: 0.2982086406743941, Hit Rate: 0.4988532110091743, Trades: 872\n",
            "Running iteration 76/100\n",
            "\u001b[1m30/30\u001b[0m \u001b[32m━━━━━━━━━━━━━━━━━━━━\u001b[0m\u001b[37m\u001b[0m \u001b[1m0s\u001b[0m 8ms/step\n",
            "Iteration 76 - Final Portfolio Value: 89.33749580055593, Accuracy: 0.3055848261327713, Hit Rate: 0.4981549815498155, Trades: 813\n",
            "Running iteration 77/100\n",
            "\u001b[1m30/30\u001b[0m \u001b[32m━━━━━━━━━━━━━━━━━━━━\u001b[0m\u001b[37m\u001b[0m \u001b[1m0s\u001b[0m 8ms/step\n",
            "Iteration 77 - Final Portfolio Value: 86.77231660256064, Accuracy: 0.30453108535300316, Hit Rate: 0.4919852034525277, Trades: 811\n",
            "Running iteration 78/100\n",
            "\u001b[1m30/30\u001b[0m \u001b[32m━━━━━━━━━━━━━━━━━━━━\u001b[0m\u001b[37m\u001b[0m \u001b[1m0s\u001b[0m 8ms/step\n",
            "Iteration 78 - Final Portfolio Value: 88.5939623669014, Accuracy: 0.3108535300316122, Hit Rate: 0.4934210526315789, Trades: 760\n",
            "Running iteration 79/100\n",
            "\u001b[1m30/30\u001b[0m \u001b[32m━━━━━━━━━━━━━━━━━━━━\u001b[0m\u001b[37m\u001b[0m \u001b[1m0s\u001b[0m 8ms/step\n",
            "Iteration 79 - Final Portfolio Value: 98.00322000943885, Accuracy: 0.30453108535300316, Hit Rate: 0.502944640753828, Trades: 849\n",
            "Running iteration 80/100\n",
            "\u001b[1m30/30\u001b[0m \u001b[32m━━━━━━━━━━━━━━━━━━━━\u001b[0m\u001b[37m\u001b[0m \u001b[1m0s\u001b[0m 8ms/step\n",
            "Iteration 80 - Final Portfolio Value: 90.43540486610559, Accuracy: 0.3013698630136986, Hit Rate: 0.49514563106796117, Trades: 824\n",
            "Running iteration 81/100\n",
            "\u001b[1m30/30\u001b[0m \u001b[32m━━━━━━━━━━━━━━━━━━━━\u001b[0m\u001b[37m\u001b[0m \u001b[1m0s\u001b[0m 8ms/step\n",
            "Iteration 81 - Final Portfolio Value: 94.70944633603037, Accuracy: 0.2992623814541623, Hit Rate: 0.5, Trades: 852\n",
            "Running iteration 82/100\n",
            "\u001b[1m30/30\u001b[0m \u001b[32m━━━━━━━━━━━━━━━━━━━━\u001b[0m\u001b[37m\u001b[0m \u001b[1m0s\u001b[0m 8ms/step\n",
            "Iteration 82 - Final Portfolio Value: 84.34550387706872, Accuracy: 0.2950474183350896, Hit Rate: 0.49466192170818507, Trades: 843\n",
            "Running iteration 83/100\n",
            "\u001b[1m30/30\u001b[0m \u001b[32m━━━━━━━━━━━━━━━━━━━━\u001b[0m\u001b[37m\u001b[0m \u001b[1m0s\u001b[0m 8ms/step\n",
            "Iteration 83 - Final Portfolio Value: 85.88060804179585, Accuracy: 0.30979978925184404, Hit Rate: 0.48677248677248675, Trades: 756\n",
            "Running iteration 84/100\n",
            "\u001b[1m30/30\u001b[0m \u001b[32m━━━━━━━━━━━━━━━━━━━━\u001b[0m\u001b[37m\u001b[0m \u001b[1m0s\u001b[0m 8ms/step\n",
            "Iteration 84 - Final Portfolio Value: 89.59980498070107, Accuracy: 0.29610115911485774, Hit Rate: 0.4946492271105826, Trades: 841\n",
            "Running iteration 85/100\n",
            "\u001b[1m30/30\u001b[0m \u001b[32m━━━━━━━━━━━━━━━━━━━━\u001b[0m\u001b[37m\u001b[0m \u001b[1m0s\u001b[0m 8ms/step\n",
            "Iteration 85 - Final Portfolio Value: 83.18597847506695, Accuracy: 0.2992623814541623, Hit Rate: 0.4836683417085427, Trades: 796\n",
            "Running iteration 86/100\n",
            "\u001b[1m30/30\u001b[0m \u001b[32m━━━━━━━━━━━━━━━━━━━━\u001b[0m\u001b[37m\u001b[0m \u001b[1m0s\u001b[0m 8ms/step\n",
            "Iteration 86 - Final Portfolio Value: 83.36050879448962, Accuracy: 0.30242360379346683, Hit Rate: 0.4791929382093317, Trades: 793\n",
            "Running iteration 87/100\n",
            "\u001b[1m30/30\u001b[0m \u001b[32m━━━━━━━━━━━━━━━━━━━━\u001b[0m\u001b[37m\u001b[0m \u001b[1m0s\u001b[0m 8ms/step\n",
            "Iteration 87 - Final Portfolio Value: 94.42833823191162, Accuracy: 0.30031612223393045, Hit Rate: 0.500587544065805, Trades: 851\n",
            "Running iteration 88/100\n",
            "\u001b[1m30/30\u001b[0m \u001b[32m━━━━━━━━━━━━━━━━━━━━\u001b[0m\u001b[37m\u001b[0m \u001b[1m0s\u001b[0m 8ms/step\n",
            "Iteration 88 - Final Portfolio Value: 97.03035375192698, Accuracy: 0.2992623814541623, Hit Rate: 0.4970896391152503, Trades: 859\n",
            "Running iteration 89/100\n",
            "\u001b[1m30/30\u001b[0m \u001b[32m━━━━━━━━━━━━━━━━━━━━\u001b[0m\u001b[37m\u001b[0m \u001b[1m0s\u001b[0m 8ms/step\n",
            "Iteration 89 - Final Portfolio Value: 90.95153560760988, Accuracy: 0.29610115911485774, Hit Rate: 0.4946871310507674, Trades: 847\n",
            "Running iteration 90/100\n",
            "\u001b[1m30/30\u001b[0m \u001b[32m━━━━━━━━━━━━━━━━━━━━\u001b[0m\u001b[37m\u001b[0m \u001b[1m0s\u001b[0m 8ms/step\n",
            "Iteration 90 - Final Portfolio Value: 87.21469419084397, Accuracy: 0.303477344573235, Hit Rate: 0.4921212121212121, Trades: 825\n",
            "Running iteration 91/100\n",
            "\u001b[1m30/30\u001b[0m \u001b[32m━━━━━━━━━━━━━━━━━━━━\u001b[0m\u001b[37m\u001b[0m \u001b[1m1s\u001b[0m 10ms/step\n",
            "Iteration 91 - Final Portfolio Value: 100.36478369982314, Accuracy: 0.2992623814541623, Hit Rate: 0.5087310826542492, Trades: 859\n",
            "Running iteration 92/100\n",
            "\u001b[1m30/30\u001b[0m \u001b[32m━━━━━━━━━━━━━━━━━━━━\u001b[0m\u001b[37m\u001b[0m \u001b[1m0s\u001b[0m 9ms/step\n",
            "Iteration 92 - Final Portfolio Value: 87.72712706959271, Accuracy: 0.30979978925184404, Hit Rate: 0.49433962264150944, Trades: 795\n",
            "Running iteration 93/100\n",
            "\u001b[1m30/30\u001b[0m \u001b[32m━━━━━━━━━━━━━━━━━━━━\u001b[0m\u001b[37m\u001b[0m \u001b[1m0s\u001b[0m 9ms/step\n",
            "Iteration 93 - Final Portfolio Value: 87.60635838729635, Accuracy: 0.2992623814541623, Hit Rate: 0.49524940617577196, Trades: 842\n",
            "Running iteration 94/100\n",
            "\u001b[1m30/30\u001b[0m \u001b[32m━━━━━━━━━━━━━━━━━━━━\u001b[0m\u001b[37m\u001b[0m \u001b[1m0s\u001b[0m 8ms/step\n",
            "Iteration 94 - Final Portfolio Value: 82.67281117122099, Accuracy: 0.3066385669125395, Hit Rate: 0.48564294631710364, Trades: 801\n",
            "Running iteration 95/100\n",
            "\u001b[1m30/30\u001b[0m \u001b[32m━━━━━━━━━━━━━━━━━━━━\u001b[0m\u001b[37m\u001b[0m \u001b[1m0s\u001b[0m 8ms/step\n",
            "Iteration 95 - Final Portfolio Value: 87.65668202282566, Accuracy: 0.2929399367755532, Hit Rate: 0.48933649289099523, Trades: 844\n",
            "Running iteration 96/100\n",
            "\u001b[1m30/30\u001b[0m \u001b[32m━━━━━━━━━━━━━━━━━━━━\u001b[0m\u001b[37m\u001b[0m \u001b[1m0s\u001b[0m 8ms/step\n",
            "Iteration 96 - Final Portfolio Value: 95.24576119468057, Accuracy: 0.30031612223393045, Hit Rate: 0.49644549763033174, Trades: 844\n",
            "Running iteration 97/100\n",
            "\u001b[1m30/30\u001b[0m \u001b[32m━━━━━━━━━━━━━━━━━━━━\u001b[0m\u001b[37m\u001b[0m \u001b[1m0s\u001b[0m 9ms/step\n",
            "Iteration 97 - Final Portfolio Value: 85.8900430017944, Accuracy: 0.3055848261327713, Hit Rate: 0.48894348894348894, Trades: 814\n",
            "Running iteration 98/100\n",
            "\u001b[1m30/30\u001b[0m \u001b[32m━━━━━━━━━━━━━━━━━━━━\u001b[0m\u001b[37m\u001b[0m \u001b[1m0s\u001b[0m 8ms/step\n",
            "Iteration 98 - Final Portfolio Value: 89.35677971048128, Accuracy: 0.3066385669125395, Hit Rate: 0.49433962264150944, Trades: 795\n",
            "Running iteration 99/100\n",
            "\u001b[1m30/30\u001b[0m \u001b[32m━━━━━━━━━━━━━━━━━━━━\u001b[0m\u001b[37m\u001b[0m \u001b[1m0s\u001b[0m 8ms/step\n",
            "Iteration 99 - Final Portfolio Value: 84.33884163774044, Accuracy: 0.303477344573235, Hit Rate: 0.4819121447028424, Trades: 774\n",
            "Running iteration 100/100\n",
            "\u001b[1m30/30\u001b[0m \u001b[32m━━━━━━━━━━━━━━━━━━━━\u001b[0m\u001b[37m\u001b[0m \u001b[1m0s\u001b[0m 8ms/step\n",
            "Iteration 100 - Final Portfolio Value: 91.07360418592569, Accuracy: 0.31401475237091675, Hit Rate: 0.49809885931558934, Trades: 789\n",
            "Average Final Portfolio Value:\n",
            "89.7758879889213\n",
            "Standard Deviation of Final Values:\n",
            "4.61491539406169\n",
            "Average Accuracy:\n",
            "0.3045626975763962\n",
            "Average Hit Rate:\n",
            "0.49368217695086647\n",
            "Average No. of Trades:\n",
            "809.6\n"
          ]
        }
      ]
    },
    {
      "cell_type": "code",
      "source": [],
      "metadata": {
        "id": "jE73cqIIWBKo"
      },
      "execution_count": null,
      "outputs": []
    }
  ],
  "metadata": {
    "kernelspec": {
      "display_name": "Python 3",
      "name": "python3"
    },
    "language_info": {
      "codemirror_mode": {
        "name": "ipython",
        "version": 3
      },
      "file_extension": ".py",
      "mimetype": "text/x-python",
      "name": "python",
      "nbconvert_exporter": "python",
      "pygments_lexer": "ipython3",
      "version": "3.11.6"
    },
    "colab": {
      "provenance": [],
      "machine_shape": "hm",
      "gpuType": "L4"
    },
    "accelerator": "GPU"
  },
  "nbformat": 4,
  "nbformat_minor": 0
}