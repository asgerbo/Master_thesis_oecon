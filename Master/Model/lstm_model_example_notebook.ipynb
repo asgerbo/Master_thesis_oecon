{
 "cells": [
  {
   "cell_type": "markdown",
   "metadata": {},
   "source": [
    "#### Importing neccessary libraries \n",
    "\n",
    "1. **Numpy** for *linear algebra*\n",
    "2. **Pandas** for reading csv files and DataFrame handling\n",
    "3. **Tensorflow** for *machine learning*\n",
    "4. **Keras** for defining the *LSTM model architecture* and regularization\n",
    "5. Functions such as **train_test_split** for dividing the dataset into training and test set and **GridSearchCV** to tune hyperparameters across a grid of values.\n",
    "6. **MinMaxScaler** to scale the variable values to a range of $[0,1]$.  \n",
    "7. **matplotlib** for plotting results\n",
    "8. **logging** for errors."
   ]
  },
  {
   "cell_type": "code",
   "execution_count": 99,
   "metadata": {},
   "outputs": [],
   "source": [
    "import numpy as np\n",
    "import pandas as pd\n",
    "import tensorflow as tf\n",
    "from keras.models import Sequential\n",
    "from keras.layers import Dense, LSTM, Dropout\n",
    "from sklearn.model_selection import train_test_split, GridSearchCV\n",
    "from sklearn.preprocessing import MinMaxScaler\n",
    "from itertools import product\n",
    "import matplotlib.pyplot as plt\n",
    "import logging"
   ]
  },
  {
   "cell_type": "markdown",
   "metadata": {},
   "source": [
    "Configuration of logging:"
   ]
  },
  {
   "cell_type": "code",
   "execution_count": 100,
   "metadata": {},
   "outputs": [],
   "source": [
    "logging.basicConfig(level = logging.INFO, format = '%(asctime)s - %(levelname)s - %(message)s')"
   ]
  },
  {
   "cell_type": "markdown",
   "metadata": {},
   "source": [
    "Since the model is run in Google Colab with an external GPU for increased computational ability the device which is used needs to be defined:"
   ]
  },
  {
   "cell_type": "code",
   "execution_count": 101,
   "metadata": {},
   "outputs": [
    {
     "name": "stderr",
     "output_type": "stream",
     "text": [
      "2024-05-22 11:23:44.843911: I tensorflow/core/common_runtime/pluggable_device/pluggable_device_factory.cc:306] Could not identify NUMA node of platform GPU ID 0, defaulting to 0. Your kernel may not have been built with NUMA support.\n",
      "2024-05-22 11:23:44.843989: I tensorflow/core/common_runtime/pluggable_device/pluggable_device_factory.cc:272] Created TensorFlow device (/device:GPU:0 with 0 MB memory) -> physical PluggableDevice (device: 0, name: METAL, pci bus id: <undefined>)\n"
     ]
    }
   ],
   "source": [
    "device_name = tf.test.gpu_device_name()\n",
    "if device_name != '/device:GPU:0':\n",
    "    logging.warning('GPU device not found. Use CPU instead')\n",
    "else:\n",
    "    logging.info(f'Found GPU at: {device_name}')"
   ]
  },
  {
   "cell_type": "code",
   "execution_count": 102,
   "metadata": {},
   "outputs": [],
   "source": [
    "logging.info('Loading dataset...')\n",
    "\n",
    "file_path = '/Users/asger/Documents/GitHub/Deep_Learning_Techniques/Master/Data/macrovariables_featured.csv'\n",
    "df = pd.read_csv(file_path)\n",
    "dataset = df.values[:, 1:].astype('float32') # Later this can be changed to float64 for further precision.\n",
    "\n",
    "diff = dataset[:,:1]"
   ]
  },
  {
   "cell_type": "code",
   "execution_count": 103,
   "metadata": {},
   "outputs": [],
   "source": [
    "# Define a function to categorize the percent change\n",
    "def categorize_diff(diff):\n",
    "    if diff > 0.001:\n",
    "        return 0  # Price rises\n",
    "    elif diff < -0.001:\n",
    "        return 2  # Price falls\n",
    "    else:\n",
    "        return 1  # Price stays the same\n",
    "\n",
    "# Apply the function to y_diff to get the categories\n",
    "logging.info('Categorizing percent change...')\n",
    "y_categories = np.array([categorize_diff(pc) for pc in diff])\n",
    "\n",
    "# Normalizing dataset\n",
    "logging.info('Normalizing dataset...')\n",
    "scaler = MinMaxScaler(feature_range=(0, 1))\n",
    "dataset = scaler.fit_transform(dataset[:, 1:])"
   ]
  },
  {
   "cell_type": "code",
   "execution_count": 104,
   "metadata": {},
   "outputs": [],
   "source": [
    "# Function to convert an array of values into a dataset matrix\n",
    "def create_dataset(data, look_back=1):\n",
    "    X, y = [], []\n",
    "    for i in range(len(data) - look_back):\n",
    "        X.append(data[i:(i + look_back), :])\n",
    "        y.append(y_categories[i + look_back])\n",
    "    return np.array(X), np.array(y)\n",
    "\n",
    "# Defining the no. of time steps\n",
    "time_steps = 15\n",
    "\n",
    "# Create dataset\n",
    "logging.info('Creating dataset...')\n",
    "X, y = create_dataset(dataset, time_steps)\n",
    "\n",
    "# Reshaping design matrix into a 3D tensor (samples, timesteps, features)\n",
    "logging.info('Reshaping input...')\n",
    "X_tensor = np.reshape(X, (X.shape[0], time_steps, X.shape[2]))\n",
    "\n",
    "# Splitting the dataset into training and testing\n",
    "logging.info('Splitting dataset...')\n",
    "X_train, X_test, y_train, y_test = train_test_split(X_tensor, y, test_size=0.2, shuffle=False)"
   ]
  },
  {
   "cell_type": "code",
   "execution_count": 121,
   "metadata": {},
   "outputs": [],
   "source": [
    "# Use a small subset of the data for the grid search\n",
    "subset_size = int(0.02 * len(X_train))\n",
    "X_train_subset, y_train_subset = X_train[:subset_size], y_train[:subset_size]\n",
    "\n",
    "# Reshape the subset data for grid search\n",
    "X_train_subset_flat = X_train_subset.reshape(X_train_subset.shape[0], -1)"
   ]
  },
  {
   "cell_type": "markdown",
   "metadata": {},
   "source": [
    "Defining a function to define the model architecture:"
   ]
  },
  {
   "cell_type": "code",
   "execution_count": 122,
   "metadata": {},
   "outputs": [],
   "source": [
    "def lstm_model(lstm_nodes=64, dropout_rate=0.2, optimizer='adam', hidden_layers=1):\n",
    "    model = Sequential()\n",
    "    model.add(LSTM(lstm_nodes, input_shape=(time_steps, X_train.shape[2]), return_sequences=(hidden_layers > 1)))\n",
    "    model.add(Dropout(dropout_rate))\n",
    "\n",
    "    for i in range(hidden_layers - 1):\n",
    "        model.add(LSTM(lstm_nodes, return_sequences=(i != hidden_layers - 2)))\n",
    "        model.add(Dropout(dropout_rate))\n",
    "\n",
    "    model.add(Dense(3, activation='softmax'))  # Output layer with softmax activation\n",
    "    model.compile(optimizer=optimizer, loss='sparse_categorical_crossentropy', metrics=['accuracy'])\n",
    "    return model"
   ]
  },
  {
   "cell_type": "markdown",
   "metadata": {},
   "source": [
    "Before diving into Google Colab lets define a small subset of the data for the grid search in order to figure out whether or not it will run once in Google Colab:"
   ]
  },
  {
   "cell_type": "code",
   "execution_count": 123,
   "metadata": {},
   "outputs": [],
   "source": [
    "# Define the grid search parameters\n",
    "param_grid = {\n",
    "    'lstm_nodes': [32, 64, 128],\n",
    "    'dropout_rate1': [0.2, 0,4, 0.6],\n",
    "    'dropout_rate2': [0.2, 0.4, 0.6],\n",
    "    'hidden_layers': [1, 2, 3],\n",
    "    'batch_size': [32, 64, 128],\n",
    "    'epochs': [20, 40, 60]\n",
    "}"
   ]
  },
  {
   "cell_type": "markdown",
   "metadata": {},
   "source": [
    "Performing the grid using the previously imported functions:"
   ]
  },
  {
   "cell_type": "code",
   "execution_count": 124,
   "metadata": {},
   "outputs": [],
   "source": [
    "# Manual grid search\n",
    "best_score = 0\n",
    "best_params = {}\n",
    "\n",
    "logging.info('Starting manual grid search...')\n",
    "# Number of fits: 32\n",
    "for lstm_nodes, dropout_rate1, dropout_rate2, hidden_layers, batch_size, epochs in product(\n",
    "        param_grid['lstm_nodes'],\n",
    "        param_grid['dropout_rate1'],\n",
    "        param_grid['dropout_rate2'],\n",
    "        param_grid['hidden_layers'],\n",
    "        param_grid['batch_size'],\n",
    "        param_grid['epochs']):\n",
    "    \n",
    "    model = lstm_model(lstm_nodes, dropout_rate1, dropout_rate2, 'adam', hidden_layers)\n",
    "    \n",
    "    history = model.fit(X_train_subset, y_train_subset, epochs=epochs, batch_size=batch_size, verbose=0, validation_split=0.2)\n",
    "    score = model.evaluate(X_test, y_test, verbose=0)[1]\n",
    "    \n",
    "    logging.info(f\"Params: {lstm_nodes}, {dropout_rate1}, {dropout_rate2}, {hidden_layers}, {batch_size}, {epochs} - Score: {score}\")\n",
    "    \n",
    "    if score > best_score:\n",
    "        best_score = score\n",
    "        best_params = {\n",
    "            'lstm_nodes': lstm_nodes,\n",
    "            'dropout_rate1': dropout_rate1,\n",
    "            'dropout_rate2': dropout_rate2,\n",
    "            'hidden_layers': hidden_layers,\n",
    "            'batch_size': batch_size,\n",
    "            'epochs': epochs\n",
    "        }\n",
    "\n",
    "logging.info(f\"Best score: {best_score} with params: {best_params}\")"
   ]
  },
  {
   "cell_type": "code",
   "execution_count": null,
   "metadata": {},
   "outputs": [],
   "source": [
    "logging.info('Training final model with best parameters...')\n",
    "final_model = lstm_model(lstm_nodes=best_params['lstm_nodes'],\n",
    "                           dropout_rate1=best_params['dropout_rate1'],\n",
    "                           dropout_rate2=best_params['dropout_rate2'],\n",
    "                           optimizer='adam',\n",
    "                           hidden_layers=best_params['hidden_layers'])\n",
    "\n",
    "history = final_model.fit(X_train, y_train, epochs=best_params['epochs'], batch_size=best_params['batch_size'], validation_data=(X_test, y_test))"
   ]
  },
  {
   "cell_type": "code",
   "execution_count": 127,
   "metadata": {},
   "outputs": [
    {
     "data": {
      "image/png": "[encoded data removed]",
      "text/plain": [
       "<Figure size 640x480 with 1 Axes>"
      ]
     },
     "metadata": {},
     "output_type": "display_data"
    }
   ],
   "source": [
    "# Plot training & validation loss values\n",
    "plt.plot(history.history['loss'])\n",
    "plt.plot(history.history['val_loss'])\n",
    "plt.title('Model loss')\n",
    "plt.ylabel('Loss')\n",
    "plt.xlabel('Epoch')\n",
    "plt.legend(['Train', 'Test'], loc='upper left')\n",
    "plt.show()"
   ]
  },
  {
   "cell_type": "code",
   "execution_count": null,
   "metadata": {},
   "outputs": [],
   "source": []
  }
 ],
 "metadata": {
  "kernelspec": {
   "display_name": "base",
   "language": "python",
   "name": "python3"
  },
  "language_info": {
   "codemirror_mode": {
    "name": "ipython",
    "version": 3
   },
   "file_extension": ".py",
   "mimetype": "text/x-python",
   "name": "python",
   "nbconvert_exporter": "python",
   "pygments_lexer": "ipython3",
   "version": "3.11.6"
  }
 },
 "nbformat": 4,
 "nbformat_minor": 2
}
