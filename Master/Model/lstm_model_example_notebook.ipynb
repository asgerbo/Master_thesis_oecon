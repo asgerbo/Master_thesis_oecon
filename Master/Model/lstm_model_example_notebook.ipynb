{
 "cells": [
  {
   "cell_type": "markdown",
   "metadata": {},
   "source": [
    "#### Importing neccessary libraries \n",
    "\n",
    "1. **Numpy** for *linear algebra*\n",
    "2. **Pandas** for reading csv files and DataFrame handling\n",
    "3. **Tensorflow** for *machine learning*\n",
    "4. **Keras** for defining the *LSTM model architecture* and regularization\n",
    "5. Functions such as **train_test_split** for dividing the dataset into training and test set and **GridSearchCV** to tune hyperparameters across a grid of values.\n",
    "6. **MinMaxScaler** to scale the variable values to a range of $[0,1]$.  \n",
    "7. **matplotlib** for plotting results\n",
    "8. **logging** for errors."
   ]
  },
  {
   "cell_type": "code",
   "execution_count": 149,
   "metadata": {},
   "outputs": [],
   "source": [
    "import numpy as np\n",
    "import pandas as pd\n",
    "import tensorflow as tf\n",
    "from keras.models import Sequential\n",
    "from keras.layers import Dense, LSTM, Dropout\n",
    "from sklearn.model_selection import train_test_split, GridSearchCV\n",
    "from tensorflow.keras.callbacks import EarlyStopping\n",
    "from sklearn.preprocessing import MinMaxScaler\n",
    "from itertools import product\n",
    "import matplotlib.pyplot as plt\n",
    "import logging"
   ]
  },
  {
   "cell_type": "markdown",
   "metadata": {},
   "source": [
    "Configuration of logging:"
   ]
  },
  {
   "cell_type": "code",
   "execution_count": 150,
   "metadata": {},
   "outputs": [],
   "source": [
    "logging.basicConfig(level = logging.INFO, format = '%(asctime)s - %(levelname)s - %(message)s')"
   ]
  },
  {
   "cell_type": "markdown",
   "metadata": {},
   "source": [
    "Since the model is run in Google Colab with an external GPU for increased computational ability the device which is used needs to be defined:"
   ]
  },
  {
   "cell_type": "code",
   "execution_count": 151,
   "metadata": {},
   "outputs": [
    {
     "name": "stderr",
     "output_type": "stream",
     "text": [
      "2024-05-22 12:29:13.751397: I tensorflow/core/common_runtime/pluggable_device/pluggable_device_factory.cc:306] Could not identify NUMA node of platform GPU ID 0, defaulting to 0. Your kernel may not have been built with NUMA support.\n",
      "2024-05-22 12:29:13.751412: I tensorflow/core/common_runtime/pluggable_device/pluggable_device_factory.cc:272] Created TensorFlow device (/device:GPU:0 with 0 MB memory) -> physical PluggableDevice (device: 0, name: METAL, pci bus id: <undefined>)\n"
     ]
    }
   ],
   "source": [
    "device_name = tf.test.gpu_device_name()\n",
    "if device_name != '/device:GPU:0':\n",
    "    logging.warning('GPU device not found. Use CPU instead')\n",
    "else:\n",
    "    logging.info(f'Found GPU at: {device_name}')"
   ]
  },
  {
   "cell_type": "code",
   "execution_count": 152,
   "metadata": {},
   "outputs": [],
   "source": [
    "logging.info('Loading dataset...')\n",
    "\n",
    "file_path = '/Users/asger/Documents/GitHub/Deep_Learning_Techniques/Master/Data/macrovariables_featured.csv'\n",
    "df = pd.read_csv(file_path)\n",
    "dataset = df.values[:, 1:].astype('float64') # Later this can be changed to float64 for further precision.\n",
    "\n",
    "diff = dataset[:,:1]"
   ]
  },
  {
   "cell_type": "code",
   "execution_count": 173,
   "metadata": {},
   "outputs": [],
   "source": [
    "# Define a function to categorize the percent change\n",
    "def categorize_diff(diff):\n",
    "    if diff < 0.001:\n",
    "        return 0  # Price falls\n",
    "    elif diff > -0.001:\n",
    "        return 2  # Price rises\n",
    "    else:\n",
    "        return 1  # Price stays the same\n",
    "\n",
    "# Apply the function to y_diff to get the categories\n",
    "logging.info('Categorizing percent change...')\n",
    "y_categories = np.array([categorize_diff(pc) for pc in diff])\n",
    "\n",
    "# Normalizing dataset\n",
    "logging.info('Normalizing dataset...')\n",
    "scaler = MinMaxScaler(feature_range=(0, 1))\n",
    "scaled_series = scaler.fit_transform(dataset[:, 1:])"
   ]
  },
  {
   "cell_type": "code",
   "execution_count": 154,
   "metadata": {},
   "outputs": [],
   "source": [
    "# Function to convert an array of values into a dataset matrix\n",
    "def create_dataset(data, time_steps=1):\n",
    "    X, y = [], []\n",
    "    for i in range(len(data) - time_steps):\n",
    "        X.append(data[i:(i + time_steps), :])\n",
    "        y.append(y_categories[i + time_steps])\n",
    "    return np.array(X), np.array(y)"
   ]
  },
  {
   "cell_type": "code",
   "execution_count": 155,
   "metadata": {},
   "outputs": [],
   "source": [
    "# Define the grid search parameters\n",
    "param_grid = {\n",
    "    'time_steps': [10, 15, 20], # The sequencing\n",
    "    'lstm_nodes': [32, 64], # No. of nodes to use in the LSTM layer\n",
    "    'dropout_rate1': [0.1, 0.2], # Dropout rate for the first dropout layer\n",
    "    'dropout_rate2': [0.1, 0.2], # Second dropout layer\n",
    "    'hidden_layers': [1, 2], # No. of hidden layers\n",
    "    'batch_size': [16, 32], # The batch size\n",
    "    'epochs': [10, 20] # No. of epochs\n",
    "}"
   ]
  },
  {
   "cell_type": "markdown",
   "metadata": {},
   "source": [
    "Defining a function to define the model architecture:"
   ]
  },
  {
   "cell_type": "code",
   "execution_count": 156,
   "metadata": {},
   "outputs": [],
   "source": [
    "# Function to create the model with different dropout rates\n",
    "def lstm_model(time_steps=15, lstm_nodes=64, dropout_rate1=0.2, dropout_rate2=0.2, optimizer='adam', hidden_layers=1):\n",
    "    model = Sequential()\n",
    "    model.add(LSTM(lstm_nodes, input_shape=(time_steps, X_train.shape[2]), return_sequences=(hidden_layers > 1)))\n",
    "    model.add(Dropout(dropout_rate1))\n",
    "\n",
    "    for i in range(hidden_layers - 1):\n",
    "        model.add(LSTM(lstm_nodes, return_sequences=(i != hidden_layers - 2)))\n",
    "        model.add(Dropout(dropout_rate2))\n",
    "\n",
    "    model.add(Dense(3, activation='softmax'))  # Output layer with softmax activation\n",
    "    model.compile(optimizer=optimizer, loss='sparse_categorical_crossentropy', metrics=['accuracy'])\n",
    "    return model"
   ]
  },
  {
   "cell_type": "markdown",
   "metadata": {},
   "source": [
    "Before diving into Google Colab lets define a small subset of the data for the grid search in order to figure out whether or not it will run once in Google Colab:"
   ]
  },
  {
   "cell_type": "code",
   "execution_count": 158,
   "metadata": {},
   "outputs": [],
   "source": [
    "# Manual grid search\n",
    "best_score = 0\n",
    "best_params = {}\n",
    "\n",
    "logging.info('Starting manual grid search...')\n",
    "# Calculate number of fits\n",
    "num_fits = len(param_grid['time_steps']) * len(param_grid['lstm_nodes']) * len(param_grid['dropout_rate1']) * len(param_grid['dropout_rate2']) * len(param_grid['hidden_layers']) * len(param_grid['batch_size']) * len(param_grid['epochs'])\n",
    "logging.info(f'Number of fits: {num_fits}')\n",
    "\n",
    "# Iterate over all combinations of hyperparameters\n",
    "for time_steps, lstm_nodes, dropout_rate1, dropout_rate2, hidden_layers, batch_size, epochs in product(\n",
    "        param_grid['time_steps'],\n",
    "        param_grid['lstm_nodes'],\n",
    "        param_grid['dropout_rate1'],\n",
    "        param_grid['dropout_rate2'],\n",
    "        param_grid['hidden_layers'],\n",
    "        param_grid['batch_size'],\n",
    "        param_grid['epochs']):\n",
    "    \n",
    "    # Create dataset with current time_steps\n",
    "    logging.info(f'Creating dataset with time_steps={time_steps}...')\n",
    "    X, y = create_dataset(dataset, time_steps)\n",
    "    \n",
    "    # Reshaping design matrix into a 3D tensor (samples, timesteps, features)\n",
    "    logging.info('Reshaping input...')\n",
    "    X_tensor = np.reshape(X, (X.shape[0], time_steps, X.shape[2]))\n",
    "    \n",
    "    # Splitting the dataset into training and testing\n",
    "    logging.info('Splitting dataset...')\n",
    "    X_train, X_test, y_train, y_test = train_test_split(X_tensor, y, test_size=0.2, shuffle=False)\n",
    "    \n",
    "    # Use a small subset of the data for the grid search\n",
    "    subset_size = int(0.01 * len(X_train))\n",
    "    X_train_subset, y_train_subset = X_train[:subset_size], y_train[:subset_size]\n",
    "\n",
    "    model = lstm_model(time_steps, lstm_nodes, dropout_rate1, dropout_rate2, 'adam', hidden_layers)\n",
    "    \n",
    "    history = model.fit(X_train_subset, y_train_subset, epochs=epochs, batch_size=batch_size, verbose=0, validation_split=0.2)\n",
    "    score = model.evaluate(X_test, y_test, verbose=0)[1]\n",
    "    \n",
    "    logging.info(f\"Params: {time_steps}, {lstm_nodes}, {dropout_rate1}, {dropout_rate2}, {hidden_layers}, {batch_size}, {epochs} - Score: {score}\")\n",
    "    \n",
    "    if score > best_score:\n",
    "        best_score = score\n",
    "        best_params = {\n",
    "            'time_steps': time_steps,\n",
    "            'lstm_nodes': lstm_nodes,\n",
    "            'dropout_rate1': dropout_rate1,\n",
    "            'dropout_rate2': dropout_rate2,\n",
    "            'hidden_layers': hidden_layers,\n",
    "            'batch_size': batch_size,\n",
    "            'epochs': epochs\n",
    "        }\n",
    "\n",
    "logging.info(f\"Best score: {best_score} with params: {best_params}\")"
   ]
  },
  {
   "cell_type": "code",
   "execution_count": null,
   "metadata": {},
   "outputs": [],
   "source": [
    "# Pring amount of fits and parameters"
   ]
  },
  {
   "cell_type": "markdown",
   "metadata": {},
   "source": [
    "Performing the grid using the previously imported functions:"
   ]
  },
  {
   "cell_type": "code",
   "execution_count": 174,
   "metadata": {},
   "outputs": [
    {
     "ename": "ValueError",
     "evalue": "cannot reshape array of size 1516480 into shape (4739,20,1)",
     "output_type": "error",
     "traceback": [
      "\u001b[0;31m---------------------------------------------------------------------------\u001b[0m",
      "\u001b[0;31mValueError\u001b[0m                                Traceback (most recent call last)",
      "Cell \u001b[0;32mIn[174], line 5\u001b[0m\n\u001b[1;32m      3\u001b[0m time_steps \u001b[38;5;241m=\u001b[39m best_params[\u001b[38;5;124m'\u001b[39m\u001b[38;5;124mtime_steps\u001b[39m\u001b[38;5;124m'\u001b[39m]\n\u001b[1;32m      4\u001b[0m X, y \u001b[38;5;241m=\u001b[39m create_dataset(scaled_series, time_steps)\n\u001b[0;32m----> 5\u001b[0m X_tensor \u001b[38;5;241m=\u001b[39m np\u001b[38;5;241m.\u001b[39mreshape(X, (X\u001b[38;5;241m.\u001b[39mshape[\u001b[38;5;241m0\u001b[39m], time_steps, \u001b[38;5;241m1\u001b[39m))\n\u001b[1;32m      6\u001b[0m X_train, X_test, y_train, y_test \u001b[38;5;241m=\u001b[39m train_test_split(X_tensor, y, test_size\u001b[38;5;241m=\u001b[39m\u001b[38;5;241m0.2\u001b[39m, shuffle\u001b[38;5;241m=\u001b[39m\u001b[38;5;28;01mFalse\u001b[39;00m)\n\u001b[1;32m      8\u001b[0m subset_size \u001b[38;5;241m=\u001b[39m \u001b[38;5;28mint\u001b[39m(\u001b[38;5;241m0.01\u001b[39m \u001b[38;5;241m*\u001b[39m \u001b[38;5;28mlen\u001b[39m(X_train))\n",
      "File \u001b[0;32m<__array_function__ internals>:200\u001b[0m, in \u001b[0;36mreshape\u001b[0;34m(*args, **kwargs)\u001b[0m\n",
      "File \u001b[0;32m~/anaconda3/lib/python3.11/site-packages/numpy/core/fromnumeric.py:298\u001b[0m, in \u001b[0;36mreshape\u001b[0;34m(a, newshape, order)\u001b[0m\n\u001b[1;32m    198\u001b[0m \u001b[38;5;129m@array_function_dispatch\u001b[39m(_reshape_dispatcher)\n\u001b[1;32m    199\u001b[0m \u001b[38;5;28;01mdef\u001b[39;00m \u001b[38;5;21mreshape\u001b[39m(a, newshape, order\u001b[38;5;241m=\u001b[39m\u001b[38;5;124m'\u001b[39m\u001b[38;5;124mC\u001b[39m\u001b[38;5;124m'\u001b[39m):\n\u001b[1;32m    200\u001b[0m \u001b[38;5;250m    \u001b[39m\u001b[38;5;124;03m\"\"\"\u001b[39;00m\n\u001b[1;32m    201\u001b[0m \u001b[38;5;124;03m    Gives a new shape to an array without changing its data.\u001b[39;00m\n\u001b[1;32m    202\u001b[0m \n\u001b[0;32m   (...)\u001b[0m\n\u001b[1;32m    296\u001b[0m \u001b[38;5;124;03m           [5, 6]])\u001b[39;00m\n\u001b[1;32m    297\u001b[0m \u001b[38;5;124;03m    \"\"\"\u001b[39;00m\n\u001b[0;32m--> 298\u001b[0m     \u001b[38;5;28;01mreturn\u001b[39;00m _wrapfunc(a, \u001b[38;5;124m'\u001b[39m\u001b[38;5;124mreshape\u001b[39m\u001b[38;5;124m'\u001b[39m, newshape, order\u001b[38;5;241m=\u001b[39morder)\n",
      "File \u001b[0;32m~/anaconda3/lib/python3.11/site-packages/numpy/core/fromnumeric.py:57\u001b[0m, in \u001b[0;36m_wrapfunc\u001b[0;34m(obj, method, *args, **kwds)\u001b[0m\n\u001b[1;32m     54\u001b[0m     \u001b[38;5;28;01mreturn\u001b[39;00m _wrapit(obj, method, \u001b[38;5;241m*\u001b[39margs, \u001b[38;5;241m*\u001b[39m\u001b[38;5;241m*\u001b[39mkwds)\n\u001b[1;32m     56\u001b[0m \u001b[38;5;28;01mtry\u001b[39;00m:\n\u001b[0;32m---> 57\u001b[0m     \u001b[38;5;28;01mreturn\u001b[39;00m bound(\u001b[38;5;241m*\u001b[39margs, \u001b[38;5;241m*\u001b[39m\u001b[38;5;241m*\u001b[39mkwds)\n\u001b[1;32m     58\u001b[0m \u001b[38;5;28;01mexcept\u001b[39;00m \u001b[38;5;167;01mTypeError\u001b[39;00m:\n\u001b[1;32m     59\u001b[0m     \u001b[38;5;66;03m# A TypeError occurs if the object does have such a method in its\u001b[39;00m\n\u001b[1;32m     60\u001b[0m     \u001b[38;5;66;03m# class, but its signature is not identical to that of NumPy's. This\u001b[39;00m\n\u001b[0;32m   (...)\u001b[0m\n\u001b[1;32m     64\u001b[0m     \u001b[38;5;66;03m# Call _wrapit from within the except clause to ensure a potential\u001b[39;00m\n\u001b[1;32m     65\u001b[0m     \u001b[38;5;66;03m# exception has a traceback chain.\u001b[39;00m\n\u001b[1;32m     66\u001b[0m     \u001b[38;5;28;01mreturn\u001b[39;00m _wrapit(obj, method, \u001b[38;5;241m*\u001b[39margs, \u001b[38;5;241m*\u001b[39m\u001b[38;5;241m*\u001b[39mkwds)\n",
      "\u001b[0;31mValueError\u001b[0m: cannot reshape array of size 1516480 into shape (4739,20,1)"
     ]
    }
   ],
   "source": [
    "# Training Final Model with Best Parameters using Subset of Data\n",
    "logging.info('Training final model with best parameters using subset of data...')\n",
    "time_steps = best_params['time_steps']\n",
    "X, y = create_dataset(scaled_series, time_steps)\n",
    "X_tensor = np.reshape(X, (X.shape[0], time_steps, 1))\n",
    "X_train, X_test, y_train, y_test = train_test_split(X_tensor, y, test_size=0.2, shuffle=False)\n",
    "\n",
    "subset_size = int(0.01 * len(X_train))\n",
    "X_train_subset, y_train_subset = X_train[:subset_size], y_train[:subset_size]\n",
    "\n",
    "final_model = lstm_model(\n",
    "    lstm_nodes=best_params['lstm_nodes'],\n",
    "    dropout_rate1=best_params['dropout_rate1'],\n",
    "    dropout_rate2=best_params['dropout_rate2'],\n",
    "    optimizer='adam',\n",
    "    hidden_layers=best_params['hidden_layers'],\n",
    "    time_steps=best_params['time_steps']\n",
    ")\n",
    "\n",
    "history = final_model.fit(\n",
    "    X_train_subset, y_train_subset,\n",
    "    epochs=best_params['epochs'],\n",
    "    batch_size=best_params['batch_size'],\n",
    "    validation_data=(X_test, y_test),\n",
    "    callbacks=[EarlyStopping(monitor='val_loss', patience=10)]\n",
    ")"
   ]
  },
  {
   "cell_type": "code",
   "execution_count": 159,
   "metadata": {},
   "outputs": [
    {
     "data": {
      "image/png": "[encoded data removed]",
      "text/plain": [
       "<Figure size 640x480 with 1 Axes>"
      ]
     },
     "metadata": {},
     "output_type": "display_data"
    }
   ],
   "source": [
    "# Plot training & validation loss values\n",
    "plt.plot(history.history['loss'])\n",
    "plt.plot(history.history['val_loss'])\n",
    "plt.title('Model loss')\n",
    "plt.ylabel('Loss')\n",
    "plt.xlabel('Epoch')\n",
    "plt.legend(['Train', 'Test'], loc='upper left')\n",
    "plt.show()"
   ]
  },
  {
   "cell_type": "code",
   "execution_count": null,
   "metadata": {},
   "outputs": [],
   "source": []
  }
 ],
 "metadata": {
  "kernelspec": {
   "display_name": "base",
   "language": "python",
   "name": "python3"
  },
  "language_info": {
   "codemirror_mode": {
    "name": "ipython",
    "version": 3
   },
   "file_extension": ".py",
   "mimetype": "text/x-python",
   "name": "python",
   "nbconvert_exporter": "python",
   "pygments_lexer": "ipython3",
   "version": "3.11.6"
  }
 },
 "nbformat": 4,
 "nbformat_minor": 2
}
