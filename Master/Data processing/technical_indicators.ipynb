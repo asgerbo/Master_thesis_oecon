{
 "cells": [
  {
   "cell_type": "code",
   "execution_count": null,
   "metadata": {},
   "outputs": [],
   "source": [
    "import pandas as pd\n",
    "import ta\n",
    "import numpy as np\n",
    "import pandas as pd"
   ]
  },
  {
   "cell_type": "code",
   "execution_count": null,
   "metadata": {},
   "outputs": [],
   "source": [
    "# load csv and name value variable\n",
    "df = pd.read_csv('/Users/nadjos/Desktop/Uni/speciale/data/usd_eur_exchange.csv', header=0, names=['date', 'usd_eur_exchange'])\n",
    "\n",
    "df['date'] = pd.to_datetime(df['date'])\n",
    "df = df.sort_values(by='date')\n",
    "# remove missing values\n",
    "df = df.replace('.', np.nan).dropna()\n",
    "# Filter the data to start from 01/01/2004\n",
    "df = df[df['date'] >= '2004-01-01']\n",
    "df = df[df['date'] <= '2024-01-01']\n",
    "df['usd_eur_exchange'] = pd.to_numeric(df['usd_eur_exchange'], errors='coerce')"
   ]
  },
  {
   "cell_type": "code",
   "execution_count": null,
   "metadata": {},
   "outputs": [],
   "source": [
    "#### making open, highs and lows price ####\n",
    "\n",
    "# load csv and name value variable\n",
    "usd_eur_finance = pd.read_csv('/Users/nadjos/Downloads/usd_eur_exchange_rate.csv', header=0, names=['date', 'open','high', 'low', 'close', 'adj_close', 'volume' ])\n",
    "# remove last 2 rows\n",
    "usd_eur_finance = usd_eur_finance.iloc[:, :5]\n",
    "usd_eur_finance['date'] = pd.to_datetime(usd_eur_finance['date'])\n",
    "usd_eur_finance = usd_eur_finance.sort_values(by='date')\n",
    "# remove missing values\n",
    "usd_eur_finance = usd_eur_finance.replace('.', np.nan).dropna()\n",
    "# Filter the data to start from 01/01/2004\n",
    "usd_eur_finance = usd_eur_finance[usd_eur_finance['date'] >= '2004-01-01']\n",
    "usd_eur_finance = usd_eur_finance[usd_eur_finance['date'] <= '2024-01-01']"
   ]
  },
  {
   "cell_type": "code",
   "execution_count": null,
   "metadata": {},
   "outputs": [],
   "source": [
    "# Margin the to timeseries\n",
    "combined_usd_eur = usd_eur_finance\n",
    "# Sort\n",
    "combined_usd_eur = combined_usd_eur.sort_values(by='date').reset_index(drop=True)"
   ]
  },
  {
   "cell_type": "code",
   "execution_count": null,
   "metadata": {},
   "outputs": [],
   "source": [
    "##### Adjusting variable to usd_eur from FRED\n",
    "combined_usd_eur = combined_usd_eur.fillna(method='ffill')\n",
    "# remove missing values\n",
    "combined_usd_eur = combined_usd_eur.replace('.', np.nan)\n",
    "#remove dates that are missing from exchange rate\n",
    "combined_usd_eur = combined_usd_eur[combined_usd_eur['date'].isin(df['date'])]\n",
    "#insert dates from exchange rate that are missing in timeseries\n",
    "missing_dates = df[~df['date'].isin(combined_usd_eur['date'])]\n",
    "missing_dates_timeseries = missing_dates[['date']].copy()\n",
    "# Append the missing dates to the new timeseries\n",
    "combined_usd_eur = pd.concat([combined_usd_eur, missing_dates_timeseries]).sort_values(by='date').reset_index(drop=True)\n",
    "# replace '.' to 'nan'\n",
    "combined_usd_eur = combined_usd_eur.replace('.', np.nan)\n",
    "# sort by date\n",
    "combined_usd_eur = combined_usd_eur.sort_values(by='date')\n",
    "##### Adjusting variable to usd_eur from FRED\n",
    "combined_usd_eur = combined_usd_eur.fillna(method='ffill')"
   ]
  },
  {
   "cell_type": "code",
   "execution_count": null,
   "metadata": {},
   "outputs": [],
   "source": [
    "####### Lagging indicators #######\n",
    "\n",
    "# Simple Moving Averages, 10, 20.\n",
    "df['SMA_10'] = ta.trend.sma_indicator(df['usd_eur_exchange'], window=10)\n",
    "df['SMA_20'] = ta.trend.sma_indicator(df['usd_eur_exchange'], window=20)\n",
    "\n",
    "# MACD, 12 and 26\n",
    "df['MACD_12'] = ta.trend.macd(df['usd_eur_exchange'], window_slow=26, window_fast=12)"
   ]
  },
  {
   "cell_type": "code",
   "execution_count": null,
   "metadata": {},
   "outputs": [],
   "source": [
    "####### leading indicators #######\n",
    "\n",
    "# Calculate Parabolic SAR\n",
    "psar_indicator = ta.trend.PSARIndicator(combined_usd_eur['high'], combined_usd_eur['low'], df['usd_eur_exchange'])\n",
    "df['Parabolic_SAR'] = psar_indicator.psar()\n",
    "\n",
    "# Relative Strength Index\n",
    "df['RSI'] = ta.momentum.rsi(df['usd_eur_exchange'], window=10)\n",
    "\n",
    "# Rate of Change (ROC)\n",
    "df['ROC'] = ta.momentum.roc(df['usd_eur_exchange'], window=2)\n",
    "\n",
    "# Momentum indicator\n",
    "momentum_indicator = ta.momentum.roc(df['usd_eur_exchange'], window=4)  # ROC stands for Rate of Change, similar to momentum\n",
    "# Add to dataframe\n",
    "df['momentum'] = momentum_indicator"
   ]
  },
  {
   "cell_type": "code",
   "execution_count": null,
   "metadata": {},
   "outputs": [],
   "source": [
    "####### volatility indicators #######\n",
    "\n",
    "# Bollinger Bands\n",
    "bb_indicator = ta.volatility.BollingerBands(df['usd_eur_exchange'], window=20, window_dev=2)\n",
    "df['BB_High'] = bb_indicator.bollinger_hband()\n",
    "df['BB_Low'] = bb_indicator.bollinger_lband()\n",
    "df['BB_Middle'] = bb_indicator.bollinger_mavg()\n",
    "\n",
    "# Filter the data to start from 01/01/2005\n",
    "df = df[df['date'] >= '2005-01-01']\n",
    "\n",
    "technical_indicators = df\n",
    "\n",
    "\n",
    "technical_indicators['usd_eur_exchange'] = technical_indicators['usd_eur_exchange'].diff()\n",
    "technical_indicators['usd_eur_exchange'] = technical_indicators['usd_eur_exchange'].shift(-1)  # Shift by -1 period\n",
    "# cut off last row\n",
    "technical_indicators = technical_indicators.iloc[:-1]"
   ]
  },
  {
   "cell_type": "code",
   "execution_count": null,
   "metadata": {},
   "outputs": [],
   "source": [
    "technical_indicators.to_csv('/Users/nadjos/Desktop/Uni/speciale/technical_indicators.csv', index=False)"
   ]
  }
 ],
 "metadata": {
  "language_info": {
   "name": "python"
  }
 },
 "nbformat": 4,
 "nbformat_minor": 2
}
